{
 "cells": [
  {
   "cell_type": "code",
   "execution_count": 1,
   "metadata": {},
   "outputs": [],
   "source": [
    "import requests\n",
    "from bs4 import BeautifulSoup\n",
    "from datetime import datetime\n",
    "import parser\n",
    "from time import sleep\n",
    "import os.path\n",
    "import requests\n",
    "import re\n",
    "import pandas as pd"
   ]
  },
  {
   "cell_type": "code",
   "execution_count": 2,
   "metadata": {},
   "outputs": [],
   "source": [
    "headers = {'User-Agent': 'Mozilla/5.0 (Windows NT 10.0; Win64; x64) AppleWebKit/537.36 (KHTML, like Gecko) Chrome/75.0.3770.142 Safari/537.36'}"
   ]
  },
  {
   "cell_type": "code",
   "execution_count": 3,
   "metadata": {},
   "outputs": [],
   "source": [
    "\n",
    "url = 'https://www.guiaoleo.com.ar/sitemap_bar.xml'\n",
    "\n",
    "Bares = requests.get(url, headers=headers)\n",
    "Bar = BeautifulSoup(Bares.content, \"html.parser\")\n"
   ]
  },
  {
   "cell_type": "code",
   "execution_count": 4,
   "metadata": {},
   "outputs": [],
   "source": [
    "def scrap_if_not_exists(url, path):\n",
    "\n",
    "    page_content = ''\n",
    "\n",
    "    if not os.path.exists(path):\n",
    "\n",
    "        # Pido la pagina\n",
    "        try:\n",
    "            response = requests.get(url, headers=headers)\n",
    "            \n",
    "            # Si el pedido fue exitoso\n",
    "            if response:\n",
    "\n",
    "                # Grabo el archivo con el contenido\n",
    "                with open(path, \"w\") as html_file:\n",
    "                    page_content = str(response.content)\n",
    "                    html_file.write(page_content)\n",
    "\n",
    "        except:\n",
    "            print('Error in ' + url)\n",
    "            \n",
    "        sleep(3)\n",
    "       \n",
    "    else:\n",
    "        # Cargo el contenido del archivo\n",
    "        with open(path, 'r') as html_file:\n",
    "            page_content = html_file.read()\n",
    "                                    \n",
    "    # Parseo y devuelvo el arbol\n",
    "    return BeautifulSoup(page_content, \"html.parser\")"
   ]
  },
  {
   "cell_type": "code",
   "execution_count": 7,
   "metadata": {},
   "outputs": [],
   "source": [
    "# Crear las carpetas de datos\n",
    "if not os.path.exists('Data'):\n",
    "    os.makedirs('Data')\n",
    "\n",
    "if not os.path.exists('Data/Bares/'):\n",
    "    os.makedirs('Data/Bares/')\n",
    "\n",
    "# Bajar toda la lista de restaurantes\n",
    "all_bares_url = 'https://www.guiaoleo.com.ar/sitemap_bar.xml'\n",
    "bars = scrap_if_not_exists(all_bares_url, 'Data/sitemap_bar.xml')\n",
    "# # # Bajar cada uno de los restaurantes\n",
    "# for loc in bars.find_all('loc'):\n",
    "#     bares_url = loc.text    \n",
    "#     bar_name = loc.text.replace('https://www.guiaoleo.com.ar/bares/', '')\n",
    "#     bares_file = 'Data/Bares/' + bar_name + '.html'\n",
    "    \n",
    "#     scrap_if_not_exists(bares_url, bares_file)\n",
    "#     print(bares_url)"
   ]
  }
 ],
 "metadata": {
  "kernelspec": {
   "display_name": "Python 3",
   "language": "python",
   "name": "python3"
  },
  "language_info": {
   "codemirror_mode": {
    "name": "ipython",
    "version": 3
   },
   "file_extension": ".py",
   "mimetype": "text/x-python",
   "name": "python",
   "nbconvert_exporter": "python",
   "pygments_lexer": "ipython3",
   "version": "3.7.3"
  }
 },
 "nbformat": 4,
 "nbformat_minor": 2
}
