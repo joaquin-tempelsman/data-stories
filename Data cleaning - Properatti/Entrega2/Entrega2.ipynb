{
 "cells": [
  {
   "cell_type": "code",
   "execution_count": 1,
   "metadata": {},
   "outputs": [],
   "source": [
    "import pandas as pd\n",
    "import numpy as np\n",
    "import numpy as np\n",
    "import re\n",
    "import seaborn as sns\n",
    "from scipy import stats\n",
    "import math\n",
    "import operator\n",
    "import plotly\n",
    "import plotly.plotly as py\n",
    "import plotly.tools as tls\n",
    "import plotly.graph_objs as go\n",
    "from plotly.graph_objs import *\n",
    "from plotly.offline import init_notebook_mode, iplot, plot\n",
    "%matplotlib inline\n",
    "from matplotlib import pyplot as plt\n",
    "plt.rcParams['figure.figsize'] = 10, 10\n",
    "from sklearn.model_selection import train_test_split, KFold, cross_val_score\n",
    "from sklearn.linear_model import LinearRegression, Lasso, LassoCV, Ridge, RidgeCV, ElasticNetCV\n",
    "from sklearn.preprocessing import PolynomialFeatures, StandardScaler\n",
    "from sklearn.metrics import mean_squared_error, r2_score\n",
    "import feather"
   ]
  },
  {
   "cell_type": "markdown",
   "metadata": {},
   "source": [
    "#### Comenzaremos con los siguientes pasos:\n",
    "    * Cargar el dataset \"limpio\"\n",
    "    * Eliminar columnas que no vamos a utilizar\n",
    "    * Eliminar registros nulos en cero y valores \"raros\" que encontremos"
   ]
  },
  {
   "cell_type": "code",
   "execution_count": 40,
   "metadata": {},
   "outputs": [
    {
     "data": {
      "text/html": [
       "<div>\n",
       "<style scoped>\n",
       "    .dataframe tbody tr th:only-of-type {\n",
       "        vertical-align: middle;\n",
       "    }\n",
       "\n",
       "    .dataframe tbody tr th {\n",
       "        vertical-align: top;\n",
       "    }\n",
       "\n",
       "    .dataframe thead th {\n",
       "        text-align: right;\n",
       "    }\n",
       "</style>\n",
       "<table border=\"1\" class=\"dataframe\">\n",
       "  <thead>\n",
       "    <tr style=\"text-align: right;\">\n",
       "      <th></th>\n",
       "      <th>property_type</th>\n",
       "      <th>lat-lon</th>\n",
       "      <th>lat</th>\n",
       "      <th>lon</th>\n",
       "      <th>price</th>\n",
       "      <th>price_aprox_usd</th>\n",
       "      <th>surface_total_in_m2</th>\n",
       "      <th>surface_covered_in_m2</th>\n",
       "      <th>price_usd_per_m2</th>\n",
       "      <th>price_per_m2</th>\n",
       "      <th>ambientes</th>\n",
       "      <th>provincia</th>\n",
       "      <th>partido</th>\n",
       "      <th>localidad</th>\n",
       "      <th>condicion</th>\n",
       "      <th>price_aprox_usd_levels</th>\n",
       "      <th>geonames_id</th>\n",
       "    </tr>\n",
       "  </thead>\n",
       "  <tbody>\n",
       "    <tr>\n",
       "      <th>44822</th>\n",
       "      <td>1</td>\n",
       "      <td>-34.612766,-58.36249399999999</td>\n",
       "      <td>-34.612766</td>\n",
       "      <td>-58.362494</td>\n",
       "      <td>565000.0</td>\n",
       "      <td>565000.0</td>\n",
       "      <td>100.753611</td>\n",
       "      <td>87.0</td>\n",
       "      <td>NaN</td>\n",
       "      <td>6494.252874</td>\n",
       "      <td>3.0</td>\n",
       "      <td>5.0</td>\n",
       "      <td>162.0</td>\n",
       "      <td>NaN</td>\n",
       "      <td>NaN</td>\n",
       "      <td>5</td>\n",
       "      <td>3429760.0</td>\n",
       "    </tr>\n",
       "  </tbody>\n",
       "</table>\n",
       "</div>"
      ],
      "text/plain": [
       "       property_type                        lat-lon        lat        lon  \\\n",
       "44822              1  -34.612766,-58.36249399999999 -34.612766 -58.362494   \n",
       "\n",
       "          price  price_aprox_usd  surface_total_in_m2  surface_covered_in_m2  \\\n",
       "44822  565000.0         565000.0           100.753611                   87.0   \n",
       "\n",
       "       price_usd_per_m2  price_per_m2  ambientes  provincia  partido  \\\n",
       "44822               NaN   6494.252874        3.0        5.0    162.0   \n",
       "\n",
       "       localidad  condicion price_aprox_usd_levels  geonames_id  \n",
       "44822        NaN        NaN                      5    3429760.0  "
      ]
     },
     "execution_count": 40,
     "metadata": {},
     "output_type": "execute_result"
    }
   ],
   "source": [
    "### Cargar dataset \"limpio\"\n",
    "df = feather.read_dataframe(\"Data/principal.feather\")\n",
    "df.sample(1)"
   ]
  },
  {
   "cell_type": "markdown",
   "metadata": {},
   "source": [
    "#### Eliminamos columnas que no vamos a utilizar"
   ]
  },
  {
   "cell_type": "code",
   "execution_count": 41,
   "metadata": {},
   "outputs": [
    {
     "name": "stdout",
     "output_type": "stream",
     "text": [
      "Cantidad de registros: 121220\n"
     ]
    },
    {
     "data": {
      "text/html": [
       "<div>\n",
       "<style scoped>\n",
       "    .dataframe tbody tr th:only-of-type {\n",
       "        vertical-align: middle;\n",
       "    }\n",
       "\n",
       "    .dataframe tbody tr th {\n",
       "        vertical-align: top;\n",
       "    }\n",
       "\n",
       "    .dataframe thead th {\n",
       "        text-align: right;\n",
       "    }\n",
       "</style>\n",
       "<table border=\"1\" class=\"dataframe\">\n",
       "  <thead>\n",
       "    <tr style=\"text-align: right;\">\n",
       "      <th></th>\n",
       "      <th>property_type</th>\n",
       "      <th>price_aprox_usd</th>\n",
       "      <th>surface_total_in_m2</th>\n",
       "      <th>surface_covered_in_m2</th>\n",
       "      <th>ambientes</th>\n",
       "      <th>partido</th>\n",
       "    </tr>\n",
       "  </thead>\n",
       "  <tbody>\n",
       "    <tr>\n",
       "      <th>26328</th>\n",
       "      <td>2</td>\n",
       "      <td>170000.0</td>\n",
       "      <td>NaN</td>\n",
       "      <td>224.0</td>\n",
       "      <td>2.0</td>\n",
       "      <td>0.0</td>\n",
       "    </tr>\n",
       "  </tbody>\n",
       "</table>\n",
       "</div>"
      ],
      "text/plain": [
       "       property_type  price_aprox_usd  surface_total_in_m2  \\\n",
       "26328              2         170000.0                  NaN   \n",
       "\n",
       "       surface_covered_in_m2  ambientes  partido  \n",
       "26328                  224.0        2.0      0.0  "
      ]
     },
     "execution_count": 41,
     "metadata": {},
     "output_type": "execute_result"
    }
   ],
   "source": [
    "to_drop = [\n",
    "            'price_usd_per_m2', \n",
    "            'price_per_m2', \n",
    "            'price',\n",
    "            'provincia',\n",
    "            'localidad',\n",
    "            'condicion',\n",
    "            'geonames_id', \n",
    "            'lat-lon',\n",
    "            'lat','lon',\n",
    "            'price_aprox_usd_levels',\n",
    "]\n",
    "\n",
    "df.drop(columns=to_drop, inplace=True) #aplicar drop\n",
    "print(\"Cantidad de registros:\",len(df))\n",
    "df.sample(1)"
   ]
  },
  {
   "cell_type": "markdown",
   "metadata": {},
   "source": [
    "#### Eliminamos nulos de las columnas principales"
   ]
  },
  {
   "cell_type": "code",
   "execution_count": 42,
   "metadata": {},
   "outputs": [
    {
     "data": {
      "text/plain": [
       "(70827, 6)"
      ]
     },
     "execution_count": 42,
     "metadata": {},
     "output_type": "execute_result"
    }
   ],
   "source": [
    "columnas_principales = ['price_aprox_usd','surface_total_in_m2', 'ambientes','surface_covered_in_m2','partido']\n",
    "df = df.dropna(axis =0 , how = 'any', subset = columnas_principales)\n",
    "df.shape"
   ]
  },
  {
   "cell_type": "code",
   "execution_count": 5,
   "metadata": {},
   "outputs": [
    {
     "data": {
      "text/plain": [
       "property_type            0\n",
       "price_aprox_usd          0\n",
       "surface_total_in_m2      0\n",
       "surface_covered_in_m2    0\n",
       "ambientes                0\n",
       "partido                  0\n",
       "dtype: int64"
      ]
     },
     "execution_count": 5,
     "metadata": {},
     "output_type": "execute_result"
    }
   ],
   "source": [
    "df.isnull().sum()"
   ]
  },
  {
   "cell_type": "code",
   "execution_count": 43,
   "metadata": {},
   "outputs": [],
   "source": [
    "# quito ambientes nulos y valores muy altos\n",
    "mask_ambientes = (df.ambientes > 0)&(df.ambientes < 100)\n",
    "df = df[mask_ambientes]\n",
    "mask_price = (df.price_aprox_usd > 500)\n",
    "df = df[mask_price]"
   ]
  },
  {
   "cell_type": "code",
   "execution_count": 44,
   "metadata": {},
   "outputs": [
    {
     "data": {
      "text/html": [
       "<div>\n",
       "<style scoped>\n",
       "    .dataframe tbody tr th:only-of-type {\n",
       "        vertical-align: middle;\n",
       "    }\n",
       "\n",
       "    .dataframe tbody tr th {\n",
       "        vertical-align: top;\n",
       "    }\n",
       "\n",
       "    .dataframe thead th {\n",
       "        text-align: right;\n",
       "    }\n",
       "</style>\n",
       "<table border=\"1\" class=\"dataframe\">\n",
       "  <thead>\n",
       "    <tr style=\"text-align: right;\">\n",
       "      <th></th>\n",
       "      <th>property_type</th>\n",
       "      <th>price_aprox_usd</th>\n",
       "      <th>surface_total_in_m2</th>\n",
       "      <th>surface_covered_in_m2</th>\n",
       "      <th>ambientes</th>\n",
       "      <th>partido</th>\n",
       "    </tr>\n",
       "  </thead>\n",
       "  <tbody>\n",
       "    <tr>\n",
       "      <th>count</th>\n",
       "      <td>70779.000000</td>\n",
       "      <td>70779.000000</td>\n",
       "      <td>70779.000000</td>\n",
       "      <td>70779.000000</td>\n",
       "      <td>70779.000000</td>\n",
       "      <td>70779.000000</td>\n",
       "    </tr>\n",
       "    <tr>\n",
       "      <th>mean</th>\n",
       "      <td>1.244366</td>\n",
       "      <td>189294.475022</td>\n",
       "      <td>130.879125</td>\n",
       "      <td>89.827943</td>\n",
       "      <td>3.208466</td>\n",
       "      <td>106.375945</td>\n",
       "    </tr>\n",
       "    <tr>\n",
       "      <th>std</th>\n",
       "      <td>0.561983</td>\n",
       "      <td>141711.520153</td>\n",
       "      <td>164.309526</td>\n",
       "      <td>80.186458</td>\n",
       "      <td>1.552800</td>\n",
       "      <td>119.843960</td>\n",
       "    </tr>\n",
       "    <tr>\n",
       "      <th>min</th>\n",
       "      <td>0.000000</td>\n",
       "      <td>1000.000000</td>\n",
       "      <td>0.000000</td>\n",
       "      <td>0.000000</td>\n",
       "      <td>1.000000</td>\n",
       "      <td>0.000000</td>\n",
       "    </tr>\n",
       "    <tr>\n",
       "      <th>25%</th>\n",
       "      <td>1.000000</td>\n",
       "      <td>90000.000000</td>\n",
       "      <td>45.000000</td>\n",
       "      <td>40.000000</td>\n",
       "      <td>2.000000</td>\n",
       "      <td>14.000000</td>\n",
       "    </tr>\n",
       "    <tr>\n",
       "      <th>50%</th>\n",
       "      <td>1.000000</td>\n",
       "      <td>140000.000000</td>\n",
       "      <td>73.512268</td>\n",
       "      <td>63.000000</td>\n",
       "      <td>3.000000</td>\n",
       "      <td>50.000000</td>\n",
       "    </tr>\n",
       "    <tr>\n",
       "      <th>75%</th>\n",
       "      <td>2.000000</td>\n",
       "      <td>240000.000000</td>\n",
       "      <td>152.906751</td>\n",
       "      <td>119.000000</td>\n",
       "      <td>4.000000</td>\n",
       "      <td>154.000000</td>\n",
       "    </tr>\n",
       "    <tr>\n",
       "      <th>max</th>\n",
       "      <td>3.000000</td>\n",
       "      <td>815000.000000</td>\n",
       "      <td>1490.000000</td>\n",
       "      <td>485.000000</td>\n",
       "      <td>72.000000</td>\n",
       "      <td>538.000000</td>\n",
       "    </tr>\n",
       "  </tbody>\n",
       "</table>\n",
       "</div>"
      ],
      "text/plain": [
       "       property_type  price_aprox_usd  surface_total_in_m2  \\\n",
       "count   70779.000000     70779.000000         70779.000000   \n",
       "mean        1.244366    189294.475022           130.879125   \n",
       "std         0.561983    141711.520153           164.309526   \n",
       "min         0.000000      1000.000000             0.000000   \n",
       "25%         1.000000     90000.000000            45.000000   \n",
       "50%         1.000000    140000.000000            73.512268   \n",
       "75%         2.000000    240000.000000           152.906751   \n",
       "max         3.000000    815000.000000          1490.000000   \n",
       "\n",
       "       surface_covered_in_m2     ambientes       partido  \n",
       "count           70779.000000  70779.000000  70779.000000  \n",
       "mean               89.827943      3.208466    106.375945  \n",
       "std                80.186458      1.552800    119.843960  \n",
       "min                 0.000000      1.000000      0.000000  \n",
       "25%                40.000000      2.000000     14.000000  \n",
       "50%                63.000000      3.000000     50.000000  \n",
       "75%               119.000000      4.000000    154.000000  \n",
       "max               485.000000     72.000000    538.000000  "
      ]
     },
     "execution_count": 44,
     "metadata": {},
     "output_type": "execute_result"
    }
   ],
   "source": [
    "df.describe()"
   ]
  },
  {
   "cell_type": "markdown",
   "metadata": {},
   "source": [
    "### Analisis de relacion entre variables\n",
    "**Vamos a crear nuevas variables para evaluar la matriz de correlacion y seleccionar las que den mejor valor contr price_aprox_usd**"
   ]
  },
  {
   "cell_type": "code",
   "execution_count": 45,
   "metadata": {},
   "outputs": [
    {
     "data": {
      "text/html": [
       "<div>\n",
       "<style scoped>\n",
       "    .dataframe tbody tr th:only-of-type {\n",
       "        vertical-align: middle;\n",
       "    }\n",
       "\n",
       "    .dataframe tbody tr th {\n",
       "        vertical-align: top;\n",
       "    }\n",
       "\n",
       "    .dataframe thead th {\n",
       "        text-align: right;\n",
       "    }\n",
       "</style>\n",
       "<table border=\"1\" class=\"dataframe\">\n",
       "  <thead>\n",
       "    <tr style=\"text-align: right;\">\n",
       "      <th></th>\n",
       "      <th>property_type</th>\n",
       "      <th>price_aprox_usd</th>\n",
       "      <th>surface_total_in_m2</th>\n",
       "      <th>surface_covered_in_m2</th>\n",
       "      <th>ambientes</th>\n",
       "      <th>partido</th>\n",
       "      <th>surface_by_amb</th>\n",
       "      <th>surface_by_add</th>\n",
       "      <th>surface_covered_prop</th>\n",
       "      <th>surface_total_prop_cov</th>\n",
       "      <th>surface_cov_complete</th>\n",
       "      <th>new_rel1</th>\n",
       "      <th>new_rel2</th>\n",
       "      <th>new_rel3</th>\n",
       "      <th>new_rel4</th>\n",
       "      <th>new_rel5</th>\n",
       "      <th>new_rel6</th>\n",
       "    </tr>\n",
       "  </thead>\n",
       "  <tbody>\n",
       "    <tr>\n",
       "      <th>34457</th>\n",
       "      <td>1</td>\n",
       "      <td>150000.0</td>\n",
       "      <td>68.0</td>\n",
       "      <td>2.0</td>\n",
       "      <td>3.0</td>\n",
       "      <td>50.0</td>\n",
       "      <td>22.666667</td>\n",
       "      <td>70.0</td>\n",
       "      <td>0.029412</td>\n",
       "      <td>34.0</td>\n",
       "      <td>2.0</td>\n",
       "      <td>73.0</td>\n",
       "      <td>36.0</td>\n",
       "      <td>12.0</td>\n",
       "      <td>0.666667</td>\n",
       "      <td>13.333333</td>\n",
       "      <td>34.666667</td>\n",
       "    </tr>\n",
       "  </tbody>\n",
       "</table>\n",
       "</div>"
      ],
      "text/plain": [
       "       property_type  price_aprox_usd  surface_total_in_m2  \\\n",
       "34457              1         150000.0                 68.0   \n",
       "\n",
       "       surface_covered_in_m2  ambientes  partido  surface_by_amb  \\\n",
       "34457                    2.0        3.0     50.0       22.666667   \n",
       "\n",
       "       surface_by_add  surface_covered_prop  surface_total_prop_cov  \\\n",
       "34457            70.0              0.029412                    34.0   \n",
       "\n",
       "       surface_cov_complete  new_rel1  new_rel2  new_rel3  new_rel4  \\\n",
       "34457                   2.0      73.0      36.0      12.0  0.666667   \n",
       "\n",
       "        new_rel5   new_rel6  \n",
       "34457  13.333333  34.666667  "
      ]
     },
     "execution_count": 45,
     "metadata": {},
     "output_type": "execute_result"
    }
   ],
   "source": [
    "# vamos probando  el efecto entre varias combinaciones\n",
    "df['surface_by_amb'] = df.surface_total_in_m2/df.ambientes\n",
    "df['surface_by_add'] = df.surface_total_in_m2+df.surface_covered_in_m2\n",
    "df['surface_covered_prop'] = df.surface_covered_in_m2/df.surface_total_in_m2\n",
    "df['surface_total_prop_cov'] = df.surface_total_in_m2/df.surface_covered_in_m2\n",
    "df['surface_cov_complete'] = df.surface_covered_in_m2.fillna(df.surface_total_in_m2)\n",
    "df['new_rel1'] = (df.surface_total_in_m2+df.surface_covered_in_m2)+df.ambientes\n",
    "df['new_rel2'] = df.surface_cov_complete+df.surface_total_prop_cov\n",
    "df['new_rel3'] = (df.surface_cov_complete+df.surface_total_prop_cov)/df.ambientes\n",
    "df['new_rel4'] = (df.surface_cov_complete/df.ambientes)\n",
    "df['new_rel5'] = (df.surface_cov_complete+df.surface_total_prop_cov/df.ambientes)\n",
    "df['new_rel6'] = ((df.surface_cov_complete/df.ambientes)+df.surface_total_prop_cov)\n",
    "df.sample(1)"
   ]
  },
  {
   "cell_type": "markdown",
   "metadata": {},
   "source": [
    "#### Matriz de correlacion"
   ]
  },
  {
   "cell_type": "code",
   "execution_count": 46,
   "metadata": {},
   "outputs": [
    {
     "data": {
      "image/png": "[encoded data removed]",
      "text/plain": [
       "<Figure size 1080x1080 with 2 Axes>"
      ]
     },
     "metadata": {},
     "output_type": "display_data"
    }
   ],
   "source": [
    "fig, ax = plt.subplots(figsize=(15,15))       \n",
    "sns.heatmap(df.corr() , square=True, annot=True, ax=ax);"
   ]
  },
  {
   "cell_type": "markdown",
   "metadata": {},
   "source": [
    "##### En la matriz observamos que los valores con mayor valor para precio son:\n",
    "    * new_rel2.61\n",
    "    * new_rel5 =.61\n",
    "    * surface_cov_in_m2 = .60\n",
    "##### Vamos a entrenar un modelo utilizando new_rel2 y new_rel5"
   ]
  },
  {
   "cell_type": "code",
   "execution_count": 10,
   "metadata": {},
   "outputs": [
    {
     "name": "stderr",
     "output_type": "stream",
     "text": [
      "/opt/conda/lib/python3.6/site-packages/numpy/core/fromnumeric.py:83: RuntimeWarning:\n",
      "\n",
      "invalid value encountered in reduce\n",
      "\n",
      "/opt/conda/lib/python3.6/site-packages/numpy/linalg/linalg.py:1876: RuntimeWarning:\n",
      "\n",
      "invalid value encountered in greater\n",
      "\n"
     ]
    },
    {
     "data": {
      "text/plain": [
       "<matplotlib.axes._subplots.AxesSubplot at 0x7fe7858d3978>"
      ]
     },
     "execution_count": 10,
     "metadata": {},
     "output_type": "execute_result"
    },
    {
     "data": {
      "image/png": "[encoded data removed]",
      "text/plain": [
       "<Figure size 432x288 with 1 Axes>"
      ]
     },
     "metadata": {},
     "output_type": "display_data"
    }
   ],
   "source": [
    "#reviso relación entre new_rel2 y price_aprox_usd\n",
    "sns.regplot(df.new_rel2,df.price_aprox_usd, order=1, ci=None, scatter_kws={'color':'r', 's':1})\n",
    "# ಠ ʖ̯ ͡ಠ"
   ]
  },
  {
   "cell_type": "markdown",
   "metadata": {},
   "source": [
    "#### Creamos y almacenamos dataset de train y test\n",
    "Analizamos valores en new_rel2 y new_rel5"
   ]
  },
  {
   "cell_type": "code",
   "execution_count": 47,
   "metadata": {},
   "outputs": [
    {
     "data": {
      "text/html": [
       "<div>\n",
       "<style scoped>\n",
       "    .dataframe tbody tr th:only-of-type {\n",
       "        vertical-align: middle;\n",
       "    }\n",
       "\n",
       "    .dataframe tbody tr th {\n",
       "        vertical-align: top;\n",
       "    }\n",
       "\n",
       "    .dataframe thead th {\n",
       "        text-align: right;\n",
       "    }\n",
       "</style>\n",
       "<table border=\"1\" class=\"dataframe\">\n",
       "  <thead>\n",
       "    <tr style=\"text-align: right;\">\n",
       "      <th></th>\n",
       "      <th>property_type</th>\n",
       "      <th>price_aprox_usd</th>\n",
       "      <th>surface_total_in_m2</th>\n",
       "      <th>surface_covered_in_m2</th>\n",
       "      <th>ambientes</th>\n",
       "      <th>partido</th>\n",
       "      <th>surface_by_amb</th>\n",
       "      <th>surface_by_add</th>\n",
       "      <th>surface_covered_prop</th>\n",
       "      <th>surface_total_prop_cov</th>\n",
       "      <th>surface_cov_complete</th>\n",
       "      <th>new_rel1</th>\n",
       "      <th>new_rel2</th>\n",
       "      <th>new_rel3</th>\n",
       "      <th>new_rel4</th>\n",
       "      <th>new_rel5</th>\n",
       "      <th>new_rel6</th>\n",
       "    </tr>\n",
       "  </thead>\n",
       "  <tbody>\n",
       "    <tr>\n",
       "      <th>count</th>\n",
       "      <td>70779.000000</td>\n",
       "      <td>70779.000000</td>\n",
       "      <td>70779.000000</td>\n",
       "      <td>70779.000000</td>\n",
       "      <td>70779.000000</td>\n",
       "      <td>70779.000000</td>\n",
       "      <td>70779.000000</td>\n",
       "      <td>70779.000000</td>\n",
       "      <td>7.077800e+04</td>\n",
       "      <td>7.077800e+04</td>\n",
       "      <td>70779.000000</td>\n",
       "      <td>70779.000000</td>\n",
       "      <td>7.077800e+04</td>\n",
       "      <td>7.077800e+04</td>\n",
       "      <td>70779.000000</td>\n",
       "      <td>7.077800e+04</td>\n",
       "      <td>7.077800e+04</td>\n",
       "    </tr>\n",
       "    <tr>\n",
       "      <th>mean</th>\n",
       "      <td>1.244366</td>\n",
       "      <td>189294.475022</td>\n",
       "      <td>130.879125</td>\n",
       "      <td>89.827943</td>\n",
       "      <td>3.208466</td>\n",
       "      <td>106.375945</td>\n",
       "      <td>42.351036</td>\n",
       "      <td>220.707068</td>\n",
       "      <td>inf</td>\n",
       "      <td>inf</td>\n",
       "      <td>89.827943</td>\n",
       "      <td>223.915534</td>\n",
       "      <td>inf</td>\n",
       "      <td>inf</td>\n",
       "      <td>29.437607</td>\n",
       "      <td>inf</td>\n",
       "      <td>inf</td>\n",
       "    </tr>\n",
       "    <tr>\n",
       "      <th>std</th>\n",
       "      <td>0.561983</td>\n",
       "      <td>141711.520153</td>\n",
       "      <td>164.309526</td>\n",
       "      <td>80.186458</td>\n",
       "      <td>1.552800</td>\n",
       "      <td>119.843960</td>\n",
       "      <td>57.541111</td>\n",
       "      <td>223.876610</td>\n",
       "      <td>NaN</td>\n",
       "      <td>NaN</td>\n",
       "      <td>80.186458</td>\n",
       "      <td>224.446881</td>\n",
       "      <td>NaN</td>\n",
       "      <td>NaN</td>\n",
       "      <td>28.083610</td>\n",
       "      <td>NaN</td>\n",
       "      <td>NaN</td>\n",
       "    </tr>\n",
       "    <tr>\n",
       "      <th>min</th>\n",
       "      <td>0.000000</td>\n",
       "      <td>1000.000000</td>\n",
       "      <td>0.000000</td>\n",
       "      <td>0.000000</td>\n",
       "      <td>1.000000</td>\n",
       "      <td>0.000000</td>\n",
       "      <td>0.000000</td>\n",
       "      <td>0.000000</td>\n",
       "      <td>0.000000e+00</td>\n",
       "      <td>0.000000e+00</td>\n",
       "      <td>0.000000</td>\n",
       "      <td>2.000000</td>\n",
       "      <td>1.000000e+00</td>\n",
       "      <td>1.428571e-01</td>\n",
       "      <td>0.000000</td>\n",
       "      <td>1.000000e+00</td>\n",
       "      <td>4.000000e-01</td>\n",
       "    </tr>\n",
       "    <tr>\n",
       "      <th>25%</th>\n",
       "      <td>1.000000</td>\n",
       "      <td>90000.000000</td>\n",
       "      <td>45.000000</td>\n",
       "      <td>40.000000</td>\n",
       "      <td>2.000000</td>\n",
       "      <td>14.000000</td>\n",
       "      <td>17.760554</td>\n",
       "      <td>87.000000</td>\n",
       "      <td>7.223250e-01</td>\n",
       "      <td>1.000000e+00</td>\n",
       "      <td>40.000000</td>\n",
       "      <td>89.000000</td>\n",
       "      <td>4.239024e+01</td>\n",
       "      <td>1.668707e+01</td>\n",
       "      <td>15.750000</td>\n",
       "      <td>4.069221e+01</td>\n",
       "      <td>1.817647e+01</td>\n",
       "    </tr>\n",
       "    <tr>\n",
       "      <th>50%</th>\n",
       "      <td>1.000000</td>\n",
       "      <td>140000.000000</td>\n",
       "      <td>73.512268</td>\n",
       "      <td>63.000000</td>\n",
       "      <td>3.000000</td>\n",
       "      <td>50.000000</td>\n",
       "      <td>26.666667</td>\n",
       "      <td>139.538201</td>\n",
       "      <td>8.729833e-01</td>\n",
       "      <td>1.145497e+00</td>\n",
       "      <td>63.000000</td>\n",
       "      <td>142.000000</td>\n",
       "      <td>6.600758e+01</td>\n",
       "      <td>2.353036e+01</td>\n",
       "      <td>22.500000</td>\n",
       "      <td>6.433333e+01</td>\n",
       "      <td>2.487786e+01</td>\n",
       "    </tr>\n",
       "    <tr>\n",
       "      <th>75%</th>\n",
       "      <td>2.000000</td>\n",
       "      <td>240000.000000</td>\n",
       "      <td>152.906751</td>\n",
       "      <td>119.000000</td>\n",
       "      <td>4.000000</td>\n",
       "      <td>154.000000</td>\n",
       "      <td>45.000000</td>\n",
       "      <td>276.320965</td>\n",
       "      <td>1.000000e+00</td>\n",
       "      <td>1.384418e+00</td>\n",
       "      <td>119.000000</td>\n",
       "      <td>281.000000</td>\n",
       "      <td>1.211667e+02</td>\n",
       "      <td>3.600000e+01</td>\n",
       "      <td>34.750000</td>\n",
       "      <td>1.200312e+02</td>\n",
       "      <td>3.801304e+01</td>\n",
       "    </tr>\n",
       "    <tr>\n",
       "      <th>max</th>\n",
       "      <td>3.000000</td>\n",
       "      <td>815000.000000</td>\n",
       "      <td>1490.000000</td>\n",
       "      <td>485.000000</td>\n",
       "      <td>72.000000</td>\n",
       "      <td>538.000000</td>\n",
       "      <td>1354.000000</td>\n",
       "      <td>1916.000000</td>\n",
       "      <td>inf</td>\n",
       "      <td>inf</td>\n",
       "      <td>485.000000</td>\n",
       "      <td>1921.000000</td>\n",
       "      <td>inf</td>\n",
       "      <td>inf</td>\n",
       "      <td>480.000000</td>\n",
       "      <td>inf</td>\n",
       "      <td>inf</td>\n",
       "    </tr>\n",
       "  </tbody>\n",
       "</table>\n",
       "</div>"
      ],
      "text/plain": [
       "       property_type  price_aprox_usd  surface_total_in_m2  \\\n",
       "count   70779.000000     70779.000000         70779.000000   \n",
       "mean        1.244366    189294.475022           130.879125   \n",
       "std         0.561983    141711.520153           164.309526   \n",
       "min         0.000000      1000.000000             0.000000   \n",
       "25%         1.000000     90000.000000            45.000000   \n",
       "50%         1.000000    140000.000000            73.512268   \n",
       "75%         2.000000    240000.000000           152.906751   \n",
       "max         3.000000    815000.000000          1490.000000   \n",
       "\n",
       "       surface_covered_in_m2     ambientes       partido  surface_by_amb  \\\n",
       "count           70779.000000  70779.000000  70779.000000    70779.000000   \n",
       "mean               89.827943      3.208466    106.375945       42.351036   \n",
       "std                80.186458      1.552800    119.843960       57.541111   \n",
       "min                 0.000000      1.000000      0.000000        0.000000   \n",
       "25%                40.000000      2.000000     14.000000       17.760554   \n",
       "50%                63.000000      3.000000     50.000000       26.666667   \n",
       "75%               119.000000      4.000000    154.000000       45.000000   \n",
       "max               485.000000     72.000000    538.000000     1354.000000   \n",
       "\n",
       "       surface_by_add  surface_covered_prop  surface_total_prop_cov  \\\n",
       "count    70779.000000          7.077800e+04            7.077800e+04   \n",
       "mean       220.707068                   inf                     inf   \n",
       "std        223.876610                   NaN                     NaN   \n",
       "min          0.000000          0.000000e+00            0.000000e+00   \n",
       "25%         87.000000          7.223250e-01            1.000000e+00   \n",
       "50%        139.538201          8.729833e-01            1.145497e+00   \n",
       "75%        276.320965          1.000000e+00            1.384418e+00   \n",
       "max       1916.000000                   inf                     inf   \n",
       "\n",
       "       surface_cov_complete      new_rel1      new_rel2      new_rel3  \\\n",
       "count          70779.000000  70779.000000  7.077800e+04  7.077800e+04   \n",
       "mean              89.827943    223.915534           inf           inf   \n",
       "std               80.186458    224.446881           NaN           NaN   \n",
       "min                0.000000      2.000000  1.000000e+00  1.428571e-01   \n",
       "25%               40.000000     89.000000  4.239024e+01  1.668707e+01   \n",
       "50%               63.000000    142.000000  6.600758e+01  2.353036e+01   \n",
       "75%              119.000000    281.000000  1.211667e+02  3.600000e+01   \n",
       "max              485.000000   1921.000000           inf           inf   \n",
       "\n",
       "           new_rel4      new_rel5      new_rel6  \n",
       "count  70779.000000  7.077800e+04  7.077800e+04  \n",
       "mean      29.437607           inf           inf  \n",
       "std       28.083610           NaN           NaN  \n",
       "min        0.000000  1.000000e+00  4.000000e-01  \n",
       "25%       15.750000  4.069221e+01  1.817647e+01  \n",
       "50%       22.500000  6.433333e+01  2.487786e+01  \n",
       "75%       34.750000  1.200312e+02  3.801304e+01  \n",
       "max      480.000000           inf           inf  "
      ]
     },
     "execution_count": 47,
     "metadata": {},
     "output_type": "execute_result"
    }
   ],
   "source": [
    "df.describe()"
   ]
  },
  {
   "cell_type": "code",
   "execution_count": 48,
   "metadata": {},
   "outputs": [
    {
     "name": "stdout",
     "output_type": "stream",
     "text": [
      "Cantidad de registros: 70771\n"
     ]
    },
    {
     "data": {
      "text/html": [
       "<div>\n",
       "<style scoped>\n",
       "    .dataframe tbody tr th:only-of-type {\n",
       "        vertical-align: middle;\n",
       "    }\n",
       "\n",
       "    .dataframe tbody tr th {\n",
       "        vertical-align: top;\n",
       "    }\n",
       "\n",
       "    .dataframe thead th {\n",
       "        text-align: right;\n",
       "    }\n",
       "</style>\n",
       "<table border=\"1\" class=\"dataframe\">\n",
       "  <thead>\n",
       "    <tr style=\"text-align: right;\">\n",
       "      <th></th>\n",
       "      <th>property_type</th>\n",
       "      <th>price_aprox_usd</th>\n",
       "      <th>surface_total_in_m2</th>\n",
       "      <th>surface_covered_in_m2</th>\n",
       "      <th>ambientes</th>\n",
       "      <th>partido</th>\n",
       "      <th>surface_by_amb</th>\n",
       "      <th>surface_by_add</th>\n",
       "      <th>surface_covered_prop</th>\n",
       "      <th>surface_total_prop_cov</th>\n",
       "      <th>surface_cov_complete</th>\n",
       "      <th>new_rel1</th>\n",
       "      <th>new_rel2</th>\n",
       "      <th>new_rel3</th>\n",
       "      <th>new_rel4</th>\n",
       "      <th>new_rel5</th>\n",
       "      <th>new_rel6</th>\n",
       "    </tr>\n",
       "  </thead>\n",
       "  <tbody>\n",
       "    <tr>\n",
       "      <th>count</th>\n",
       "      <td>70771.000000</td>\n",
       "      <td>70771.000000</td>\n",
       "      <td>70771.000000</td>\n",
       "      <td>70771.000000</td>\n",
       "      <td>70771.000000</td>\n",
       "      <td>70771.000000</td>\n",
       "      <td>70771.000000</td>\n",
       "      <td>70771.000000</td>\n",
       "      <td>70665.000000</td>\n",
       "      <td>70771.000000</td>\n",
       "      <td>70771.000000</td>\n",
       "      <td>70771.000000</td>\n",
       "      <td>70771.000000</td>\n",
       "      <td>70771.000000</td>\n",
       "      <td>70771.000000</td>\n",
       "      <td>70771.000000</td>\n",
       "      <td>70771.000000</td>\n",
       "    </tr>\n",
       "    <tr>\n",
       "      <th>mean</th>\n",
       "      <td>1.244394</td>\n",
       "      <td>189303.113529</td>\n",
       "      <td>130.888352</td>\n",
       "      <td>89.838098</td>\n",
       "      <td>3.208546</td>\n",
       "      <td>106.369431</td>\n",
       "      <td>42.353669</td>\n",
       "      <td>220.726450</td>\n",
       "      <td>3.356698</td>\n",
       "      <td>4.156468</td>\n",
       "      <td>89.838098</td>\n",
       "      <td>223.934996</td>\n",
       "      <td>93.994565</td>\n",
       "      <td>31.233980</td>\n",
       "      <td>29.440935</td>\n",
       "      <td>91.631142</td>\n",
       "      <td>33.597402</td>\n",
       "    </tr>\n",
       "    <tr>\n",
       "      <th>std</th>\n",
       "      <td>0.562009</td>\n",
       "      <td>141717.007156</td>\n",
       "      <td>164.316331</td>\n",
       "      <td>80.185302</td>\n",
       "      <td>1.552861</td>\n",
       "      <td>119.849085</td>\n",
       "      <td>57.543767</td>\n",
       "      <td>223.881703</td>\n",
       "      <td>14.577685</td>\n",
       "      <td>22.736329</td>\n",
       "      <td>80.185302</td>\n",
       "      <td>224.451959</td>\n",
       "      <td>80.383922</td>\n",
       "      <td>30.375350</td>\n",
       "      <td>28.083453</td>\n",
       "      <td>79.981476</td>\n",
       "      <td>33.846498</td>\n",
       "    </tr>\n",
       "    <tr>\n",
       "      <th>min</th>\n",
       "      <td>0.000000</td>\n",
       "      <td>1000.000000</td>\n",
       "      <td>0.000000</td>\n",
       "      <td>1.000000</td>\n",
       "      <td>1.000000</td>\n",
       "      <td>0.000000</td>\n",
       "      <td>0.000000</td>\n",
       "      <td>1.000000</td>\n",
       "      <td>0.000806</td>\n",
       "      <td>0.000000</td>\n",
       "      <td>1.000000</td>\n",
       "      <td>2.000000</td>\n",
       "      <td>1.000000</td>\n",
       "      <td>0.142857</td>\n",
       "      <td>0.090909</td>\n",
       "      <td>1.000000</td>\n",
       "      <td>0.400000</td>\n",
       "    </tr>\n",
       "    <tr>\n",
       "      <th>25%</th>\n",
       "      <td>1.000000</td>\n",
       "      <td>90000.000000</td>\n",
       "      <td>45.000000</td>\n",
       "      <td>40.000000</td>\n",
       "      <td>2.000000</td>\n",
       "      <td>14.000000</td>\n",
       "      <td>17.760554</td>\n",
       "      <td>87.000000</td>\n",
       "      <td>0.722325</td>\n",
       "      <td>1.000000</td>\n",
       "      <td>40.000000</td>\n",
       "      <td>89.000000</td>\n",
       "      <td>42.387331</td>\n",
       "      <td>16.687075</td>\n",
       "      <td>15.750000</td>\n",
       "      <td>40.690407</td>\n",
       "      <td>18.176471</td>\n",
       "    </tr>\n",
       "    <tr>\n",
       "      <th>50%</th>\n",
       "      <td>1.000000</td>\n",
       "      <td>140000.000000</td>\n",
       "      <td>73.559193</td>\n",
       "      <td>63.000000</td>\n",
       "      <td>3.000000</td>\n",
       "      <td>50.000000</td>\n",
       "      <td>26.666667</td>\n",
       "      <td>139.583058</td>\n",
       "      <td>0.872727</td>\n",
       "      <td>1.145455</td>\n",
       "      <td>63.000000</td>\n",
       "      <td>142.000000</td>\n",
       "      <td>66.000000</td>\n",
       "      <td>23.523810</td>\n",
       "      <td>22.500000</td>\n",
       "      <td>64.333333</td>\n",
       "      <td>24.877209</td>\n",
       "    </tr>\n",
       "    <tr>\n",
       "      <th>75%</th>\n",
       "      <td>2.000000</td>\n",
       "      <td>240000.000000</td>\n",
       "      <td>152.906751</td>\n",
       "      <td>119.000000</td>\n",
       "      <td>4.000000</td>\n",
       "      <td>154.000000</td>\n",
       "      <td>45.000000</td>\n",
       "      <td>276.498431</td>\n",
       "      <td>1.000000</td>\n",
       "      <td>1.384418</td>\n",
       "      <td>119.000000</td>\n",
       "      <td>281.000000</td>\n",
       "      <td>121.166667</td>\n",
       "      <td>36.000000</td>\n",
       "      <td>34.750000</td>\n",
       "      <td>120.008333</td>\n",
       "      <td>38.000000</td>\n",
       "    </tr>\n",
       "    <tr>\n",
       "      <th>max</th>\n",
       "      <td>3.000000</td>\n",
       "      <td>815000.000000</td>\n",
       "      <td>1490.000000</td>\n",
       "      <td>485.000000</td>\n",
       "      <td>72.000000</td>\n",
       "      <td>538.000000</td>\n",
       "      <td>1354.000000</td>\n",
       "      <td>1916.000000</td>\n",
       "      <td>480.000000</td>\n",
       "      <td>1240.000000</td>\n",
       "      <td>485.000000</td>\n",
       "      <td>1921.000000</td>\n",
       "      <td>1241.000000</td>\n",
       "      <td>1241.000000</td>\n",
       "      <td>480.000000</td>\n",
       "      <td>1241.000000</td>\n",
       "      <td>1241.000000</td>\n",
       "    </tr>\n",
       "  </tbody>\n",
       "</table>\n",
       "</div>"
      ],
      "text/plain": [
       "       property_type  price_aprox_usd  surface_total_in_m2  \\\n",
       "count   70771.000000     70771.000000         70771.000000   \n",
       "mean        1.244394    189303.113529           130.888352   \n",
       "std         0.562009    141717.007156           164.316331   \n",
       "min         0.000000      1000.000000             0.000000   \n",
       "25%         1.000000     90000.000000            45.000000   \n",
       "50%         1.000000    140000.000000            73.559193   \n",
       "75%         2.000000    240000.000000           152.906751   \n",
       "max         3.000000    815000.000000          1490.000000   \n",
       "\n",
       "       surface_covered_in_m2     ambientes       partido  surface_by_amb  \\\n",
       "count           70771.000000  70771.000000  70771.000000    70771.000000   \n",
       "mean               89.838098      3.208546    106.369431       42.353669   \n",
       "std                80.185302      1.552861    119.849085       57.543767   \n",
       "min                 1.000000      1.000000      0.000000        0.000000   \n",
       "25%                40.000000      2.000000     14.000000       17.760554   \n",
       "50%                63.000000      3.000000     50.000000       26.666667   \n",
       "75%               119.000000      4.000000    154.000000       45.000000   \n",
       "max               485.000000     72.000000    538.000000     1354.000000   \n",
       "\n",
       "       surface_by_add  surface_covered_prop  surface_total_prop_cov  \\\n",
       "count    70771.000000          70665.000000            70771.000000   \n",
       "mean       220.726450              3.356698                4.156468   \n",
       "std        223.881703             14.577685               22.736329   \n",
       "min          1.000000              0.000806                0.000000   \n",
       "25%         87.000000              0.722325                1.000000   \n",
       "50%        139.583058              0.872727                1.145455   \n",
       "75%        276.498431              1.000000                1.384418   \n",
       "max       1916.000000            480.000000             1240.000000   \n",
       "\n",
       "       surface_cov_complete      new_rel1      new_rel2      new_rel3  \\\n",
       "count          70771.000000  70771.000000  70771.000000  70771.000000   \n",
       "mean              89.838098    223.934996     93.994565     31.233980   \n",
       "std               80.185302    224.451959     80.383922     30.375350   \n",
       "min                1.000000      2.000000      1.000000      0.142857   \n",
       "25%               40.000000     89.000000     42.387331     16.687075   \n",
       "50%               63.000000    142.000000     66.000000     23.523810   \n",
       "75%              119.000000    281.000000    121.166667     36.000000   \n",
       "max              485.000000   1921.000000   1241.000000   1241.000000   \n",
       "\n",
       "           new_rel4      new_rel5      new_rel6  \n",
       "count  70771.000000  70771.000000  70771.000000  \n",
       "mean      29.440935     91.631142     33.597402  \n",
       "std       28.083453     79.981476     33.846498  \n",
       "min        0.090909      1.000000      0.400000  \n",
       "25%       15.750000     40.690407     18.176471  \n",
       "50%       22.500000     64.333333     24.877209  \n",
       "75%       34.750000    120.008333     38.000000  \n",
       "max      480.000000   1241.000000   1241.000000  "
      ]
     },
     "execution_count": 48,
     "metadata": {},
     "output_type": "execute_result"
    }
   ],
   "source": [
    "# Por alguna razon existen valores infinitos: Los eliminamos\n",
    "df = df.replace([np.inf, -np.inf], np.nan).dropna(subset=[\"new_rel2\",\"new_rel5\"], how=\"all\")\n",
    "print(\"Cantidad de registros:\",len(df))\n",
    "df.describe()"
   ]
  },
  {
   "cell_type": "markdown",
   "metadata": {},
   "source": [
    "### Create train and test dataset\n",
    "Creamos un dataframe de test y train: Almacenamos df_test y continuamos trabajando con df_train"
   ]
  },
  {
   "cell_type": "code",
   "execution_count": 49,
   "metadata": {},
   "outputs": [
    {
     "name": "stdout",
     "output_type": "stream",
     "text": [
      "Cantidad registros train:  53156\n",
      "Cantidad registros test:  17615\n"
     ]
    }
   ],
   "source": [
    "# Create train and test dataset\n",
    "msk = np.random.rand(len(df)) < 0.75\n",
    "df_train = df[msk]\n",
    "df_test = df[~msk]\n",
    "print(\"Cantidad registros train: \",len(df_train))\n",
    "print(\"Cantidad registros test: \",len(df_test))"
   ]
  },
  {
   "cell_type": "code",
   "execution_count": 244,
   "metadata": {},
   "outputs": [
    {
     "data": {
      "text/html": [
       "<div>\n",
       "<style scoped>\n",
       "    .dataframe tbody tr th:only-of-type {\n",
       "        vertical-align: middle;\n",
       "    }\n",
       "\n",
       "    .dataframe tbody tr th {\n",
       "        vertical-align: top;\n",
       "    }\n",
       "\n",
       "    .dataframe thead th {\n",
       "        text-align: right;\n",
       "    }\n",
       "</style>\n",
       "<table border=\"1\" class=\"dataframe\">\n",
       "  <thead>\n",
       "    <tr style=\"text-align: right;\">\n",
       "      <th></th>\n",
       "      <th>property_type</th>\n",
       "      <th>price_aprox_usd</th>\n",
       "      <th>surface_total_in_m2</th>\n",
       "      <th>surface_covered_in_m2</th>\n",
       "      <th>ambientes</th>\n",
       "      <th>partido</th>\n",
       "      <th>surface_by_amb</th>\n",
       "      <th>surface_by_add</th>\n",
       "      <th>surface_covered_prop</th>\n",
       "      <th>surface_total_prop_cov</th>\n",
       "      <th>surface_cov_complete</th>\n",
       "      <th>new_rel1</th>\n",
       "      <th>new_rel2</th>\n",
       "      <th>new_rel3</th>\n",
       "      <th>new_rel4</th>\n",
       "      <th>new_rel5</th>\n",
       "      <th>new_rel6</th>\n",
       "    </tr>\n",
       "  </thead>\n",
       "  <tbody>\n",
       "    <tr>\n",
       "      <th>33734</th>\n",
       "      <td>1</td>\n",
       "      <td>70665.43</td>\n",
       "      <td>90.0</td>\n",
       "      <td>47.0</td>\n",
       "      <td>1.0</td>\n",
       "      <td>534.0</td>\n",
       "      <td>90.0</td>\n",
       "      <td>137.0</td>\n",
       "      <td>0.522222</td>\n",
       "      <td>1.914894</td>\n",
       "      <td>47.0</td>\n",
       "      <td>138.0</td>\n",
       "      <td>48.914894</td>\n",
       "      <td>48.914894</td>\n",
       "      <td>47.0</td>\n",
       "      <td>48.914894</td>\n",
       "      <td>48.914894</td>\n",
       "    </tr>\n",
       "  </tbody>\n",
       "</table>\n",
       "</div>"
      ],
      "text/plain": [
       "       property_type  price_aprox_usd  surface_total_in_m2  \\\n",
       "33734              1         70665.43                 90.0   \n",
       "\n",
       "       surface_covered_in_m2  ambientes  partido  surface_by_amb  \\\n",
       "33734                   47.0        1.0    534.0            90.0   \n",
       "\n",
       "       surface_by_add  surface_covered_prop  surface_total_prop_cov  \\\n",
       "33734           137.0              0.522222                1.914894   \n",
       "\n",
       "       surface_cov_complete  new_rel1   new_rel2   new_rel3  new_rel4  \\\n",
       "33734                  47.0     138.0  48.914894  48.914894      47.0   \n",
       "\n",
       "        new_rel5   new_rel6  \n",
       "33734  48.914894  48.914894  "
      ]
     },
     "execution_count": 244,
     "metadata": {},
     "output_type": "execute_result"
    }
   ],
   "source": [
    "#<<Checkpoint: train_test_data>>: guardo resultados en feather (Instalacion:  conda install -c conda-forge feather-format)\n",
    "# feather.write_dataframe(df_train, 'Data/train.feather')\n",
    "# feather.write_dataframe(df_test, 'Data/test.feather')\n",
    "\n",
    "#recargo resultados\n",
    "df_train = feather.read_dataframe('Data/train.feather')\n",
    "df_test = feather.read_dataframe('Data/test.feather')\n",
    "\n",
    "df_train.sample(1)"
   ]
  },
  {
   "cell_type": "code",
   "execution_count": 245,
   "metadata": {},
   "outputs": [
    {
     "data": {
      "text/html": [
       "<div>\n",
       "<style scoped>\n",
       "    .dataframe tbody tr th:only-of-type {\n",
       "        vertical-align: middle;\n",
       "    }\n",
       "\n",
       "    .dataframe tbody tr th {\n",
       "        vertical-align: top;\n",
       "    }\n",
       "\n",
       "    .dataframe thead th {\n",
       "        text-align: right;\n",
       "    }\n",
       "</style>\n",
       "<table border=\"1\" class=\"dataframe\">\n",
       "  <thead>\n",
       "    <tr style=\"text-align: right;\">\n",
       "      <th></th>\n",
       "      <th>property_type</th>\n",
       "      <th>price_aprox_usd</th>\n",
       "      <th>partido</th>\n",
       "      <th>new_rel2</th>\n",
       "      <th>new_rel5</th>\n",
       "    </tr>\n",
       "  </thead>\n",
       "  <tbody>\n",
       "    <tr>\n",
       "      <th>41954</th>\n",
       "      <td>0</td>\n",
       "      <td>133000.0</td>\n",
       "      <td>6.0</td>\n",
       "      <td>47.434783</td>\n",
       "      <td>46.478261</td>\n",
       "    </tr>\n",
       "  </tbody>\n",
       "</table>\n",
       "</div>"
      ],
      "text/plain": [
       "       property_type  price_aprox_usd  partido   new_rel2   new_rel5\n",
       "41954              0         133000.0      6.0  47.434783  46.478261"
      ]
     },
     "execution_count": 245,
     "metadata": {},
     "output_type": "execute_result"
    }
   ],
   "source": [
    "#  Rompo todas las columnas que no voy a utilizar\n",
    "# ◔̯◔\n",
    "to_drop = [\n",
    "            'new_rel1', 'new_rel3', 'new_rel4', 'new_rel6', \n",
    "            'surface_by_amb','surface_by_add',\n",
    "            'surface_covered_prop','surface_total_prop_cov',\n",
    "            'surface_cov_complete','ambientes',\n",
    "            'surface_covered_in_m2',\n",
    "            'surface_total_in_m2',\n",
    "#             'property_type',\n",
    "] \n",
    "df_train.drop(columns=to_drop, inplace=True) #aplicar drop\n",
    "df_train.sample(1)"
   ]
  },
  {
   "cell_type": "code",
   "execution_count": 229,
   "metadata": {},
   "outputs": [
    {
     "data": {
      "text/html": [
       "<div>\n",
       "<style scoped>\n",
       "    .dataframe tbody tr th:only-of-type {\n",
       "        vertical-align: middle;\n",
       "    }\n",
       "\n",
       "    .dataframe tbody tr th {\n",
       "        vertical-align: top;\n",
       "    }\n",
       "\n",
       "    .dataframe thead th {\n",
       "        text-align: right;\n",
       "    }\n",
       "</style>\n",
       "<table border=\"1\" class=\"dataframe\">\n",
       "  <thead>\n",
       "    <tr style=\"text-align: right;\">\n",
       "      <th></th>\n",
       "      <th>property_type</th>\n",
       "      <th>price_aprox_usd</th>\n",
       "      <th>partido</th>\n",
       "      <th>new_rel2</th>\n",
       "      <th>new_rel5</th>\n",
       "    </tr>\n",
       "  </thead>\n",
       "  <tbody>\n",
       "    <tr>\n",
       "      <th>count</th>\n",
       "      <td>53156.000000</td>\n",
       "      <td>53156.000000</td>\n",
       "      <td>53156.000000</td>\n",
       "      <td>53156.000000</td>\n",
       "      <td>53156.000000</td>\n",
       "    </tr>\n",
       "    <tr>\n",
       "      <th>mean</th>\n",
       "      <td>1.243792</td>\n",
       "      <td>189248.100748</td>\n",
       "      <td>106.437881</td>\n",
       "      <td>93.830535</td>\n",
       "      <td>91.456105</td>\n",
       "    </tr>\n",
       "    <tr>\n",
       "      <th>std</th>\n",
       "      <td>0.561414</td>\n",
       "      <td>141386.157338</td>\n",
       "      <td>119.776282</td>\n",
       "      <td>80.153288</td>\n",
       "      <td>79.779816</td>\n",
       "    </tr>\n",
       "    <tr>\n",
       "      <th>min</th>\n",
       "      <td>0.000000</td>\n",
       "      <td>1000.000000</td>\n",
       "      <td>0.000000</td>\n",
       "      <td>1.000000</td>\n",
       "      <td>1.000000</td>\n",
       "    </tr>\n",
       "    <tr>\n",
       "      <th>25%</th>\n",
       "      <td>1.000000</td>\n",
       "      <td>90000.000000</td>\n",
       "      <td>14.000000</td>\n",
       "      <td>42.444695</td>\n",
       "      <td>40.688605</td>\n",
       "    </tr>\n",
       "    <tr>\n",
       "      <th>50%</th>\n",
       "      <td>1.000000</td>\n",
       "      <td>140209.190000</td>\n",
       "      <td>50.000000</td>\n",
       "      <td>66.000000</td>\n",
       "      <td>64.265625</td>\n",
       "    </tr>\n",
       "    <tr>\n",
       "      <th>75%</th>\n",
       "      <td>2.000000</td>\n",
       "      <td>240000.000000</td>\n",
       "      <td>154.000000</td>\n",
       "      <td>121.083333</td>\n",
       "      <td>120.004167</td>\n",
       "    </tr>\n",
       "    <tr>\n",
       "      <th>max</th>\n",
       "      <td>3.000000</td>\n",
       "      <td>815000.000000</td>\n",
       "      <td>538.000000</td>\n",
       "      <td>1061.000000</td>\n",
       "      <td>1061.000000</td>\n",
       "    </tr>\n",
       "  </tbody>\n",
       "</table>\n",
       "</div>"
      ],
      "text/plain": [
       "       property_type  price_aprox_usd       partido      new_rel2  \\\n",
       "count   53156.000000     53156.000000  53156.000000  53156.000000   \n",
       "mean        1.243792    189248.100748    106.437881     93.830535   \n",
       "std         0.561414    141386.157338    119.776282     80.153288   \n",
       "min         0.000000      1000.000000      0.000000      1.000000   \n",
       "25%         1.000000     90000.000000     14.000000     42.444695   \n",
       "50%         1.000000    140209.190000     50.000000     66.000000   \n",
       "75%         2.000000    240000.000000    154.000000    121.083333   \n",
       "max         3.000000    815000.000000    538.000000   1061.000000   \n",
       "\n",
       "           new_rel5  \n",
       "count  53156.000000  \n",
       "mean      91.456105  \n",
       "std       79.779816  \n",
       "min        1.000000  \n",
       "25%       40.688605  \n",
       "50%       64.265625  \n",
       "75%      120.004167  \n",
       "max     1061.000000  "
      ]
     },
     "execution_count": 229,
     "metadata": {},
     "output_type": "execute_result"
    }
   ],
   "source": [
    "df_train.describe()"
   ]
  },
  {
   "cell_type": "code",
   "execution_count": 246,
   "metadata": {},
   "outputs": [
    {
     "name": "stdout",
     "output_type": "stream",
     "text": [
      "(53156, 5)\n",
      "(53156, 5)\n"
     ]
    }
   ],
   "source": [
    "# Elimino nulos en todas las columas\n",
    "columnas_principales_train = ['price_aprox_usd','partido','new_rel2','new_rel5']\n",
    "df_train = df_train.dropna(axis =0 , how = 'any', subset = columnas_principales_train)\n",
    "print(df_train.shape)\n",
    "# Elimino un cero de la columna price\n",
    "df_train = df_train[df_train.price_aprox_usd>0]\n",
    "print(df_train.shape)"
   ]
  },
  {
   "cell_type": "markdown",
   "metadata": {},
   "source": [
    "#### Plot Pairwaise"
   ]
  },
  {
   "cell_type": "code",
   "execution_count": 19,
   "metadata": {},
   "outputs": [
    {
     "name": "stderr",
     "output_type": "stream",
     "text": [
      "/opt/conda/lib/python3.6/site-packages/scipy/stats/stats.py:1713: FutureWarning:\n",
      "\n",
      "Using a non-tuple sequence for multidimensional indexing is deprecated; use `arr[tuple(seq)]` instead of `arr[seq]`. In the future this will be interpreted as an array index, `arr[np.array(seq)]`, which will result either in an error or a different result.\n",
      "\n",
      "/opt/conda/lib/python3.6/site-packages/statsmodels/nonparametric/kde.py:488: RuntimeWarning:\n",
      "\n",
      "invalid value encountered in true_divide\n",
      "\n",
      "/opt/conda/lib/python3.6/site-packages/statsmodels/nonparametric/kdetools.py:34: RuntimeWarning:\n",
      "\n",
      "invalid value encountered in double_scalars\n",
      "\n",
      "/opt/conda/lib/python3.6/site-packages/numpy/core/fromnumeric.py:83: RuntimeWarning:\n",
      "\n",
      "invalid value encountered in reduce\n",
      "\n"
     ]
    },
    {
     "data": {
      "image/png": "[encoded data removed]",
      "text/plain": [
       "<Figure size 977.75x900 with 30 Axes>"
      ]
     },
     "metadata": {},
     "output_type": "display_data"
    }
   ],
   "source": [
    "g = sns.pairplot(df_train, hue=\"property_type\")"
   ]
  },
  {
   "cell_type": "markdown",
   "metadata": {},
   "source": [
    "#### Crear dummies para las siguientes categoricas:\n",
    "    * partido\n",
    "    * property_type"
   ]
  },
  {
   "cell_type": "code",
   "execution_count": 254,
   "metadata": {},
   "outputs": [],
   "source": [
    "#### *partido\n",
    "df_train = pd.concat([df_train, pd.get_dummies(data = df_train['partido'], prefix= 'dum_part')], axis = 1)\n",
    "#### *property_type\n",
    "df_train = pd.concat([df_train, pd.get_dummies(data = df_train['property_type'], prefix= 'dum_tprop')], axis = 1)"
   ]
  },
  {
   "cell_type": "markdown",
   "metadata": {},
   "source": [
    "##### Dropeamos columnas pasadas a dummies"
   ]
  },
  {
   "cell_type": "code",
   "execution_count": 255,
   "metadata": {},
   "outputs": [
    {
     "data": {
      "text/html": [
       "<div>\n",
       "<style scoped>\n",
       "    .dataframe tbody tr th:only-of-type {\n",
       "        vertical-align: middle;\n",
       "    }\n",
       "\n",
       "    .dataframe tbody tr th {\n",
       "        vertical-align: top;\n",
       "    }\n",
       "\n",
       "    .dataframe thead th {\n",
       "        text-align: right;\n",
       "    }\n",
       "</style>\n",
       "<table border=\"1\" class=\"dataframe\">\n",
       "  <thead>\n",
       "    <tr style=\"text-align: right;\">\n",
       "      <th></th>\n",
       "      <th>price_aprox_usd</th>\n",
       "      <th>new_rel2</th>\n",
       "      <th>new_rel5</th>\n",
       "      <th>dum_part_0.0</th>\n",
       "      <th>dum_part_1.0</th>\n",
       "      <th>dum_part_2.0</th>\n",
       "      <th>dum_part_3.0</th>\n",
       "      <th>dum_part_4.0</th>\n",
       "      <th>dum_part_5.0</th>\n",
       "      <th>dum_part_6.0</th>\n",
       "      <th>...</th>\n",
       "      <th>dum_part_525.0</th>\n",
       "      <th>dum_part_528.0</th>\n",
       "      <th>dum_part_529.0</th>\n",
       "      <th>dum_part_534.0</th>\n",
       "      <th>dum_part_535.0</th>\n",
       "      <th>dum_part_538.0</th>\n",
       "      <th>dum_tprop_0</th>\n",
       "      <th>dum_tprop_1</th>\n",
       "      <th>dum_tprop_2</th>\n",
       "      <th>dum_tprop_3</th>\n",
       "    </tr>\n",
       "  </thead>\n",
       "  <tbody>\n",
       "    <tr>\n",
       "      <th>27260</th>\n",
       "      <td>610000.0</td>\n",
       "      <td>203.5</td>\n",
       "      <td>201.166667</td>\n",
       "      <td>0</td>\n",
       "      <td>0</td>\n",
       "      <td>0</td>\n",
       "      <td>0</td>\n",
       "      <td>0</td>\n",
       "      <td>0</td>\n",
       "      <td>0</td>\n",
       "      <td>...</td>\n",
       "      <td>0</td>\n",
       "      <td>0</td>\n",
       "      <td>0</td>\n",
       "      <td>0</td>\n",
       "      <td>0</td>\n",
       "      <td>0</td>\n",
       "      <td>0</td>\n",
       "      <td>0</td>\n",
       "      <td>1</td>\n",
       "      <td>0</td>\n",
       "    </tr>\n",
       "  </tbody>\n",
       "</table>\n",
       "<p>1 rows × 369 columns</p>\n",
       "</div>"
      ],
      "text/plain": [
       "       price_aprox_usd  new_rel2    new_rel5  dum_part_0.0  dum_part_1.0  \\\n",
       "27260         610000.0     203.5  201.166667             0             0   \n",
       "\n",
       "       dum_part_2.0  dum_part_3.0  dum_part_4.0  dum_part_5.0  dum_part_6.0  \\\n",
       "27260             0             0             0             0             0   \n",
       "\n",
       "          ...       dum_part_525.0  dum_part_528.0  dum_part_529.0  \\\n",
       "27260     ...                    0               0               0   \n",
       "\n",
       "       dum_part_534.0  dum_part_535.0  dum_part_538.0  dum_tprop_0  \\\n",
       "27260               0               0               0            0   \n",
       "\n",
       "       dum_tprop_1  dum_tprop_2  dum_tprop_3  \n",
       "27260            0            1            0  \n",
       "\n",
       "[1 rows x 369 columns]"
      ]
     },
     "execution_count": 255,
     "metadata": {},
     "output_type": "execute_result"
    }
   ],
   "source": [
    "to_drop = [\n",
    "            'partido', \n",
    "            'property_type',\n",
    "] \n",
    "df_train.drop(columns=to_drop, inplace=True) #aplicar drop\n",
    "df_train.sample(1)"
   ]
  },
  {
   "cell_type": "markdown",
   "metadata": {},
   "source": [
    "### Probamos score de modelos de regresion lineal combinando nuestras variables\n",
    "***Pruebo score del modelo con las siguientes combinaciones:***\n",
    "    * new_rel2, property_type y partido\n",
    "    * new_rel5, property_type y partido\n",
    "    * new_rel2, new_rel5, property_type y partido\n",
    "\n",
    "A continuación no se muestran todos los resultados, pero al final se puede ver el score para cada test realizado:"
   ]
  },
  {
   "cell_type": "code",
   "execution_count": 256,
   "metadata": {},
   "outputs": [
    {
     "data": {
      "text/html": [
       "<div>\n",
       "<style scoped>\n",
       "    .dataframe tbody tr th:only-of-type {\n",
       "        vertical-align: middle;\n",
       "    }\n",
       "\n",
       "    .dataframe tbody tr th {\n",
       "        vertical-align: top;\n",
       "    }\n",
       "\n",
       "    .dataframe thead th {\n",
       "        text-align: right;\n",
       "    }\n",
       "</style>\n",
       "<table border=\"1\" class=\"dataframe\">\n",
       "  <thead>\n",
       "    <tr style=\"text-align: right;\">\n",
       "      <th></th>\n",
       "      <th>new_rel2</th>\n",
       "      <th>dum_part_0.0</th>\n",
       "      <th>dum_part_1.0</th>\n",
       "      <th>dum_part_2.0</th>\n",
       "      <th>dum_part_3.0</th>\n",
       "      <th>dum_part_4.0</th>\n",
       "      <th>dum_part_5.0</th>\n",
       "      <th>dum_part_6.0</th>\n",
       "      <th>dum_part_7.0</th>\n",
       "      <th>dum_part_8.0</th>\n",
       "      <th>...</th>\n",
       "      <th>dum_part_525.0</th>\n",
       "      <th>dum_part_528.0</th>\n",
       "      <th>dum_part_529.0</th>\n",
       "      <th>dum_part_534.0</th>\n",
       "      <th>dum_part_535.0</th>\n",
       "      <th>dum_part_538.0</th>\n",
       "      <th>dum_tprop_0</th>\n",
       "      <th>dum_tprop_1</th>\n",
       "      <th>dum_tprop_2</th>\n",
       "      <th>dum_tprop_3</th>\n",
       "    </tr>\n",
       "  </thead>\n",
       "  <tbody>\n",
       "    <tr>\n",
       "      <th>38495</th>\n",
       "      <td>91.066667</td>\n",
       "      <td>0</td>\n",
       "      <td>0</td>\n",
       "      <td>0</td>\n",
       "      <td>0</td>\n",
       "      <td>0</td>\n",
       "      <td>0</td>\n",
       "      <td>0</td>\n",
       "      <td>0</td>\n",
       "      <td>0</td>\n",
       "      <td>...</td>\n",
       "      <td>0</td>\n",
       "      <td>0</td>\n",
       "      <td>0</td>\n",
       "      <td>0</td>\n",
       "      <td>0</td>\n",
       "      <td>0</td>\n",
       "      <td>0</td>\n",
       "      <td>1</td>\n",
       "      <td>0</td>\n",
       "      <td>0</td>\n",
       "    </tr>\n",
       "    <tr>\n",
       "      <th>1098</th>\n",
       "      <td>66.000000</td>\n",
       "      <td>0</td>\n",
       "      <td>0</td>\n",
       "      <td>0</td>\n",
       "      <td>0</td>\n",
       "      <td>0</td>\n",
       "      <td>0</td>\n",
       "      <td>0</td>\n",
       "      <td>0</td>\n",
       "      <td>0</td>\n",
       "      <td>...</td>\n",
       "      <td>0</td>\n",
       "      <td>0</td>\n",
       "      <td>0</td>\n",
       "      <td>0</td>\n",
       "      <td>0</td>\n",
       "      <td>0</td>\n",
       "      <td>1</td>\n",
       "      <td>0</td>\n",
       "      <td>0</td>\n",
       "      <td>0</td>\n",
       "    </tr>\n",
       "  </tbody>\n",
       "</table>\n",
       "<p>2 rows × 367 columns</p>\n",
       "</div>"
      ],
      "text/plain": [
       "        new_rel2  dum_part_0.0  dum_part_1.0  dum_part_2.0  dum_part_3.0  \\\n",
       "38495  91.066667             0             0             0             0   \n",
       "1098   66.000000             0             0             0             0   \n",
       "\n",
       "       dum_part_4.0  dum_part_5.0  dum_part_6.0  dum_part_7.0  dum_part_8.0  \\\n",
       "38495             0             0             0             0             0   \n",
       "1098              0             0             0             0             0   \n",
       "\n",
       "          ...       dum_part_525.0  dum_part_528.0  dum_part_529.0  \\\n",
       "38495     ...                    0               0               0   \n",
       "1098      ...                    0               0               0   \n",
       "\n",
       "       dum_part_534.0  dum_part_535.0  dum_part_538.0  dum_tprop_0  \\\n",
       "38495               0               0               0            0   \n",
       "1098                0               0               0            1   \n",
       "\n",
       "       dum_tprop_1  dum_tprop_2  dum_tprop_3  \n",
       "38495            1            0            0  \n",
       "1098             0            0            0  \n",
       "\n",
       "[2 rows x 367 columns]"
      ]
     },
     "execution_count": 256,
     "metadata": {},
     "output_type": "execute_result"
    }
   ],
   "source": [
    "#Test1: Solo new_rel2\n",
    "X = df_train.drop(['price_aprox_usd','new_rel5'], axis = 1)\n",
    "#Test2: Solo new_rel5\n",
    "# X = df_train.drop(['price_aprox_usd','new_rel2'], axis = 1)\n",
    "#Test3: new_rel2 y new_rel5\n",
    "# X = df_train.drop(['price_aprox_usd'], axis = 1)\n",
    "y = df_train['price_aprox_usd']\n",
    "\n",
    "# Train y Test\n",
    "X_train, X_test, y_train, y_test = train_test_split(X, y, test_size=0.25, random_state=1)\n",
    "X.sample(2)"
   ]
  },
  {
   "cell_type": "markdown",
   "metadata": {},
   "source": [
    "#### Regresion linear: Aplico training sobre las variables seleccionadas"
   ]
  },
  {
   "cell_type": "code",
   "execution_count": 234,
   "metadata": {},
   "outputs": [
    {
     "name": "stdout",
     "output_type": "stream",
     "text": [
      "Model Score: 0.5368434879610611\n"
     ]
    }
   ],
   "source": [
    "lm = LinearRegression()\n",
    "\n",
    "model = lm.fit(X_train, y_train)\n",
    "predictions = lm.predict(X_train)\n",
    "model_score = model.score(X_test, y_test)\n",
    "print('Model Score:',model_score)"
   ]
  },
  {
   "cell_type": "markdown",
   "metadata": {},
   "source": [
    "##### Resultado:\n",
    "Todas las pruebas se hacen probando con **dummies** en **property_types** y **partido**\n",
    " * score con **new_rel2**: 0.5368434879610611\n",
    " * score con **new_rel5**: 0.5344155375650685\n",
    " * score con **new_rel2** y **new_rel5**: 0.5304537942097489\n",
    " \n",
    " ***Conclusión: Como el mejor score lo obtuvimos new_rel2 seguimos con esta variable (new_rel2 y new_rel5 juntas no son considerablemente mejores)***\n",
    " "
   ]
  },
  {
   "cell_type": "code",
   "execution_count": 79,
   "metadata": {},
   "outputs": [],
   "source": [
    "#### Divido variable independiente price de x\n",
    "price=df_train.price_aprox_usd\n",
    "x = df_train.drop(columns=['price_aprox_usd'])\n",
    "info = df_train.drop(columns=['price_aprox_usd'])"
   ]
  },
  {
   "cell_type": "code",
   "execution_count": 81,
   "metadata": {},
   "outputs": [
    {
     "data": {
      "text/html": [
       "<div>\n",
       "<style scoped>\n",
       "    .dataframe tbody tr th:only-of-type {\n",
       "        vertical-align: middle;\n",
       "    }\n",
       "\n",
       "    .dataframe tbody tr th {\n",
       "        vertical-align: top;\n",
       "    }\n",
       "\n",
       "    .dataframe thead th {\n",
       "        text-align: right;\n",
       "    }\n",
       "</style>\n",
       "<table border=\"1\" class=\"dataframe\">\n",
       "  <thead>\n",
       "    <tr style=\"text-align: right;\">\n",
       "      <th></th>\n",
       "      <th>new_rel2</th>\n",
       "      <th>new_rel5</th>\n",
       "      <th>dum_part_0.0</th>\n",
       "      <th>dum_part_1.0</th>\n",
       "      <th>dum_part_2.0</th>\n",
       "      <th>dum_part_3.0</th>\n",
       "      <th>dum_part_4.0</th>\n",
       "      <th>dum_part_5.0</th>\n",
       "      <th>dum_part_6.0</th>\n",
       "      <th>dum_part_7.0</th>\n",
       "      <th>...</th>\n",
       "      <th>dum_part_525.0</th>\n",
       "      <th>dum_part_528.0</th>\n",
       "      <th>dum_part_529.0</th>\n",
       "      <th>dum_part_534.0</th>\n",
       "      <th>dum_part_535.0</th>\n",
       "      <th>dum_part_538.0</th>\n",
       "      <th>dum_tprop_0</th>\n",
       "      <th>dum_tprop_1</th>\n",
       "      <th>dum_tprop_2</th>\n",
       "      <th>dum_tprop_3</th>\n",
       "    </tr>\n",
       "  </thead>\n",
       "  <tbody>\n",
       "    <tr>\n",
       "      <th>count</th>\n",
       "      <td>53156.000000</td>\n",
       "      <td>53156.000000</td>\n",
       "      <td>53156.000000</td>\n",
       "      <td>53156.000000</td>\n",
       "      <td>53156.000000</td>\n",
       "      <td>53156.000000</td>\n",
       "      <td>53156.000000</td>\n",
       "      <td>53156.000000</td>\n",
       "      <td>53156.000000</td>\n",
       "      <td>53156.000000</td>\n",
       "      <td>...</td>\n",
       "      <td>53156.000000</td>\n",
       "      <td>53156.000000</td>\n",
       "      <td>53156.000000</td>\n",
       "      <td>53156.000000</td>\n",
       "      <td>53156.000000</td>\n",
       "      <td>53156.000000</td>\n",
       "      <td>53156.000000</td>\n",
       "      <td>53156.000000</td>\n",
       "      <td>53156.000000</td>\n",
       "      <td>53156.000000</td>\n",
       "    </tr>\n",
       "    <tr>\n",
       "      <th>mean</th>\n",
       "      <td>93.830535</td>\n",
       "      <td>91.456105</td>\n",
       "      <td>0.015332</td>\n",
       "      <td>0.017627</td>\n",
       "      <td>0.001336</td>\n",
       "      <td>0.003537</td>\n",
       "      <td>0.024212</td>\n",
       "      <td>0.010385</td>\n",
       "      <td>0.027391</td>\n",
       "      <td>0.012285</td>\n",
       "      <td>...</td>\n",
       "      <td>0.000113</td>\n",
       "      <td>0.000207</td>\n",
       "      <td>0.000038</td>\n",
       "      <td>0.001185</td>\n",
       "      <td>0.000038</td>\n",
       "      <td>0.000169</td>\n",
       "      <td>0.060633</td>\n",
       "      <td>0.639721</td>\n",
       "      <td>0.294868</td>\n",
       "      <td>0.004778</td>\n",
       "    </tr>\n",
       "    <tr>\n",
       "      <th>std</th>\n",
       "      <td>80.153288</td>\n",
       "      <td>79.779816</td>\n",
       "      <td>0.122872</td>\n",
       "      <td>0.131594</td>\n",
       "      <td>0.036523</td>\n",
       "      <td>0.059366</td>\n",
       "      <td>0.153707</td>\n",
       "      <td>0.101375</td>\n",
       "      <td>0.163222</td>\n",
       "      <td>0.110154</td>\n",
       "      <td>...</td>\n",
       "      <td>0.010624</td>\n",
       "      <td>0.014384</td>\n",
       "      <td>0.006134</td>\n",
       "      <td>0.034407</td>\n",
       "      <td>0.006134</td>\n",
       "      <td>0.013011</td>\n",
       "      <td>0.238658</td>\n",
       "      <td>0.480086</td>\n",
       "      <td>0.455988</td>\n",
       "      <td>0.068961</td>\n",
       "    </tr>\n",
       "    <tr>\n",
       "      <th>min</th>\n",
       "      <td>1.000000</td>\n",
       "      <td>1.000000</td>\n",
       "      <td>0.000000</td>\n",
       "      <td>0.000000</td>\n",
       "      <td>0.000000</td>\n",
       "      <td>0.000000</td>\n",
       "      <td>0.000000</td>\n",
       "      <td>0.000000</td>\n",
       "      <td>0.000000</td>\n",
       "      <td>0.000000</td>\n",
       "      <td>...</td>\n",
       "      <td>0.000000</td>\n",
       "      <td>0.000000</td>\n",
       "      <td>0.000000</td>\n",
       "      <td>0.000000</td>\n",
       "      <td>0.000000</td>\n",
       "      <td>0.000000</td>\n",
       "      <td>0.000000</td>\n",
       "      <td>0.000000</td>\n",
       "      <td>0.000000</td>\n",
       "      <td>0.000000</td>\n",
       "    </tr>\n",
       "    <tr>\n",
       "      <th>25%</th>\n",
       "      <td>42.444695</td>\n",
       "      <td>40.688605</td>\n",
       "      <td>0.000000</td>\n",
       "      <td>0.000000</td>\n",
       "      <td>0.000000</td>\n",
       "      <td>0.000000</td>\n",
       "      <td>0.000000</td>\n",
       "      <td>0.000000</td>\n",
       "      <td>0.000000</td>\n",
       "      <td>0.000000</td>\n",
       "      <td>...</td>\n",
       "      <td>0.000000</td>\n",
       "      <td>0.000000</td>\n",
       "      <td>0.000000</td>\n",
       "      <td>0.000000</td>\n",
       "      <td>0.000000</td>\n",
       "      <td>0.000000</td>\n",
       "      <td>0.000000</td>\n",
       "      <td>0.000000</td>\n",
       "      <td>0.000000</td>\n",
       "      <td>0.000000</td>\n",
       "    </tr>\n",
       "    <tr>\n",
       "      <th>50%</th>\n",
       "      <td>66.000000</td>\n",
       "      <td>64.265625</td>\n",
       "      <td>0.000000</td>\n",
       "      <td>0.000000</td>\n",
       "      <td>0.000000</td>\n",
       "      <td>0.000000</td>\n",
       "      <td>0.000000</td>\n",
       "      <td>0.000000</td>\n",
       "      <td>0.000000</td>\n",
       "      <td>0.000000</td>\n",
       "      <td>...</td>\n",
       "      <td>0.000000</td>\n",
       "      <td>0.000000</td>\n",
       "      <td>0.000000</td>\n",
       "      <td>0.000000</td>\n",
       "      <td>0.000000</td>\n",
       "      <td>0.000000</td>\n",
       "      <td>0.000000</td>\n",
       "      <td>1.000000</td>\n",
       "      <td>0.000000</td>\n",
       "      <td>0.000000</td>\n",
       "    </tr>\n",
       "    <tr>\n",
       "      <th>75%</th>\n",
       "      <td>121.083333</td>\n",
       "      <td>120.004167</td>\n",
       "      <td>0.000000</td>\n",
       "      <td>0.000000</td>\n",
       "      <td>0.000000</td>\n",
       "      <td>0.000000</td>\n",
       "      <td>0.000000</td>\n",
       "      <td>0.000000</td>\n",
       "      <td>0.000000</td>\n",
       "      <td>0.000000</td>\n",
       "      <td>...</td>\n",
       "      <td>0.000000</td>\n",
       "      <td>0.000000</td>\n",
       "      <td>0.000000</td>\n",
       "      <td>0.000000</td>\n",
       "      <td>0.000000</td>\n",
       "      <td>0.000000</td>\n",
       "      <td>0.000000</td>\n",
       "      <td>1.000000</td>\n",
       "      <td>1.000000</td>\n",
       "      <td>0.000000</td>\n",
       "    </tr>\n",
       "    <tr>\n",
       "      <th>max</th>\n",
       "      <td>1061.000000</td>\n",
       "      <td>1061.000000</td>\n",
       "      <td>1.000000</td>\n",
       "      <td>1.000000</td>\n",
       "      <td>1.000000</td>\n",
       "      <td>1.000000</td>\n",
       "      <td>1.000000</td>\n",
       "      <td>1.000000</td>\n",
       "      <td>1.000000</td>\n",
       "      <td>1.000000</td>\n",
       "      <td>...</td>\n",
       "      <td>1.000000</td>\n",
       "      <td>1.000000</td>\n",
       "      <td>1.000000</td>\n",
       "      <td>1.000000</td>\n",
       "      <td>1.000000</td>\n",
       "      <td>1.000000</td>\n",
       "      <td>1.000000</td>\n",
       "      <td>1.000000</td>\n",
       "      <td>1.000000</td>\n",
       "      <td>1.000000</td>\n",
       "    </tr>\n",
       "  </tbody>\n",
       "</table>\n",
       "<p>8 rows × 368 columns</p>\n",
       "</div>"
      ],
      "text/plain": [
       "           new_rel2      new_rel5  dum_part_0.0  dum_part_1.0  dum_part_2.0  \\\n",
       "count  53156.000000  53156.000000  53156.000000  53156.000000  53156.000000   \n",
       "mean      93.830535     91.456105      0.015332      0.017627      0.001336   \n",
       "std       80.153288     79.779816      0.122872      0.131594      0.036523   \n",
       "min        1.000000      1.000000      0.000000      0.000000      0.000000   \n",
       "25%       42.444695     40.688605      0.000000      0.000000      0.000000   \n",
       "50%       66.000000     64.265625      0.000000      0.000000      0.000000   \n",
       "75%      121.083333    120.004167      0.000000      0.000000      0.000000   \n",
       "max     1061.000000   1061.000000      1.000000      1.000000      1.000000   \n",
       "\n",
       "       dum_part_3.0  dum_part_4.0  dum_part_5.0  dum_part_6.0  dum_part_7.0  \\\n",
       "count  53156.000000  53156.000000  53156.000000  53156.000000  53156.000000   \n",
       "mean       0.003537      0.024212      0.010385      0.027391      0.012285   \n",
       "std        0.059366      0.153707      0.101375      0.163222      0.110154   \n",
       "min        0.000000      0.000000      0.000000      0.000000      0.000000   \n",
       "25%        0.000000      0.000000      0.000000      0.000000      0.000000   \n",
       "50%        0.000000      0.000000      0.000000      0.000000      0.000000   \n",
       "75%        0.000000      0.000000      0.000000      0.000000      0.000000   \n",
       "max        1.000000      1.000000      1.000000      1.000000      1.000000   \n",
       "\n",
       "           ...       dum_part_525.0  dum_part_528.0  dum_part_529.0  \\\n",
       "count      ...         53156.000000    53156.000000    53156.000000   \n",
       "mean       ...             0.000113        0.000207        0.000038   \n",
       "std        ...             0.010624        0.014384        0.006134   \n",
       "min        ...             0.000000        0.000000        0.000000   \n",
       "25%        ...             0.000000        0.000000        0.000000   \n",
       "50%        ...             0.000000        0.000000        0.000000   \n",
       "75%        ...             0.000000        0.000000        0.000000   \n",
       "max        ...             1.000000        1.000000        1.000000   \n",
       "\n",
       "       dum_part_534.0  dum_part_535.0  dum_part_538.0   dum_tprop_0  \\\n",
       "count    53156.000000    53156.000000    53156.000000  53156.000000   \n",
       "mean         0.001185        0.000038        0.000169      0.060633   \n",
       "std          0.034407        0.006134        0.013011      0.238658   \n",
       "min          0.000000        0.000000        0.000000      0.000000   \n",
       "25%          0.000000        0.000000        0.000000      0.000000   \n",
       "50%          0.000000        0.000000        0.000000      0.000000   \n",
       "75%          0.000000        0.000000        0.000000      0.000000   \n",
       "max          1.000000        1.000000        1.000000      1.000000   \n",
       "\n",
       "        dum_tprop_1   dum_tprop_2   dum_tprop_3  \n",
       "count  53156.000000  53156.000000  53156.000000  \n",
       "mean       0.639721      0.294868      0.004778  \n",
       "std        0.480086      0.455988      0.068961  \n",
       "min        0.000000      0.000000      0.000000  \n",
       "25%        0.000000      0.000000      0.000000  \n",
       "50%        1.000000      0.000000      0.000000  \n",
       "75%        1.000000      1.000000      0.000000  \n",
       "max        1.000000      1.000000      1.000000  \n",
       "\n",
       "[8 rows x 368 columns]"
      ]
     },
     "execution_count": 81,
     "metadata": {},
     "output_type": "execute_result"
    }
   ],
   "source": [
    "x.describe()"
   ]
  },
  {
   "cell_type": "markdown",
   "metadata": {},
   "source": [
    "### Analisis de model score agrupando por Partido\n",
    "Los pasos que vamos a realizar son los siguientes:\n",
    "* Obtener df_train original\n",
    "* Eliminar columnas que no utilizamos, nulos y precios en cero\n",
    "* Evaluamos algunos casos, para ello vamos a elegir los partidos que mas registros tienen\n",
    "* Con la columna new_rel2 evaluamos el model score sobre cada partido seleccionado"
   ]
  },
  {
   "cell_type": "markdown",
   "metadata": {},
   "source": [
    "###### En la siguiente ejecucion se obtiene el dataset de train inicial, se eliminan columnas y valores en nulo o cero"
   ]
  },
  {
   "cell_type": "code",
   "execution_count": 2,
   "metadata": {},
   "outputs": [
    {
     "name": "stdout",
     "output_type": "stream",
     "text": [
      "(53156, 5)\n"
     ]
    },
    {
     "data": {
      "text/html": [
       "<div>\n",
       "<style scoped>\n",
       "    .dataframe tbody tr th:only-of-type {\n",
       "        vertical-align: middle;\n",
       "    }\n",
       "\n",
       "    .dataframe tbody tr th {\n",
       "        vertical-align: top;\n",
       "    }\n",
       "\n",
       "    .dataframe thead th {\n",
       "        text-align: right;\n",
       "    }\n",
       "</style>\n",
       "<table border=\"1\" class=\"dataframe\">\n",
       "  <thead>\n",
       "    <tr style=\"text-align: right;\">\n",
       "      <th></th>\n",
       "      <th>property_type</th>\n",
       "      <th>price_aprox_usd</th>\n",
       "      <th>partido</th>\n",
       "      <th>new_rel2</th>\n",
       "      <th>new_rel5</th>\n",
       "    </tr>\n",
       "  </thead>\n",
       "  <tbody>\n",
       "    <tr>\n",
       "      <th>47114</th>\n",
       "      <td>2</td>\n",
       "      <td>345000.0</td>\n",
       "      <td>59.0</td>\n",
       "      <td>235.106838</td>\n",
       "      <td>234.553419</td>\n",
       "    </tr>\n",
       "  </tbody>\n",
       "</table>\n",
       "</div>"
      ],
      "text/plain": [
       "       property_type  price_aprox_usd  partido    new_rel2    new_rel5\n",
       "47114              2         345000.0     59.0  235.106838  234.553419"
      ]
     },
     "execution_count": 2,
     "metadata": {},
     "output_type": "execute_result"
    }
   ],
   "source": [
    "#<<Checkpoint: train_test_data>>: cargo resultados en feather (Instalacion:  conda install -c conda-forge feather-format)\n",
    "#load training dataset\n",
    "def reset_train_data():\n",
    "    df_train = feather.read_dataframe('Data/train.feather')\n",
    "    #  Rompo todas las columnas que no voy a utilizar\n",
    "    to_drop = [\n",
    "                'new_rel1', 'new_rel3', 'new_rel4', 'new_rel6', \n",
    "                'surface_by_amb','surface_by_add',\n",
    "                'surface_covered_prop','surface_total_prop_cov',\n",
    "                'surface_cov_complete','ambientes',\n",
    "                'surface_covered_in_m2',\n",
    "                'surface_total_in_m2',\n",
    "    #             'property_type',\n",
    "    ] \n",
    "    df_train.drop(columns=to_drop, inplace=True) #aplicar drop\n",
    "    # Elimino nulos en todas las columas\n",
    "    columnas_principales_train = ['price_aprox_usd','partido','new_rel2','new_rel5']\n",
    "    df_train = df_train.dropna(axis =0 , how = 'any', subset = columnas_principales_train)\n",
    "    # Elimino un cero de la columna price\n",
    "    df_train = df_train[df_train.price_aprox_usd>0]\n",
    "    return df_train\n",
    "\n",
    "df_train = reset_train_data()\n",
    "print(df_train.shape)\n",
    "df_train.sample(1)"
   ]
  },
  {
   "cell_type": "markdown",
   "metadata": {},
   "source": [
    "###### Reviso que partidos tienen mayor cantidad de datos para realizar un training por partido\n",
    "* Vamos a evaluar las 6 localidades con mas registros"
   ]
  },
  {
   "cell_type": "code",
   "execution_count": 196,
   "metadata": {},
   "outputs": [
    {
     "data": {
      "text/plain": [
       "50.0     4484\n",
       "8.0      4264\n",
       "234.0    3016\n",
       "9.0      2111\n",
       "154.0    1947\n",
       "506.0    1810\n",
       "Name: partido, dtype: int64"
      ]
     },
     "execution_count": 196,
     "metadata": {},
     "output_type": "execute_result"
    }
   ],
   "source": [
    "df_train['partido'].value_counts(ascending=False).head(6)"
   ]
  },
  {
   "cell_type": "markdown",
   "metadata": {},
   "source": [
    "****(Opcional)Recupero algunos partidos para saber a que hacen referencia****\n",
    "* Vamos a evaluar las 6 localidades con mas registros"
   ]
  },
  {
   "cell_type": "code",
   "execution_count": 113,
   "metadata": {},
   "outputs": [
    {
     "name": "stdout",
     "output_type": "stream",
     "text": [
      " 50 es:  mar del plata\n",
      "  8 es:  tigre\n",
      "234 es:  córdoba\n"
     ]
    }
   ],
   "source": [
    "df_partidos = feather.read_dataframe('Data/partidos.feather')\n",
    "print(\" 50 es: \",df_partidos.iloc[50].nombre)\n",
    "print(\"  8 es: \",df_partidos.iloc[8].nombre)\n",
    "print(\"234 es: \",df_partidos.iloc[234].nombre)\n"
   ]
  },
  {
   "cell_type": "markdown",
   "metadata": {},
   "source": [
    "****Funcion para generar dummies dado un dataset y un column_name****\n",
    "* Se elimina la columna original"
   ]
  },
  {
   "cell_type": "code",
   "execution_count": 3,
   "metadata": {},
   "outputs": [],
   "source": [
    "def dummies_creator(df_in,column_name):\n",
    "    prefix_name=\"dum_\"+column_name\n",
    "    df_in = pd.concat([df_in, pd.get_dummies(data = df_in[column_name], prefix= prefix_name)], axis = 1)\n",
    "    # Elimino la columna utilizada\n",
    "    to_drop = [column_name] \n",
    "    df_in.drop(columns=to_drop, inplace=True) #aplicar drop\n",
    "    return df_in"
   ]
  },
  {
   "cell_type": "markdown",
   "metadata": {},
   "source": [
    "****Funcion para dividir datos por una columna y un valor especifico****\n",
    "* Se elimina la columna mediante la cual se fragmentaron los datos"
   ]
  },
  {
   "cell_type": "code",
   "execution_count": 4,
   "metadata": {},
   "outputs": [],
   "source": [
    "def chunk_df_by_column(df_in,column_name,column_value):\n",
    "    df_chunked = df_in[df_in[column_name] == column_value]\n",
    "    print(column_name,\"=>\", column_value,\"- cantidad de registros:\", len(df_chunked))\n",
    "    to_drop = [column_name] \n",
    "    df_chunked.drop(columns=to_drop, inplace=True) #aplicar drop\n",
    "    return df_chunked\n",
    "\n",
    "#testeo  las funciones\n",
    "# df_train_50 = chunk_df_by_column(df_train,\"partido\",50)\n",
    "# # Generamos Dummies para:\n",
    "# # #### *property_type\n",
    "# df_train_50 = dummies_creator(df_train_50,\"property_type\")\n",
    "# df_train_50.sample(1)"
   ]
  },
  {
   "cell_type": "markdown",
   "metadata": {},
   "source": [
    "****Funcion que evalua el model score de df_train****\n",
    "* Tiene hardcodeados las columnas que se deben eliminar para generer X e y"
   ]
  },
  {
   "cell_type": "code",
   "execution_count": 70,
   "metadata": {},
   "outputs": [],
   "source": [
    "def lreg_score(df_in):\n",
    "    X = df_in.drop(['price_aprox_usd','new_rel5'], axis = 1)\n",
    "    y = df_in['price_aprox_usd']\n",
    "    X_train, X_test, y_train, y_test = train_test_split(X, y, test_size=0.25, random_state=1)\n",
    "    lm = LinearRegression()\n",
    "    model = lm.fit(X_train, y_train)\n",
    "    predictions = lm.predict(X_train)\n",
    "    model_score = model.score(X_test, y_test)\n",
    "    print('Model Score:',model_score)\n",
    "    return model\n",
    "    \n",
    "# lreg_score(df_train_50)"
   ]
  },
  {
   "cell_type": "markdown",
   "metadata": {},
   "source": [
    "****En la siguiente ejecucion se itera un conjunto de partidos y se evalua su model score****\n",
    "* Se utilizan las funciones anteriormente mencionadas para ejecutar este paso\n",
    "***"
   ]
  },
  {
   "cell_type": "code",
   "execution_count": 6,
   "metadata": {},
   "outputs": [
    {
     "data": {
      "text/markdown": [
       "<span style='color:blue'>Evaluando Regresion en partido: 50</span>"
      ],
      "text/plain": [
       "<IPython.core.display.Markdown object>"
      ]
     },
     "metadata": {},
     "output_type": "display_data"
    },
    {
     "name": "stdout",
     "output_type": "stream",
     "text": [
      "partido => 50 - cantidad de registros: 4484\n",
      "Model Score: 0.47483386298994823\n"
     ]
    },
    {
     "name": "stderr",
     "output_type": "stream",
     "text": [
      "/opt/conda/lib/python3.6/site-packages/pandas/core/frame.py:3697: SettingWithCopyWarning:\n",
      "\n",
      "\n",
      "A value is trying to be set on a copy of a slice from a DataFrame\n",
      "\n",
      "See the caveats in the documentation: http://pandas.pydata.org/pandas-docs/stable/indexing.html#indexing-view-versus-copy\n",
      "\n"
     ]
    },
    {
     "data": {
      "text/markdown": [
       "<span style='color:blue'>Evaluando Regresion en partido: 8</span>"
      ],
      "text/plain": [
       "<IPython.core.display.Markdown object>"
      ]
     },
     "metadata": {},
     "output_type": "display_data"
    },
    {
     "name": "stdout",
     "output_type": "stream",
     "text": [
      "partido => 8 - cantidad de registros: 4264\n",
      "Model Score: 0.5977259672067188\n"
     ]
    },
    {
     "data": {
      "text/markdown": [
       "<span style='color:blue'>Evaluando Regresion en partido: 234</span>"
      ],
      "text/plain": [
       "<IPython.core.display.Markdown object>"
      ]
     },
     "metadata": {},
     "output_type": "display_data"
    },
    {
     "name": "stdout",
     "output_type": "stream",
     "text": [
      "partido => 234 - cantidad de registros: 3016\n",
      "Model Score: 0.2985351234401761\n"
     ]
    },
    {
     "data": {
      "text/markdown": [
       "<span style='color:blue'>Evaluando Regresion en partido: 9</span>"
      ],
      "text/plain": [
       "<IPython.core.display.Markdown object>"
      ]
     },
     "metadata": {},
     "output_type": "display_data"
    },
    {
     "name": "stdout",
     "output_type": "stream",
     "text": [
      "partido => 9 - cantidad de registros: 2111\n",
      "Model Score: 0.5204222429372234\n"
     ]
    },
    {
     "data": {
      "text/markdown": [
       "<span style='color:blue'>Evaluando Regresion en partido: 154</span>"
      ],
      "text/plain": [
       "<IPython.core.display.Markdown object>"
      ]
     },
     "metadata": {},
     "output_type": "display_data"
    },
    {
     "name": "stdout",
     "output_type": "stream",
     "text": [
      "partido => 154 - cantidad de registros: 1947\n",
      "Model Score: 0.4362105909677873\n"
     ]
    },
    {
     "data": {
      "text/markdown": [
       "<span style='color:blue'>Evaluando Regresion en partido: 506</span>"
      ],
      "text/plain": [
       "<IPython.core.display.Markdown object>"
      ]
     },
     "metadata": {},
     "output_type": "display_data"
    },
    {
     "name": "stdout",
     "output_type": "stream",
     "text": [
      "partido => 506 - cantidad de registros: 1810\n",
      "Model Score: 0.3689523819631578\n"
     ]
    }
   ],
   "source": [
    "from IPython.display import Markdown, display\n",
    "def printmd(string):\n",
    "    display(Markdown(string))\n",
    "\n",
    "array_partidos = [50,8,234,9,154,506]\n",
    "for val in array_partidos:\n",
    "    printmd(\"<span style='color:blue'>Evaluando Regresion en partido: \"+str(val)+\"</span>\")\n",
    "    df_train_aux = chunk_df_by_column(df_train,\"partido\",val)\n",
    "    df_train_aux = dummies_creator(df_train_aux,\"property_type\")\n",
    "    lreg_score(df_train_aux)"
   ]
  },
  {
   "cell_type": "markdown",
   "metadata": {},
   "source": [
    "| <span style='color:brown;font-weight:bold;aling:center;font-size:15px'>Resultado</span> |    |\n",
    "|------|------|\n",
    "| !!!  |<span style='color:crimson;font-size:13px'>De dividir por partido no se obtiene una mejora significativa, si bien en algunos partidos puede dar un resultado mejor</span>|"
   ]
  },
  {
   "cell_type": "markdown",
   "metadata": {},
   "source": [
    "### Analisis de model score agrupando por property_type\n",
    "Los pasos que vamos a realizar son los siguientes:\n",
    "* Obtener df_train original\n",
    "* Eliminar columnas que no utilizamos, nulos y precios en cero\n",
    "* Con la columna new_rel2 evaluamos el model score sobre cada partido seleccionado"
   ]
  },
  {
   "cell_type": "markdown",
   "metadata": {},
   "source": [
    "#### Reseteo df_train"
   ]
  },
  {
   "cell_type": "code",
   "execution_count": 170,
   "metadata": {},
   "outputs": [
    {
     "name": "stdout",
     "output_type": "stream",
     "text": [
      "(53156, 5)\n",
      "(53156, 5)\n"
     ]
    },
    {
     "data": {
      "text/html": [
       "<div>\n",
       "<style scoped>\n",
       "    .dataframe tbody tr th:only-of-type {\n",
       "        vertical-align: middle;\n",
       "    }\n",
       "\n",
       "    .dataframe tbody tr th {\n",
       "        vertical-align: top;\n",
       "    }\n",
       "\n",
       "    .dataframe thead th {\n",
       "        text-align: right;\n",
       "    }\n",
       "</style>\n",
       "<table border=\"1\" class=\"dataframe\">\n",
       "  <thead>\n",
       "    <tr style=\"text-align: right;\">\n",
       "      <th></th>\n",
       "      <th>property_type</th>\n",
       "      <th>price_aprox_usd</th>\n",
       "      <th>partido</th>\n",
       "      <th>new_rel2</th>\n",
       "      <th>new_rel5</th>\n",
       "    </tr>\n",
       "  </thead>\n",
       "  <tbody>\n",
       "    <tr>\n",
       "      <th>39834</th>\n",
       "      <td>2</td>\n",
       "      <td>80000.0</td>\n",
       "      <td>13.0</td>\n",
       "      <td>101.998839</td>\n",
       "      <td>100.99942</td>\n",
       "    </tr>\n",
       "  </tbody>\n",
       "</table>\n",
       "</div>"
      ],
      "text/plain": [
       "       property_type  price_aprox_usd  partido    new_rel2   new_rel5\n",
       "39834              2          80000.0     13.0  101.998839  100.99942"
      ]
     },
     "execution_count": 170,
     "metadata": {},
     "output_type": "execute_result"
    }
   ],
   "source": [
    "#load training dataset\n",
    "df_train = reset_train_data()\n",
    "print(df_train.shape)\n",
    "df_train.sample(1)"
   ]
  },
  {
   "cell_type": "code",
   "execution_count": 174,
   "metadata": {},
   "outputs": [
    {
     "data": {
      "text/plain": [
       "array([0, 1, 2, 3])"
      ]
     },
     "execution_count": 174,
     "metadata": {},
     "output_type": "execute_result"
    }
   ],
   "source": [
    "df_train.property_type.unique()"
   ]
  },
  {
   "cell_type": "markdown",
   "metadata": {},
   "source": [
    " **Vamos a realizar las acciones de agrupamiento y evaluacion reutilizando las funciones de los pasos anteriores**\n",
    " \n",
    "     - property_type"
   ]
  },
  {
   "cell_type": "code",
   "execution_count": 178,
   "metadata": {},
   "outputs": [
    {
     "name": "stdout",
     "output_type": "stream",
     "text": [
      "property_type => 0 - cantidad de registros: 3223\n"
     ]
    },
    {
     "data": {
      "text/html": [
       "<div>\n",
       "<style scoped>\n",
       "    .dataframe tbody tr th:only-of-type {\n",
       "        vertical-align: middle;\n",
       "    }\n",
       "\n",
       "    .dataframe tbody tr th {\n",
       "        vertical-align: top;\n",
       "    }\n",
       "\n",
       "    .dataframe thead th {\n",
       "        text-align: right;\n",
       "    }\n",
       "</style>\n",
       "<table border=\"1\" class=\"dataframe\">\n",
       "  <thead>\n",
       "    <tr style=\"text-align: right;\">\n",
       "      <th></th>\n",
       "      <th>price_aprox_usd</th>\n",
       "      <th>new_rel2</th>\n",
       "      <th>new_rel5</th>\n",
       "      <th>dum_partido_0.0</th>\n",
       "      <th>dum_partido_1.0</th>\n",
       "      <th>dum_partido_2.0</th>\n",
       "      <th>dum_partido_3.0</th>\n",
       "      <th>dum_partido_4.0</th>\n",
       "      <th>dum_partido_5.0</th>\n",
       "      <th>dum_partido_6.0</th>\n",
       "      <th>...</th>\n",
       "      <th>dum_partido_405.0</th>\n",
       "      <th>dum_partido_406.0</th>\n",
       "      <th>dum_partido_408.0</th>\n",
       "      <th>dum_partido_415.0</th>\n",
       "      <th>dum_partido_418.0</th>\n",
       "      <th>dum_partido_445.0</th>\n",
       "      <th>dum_partido_505.0</th>\n",
       "      <th>dum_partido_506.0</th>\n",
       "      <th>dum_partido_514.0</th>\n",
       "      <th>dum_partido_534.0</th>\n",
       "    </tr>\n",
       "  </thead>\n",
       "  <tbody>\n",
       "    <tr>\n",
       "      <th>48663</th>\n",
       "      <td>97000.0</td>\n",
       "      <td>43.268262</td>\n",
       "      <td>42.317065</td>\n",
       "      <td>0</td>\n",
       "      <td>0</td>\n",
       "      <td>0</td>\n",
       "      <td>0</td>\n",
       "      <td>0</td>\n",
       "      <td>0</td>\n",
       "      <td>0</td>\n",
       "      <td>...</td>\n",
       "      <td>0</td>\n",
       "      <td>0</td>\n",
       "      <td>0</td>\n",
       "      <td>0</td>\n",
       "      <td>0</td>\n",
       "      <td>0</td>\n",
       "      <td>0</td>\n",
       "      <td>1</td>\n",
       "      <td>0</td>\n",
       "      <td>0</td>\n",
       "    </tr>\n",
       "  </tbody>\n",
       "</table>\n",
       "<p>1 rows × 127 columns</p>\n",
       "</div>"
      ],
      "text/plain": [
       "       price_aprox_usd   new_rel2   new_rel5  dum_partido_0.0  \\\n",
       "48663          97000.0  43.268262  42.317065                0   \n",
       "\n",
       "       dum_partido_1.0  dum_partido_2.0  dum_partido_3.0  dum_partido_4.0  \\\n",
       "48663                0                0                0                0   \n",
       "\n",
       "       dum_partido_5.0  dum_partido_6.0        ...          dum_partido_405.0  \\\n",
       "48663                0                0        ...                          0   \n",
       "\n",
       "       dum_partido_406.0  dum_partido_408.0  dum_partido_415.0  \\\n",
       "48663                  0                  0                  0   \n",
       "\n",
       "       dum_partido_418.0  dum_partido_445.0  dum_partido_505.0  \\\n",
       "48663                  0                  0                  0   \n",
       "\n",
       "       dum_partido_506.0  dum_partido_514.0  dum_partido_534.0  \n",
       "48663                  1                  0                  0  \n",
       "\n",
       "[1 rows x 127 columns]"
      ]
     },
     "execution_count": 178,
     "metadata": {},
     "output_type": "execute_result"
    }
   ],
   "source": [
    "df_train_aux = chunk_df_by_column(df_train,\"property_type\",0)\n",
    "df_train_aux = dummies_creator(df_train_aux,\"partido\")\n",
    "df_train_aux.sample(1)"
   ]
  },
  {
   "cell_type": "code",
   "execution_count": 179,
   "metadata": {},
   "outputs": [
    {
     "data": {
      "text/markdown": [
       "<span style='color:blue'>Evaluando Regresion en property_type: 0</span>"
      ],
      "text/plain": [
       "<IPython.core.display.Markdown object>"
      ]
     },
     "metadata": {},
     "output_type": "display_data"
    },
    {
     "name": "stdout",
     "output_type": "stream",
     "text": [
      "property_type => 0 - cantidad de registros: 3223\n",
      "Model Score: -1.2675649553059269e+17\n"
     ]
    },
    {
     "data": {
      "text/markdown": [
       "<span style='color:blue'>Evaluando Regresion en property_type: 1</span>"
      ],
      "text/plain": [
       "<IPython.core.display.Markdown object>"
      ]
     },
     "metadata": {},
     "output_type": "display_data"
    },
    {
     "name": "stdout",
     "output_type": "stream",
     "text": [
      "property_type => 1 - cantidad de registros: 34005\n",
      "Model Score: -1599742595701422.5\n"
     ]
    },
    {
     "data": {
      "text/markdown": [
       "<span style='color:blue'>Evaluando Regresion en property_type: 2</span>"
      ],
      "text/plain": [
       "<IPython.core.display.Markdown object>"
      ]
     },
     "metadata": {},
     "output_type": "display_data"
    },
    {
     "name": "stdout",
     "output_type": "stream",
     "text": [
      "property_type => 2 - cantidad de registros: 15674\n",
      "Model Score: -4680843721216245.0\n"
     ]
    },
    {
     "data": {
      "text/markdown": [
       "<span style='color:blue'>Evaluando Regresion en property_type: 3</span>"
      ],
      "text/plain": [
       "<IPython.core.display.Markdown object>"
      ]
     },
     "metadata": {},
     "output_type": "display_data"
    },
    {
     "name": "stdout",
     "output_type": "stream",
     "text": [
      "property_type => 3 - cantidad de registros: 254\n",
      "Model Score: -8.208343339040609e+19\n"
     ]
    }
   ],
   "source": [
    "array_property_types = [0, 1, 2, 3]\n",
    "for val in array_property_types:\n",
    "    printmd(\"<span style='color:blue'>Evaluando Regresion en property_type: \"+str(val)+\"</span>\")\n",
    "    df_train_aux = chunk_df_by_column(df_train,\"property_type\",val)\n",
    "    df_train_aux = dummies_creator(df_train_aux,\"partido\")\n",
    "    lreg_score(df_train_aux)"
   ]
  },
  {
   "cell_type": "markdown",
   "metadata": {},
   "source": [
    "| <span style='color:brown;font-weight:bold;aling:center;font-size:15px'>Resultado</span> |    |\n",
    "|------|------|\n",
    "| !!!  |<span style='color:crimson;font-size:13px'>Los resultados obtenidos no mejoran el puntaje del modelo</span>|"
   ]
  },
  {
   "cell_type": "markdown",
   "metadata": {},
   "source": [
    "### Analisis de model score agrupando por provincia\n",
    "Los pasos que vamos a realizar son los siguientes:\n",
    "* Reset de df_train\n",
    "* Reincorporo la columna provincias\n",
    "* Con la columna new_rel2 evaluamos el model score sobre cada provincia seleccionada"
   ]
  },
  {
   "cell_type": "markdown",
   "metadata": {},
   "source": [
    "#### Reseteo df_train"
   ]
  },
  {
   "cell_type": "code",
   "execution_count": 8,
   "metadata": {},
   "outputs": [
    {
     "name": "stdout",
     "output_type": "stream",
     "text": [
      "(53156, 5)\n"
     ]
    },
    {
     "data": {
      "text/html": [
       "<div>\n",
       "<style scoped>\n",
       "    .dataframe tbody tr th:only-of-type {\n",
       "        vertical-align: middle;\n",
       "    }\n",
       "\n",
       "    .dataframe tbody tr th {\n",
       "        vertical-align: top;\n",
       "    }\n",
       "\n",
       "    .dataframe thead th {\n",
       "        text-align: right;\n",
       "    }\n",
       "</style>\n",
       "<table border=\"1\" class=\"dataframe\">\n",
       "  <thead>\n",
       "    <tr style=\"text-align: right;\">\n",
       "      <th></th>\n",
       "      <th>property_type</th>\n",
       "      <th>price_aprox_usd</th>\n",
       "      <th>partido</th>\n",
       "      <th>new_rel2</th>\n",
       "      <th>new_rel5</th>\n",
       "    </tr>\n",
       "  </thead>\n",
       "  <tbody>\n",
       "    <tr>\n",
       "      <th>1509</th>\n",
       "      <td>2</td>\n",
       "      <td>103000.0</td>\n",
       "      <td>13.0</td>\n",
       "      <td>4.0</td>\n",
       "      <td>3.333333</td>\n",
       "    </tr>\n",
       "  </tbody>\n",
       "</table>\n",
       "</div>"
      ],
      "text/plain": [
       "      property_type  price_aprox_usd  partido  new_rel2  new_rel5\n",
       "1509              2         103000.0     13.0       4.0  3.333333"
      ]
     },
     "execution_count": 8,
     "metadata": {},
     "output_type": "execute_result"
    }
   ],
   "source": [
    "#load training dataset\n",
    "df_train = reset_train_data()\n",
    "print(df_train.shape)\n",
    "df_train.sample(1)"
   ]
  },
  {
   "cell_type": "markdown",
   "metadata": {},
   "source": [
    "#### Reincorporo la columna provincia"
   ]
  },
  {
   "cell_type": "code",
   "execution_count": 195,
   "metadata": {},
   "outputs": [
    {
     "name": "stdout",
     "output_type": "stream",
     "text": [
      "cant_reg antes:  53156\n",
      "cant_reg luego:  53156\n"
     ]
    },
    {
     "data": {
      "text/html": [
       "<div>\n",
       "<style scoped>\n",
       "    .dataframe tbody tr th:only-of-type {\n",
       "        vertical-align: middle;\n",
       "    }\n",
       "\n",
       "    .dataframe tbody tr th {\n",
       "        vertical-align: top;\n",
       "    }\n",
       "\n",
       "    .dataframe thead th {\n",
       "        text-align: right;\n",
       "    }\n",
       "</style>\n",
       "<table border=\"1\" class=\"dataframe\">\n",
       "  <thead>\n",
       "    <tr style=\"text-align: right;\">\n",
       "      <th></th>\n",
       "      <th>property_type</th>\n",
       "      <th>price_aprox_usd</th>\n",
       "      <th>partido</th>\n",
       "      <th>new_rel2</th>\n",
       "      <th>new_rel5</th>\n",
       "      <th>provincia</th>\n",
       "    </tr>\n",
       "  </thead>\n",
       "  <tbody>\n",
       "    <tr>\n",
       "      <th>50167</th>\n",
       "      <td>1</td>\n",
       "      <td>295000.0</td>\n",
       "      <td>133.0</td>\n",
       "      <td>141.000000</td>\n",
       "      <td>140.200000</td>\n",
       "      <td>0.0</td>\n",
       "    </tr>\n",
       "    <tr>\n",
       "      <th>7425</th>\n",
       "      <td>1</td>\n",
       "      <td>91000.0</td>\n",
       "      <td>144.0</td>\n",
       "      <td>42.146341</td>\n",
       "      <td>41.573171</td>\n",
       "      <td>2.0</td>\n",
       "    </tr>\n",
       "  </tbody>\n",
       "</table>\n",
       "</div>"
      ],
      "text/plain": [
       "       property_type  price_aprox_usd  partido    new_rel2    new_rel5  \\\n",
       "50167              1         295000.0    133.0  141.000000  140.200000   \n",
       "7425               1          91000.0    144.0   42.146341   41.573171   \n",
       "\n",
       "       provincia  \n",
       "50167        0.0  \n",
       "7425         2.0  "
      ]
     },
     "execution_count": 195,
     "metadata": {},
     "output_type": "execute_result"
    }
   ],
   "source": [
    "### Cargar dataset inicial\n",
    "df_principal = feather.read_dataframe(\"Data/principal.feather\")\n",
    "df_principal.sample(1)\n",
    "df_principal_provincias = df_principal.provincia\n",
    "df_train = df_train.merge(pd.DataFrame(df_principal_provincias), left_index=True, right_index=True)\n",
    "columnas_principales_train = ['price_aprox_usd','partido','new_rel2','new_rel5','provincia']\n",
    "print(\"cant_reg antes: \",len(df_train))\n",
    "df_train = df_train.dropna(axis =0 , how = 'any', subset = columnas_principales_train)\n",
    "print(\"cant_reg luego: \",len(df_train))\n",
    "df_train.sample(2)"
   ]
  },
  {
   "cell_type": "markdown",
   "metadata": {},
   "source": [
    "#### Reviso que partido tiene mayor cantidad de datos para realizar un training por provincia"
   ]
  },
  {
   "cell_type": "code",
   "execution_count": 197,
   "metadata": {},
   "outputs": [
    {
     "data": {
      "text/plain": [
       "5.0     14018\n",
       "0.0     12134\n",
       "3.0      6396\n",
       "1.0      5823\n",
       "24.0     3989\n",
       "2.0      3784\n",
       "Name: provincia, dtype: int64"
      ]
     },
     "execution_count": 197,
     "metadata": {},
     "output_type": "execute_result"
    }
   ],
   "source": [
    "df_train['provincia'].value_counts(ascending=False).head(6)"
   ]
  },
  {
   "cell_type": "markdown",
   "metadata": {},
   "source": [
    "****(Opcional)Recupero algunas provincias para saber a que hacen referencia****"
   ]
  },
  {
   "cell_type": "code",
   "execution_count": 199,
   "metadata": {},
   "outputs": [
    {
     "name": "stdout",
     "output_type": "stream",
     "text": [
      "5 es:  capital federal\n",
      "0 es:  bs.as. g.b.a. zona norte\n",
      "3 es:  buenos aires costa atlántica\n",
      "1 es:  bs.as. g.b.a. zona oeste\n"
     ]
    }
   ],
   "source": [
    "df_provincias = feather.read_dataframe('Data/provincias.feather')\n",
    "print(\"5 es: \",df_provincias.iloc[5].nombre)\n",
    "print(\"0 es: \",df_provincias.iloc[0].nombre)\n",
    "print(\"3 es: \",df_provincias.iloc[3].nombre)\n",
    "print(\"1 es: \",df_provincias.iloc[1].nombre)"
   ]
  },
  {
   "cell_type": "markdown",
   "metadata": {},
   "source": [
    "****En la siguiente ejecucion se itera un conjunto de provincias y se evalua su model score****\n",
    "* Se utilizan las funciones anteriormente mencionadas para ejecutar este paso"
   ]
  },
  {
   "cell_type": "code",
   "execution_count": 202,
   "metadata": {},
   "outputs": [
    {
     "data": {
      "text/markdown": [
       "<span style='color:blue'>Evaluando Regresion en provincia: 5</span>"
      ],
      "text/plain": [
       "<IPython.core.display.Markdown object>"
      ]
     },
     "metadata": {},
     "output_type": "display_data"
    },
    {
     "name": "stdout",
     "output_type": "stream",
     "text": [
      "provincia => 5 - cantidad de registros: 14018\n",
      "Model Score: -254279756823236.1\n"
     ]
    },
    {
     "data": {
      "text/markdown": [
       "<span style='color:blue'>Evaluando Regresion en provincia: 0</span>"
      ],
      "text/plain": [
       "<IPython.core.display.Markdown object>"
      ]
     },
     "metadata": {},
     "output_type": "display_data"
    },
    {
     "name": "stdout",
     "output_type": "stream",
     "text": [
      "provincia => 0 - cantidad de registros: 12134\n",
      "Model Score: -4500925259866578.0\n"
     ]
    },
    {
     "data": {
      "text/markdown": [
       "<span style='color:blue'>Evaluando Regresion en provincia: 3</span>"
      ],
      "text/plain": [
       "<IPython.core.display.Markdown object>"
      ]
     },
     "metadata": {},
     "output_type": "display_data"
    },
    {
     "name": "stdout",
     "output_type": "stream",
     "text": [
      "provincia => 3 - cantidad de registros: 6396\n",
      "Model Score: -4399173637111825.5\n"
     ]
    },
    {
     "data": {
      "text/markdown": [
       "<span style='color:blue'>Evaluando Regresion en provincia: 1</span>"
      ],
      "text/plain": [
       "<IPython.core.display.Markdown object>"
      ]
     },
     "metadata": {},
     "output_type": "display_data"
    },
    {
     "name": "stdout",
     "output_type": "stream",
     "text": [
      "provincia => 1 - cantidad de registros: 5823\n",
      "Model Score: -163734667146396.12\n"
     ]
    },
    {
     "data": {
      "text/markdown": [
       "<span style='color:blue'>Evaluando Regresion en provincia: 24</span>"
      ],
      "text/plain": [
       "<IPython.core.display.Markdown object>"
      ]
     },
     "metadata": {},
     "output_type": "display_data"
    },
    {
     "name": "stdout",
     "output_type": "stream",
     "text": [
      "provincia => 24 - cantidad de registros: 3989\n",
      "Model Score: -28826580150279.77\n"
     ]
    },
    {
     "data": {
      "text/markdown": [
       "<span style='color:blue'>Evaluando Regresion en provincia: 2</span>"
      ],
      "text/plain": [
       "<IPython.core.display.Markdown object>"
      ]
     },
     "metadata": {},
     "output_type": "display_data"
    },
    {
     "name": "stdout",
     "output_type": "stream",
     "text": [
      "provincia => 2 - cantidad de registros: 3784\n",
      "Model Score: -179526209848384.8\n"
     ]
    }
   ],
   "source": [
    "from IPython.display import Markdown, display\n",
    "def printmd(string):\n",
    "    display(Markdown(string))\n",
    "\n",
    "array_provincias = [5,0,3,1,24,2]\n",
    "for val in array_provincias:\n",
    "    printmd(\"<span style='color:blue'>Evaluando Regresion en provincia: \"+str(val)+\"</span>\")\n",
    "    df_train_aux = chunk_df_by_column(df_train,\"provincia\",val)\n",
    "    df_train_aux = dummies_creator(df_train_aux,\"partido\")\n",
    "    df_train_aux = dummies_creator(df_train_aux,\"property_type\")\n",
    "    lreg_score(df_train_aux)"
   ]
  },
  {
   "cell_type": "markdown",
   "metadata": {},
   "source": [
    "| <span style='color:brown;font-weight:bold;aling:center;font-size:15px'>Resultado</span> |    |\n",
    "|------|------|\n",
    "| !!!  |<span style='color:crimson;font-size:13px'>Los resultados obtenidos no mejoran el puntaje del modelo</span>|"
   ]
  },
  {
   "cell_type": "markdown",
   "metadata": {},
   "source": [
    "## Modelanding\n",
    "\n",
    "##### Reseteo df_train"
   ]
  },
  {
   "cell_type": "code",
   "execution_count": 7,
   "metadata": {},
   "outputs": [
    {
     "name": "stdout",
     "output_type": "stream",
     "text": [
      "(53156, 5)\n"
     ]
    },
    {
     "data": {
      "text/html": [
       "<div>\n",
       "<style scoped>\n",
       "    .dataframe tbody tr th:only-of-type {\n",
       "        vertical-align: middle;\n",
       "    }\n",
       "\n",
       "    .dataframe tbody tr th {\n",
       "        vertical-align: top;\n",
       "    }\n",
       "\n",
       "    .dataframe thead th {\n",
       "        text-align: right;\n",
       "    }\n",
       "</style>\n",
       "<table border=\"1\" class=\"dataframe\">\n",
       "  <thead>\n",
       "    <tr style=\"text-align: right;\">\n",
       "      <th></th>\n",
       "      <th>property_type</th>\n",
       "      <th>price_aprox_usd</th>\n",
       "      <th>partido</th>\n",
       "      <th>new_rel2</th>\n",
       "      <th>new_rel5</th>\n",
       "    </tr>\n",
       "  </thead>\n",
       "  <tbody>\n",
       "    <tr>\n",
       "      <th>18405</th>\n",
       "      <td>2</td>\n",
       "      <td>230000.0</td>\n",
       "      <td>8.0</td>\n",
       "      <td>91.0</td>\n",
       "      <td>90.333333</td>\n",
       "    </tr>\n",
       "  </tbody>\n",
       "</table>\n",
       "</div>"
      ],
      "text/plain": [
       "       property_type  price_aprox_usd  partido  new_rel2   new_rel5\n",
       "18405              2         230000.0      8.0      91.0  90.333333"
      ]
     },
     "execution_count": 7,
     "metadata": {},
     "output_type": "execute_result"
    }
   ],
   "source": [
    "#load training dataset\n",
    "df_train = reset_train_data()\n",
    "print(df_train.shape)\n",
    "df_train.sample(1)"
   ]
  },
  {
   "cell_type": "code",
   "execution_count": 11,
   "metadata": {},
   "outputs": [
    {
     "name": "stderr",
     "output_type": "stream",
     "text": [
      "/opt/conda/lib/python3.6/site-packages/scipy/stats/stats.py:1713: FutureWarning:\n",
      "\n",
      "Using a non-tuple sequence for multidimensional indexing is deprecated; use `arr[tuple(seq)]` instead of `arr[seq]`. In the future this will be interpreted as an array index, `arr[np.array(seq)]`, which will result either in an error or a different result.\n",
      "\n"
     ]
    },
    {
     "data": {
      "text/plain": [
       "<matplotlib.axes._subplots.AxesSubplot at 0x7f1794454518>"
      ]
     },
     "execution_count": 11,
     "metadata": {},
     "output_type": "execute_result"
    },
    {
     "data": {
      "image/png": "[encoded data removed]",
      "text/plain": [
       "<Figure size 432x288 with 1 Axes>"
      ]
     },
     "metadata": {},
     "output_type": "display_data"
    }
   ],
   "source": [
    "sns.distplot(df_train['price_aprox_usd'])"
   ]
  },
  {
   "cell_type": "markdown",
   "metadata": {},
   "source": [
    "#### Reincorporo provincia"
   ]
  },
  {
   "cell_type": "code",
   "execution_count": 341,
   "metadata": {},
   "outputs": [
    {
     "name": "stdout",
     "output_type": "stream",
     "text": [
      "cant_reg luego:  53156\n"
     ]
    },
    {
     "data": {
      "text/html": [
       "<div>\n",
       "<style scoped>\n",
       "    .dataframe tbody tr th:only-of-type {\n",
       "        vertical-align: middle;\n",
       "    }\n",
       "\n",
       "    .dataframe tbody tr th {\n",
       "        vertical-align: top;\n",
       "    }\n",
       "\n",
       "    .dataframe thead th {\n",
       "        text-align: right;\n",
       "    }\n",
       "</style>\n",
       "<table border=\"1\" class=\"dataframe\">\n",
       "  <thead>\n",
       "    <tr style=\"text-align: right;\">\n",
       "      <th></th>\n",
       "      <th>property_type</th>\n",
       "      <th>price_aprox_usd</th>\n",
       "      <th>partido</th>\n",
       "      <th>new_rel2</th>\n",
       "      <th>new_rel5</th>\n",
       "      <th>provincia</th>\n",
       "    </tr>\n",
       "  </thead>\n",
       "  <tbody>\n",
       "    <tr>\n",
       "      <th>27670</th>\n",
       "      <td>1</td>\n",
       "      <td>124672.0</td>\n",
       "      <td>168.0</td>\n",
       "      <td>47.108696</td>\n",
       "      <td>46.554348</td>\n",
       "      <td>10.0</td>\n",
       "    </tr>\n",
       "  </tbody>\n",
       "</table>\n",
       "</div>"
      ],
      "text/plain": [
       "       property_type  price_aprox_usd  partido   new_rel2   new_rel5  \\\n",
       "27670              1         124672.0    168.0  47.108696  46.554348   \n",
       "\n",
       "       provincia  \n",
       "27670       10.0  "
      ]
     },
     "execution_count": 341,
     "metadata": {},
     "output_type": "execute_result"
    }
   ],
   "source": [
    "### Cargar dataset inicial\n",
    "# df_principal = feather.read_dataframe(\"Data/principal.feather\")\n",
    "# df_principal.sample(1)\n",
    "# df_principal_provincias = df_principal.provincia\n",
    "# df_train = df_train.merge(pd.DataFrame(df_principal_provincias), left_index=True, right_index=True)\n",
    "# columnas_principales_train = ['price_aprox_usd','partido','new_rel2','new_rel5','provincia']\n",
    "# df_train = df_train.dropna(axis =0 , how = 'any', subset = columnas_principales_train)\n",
    "# print(\"cant_reg luego: \",len(df_train))\n",
    "# df_train.sample(1)"
   ]
  },
  {
   "cell_type": "markdown",
   "metadata": {},
   "source": [
    "#### Verificar este paso --------------------------DIVIDIR EN CAPITAL----------------------------------------------------------"
   ]
  },
  {
   "cell_type": "code",
   "execution_count": 345,
   "metadata": {},
   "outputs": [],
   "source": [
    "# Recuperar provincias y realizar chunk solo para capital federal\n",
    "#### Solo evaluaremos para capital federal [5]:\n",
    "# df_train = chunk_df_by_column(df_train,\"provincia\",5)\n",
    "# print(len(df_train))\n",
    "# df_train.sample(1)"
   ]
  },
  {
   "cell_type": "markdown",
   "metadata": {},
   "source": [
    "#### Genero dummies y datos de train y test\n",
    "- Se genera X_train, X_test, y_train, y_test"
   ]
  },
  {
   "cell_type": "code",
   "execution_count": 8,
   "metadata": {},
   "outputs": [
    {
     "name": "stdout",
     "output_type": "stream",
     "text": [
      "X_train count: 39867 X_test count: 13289\n"
     ]
    }
   ],
   "source": [
    "#### *partido dummies\n",
    "df_train = dummies_creator(df_train,\"partido\")\n",
    "#### *property_type dummies\n",
    "df_train = dummies_creator(df_train,\"property_type\")\n",
    "### Cargar\n",
    "X = df_train.drop(['price_aprox_usd','new_rel5'], axis = 1)\n",
    "y = df_train['price_aprox_usd']\n",
    "# Train y Test\n",
    "X_train, X_test, y_train, y_test = train_test_split(X, y, test_size=0.25, random_state=1)\n",
    "print(\"X_train count:\",len(X_train),\"X_test count:\",len(X_test))"
   ]
  },
  {
   "cell_type": "markdown",
   "metadata": {},
   "source": [
    "#### Vuelvo a probar Linear Reggression simple para verificar que los datos esten ok"
   ]
  },
  {
   "cell_type": "code",
   "execution_count": 14,
   "metadata": {},
   "outputs": [
    {
     "name": "stdout",
     "output_type": "stream",
     "text": [
      "Model Score: 0.5368434879610611\n"
     ]
    }
   ],
   "source": [
    "def lreg_simple_score(X_train, X_test, y_train, y_test):\n",
    "    lm = LinearRegression()\n",
    "    model = lm.fit(X_train, y_train)\n",
    "#     predictions = lm.predict(X_train)\n",
    "    model_score = model.score(X_test, y_test)\n",
    "    print('Model Score:',model_score)\n",
    "    return model\n",
    "    \n",
    "model_regl = lreg_simple_score(X_train, X_test, y_train, y_test)"
   ]
  },
  {
   "cell_type": "markdown",
   "metadata": {},
   "source": [
    "#### Regresion Ridge (Sin normalizar features)"
   ]
  },
  {
   "cell_type": "code",
   "execution_count": 15,
   "metadata": {},
   "outputs": [
    {
     "name": "stdout",
     "output_type": "stream",
     "text": [
      "Model Score(RidgeCV): 0.5375864840760587\n",
      "Best alpha (RidgeCV): 1.0083\n"
     ]
    }
   ],
   "source": [
    "#definimos CV con un random antes de hacer cada particion\n",
    "CVL = KFold(n_splits=5, shuffle=True)\n",
    "def lreg_ridgecv_score(X_train, X_test, y_train, y_test, alfas_ridge):\n",
    "    lm_ridge =  RidgeCV(alphas= alfas_ridge, cv=CVL, normalize=False, fit_intercept = True)\n",
    "    model_ridge = lm_ridge.fit(X_train, y_train)\n",
    "#     predictions_ridge = lm_ridge.predict(X_train)\n",
    "    model_score_ridge = model_ridge.score(X_test, y_test)\n",
    "    print('Model Score(RidgeCV):', model_score_ridge)\n",
    "    print('Best alpha (RidgeCV):', model_ridge.alpha_)\n",
    "    return model_ridge\n",
    "\n",
    "# alfas_ridge = np.linspace(0.8, 1.2, 10)\n",
    "alfas_ridge = [1.0083]\n",
    "model_ridge_cv = lreg_ridgecv_score(X_train, X_test, y_train, y_test, alfas_ridge)"
   ]
  },
  {
   "cell_type": "markdown",
   "metadata": {},
   "source": [
    "#### Evalúo con Elastic Net. Para ello debo tener normalizadas las features"
   ]
  },
  {
   "cell_type": "markdown",
   "metadata": {},
   "source": [
    "### Elastic Net\n",
    "***La siguiente funcion lreg_elastic_score permite obtener un model con elastic net e imprimir su score***"
   ]
  },
  {
   "cell_type": "code",
   "execution_count": 49,
   "metadata": {},
   "outputs": [],
   "source": [
    "def lreg_elastic_score(X_train, X_test, y_train, y_test):\n",
    "    lm_elastic =  ElasticNetCV(l1_ratio= [.1, .5, .7, .9, .95, .99, 1],cv = 5)\n",
    "    model_elastic = lm_elastic.fit(X_train, y_train)\n",
    "    predictions_en = lm_elastic.predict(X_train)\n",
    "    model_score_elastic = model_elastic.score(X_test, y_test)\n",
    "    print('Model Score(Elastic):', model_score_elastic)\n",
    "    return model_elastic"
   ]
  },
  {
   "cell_type": "code",
   "execution_count": 18,
   "metadata": {},
   "outputs": [],
   "source": [
    "#reviso la varianza para ver si es necesario normalizar\n",
    "# print([X[col].var() for col in X.columns])"
   ]
  },
  {
   "cell_type": "markdown",
   "metadata": {},
   "source": [
    "#### Normalizacion de variables en df_train"
   ]
  },
  {
   "cell_type": "code",
   "execution_count": 9,
   "metadata": {},
   "outputs": [
    {
     "name": "stdout",
     "output_type": "stream",
     "text": [
      "Media:  2.5664874194058852e-17 - Desvio: 1.0\n"
     ]
    }
   ],
   "source": [
    "# Vuelvo a generar X e y\n",
    "X = df_train.drop(['price_aprox_usd','new_rel5'], axis = 1)\n",
    "y = df_train['price_aprox_usd']\n",
    "\n",
    "# Normalizamos con standard scaler\n",
    "std_scaler = StandardScaler()\n",
    "X_norm = std_scaler.fit_transform(X)\n",
    "X_mean = np.mean(X_norm[:,1])\n",
    "X_std = np.std(X_norm[:,1])\n",
    "print(\"Media: \",X_mean,\"- Desvio:\",X_std)"
   ]
  },
  {
   "cell_type": "code",
   "execution_count": 10,
   "metadata": {},
   "outputs": [],
   "source": [
    "# Volvemos a hacer split para train y test\n",
    "X_train_norm, X_test_norm, y_train, y_test = train_test_split(X_norm, y, test_size=0.25, random_state=1)"
   ]
  },
  {
   "cell_type": "code",
   "execution_count": 19,
   "metadata": {},
   "outputs": [
    {
     "name": "stdout",
     "output_type": "stream",
     "text": [
      "Model Score(Elastic): 0.5367928584627719\n"
     ]
    }
   ],
   "source": [
    "# Utilizo funcion de elastic\n",
    "lreg_elastic_score(X_train_norm, X_test_norm, y_train, y_test)"
   ]
  },
  {
   "cell_type": "markdown",
   "metadata": {},
   "source": [
    "### OLS"
   ]
  },
  {
   "cell_type": "code",
   "execution_count": 11,
   "metadata": {},
   "outputs": [
    {
     "name": "stdout",
     "output_type": "stream",
     "text": [
      "                            OLS Regression Results                            \n",
      "==============================================================================\n",
      "Dep. Variable:        price_aprox_usd   R-squared:                       0.539\n",
      "Model:                            OLS   Adj. R-squared:                  0.536\n",
      "Method:                 Least Squares   F-statistic:                     169.1\n",
      "Date:                Fri, 12 Jul 2019   Prob (F-statistic):               0.00\n",
      "Time:                        00:32:07   Log-Likelihood:            -6.8523e+05\n",
      "No. Observations:               53156   AIC:                         1.371e+06\n",
      "Df Residuals:                   52790   BIC:                         1.374e+06\n",
      "Df Model:                         365                                         \n",
      "Covariance Type:            nonrobust                                         \n",
      "=======================================================================================\n",
      "                          coef    std err          t      P>|t|      [0.025      0.975]\n",
      "---------------------------------------------------------------------------------------\n",
      "const                1.892e+05    480.023    394.128      0.000    1.88e+05     1.9e+05\n",
      "new_rel2             8.644e+04    622.249    138.919      0.000    8.52e+04    8.77e+04\n",
      "dum_partido_0.0      4.818e+14   9.11e+15      0.053      0.958   -1.74e+16    1.83e+16\n",
      "dum_partido_1.0       5.16e+14   9.76e+15      0.053      0.958   -1.86e+16    1.96e+16\n",
      "dum_partido_2.0      1.432e+14   2.71e+15      0.053      0.958   -5.17e+15    5.45e+15\n",
      "dum_partido_3.0      2.328e+14    4.4e+15      0.053      0.958    -8.4e+15    8.86e+15\n",
      "dum_partido_4.0      6.027e+14   1.14e+16      0.053      0.958   -2.17e+16    2.29e+16\n",
      "dum_partido_5.0      3.975e+14   7.52e+15      0.053      0.958   -1.43e+16    1.51e+16\n",
      "dum_partido_6.0        6.4e+14   1.21e+16      0.053      0.958   -2.31e+16    2.44e+16\n",
      "dum_partido_7.0      4.319e+14   8.17e+15      0.053      0.958   -1.56e+16    1.64e+16\n",
      "dum_partido_8.0      1.065e+15   2.01e+16      0.053      0.958   -3.84e+16    4.05e+16\n",
      "dum_partido_9.0      7.657e+14   1.45e+16      0.053      0.958   -2.76e+16    2.92e+16\n",
      "dum_partido_11.0     1.391e+14   2.63e+15      0.053      0.958   -5.02e+15     5.3e+15\n",
      "dum_partido_12.0     1.501e+14   2.84e+15      0.053      0.958   -5.41e+15    5.71e+15\n",
      "dum_partido_13.0     4.355e+14   8.24e+15      0.053      0.958   -1.57e+16    1.66e+16\n",
      "dum_partido_14.0     6.271e+14   1.19e+16      0.053      0.958   -2.26e+16    2.39e+16\n",
      "dum_partido_15.0     1.115e+14   2.11e+15      0.053      0.958   -4.02e+15    4.24e+15\n",
      "dum_partido_16.0     2.309e+14   4.37e+15      0.053      0.958   -8.33e+15    8.79e+15\n",
      "dum_partido_17.0     2.967e+14   5.61e+15      0.053      0.958   -1.07e+16    1.13e+16\n",
      "dum_partido_18.0     6.156e+14   1.16e+16      0.053      0.958   -2.22e+16    2.34e+16\n",
      "dum_partido_19.0     4.835e+14   9.14e+15      0.053      0.958   -1.74e+16    1.84e+16\n",
      "dum_partido_20.0     3.996e+14   7.56e+15      0.053      0.958   -1.44e+16    1.52e+16\n",
      "dum_partido_21.0     3.359e+14   6.35e+15      0.053      0.958   -1.21e+16    1.28e+16\n",
      "dum_partido_22.0     2.534e+14   4.79e+15      0.053      0.958   -9.14e+15    9.65e+15\n",
      "dum_partido_23.0     7.214e+13   1.36e+15      0.053      0.958    -2.6e+15    2.75e+15\n",
      "dum_partido_24.0     2.557e+14   4.84e+15      0.053      0.958   -9.22e+15    9.73e+15\n",
      "dum_partido_25.0     2.563e+14   4.85e+15      0.053      0.958   -9.24e+15    9.76e+15\n",
      "dum_partido_26.0     7.214e+13   1.36e+15      0.053      0.958    -2.6e+15    2.75e+15\n",
      "dum_partido_27.0     4.643e+14   8.78e+15      0.053      0.958   -1.67e+16    1.77e+16\n",
      "dum_partido_28.0     5.238e+14   9.91e+15      0.053      0.958   -1.89e+16    1.99e+16\n",
      "dum_partido_29.0     6.738e+14   1.27e+16      0.053      0.958   -2.43e+16    2.57e+16\n",
      "dum_partido_30.0     1.115e+14   2.11e+15      0.053      0.958   -4.02e+15    4.24e+15\n",
      "dum_partido_31.0     3.553e+14   6.72e+15      0.053      0.958   -1.28e+16    1.35e+16\n",
      "dum_partido_32.0     1.115e+14   2.11e+15      0.053      0.958   -4.02e+15    4.24e+15\n",
      "dum_partido_33.0     5.378e+13   1.02e+15      0.053      0.958   -1.94e+15    2.05e+15\n",
      "dum_partido_34.0     1.701e+13   3.22e+14      0.053      0.958   -6.13e+14    6.47e+14\n",
      "dum_partido_35.0      8.33e+13   1.58e+15      0.053      0.958      -3e+15    3.17e+15\n",
      "dum_partido_36.0     2.946e+13   5.57e+14      0.053      0.958   -1.06e+15    1.12e+15\n",
      "dum_partido_37.0     5.378e+13   1.02e+15      0.053      0.958   -1.94e+15    2.05e+15\n",
      "dum_partido_38.0     4.499e+13   8.51e+14      0.053      0.958   -1.62e+15    1.71e+15\n",
      "dum_partido_39.0     4.166e+13   7.88e+14      0.053      0.958    -1.5e+15    1.59e+15\n",
      "dum_partido_40.0     1.585e+14      3e+15      0.053      0.958   -5.72e+15    6.03e+15\n",
      "dum_partido_41.0     1.701e+13   3.22e+14      0.053      0.958   -6.13e+14    6.47e+14\n",
      "dum_partido_42.0     3.803e+13   7.19e+14      0.053      0.958   -1.37e+15    1.45e+15\n",
      "dum_partido_43.0     2.405e+13   4.55e+14      0.053      0.958   -8.68e+14    9.16e+14\n",
      "dum_partido_44.0     4.166e+13   7.88e+14      0.053      0.958    -1.5e+15    1.59e+15\n",
      "dum_partido_45.0     7.412e+13    1.4e+15      0.053      0.958   -2.67e+15    2.82e+15\n",
      "dum_partido_46.0     3.803e+13   7.19e+14      0.053      0.958   -1.37e+15    1.45e+15\n",
      "dum_partido_47.0     1.115e+14   2.11e+15      0.053      0.958   -4.02e+15    4.24e+15\n",
      "dum_partido_48.0     1.701e+13   3.22e+14      0.053      0.958   -6.13e+14    6.47e+14\n",
      "dum_partido_49.0     9.313e+13   1.76e+15      0.053      0.958   -3.36e+15    3.55e+15\n",
      "dum_partido_50.0      1.09e+15   2.06e+16      0.053      0.958   -3.93e+16    4.15e+16\n",
      "dum_partido_51.0     3.401e+13   6.43e+14      0.053      0.958   -1.23e+15    1.29e+15\n",
      "dum_partido_52.0      4.81e+13    9.1e+14      0.053      0.958   -1.73e+15    1.83e+15\n",
      "dum_partido_53.0     1.422e+14   2.69e+15      0.053      0.958   -5.13e+15    5.41e+15\n",
      "dum_partido_54.0      8.33e+13   1.58e+15      0.053      0.958      -3e+15    3.17e+15\n",
      "dum_partido_55.0     6.363e+13    1.2e+15      0.053      0.958   -2.29e+15    2.42e+15\n",
      "dum_partido_56.0     3.401e+13   6.43e+14      0.053      0.958   -1.23e+15    1.29e+15\n",
      "dum_partido_57.0     4.499e+13   8.51e+14      0.053      0.958   -1.62e+15    1.71e+15\n",
      "dum_partido_58.0     1.701e+13   3.22e+14      0.053      0.958   -6.13e+14    6.47e+14\n",
      "dum_partido_59.0     3.946e+14   7.46e+15      0.053      0.958   -1.42e+16     1.5e+16\n",
      "dum_partido_60.0     2.946e+13   5.57e+14      0.053      0.958   -1.06e+15    1.12e+15\n",
      "dum_partido_61.0     1.701e+13   3.22e+14      0.053      0.958   -6.13e+14    6.47e+14\n",
      "dum_partido_62.0     1.548e+14   2.93e+15      0.053      0.958   -5.58e+15    5.89e+15\n",
      "dum_partido_63.0     4.166e+13   7.88e+14      0.053      0.958    -1.5e+15    1.59e+15\n",
      "dum_partido_64.0     6.131e+13   1.16e+15      0.053      0.958   -2.21e+15    2.33e+15\n",
      "dum_partido_65.0     7.605e+13   1.44e+15      0.053      0.958   -2.74e+15    2.89e+15\n",
      "dum_partido_66.0     1.006e+14    1.9e+15      0.053      0.958   -3.63e+15    3.83e+15\n",
      "dum_partido_67.0     2.253e+14   4.26e+15      0.053      0.958   -8.12e+15    8.58e+15\n",
      "dum_partido_69.0     4.499e+13   8.51e+14      0.053      0.958   -1.62e+15    1.71e+15\n",
      "dum_partido_70.0     2.667e+14   5.04e+15      0.053      0.958   -9.62e+15    1.02e+16\n",
      "dum_partido_71.0     8.502e+13   1.61e+15      0.053      0.958   -3.07e+15    3.24e+15\n",
      "dum_partido_72.0     2.405e+13   4.55e+14      0.053      0.958   -8.68e+14    9.16e+14\n",
      "dum_partido_73.0      4.81e+13    9.1e+14      0.053      0.958   -1.73e+15    1.83e+15\n",
      "dum_partido_74.0     4.166e+13   7.88e+14      0.053      0.958    -1.5e+15    1.59e+15\n",
      "dum_partido_75.0     5.378e+13   1.02e+15      0.053      0.958   -1.94e+15    2.05e+15\n",
      "dum_partido_76.0     2.946e+13   5.57e+14      0.053      0.958   -1.06e+15    1.12e+15\n",
      "dum_partido_77.0     3.803e+13   7.19e+14      0.053      0.958   -1.37e+15    1.45e+15\n",
      "dum_partido_79.0     7.214e+13   1.36e+15      0.053      0.958    -2.6e+15    2.75e+15\n",
      "dum_partido_80.0     2.946e+13   5.57e+14      0.053      0.958   -1.06e+15    1.12e+15\n",
      "dum_partido_81.0     2.405e+13   4.55e+14      0.053      0.958   -8.68e+14    9.16e+14\n",
      "dum_partido_82.0     5.378e+13   1.02e+15      0.053      0.958   -1.94e+15    2.05e+15\n",
      "dum_partido_83.0     2.946e+13   5.57e+14      0.053      0.958   -1.06e+15    1.12e+15\n",
      "dum_partido_84.0     5.378e+13   1.02e+15      0.053      0.958   -1.94e+15    2.05e+15\n",
      "dum_partido_85.0     3.803e+13   7.19e+14      0.053      0.958   -1.37e+15    1.45e+15\n",
      "dum_partido_86.0     1.701e+13   3.22e+14      0.053      0.958   -6.13e+14    6.47e+14\n",
      "dum_partido_87.0     1.701e+13   3.22e+14      0.053      0.958   -6.13e+14    6.47e+14\n",
      "dum_partido_88.0     4.166e+13   7.88e+14      0.053      0.958    -1.5e+15    1.59e+15\n",
      "dum_partido_90.0     4.499e+13   8.51e+14      0.053      0.958   -1.62e+15    1.71e+15\n",
      "dum_partido_93.0     1.452e+14   2.75e+15      0.053      0.958   -5.24e+15    5.53e+15\n",
      "dum_partido_95.0     3.401e+13   6.43e+14      0.053      0.958   -1.23e+15    1.29e+15\n",
      "dum_partido_97.0     1.701e+13   3.22e+14      0.053      0.958   -6.13e+14    6.47e+14\n",
      "dum_partido_98.0     1.701e+13   3.22e+14      0.053      0.958   -6.13e+14    6.47e+14\n",
      "dum_partido_99.0     1.006e+14    1.9e+15      0.053      0.958   -3.63e+15    3.83e+15\n",
      "dum_partido_100.0    1.749e+14   3.31e+15      0.053      0.958   -6.31e+15    6.66e+15\n",
      "dum_partido_102.0     5.64e+13   1.07e+15      0.053      0.958   -2.03e+15    2.15e+15\n",
      "dum_partido_104.0    1.701e+13   3.22e+14      0.053      0.958   -6.13e+14    6.47e+14\n",
      "dum_partido_105.0    2.405e+13   4.55e+14      0.053      0.958   -8.68e+14    9.16e+14\n",
      "dum_partido_108.0    2.946e+13   5.57e+14      0.053      0.958   -1.06e+15    1.12e+15\n",
      "dum_partido_109.0    1.701e+13   3.22e+14      0.053      0.958   -6.13e+14    6.47e+14\n",
      "dum_partido_112.0    1.838e+14   3.48e+15      0.053      0.958   -6.63e+15       7e+15\n",
      "dum_partido_114.0    3.401e+13   6.43e+14      0.053      0.958   -1.23e+15    1.29e+15\n",
      "dum_partido_115.0    2.946e+13   5.57e+14      0.053      0.958   -1.06e+15    1.12e+15\n",
      "dum_partido_117.0    5.102e+13   9.65e+14      0.053      0.958   -1.84e+15    1.94e+15\n",
      "dum_partido_119.0    4.166e+13   7.88e+14      0.053      0.958    -1.5e+15    1.59e+15\n",
      "dum_partido_121.0     8.67e+13   1.64e+15      0.053      0.958   -3.13e+15     3.3e+15\n",
      "dum_partido_123.0    3.803e+13   7.19e+14      0.053      0.958   -1.37e+15    1.45e+15\n",
      "dum_partido_124.0    1.226e+14   2.32e+15      0.053      0.958   -4.42e+15    4.67e+15\n",
      "dum_partido_125.0    1.701e+13   3.22e+14      0.053      0.958   -6.13e+14    6.47e+14\n",
      "dum_partido_127.0    3.401e+13   6.43e+14      0.053      0.958   -1.23e+15    1.29e+15\n",
      "dum_partido_128.0    1.422e+14   2.69e+15      0.053      0.958   -5.13e+15    5.41e+15\n",
      "dum_partido_129.0    8.502e+13   1.61e+15      0.053      0.958   -3.07e+15    3.24e+15\n",
      "dum_partido_130.0    4.309e+14   8.15e+15      0.053      0.958   -1.55e+16    1.64e+16\n",
      "dum_partido_131.0    3.463e+14   6.55e+15      0.053      0.958   -1.25e+16    1.32e+16\n",
      "dum_partido_132.0    2.803e+14    5.3e+15      0.053      0.958   -1.01e+16    1.07e+16\n",
      "dum_partido_133.0    4.139e+14   7.83e+15      0.053      0.958   -1.49e+16    1.58e+16\n",
      "dum_partido_134.0    6.202e+14   1.17e+16      0.053      0.958   -2.24e+16    2.36e+16\n",
      "dum_partido_135.0    1.741e+14   3.29e+15      0.053      0.958   -6.28e+15    6.63e+15\n",
      "dum_partido_136.0    3.964e+14    7.5e+15      0.053      0.958   -1.43e+16    1.51e+16\n",
      "dum_partido_137.0    6.131e+14   1.16e+16      0.053      0.958   -2.21e+16    2.33e+16\n",
      "dum_partido_138.0    1.701e+13   3.22e+14      0.053      0.958   -6.13e+14    6.47e+14\n",
      "dum_partido_139.0     1.83e+14   3.46e+15      0.053      0.958    -6.6e+15    6.97e+15\n",
      "dum_partido_140.0    1.861e+14   3.52e+15      0.053      0.958   -6.71e+15    7.08e+15\n",
      "dum_partido_141.0    2.024e+14   3.83e+15      0.053      0.958    -7.3e+15    7.71e+15\n",
      "dum_partido_142.0    2.534e+14   4.79e+15      0.053      0.958   -9.14e+15    9.65e+15\n",
      "dum_partido_143.0    2.346e+14   4.44e+15      0.053      0.958   -8.46e+15    8.93e+15\n",
      "dum_partido_144.0    1.937e+14   3.66e+15      0.053      0.958   -6.99e+15    7.37e+15\n",
      "dum_partido_145.0    4.803e+14   9.08e+15      0.053      0.958   -1.73e+16    1.83e+16\n",
      "dum_partido_146.0    2.777e+14   5.25e+15      0.053      0.958      -1e+16    1.06e+16\n",
      "dum_partido_147.0    1.656e+14   3.13e+15      0.053      0.958   -5.97e+15     6.3e+15\n",
      "dum_partido_148.0    2.523e+14   4.77e+15      0.053      0.958    -9.1e+15    9.61e+15\n",
      "dum_partido_149.0    2.596e+14   4.91e+15      0.053      0.958   -9.36e+15    9.88e+15\n",
      "dum_partido_150.0    2.568e+14   4.86e+15      0.053      0.958   -9.26e+15    9.78e+15\n",
      "dum_partido_151.0    1.238e+14   2.34e+15      0.053      0.958   -4.46e+15    4.71e+15\n",
      "dum_partido_152.0    3.355e+14   6.34e+15      0.053      0.958   -1.21e+16    1.28e+16\n",
      "dum_partido_153.0    1.733e+14   3.28e+15      0.053      0.958   -6.25e+15     6.6e+15\n",
      "dum_partido_154.0    7.366e+14   1.39e+16      0.053      0.958   -2.66e+16     2.8e+16\n",
      "dum_partido_155.0    9.767e+13   1.85e+15      0.053      0.958   -3.52e+15    3.72e+15\n",
      "dum_partido_156.0     1.19e+14   2.25e+15      0.053      0.958   -4.29e+15    4.53e+15\n",
      "dum_partido_157.0    1.647e+14   3.12e+15      0.053      0.958   -5.94e+15    6.27e+15\n",
      "dum_partido_158.0    7.412e+13    1.4e+15      0.053      0.958   -2.67e+15    2.82e+15\n",
      "dum_partido_159.0    2.259e+14   4.27e+15      0.053      0.958   -8.15e+15     8.6e+15\n",
      "dum_partido_160.0     1.79e+14   3.39e+15      0.053      0.958   -6.46e+15    6.81e+15\n",
      "dum_partido_161.0    9.156e+13   1.73e+15      0.053      0.958    -3.3e+15    3.49e+15\n",
      "dum_partido_162.0     2.43e+14    4.6e+15      0.053      0.958   -8.77e+15    9.25e+15\n",
      "dum_partido_163.0      4.8e+14   9.08e+15      0.053      0.958   -1.73e+16    1.83e+16\n",
      "dum_partido_164.0    1.782e+14   3.37e+15      0.053      0.958   -6.43e+15    6.78e+15\n",
      "dum_partido_165.0    2.933e+14   5.55e+15      0.053      0.958   -1.06e+16    1.12e+16\n",
      "dum_partido_166.0    2.991e+14   5.66e+15      0.053      0.958   -1.08e+16    1.14e+16\n",
      "dum_partido_167.0    1.853e+14    3.5e+15      0.053      0.958   -6.68e+15    7.05e+15\n",
      "dum_partido_168.0     4.26e+14   8.06e+15      0.053      0.958   -1.54e+16    1.62e+16\n",
      "dum_partido_169.0    1.128e+14   2.13e+15      0.053      0.958   -4.07e+15    4.29e+15\n",
      "dum_partido_170.0    9.313e+13   1.76e+15      0.053      0.958   -3.36e+15    3.55e+15\n",
      "dum_partido_171.0    8.835e+13   1.67e+15      0.053      0.958   -3.19e+15    3.36e+15\n",
      "dum_partido_172.0    4.625e+14   8.75e+15      0.053      0.958   -1.67e+16    1.76e+16\n",
      "dum_partido_173.0    2.928e+14   5.54e+15      0.053      0.958   -1.06e+16    1.11e+16\n",
      "dum_partido_174.0    2.601e+14   4.92e+15      0.053      0.958   -9.38e+15     9.9e+15\n",
      "dum_partido_175.0    9.618e+13   1.82e+15      0.053      0.958   -3.47e+15    3.66e+15\n",
      "dum_partido_176.0    1.798e+14    3.4e+15      0.053      0.958   -6.49e+15    6.84e+15\n",
      "dum_partido_177.0    2.903e+14   5.49e+15      0.053      0.958   -1.05e+16    1.11e+16\n",
      "dum_partido_178.0    1.178e+14   2.23e+15      0.053      0.958   -4.25e+15    4.48e+15\n",
      "dum_partido_179.0    1.884e+14   3.56e+15      0.053      0.958    -6.8e+15    7.17e+15\n",
      "dum_partido_180.0    7.792e+13   1.47e+15      0.053      0.958   -2.81e+15    2.97e+15\n",
      "dum_partido_181.0    3.401e+13   6.43e+14      0.053      0.958   -1.23e+15    1.29e+15\n",
      "dum_partido_182.0    8.502e+13   1.61e+15      0.053      0.958   -3.07e+15    3.24e+15\n",
      "dum_partido_183.0    4.166e+13   7.88e+14      0.053      0.958    -1.5e+15    1.59e+15\n",
      "dum_partido_184.0    4.882e+14   9.23e+15      0.053      0.958   -1.76e+16    1.86e+16\n",
      "dum_partido_185.0    1.701e+13   3.22e+14      0.053      0.958   -6.13e+14    6.47e+14\n",
      "dum_partido_186.0    4.166e+13   7.88e+14      0.053      0.958    -1.5e+15    1.59e+15\n",
      "dum_partido_187.0    2.405e+13   4.55e+14      0.053      0.958   -8.68e+14    9.16e+14\n",
      "dum_partido_189.0    1.432e+14   2.71e+15      0.053      0.958   -5.17e+15    5.45e+15\n",
      "dum_partido_190.0    1.701e+13   3.22e+14      0.053      0.958   -6.13e+14    6.47e+14\n",
      "dum_partido_191.0    2.405e+13   4.55e+14      0.053      0.958   -8.68e+14    9.16e+14\n",
      "dum_partido_192.0    1.701e+13   3.22e+14      0.053      0.958   -6.13e+14    6.47e+14\n",
      "dum_partido_195.0    5.891e+13   1.11e+15      0.053      0.958   -2.12e+15    2.24e+15\n",
      "dum_partido_196.0    4.166e+13   7.88e+14      0.053      0.958    -1.5e+15    1.59e+15\n",
      "dum_partido_198.0    1.238e+14   2.34e+15      0.053      0.958   -4.46e+15    4.71e+15\n",
      "dum_partido_199.0    6.586e+13   1.25e+15      0.053      0.958   -2.38e+15    2.51e+15\n",
      "dum_partido_200.0    2.946e+13   5.57e+14      0.053      0.958   -1.06e+15    1.12e+15\n",
      "dum_partido_207.0    3.803e+13   7.19e+14      0.053      0.958   -1.37e+15    1.45e+15\n",
      "dum_partido_209.0    1.701e+13   3.22e+14      0.053      0.958   -6.13e+14    6.47e+14\n",
      "dum_partido_210.0    1.701e+13   3.22e+14      0.053      0.958   -6.13e+14    6.47e+14\n",
      "dum_partido_211.0    2.405e+13   4.55e+14      0.053      0.958   -8.68e+14    9.16e+14\n",
      "dum_partido_212.0    2.946e+13   5.57e+14      0.053      0.958   -1.06e+15    1.12e+15\n",
      "dum_partido_213.0    6.131e+13   1.16e+15      0.053      0.958   -2.21e+15    2.33e+15\n",
      "dum_partido_216.0    2.405e+13   4.55e+14      0.053      0.958   -8.68e+14    9.16e+14\n",
      "dum_partido_217.0    1.701e+13   3.22e+14      0.053      0.958   -6.13e+14    6.47e+14\n",
      "dum_partido_219.0     4.81e+13    9.1e+14      0.053      0.958   -1.73e+15    1.83e+15\n",
      "dum_partido_220.0    2.405e+13   4.55e+14      0.053      0.958   -8.68e+14    9.16e+14\n",
      "dum_partido_221.0    2.946e+13   5.57e+14      0.053      0.958   -1.06e+15    1.12e+15\n",
      "dum_partido_223.0    1.701e+13   3.22e+14      0.053      0.958   -6.13e+14    6.47e+14\n",
      "dum_partido_224.0    2.405e+13   4.55e+14      0.053      0.958   -8.68e+14    9.16e+14\n",
      "dum_partido_228.0    3.803e+13   7.19e+14      0.053      0.958   -1.37e+15    1.45e+15\n",
      "dum_partido_230.0    4.166e+13   7.88e+14      0.053      0.958    -1.5e+15    1.59e+15\n",
      "dum_partido_231.0    2.405e+13   4.55e+14      0.053      0.958   -8.68e+14    9.16e+14\n",
      "dum_partido_232.0    3.401e+13   6.43e+14      0.053      0.958   -1.23e+15    1.29e+15\n",
      "dum_partido_233.0    1.701e+13   3.22e+14      0.053      0.958   -6.13e+14    6.47e+14\n",
      "dum_partido_234.0    9.071e+14   1.72e+16      0.053      0.958   -3.27e+16    3.45e+16\n",
      "dum_partido_236.0    1.701e+13   3.22e+14      0.053      0.958   -6.13e+14    6.47e+14\n",
      "dum_partido_241.0    2.946e+13   5.57e+14      0.053      0.958   -1.06e+15    1.12e+15\n",
      "dum_partido_242.0    3.803e+13   7.19e+14      0.053      0.958   -1.37e+15    1.45e+15\n",
      "dum_partido_243.0    9.618e+13   1.82e+15      0.053      0.958   -3.47e+15    3.66e+15\n",
      "dum_partido_244.0    2.405e+13   4.55e+14      0.053      0.958   -8.68e+14    9.16e+14\n",
      "dum_partido_246.0    3.401e+13   6.43e+14      0.053      0.958   -1.23e+15    1.29e+15\n",
      "dum_partido_247.0    1.701e+13   3.22e+14      0.053      0.958   -6.13e+14    6.47e+14\n",
      "dum_partido_249.0    2.405e+13   4.55e+14      0.053      0.958   -8.68e+14    9.16e+14\n",
      "dum_partido_252.0    1.701e+13   3.22e+14      0.053      0.958   -6.13e+14    6.47e+14\n",
      "dum_partido_255.0    1.701e+13   3.22e+14      0.053      0.958   -6.13e+14    6.47e+14\n",
      "dum_partido_259.0    2.946e+13   5.57e+14      0.053      0.958   -1.06e+15    1.12e+15\n",
      "dum_partido_260.0    3.803e+13   7.19e+14      0.053      0.958   -1.37e+15    1.45e+15\n",
      "dum_partido_261.0    2.946e+13   5.57e+14      0.053      0.958   -1.06e+15    1.12e+15\n",
      "dum_partido_264.0    2.405e+13   4.55e+14      0.053      0.958   -8.68e+14    9.16e+14\n",
      "dum_partido_265.0    8.502e+13   1.61e+15      0.053      0.958   -3.07e+15    3.24e+15\n",
      "dum_partido_266.0    1.701e+13   3.22e+14      0.053      0.958   -6.13e+14    6.47e+14\n",
      "dum_partido_267.0    4.166e+13   7.88e+14      0.053      0.958    -1.5e+15    1.59e+15\n",
      "dum_partido_268.0    1.701e+13   3.22e+14      0.053      0.958   -6.13e+14    6.47e+14\n",
      "dum_partido_269.0    2.946e+13   5.57e+14      0.053      0.958   -1.06e+15    1.12e+15\n",
      "dum_partido_272.0    2.405e+13   4.55e+14      0.053      0.958   -8.68e+14    9.16e+14\n",
      "dum_partido_273.0    3.401e+13   6.43e+14      0.053      0.958   -1.23e+15    1.29e+15\n",
      "dum_partido_274.0    2.868e+14   5.43e+15      0.053      0.958   -1.03e+16    1.09e+16\n",
      "dum_partido_275.0    5.102e+13   9.65e+14      0.053      0.958   -1.84e+15    1.94e+15\n",
      "dum_partido_276.0    7.976e+13   1.51e+15      0.053      0.958   -2.88e+15    3.04e+15\n",
      "dum_partido_278.0    1.701e+13   3.22e+14      0.053      0.958   -6.13e+14    6.47e+14\n",
      "dum_partido_279.0    1.701e+13   3.22e+14      0.053      0.958   -6.13e+14    6.47e+14\n",
      "dum_partido_280.0    4.166e+13   7.88e+14      0.053      0.958    -1.5e+15    1.59e+15\n",
      "dum_partido_281.0    1.701e+13   3.22e+14      0.053      0.958   -6.13e+14    6.47e+14\n",
      "dum_partido_282.0    2.405e+13   4.55e+14      0.053      0.958   -8.68e+14    9.16e+14\n",
      "dum_partido_283.0    5.102e+13   9.65e+14      0.053      0.958   -1.84e+15    1.94e+15\n",
      "dum_partido_286.0    2.405e+13   4.55e+14      0.053      0.958   -8.68e+14    9.16e+14\n",
      "dum_partido_288.0    9.156e+13   1.73e+15      0.053      0.958    -3.3e+15    3.49e+15\n",
      "dum_partido_289.0    1.412e+14   2.67e+15      0.053      0.958   -5.09e+15    5.37e+15\n",
      "dum_partido_290.0    1.701e+13   3.22e+14      0.053      0.958   -6.13e+14    6.47e+14\n",
      "dum_partido_291.0    4.499e+13   8.51e+14      0.053      0.958   -1.62e+15    1.71e+15\n",
      "dum_partido_292.0    1.701e+13   3.22e+14      0.053      0.958   -6.13e+14    6.47e+14\n",
      "dum_partido_293.0    1.701e+13   3.22e+14      0.053      0.958   -6.13e+14    6.47e+14\n",
      "dum_partido_294.0    4.166e+13   7.88e+14      0.053      0.958    -1.5e+15    1.59e+15\n",
      "dum_partido_296.0    5.102e+13   9.65e+14      0.053      0.958   -1.84e+15    1.94e+15\n",
      "dum_partido_297.0    2.946e+13   5.57e+14      0.053      0.958   -1.06e+15    1.12e+15\n",
      "dum_partido_298.0    1.295e+14   2.45e+15      0.053      0.958   -4.67e+15    4.93e+15\n",
      "dum_partido_299.0    1.701e+13   3.22e+14      0.053      0.958   -6.13e+14    6.47e+14\n",
      "dum_partido_300.0    2.833e+14   5.36e+15      0.053      0.958   -1.02e+16    1.08e+16\n",
      "dum_partido_301.0    2.405e+13   4.55e+14      0.053      0.958   -8.68e+14    9.16e+14\n",
      "dum_partido_307.0    2.946e+13   5.57e+14      0.053      0.958   -1.06e+15    1.12e+15\n",
      "dum_partido_308.0    2.405e+13   4.55e+14      0.053      0.958   -8.68e+14    9.16e+14\n",
      "dum_partido_309.0    1.701e+13   3.22e+14      0.053      0.958   -6.13e+14    6.47e+14\n",
      "dum_partido_310.0    1.701e+13   3.22e+14      0.053      0.958   -6.13e+14    6.47e+14\n",
      "dum_partido_311.0     5.64e+13   1.07e+15      0.053      0.958   -2.03e+15    2.15e+15\n",
      "dum_partido_312.0    2.946e+13   5.57e+14      0.053      0.958   -1.06e+15    1.12e+15\n",
      "dum_partido_313.0    1.701e+13   3.22e+14      0.053      0.958   -6.13e+14    6.47e+14\n",
      "dum_partido_316.0    3.401e+13   6.43e+14      0.053      0.958   -1.23e+15    1.29e+15\n",
      "dum_partido_317.0    1.701e+13   3.22e+14      0.053      0.958   -6.13e+14    6.47e+14\n",
      "dum_partido_320.0    2.946e+13   5.57e+14      0.053      0.958   -1.06e+15    1.12e+15\n",
      "dum_partido_321.0    3.401e+13   6.43e+14      0.053      0.958   -1.23e+15    1.29e+15\n",
      "dum_partido_322.0    1.701e+13   3.22e+14      0.053      0.958   -6.13e+14    6.47e+14\n",
      "dum_partido_323.0    1.701e+13   3.22e+14      0.053      0.958   -6.13e+14    6.47e+14\n",
      "dum_partido_326.0    1.701e+13   3.22e+14      0.053      0.958   -6.13e+14    6.47e+14\n",
      "dum_partido_329.0    6.586e+13   1.25e+15      0.053      0.958   -2.38e+15    2.51e+15\n",
      "dum_partido_330.0    2.946e+13   5.57e+14      0.053      0.958   -1.06e+15    1.12e+15\n",
      "dum_partido_331.0    2.405e+13   4.55e+14      0.053      0.958   -8.68e+14    9.16e+14\n",
      "dum_partido_333.0    1.701e+13   3.22e+14      0.053      0.958   -6.13e+14    6.47e+14\n",
      "dum_partido_335.0    1.701e+13   3.22e+14      0.053      0.958   -6.13e+14    6.47e+14\n",
      "dum_partido_337.0    1.701e+13   3.22e+14      0.053      0.958   -6.13e+14    6.47e+14\n",
      "dum_partido_338.0    6.586e+13   1.25e+15      0.053      0.958   -2.38e+15    2.51e+15\n",
      "dum_partido_340.0    1.701e+13   3.22e+14      0.053      0.958   -6.13e+14    6.47e+14\n",
      "dum_partido_342.0    1.701e+13   3.22e+14      0.053      0.958   -6.13e+14    6.47e+14\n",
      "dum_partido_343.0    2.405e+13   4.55e+14      0.053      0.958   -8.68e+14    9.16e+14\n",
      "dum_partido_345.0    1.701e+13   3.22e+14      0.053      0.958   -6.13e+14    6.47e+14\n",
      "dum_partido_347.0    1.701e+13   3.22e+14      0.053      0.958   -6.13e+14    6.47e+14\n",
      "dum_partido_348.0    3.803e+13   7.19e+14      0.053      0.958   -1.37e+15    1.45e+15\n",
      "dum_partido_352.0    1.701e+13   3.22e+14      0.053      0.958   -6.13e+14    6.47e+14\n",
      "dum_partido_353.0    5.102e+13   9.65e+14      0.053      0.958   -1.84e+15    1.94e+15\n",
      "dum_partido_357.0    1.701e+13   3.22e+14      0.053      0.958   -6.13e+14    6.47e+14\n",
      "dum_partido_359.0    1.701e+13   3.22e+14      0.053      0.958   -6.13e+14    6.47e+14\n",
      "dum_partido_360.0    1.701e+13   3.22e+14      0.053      0.958   -6.13e+14    6.47e+14\n",
      "dum_partido_363.0    1.701e+13   3.22e+14      0.053      0.958   -6.13e+14    6.47e+14\n",
      "dum_partido_364.0    1.701e+13   3.22e+14      0.053      0.958   -6.13e+14    6.47e+14\n",
      "dum_partido_365.0    6.131e+13   1.16e+15      0.053      0.958   -2.21e+15    2.33e+15\n",
      "dum_partido_366.0    4.166e+13   7.88e+14      0.053      0.958    -1.5e+15    1.59e+15\n",
      "dum_partido_368.0    5.102e+13   9.65e+14      0.053      0.958   -1.84e+15    1.94e+15\n",
      "dum_partido_369.0    2.946e+13   5.57e+14      0.053      0.958   -1.06e+15    1.12e+15\n",
      "dum_partido_372.0    1.306e+14   2.47e+15      0.053      0.958   -4.71e+15    4.97e+15\n",
      "dum_partido_376.0    1.701e+13   3.22e+14      0.053      0.958   -6.13e+14    6.47e+14\n",
      "dum_partido_377.0    1.701e+13   3.22e+14      0.053      0.958   -6.13e+14    6.47e+14\n",
      "dum_partido_380.0    9.618e+13   1.82e+15      0.053      0.958   -3.47e+15    3.66e+15\n",
      "dum_partido_381.0    2.405e+13   4.55e+14      0.053      0.958   -8.68e+14    9.16e+14\n",
      "dum_partido_384.0    1.701e+13   3.22e+14      0.053      0.958   -6.13e+14    6.47e+14\n",
      "dum_partido_389.0    3.803e+13   7.19e+14      0.053      0.958   -1.37e+15    1.45e+15\n",
      "dum_partido_390.0    1.701e+13   3.22e+14      0.053      0.958   -6.13e+14    6.47e+14\n",
      "dum_partido_392.0    3.803e+13   7.19e+14      0.053      0.958   -1.37e+15    1.45e+15\n",
      "dum_partido_393.0    4.499e+13   8.51e+14      0.053      0.958   -1.62e+15    1.71e+15\n",
      "dum_partido_394.0    2.207e+14   4.17e+15      0.053      0.958   -7.96e+15     8.4e+15\n",
      "dum_partido_396.0    1.701e+13   3.22e+14      0.053      0.958   -6.13e+14    6.47e+14\n",
      "dum_partido_398.0    1.701e+13   3.22e+14      0.053      0.958   -6.13e+14    6.47e+14\n",
      "dum_partido_401.0    2.405e+13   4.55e+14      0.053      0.958   -8.68e+14    9.16e+14\n",
      "dum_partido_402.0    1.089e+14   2.06e+15      0.053      0.958   -3.93e+15    4.14e+15\n",
      "dum_partido_403.0    2.405e+13   4.55e+14      0.053      0.958   -8.68e+14    9.16e+14\n",
      "dum_partido_404.0    2.405e+13   4.55e+14      0.053      0.958   -8.68e+14    9.16e+14\n",
      "dum_partido_405.0    1.432e+14   2.71e+15      0.053      0.958   -5.17e+15    5.45e+15\n",
      "dum_partido_406.0    3.803e+13   7.19e+14      0.053      0.958   -1.37e+15    1.45e+15\n",
      "dum_partido_407.0    2.946e+13   5.57e+14      0.053      0.958   -1.06e+15    1.12e+15\n",
      "dum_partido_408.0    9.618e+13   1.82e+15      0.053      0.958   -3.47e+15    3.66e+15\n",
      "dum_partido_409.0    7.011e+13   1.33e+15      0.053      0.958   -2.53e+15    2.67e+15\n",
      "dum_partido_410.0    1.701e+13   3.22e+14      0.053      0.958   -6.13e+14    6.47e+14\n",
      "dum_partido_412.0    5.102e+13   9.65e+14      0.053      0.958   -1.84e+15    1.94e+15\n",
      "dum_partido_413.0    1.701e+13   3.22e+14      0.053      0.958   -6.13e+14    6.47e+14\n",
      "dum_partido_415.0    7.011e+13   1.33e+15      0.053      0.958   -2.53e+15    2.67e+15\n",
      "dum_partido_416.0    1.701e+13   3.22e+14      0.053      0.958   -6.13e+14    6.47e+14\n",
      "dum_partido_418.0    1.981e+14   3.75e+15      0.053      0.958   -7.14e+15    7.54e+15\n",
      "dum_partido_419.0    3.401e+13   6.43e+14      0.053      0.958   -1.23e+15    1.29e+15\n",
      "dum_partido_421.0    2.405e+13   4.55e+14      0.053      0.958   -8.68e+14    9.16e+14\n",
      "dum_partido_423.0    2.405e+13   4.55e+14      0.053      0.958   -8.68e+14    9.16e+14\n",
      "dum_partido_425.0    1.701e+13   3.22e+14      0.053      0.958   -6.13e+14    6.47e+14\n",
      "dum_partido_428.0    1.102e+14   2.08e+15      0.053      0.958   -3.97e+15    4.19e+15\n",
      "dum_partido_429.0    1.701e+13   3.22e+14      0.053      0.958   -6.13e+14    6.47e+14\n",
      "dum_partido_432.0    1.701e+13   3.22e+14      0.053      0.958   -6.13e+14    6.47e+14\n",
      "dum_partido_435.0    1.701e+13   3.22e+14      0.053      0.958   -6.13e+14    6.47e+14\n",
      "dum_partido_438.0    1.701e+13   3.22e+14      0.053      0.958   -6.13e+14    6.47e+14\n",
      "dum_partido_439.0    1.701e+13   3.22e+14      0.053      0.958   -6.13e+14    6.47e+14\n",
      "dum_partido_440.0    4.499e+13   8.51e+14      0.053      0.958   -1.62e+15    1.71e+15\n",
      "dum_partido_441.0    1.701e+13   3.22e+14      0.053      0.958   -6.13e+14    6.47e+14\n",
      "dum_partido_442.0    3.803e+13   7.19e+14      0.053      0.958   -1.37e+15    1.45e+15\n",
      "dum_partido_443.0    5.102e+13   9.65e+14      0.053      0.958   -1.84e+15    1.94e+15\n",
      "dum_partido_445.0    7.605e+13   1.44e+15      0.053      0.958   -2.74e+15    2.89e+15\n",
      "dum_partido_448.0     5.64e+13   1.07e+15      0.053      0.958   -2.03e+15    2.15e+15\n",
      "dum_partido_449.0    1.701e+13   3.22e+14      0.053      0.958   -6.13e+14    6.47e+14\n",
      "dum_partido_450.0    1.701e+13   3.22e+14      0.053      0.958   -6.13e+14    6.47e+14\n",
      "dum_partido_454.0    1.701e+13   3.22e+14      0.053      0.958   -6.13e+14    6.47e+14\n",
      "dum_partido_455.0    1.701e+13   3.22e+14      0.053      0.958   -6.13e+14    6.47e+14\n",
      "dum_partido_459.0    1.701e+13   3.22e+14      0.053      0.958   -6.13e+14    6.47e+14\n",
      "dum_partido_462.0    7.011e+13   1.33e+15      0.053      0.958   -2.53e+15    2.67e+15\n",
      "dum_partido_463.0    1.701e+13   3.22e+14      0.053      0.958   -6.13e+14    6.47e+14\n",
      "dum_partido_465.0    1.701e+13   3.22e+14      0.053      0.958   -6.13e+14    6.47e+14\n",
      "dum_partido_471.0    1.701e+13   3.22e+14      0.053      0.958   -6.13e+14    6.47e+14\n",
      "dum_partido_473.0    1.701e+13   3.22e+14      0.053      0.958   -6.13e+14    6.47e+14\n",
      "dum_partido_475.0    1.701e+13   3.22e+14      0.053      0.958   -6.13e+14    6.47e+14\n",
      "dum_partido_476.0    8.155e+13   1.54e+15      0.053      0.958   -2.94e+15     3.1e+15\n",
      "dum_partido_478.0    6.586e+13   1.25e+15      0.053      0.958   -2.38e+15    2.51e+15\n",
      "dum_partido_482.0    4.166e+13   7.88e+14      0.053      0.958    -1.5e+15    1.59e+15\n",
      "dum_partido_483.0    4.499e+13   8.51e+14      0.053      0.958   -1.62e+15    1.71e+15\n",
      "dum_partido_487.0    2.946e+13   5.57e+14      0.053      0.958   -1.06e+15    1.12e+15\n",
      "dum_partido_488.0    1.701e+13   3.22e+14      0.053      0.958   -6.13e+14    6.47e+14\n",
      "dum_partido_489.0    1.701e+13   3.22e+14      0.053      0.958   -6.13e+14    6.47e+14\n",
      "dum_partido_490.0    1.701e+13   3.22e+14      0.053      0.958   -6.13e+14    6.47e+14\n",
      "dum_partido_493.0    1.701e+13   3.22e+14      0.053      0.958   -6.13e+14    6.47e+14\n",
      "dum_partido_494.0    1.701e+13   3.22e+14      0.053      0.958   -6.13e+14    6.47e+14\n",
      "dum_partido_497.0    1.701e+13   3.22e+14      0.053      0.958   -6.13e+14    6.47e+14\n",
      "dum_partido_498.0    1.701e+13   3.22e+14      0.053      0.958   -6.13e+14    6.47e+14\n",
      "dum_partido_502.0    1.701e+13   3.22e+14      0.053      0.958   -6.13e+14    6.47e+14\n",
      "dum_partido_503.0    2.405e+13   4.55e+14      0.053      0.958   -8.68e+14    9.16e+14\n",
      "dum_partido_504.0    2.405e+13   4.55e+14      0.053      0.958   -8.68e+14    9.16e+14\n",
      "dum_partido_505.0     1.14e+14   2.16e+15      0.053      0.958   -4.11e+15    4.34e+15\n",
      "dum_partido_506.0    7.111e+14   1.34e+16      0.053      0.958   -2.57e+16    2.71e+16\n",
      "dum_partido_511.0    2.405e+13   4.55e+14      0.053      0.958   -8.68e+14    9.16e+14\n",
      "dum_partido_513.0    1.701e+13   3.22e+14      0.053      0.958   -6.13e+14    6.47e+14\n",
      "dum_partido_514.0    2.059e+14   3.89e+15      0.053      0.958   -7.43e+15    7.84e+15\n",
      "dum_partido_517.0    6.363e+13    1.2e+15      0.053      0.958   -2.29e+15    2.42e+15\n",
      "dum_partido_520.0    1.701e+13   3.22e+14      0.053      0.958   -6.13e+14    6.47e+14\n",
      "dum_partido_523.0    2.405e+13   4.55e+14      0.053      0.958   -8.68e+14    9.16e+14\n",
      "dum_partido_525.0    4.166e+13   7.88e+14      0.053      0.958    -1.5e+15    1.59e+15\n",
      "dum_partido_528.0     5.64e+13   1.07e+15      0.053      0.958   -2.03e+15    2.15e+15\n",
      "dum_partido_529.0    2.405e+13   4.55e+14      0.053      0.958   -8.68e+14    9.16e+14\n",
      "dum_partido_534.0    1.349e+14   2.55e+15      0.053      0.958   -4.87e+15    5.14e+15\n",
      "dum_partido_535.0    2.405e+13   4.55e+14      0.053      0.958   -8.68e+14    9.16e+14\n",
      "dum_partido_538.0    5.102e+13   9.65e+14      0.053      0.958   -1.84e+15    1.94e+15\n",
      "dum_property_type_0  5.876e+16    4.9e+16      1.199      0.231   -3.73e+16    1.55e+17\n",
      "dum_property_type_1  1.182e+17   9.86e+16      1.199      0.231   -7.51e+16    3.11e+17\n",
      "dum_property_type_2  1.123e+17   9.37e+16      1.199      0.231   -7.13e+16    2.96e+17\n",
      "dum_property_type_3  1.698e+16   1.42e+16      1.199      0.231   -1.08e+16    4.47e+16\n",
      "==============================================================================\n",
      "Omnibus:                    20178.683   Durbin-Watson:                   1.796\n",
      "Prob(Omnibus):                  0.000   Jarque-Bera (JB):           160715.425\n",
      "Skew:                           1.618   Prob(JB):                         0.00\n",
      "Kurtosis:                      10.880   Cond. No.                     5.70e+14\n",
      "==============================================================================\n",
      "\n",
      "Warnings:\n",
      "[1] Standard Errors assume that the covariance matrix of the errors is correctly specified.\n",
      "[2] The smallest eigenvalue is 4.4e-25. This might indicate that there are\n",
      "strong multicollinearity problems or that the design matrix is singular.\n"
     ]
    }
   ],
   "source": [
    "import statsmodels.api as sm\n",
    "df_X_norm = pd.DataFrame(X_norm, columns=X.columns)\n",
    "#agrego el intercepto\n",
    "X_intercept = sm.add_constant(df_X_norm)\n",
    "y.index = range(y.shape[0])\n",
    "\n",
    "# Fit and summarize OLS model (OLS = ordinary least square linear regression) Veo las descritivas del modelo\n",
    "model_intercept = sm.OLS(y, X_intercept)\n",
    "model_intercept = model_intercept.fit()\n",
    "print (model_intercept.summary())\n",
    "predictions_intercept = model_intercept.predict(X_intercept)"
   ]
  },
  {
   "cell_type": "code",
   "execution_count": 23,
   "metadata": {},
   "outputs": [
    {
     "name": "stderr",
     "output_type": "stream",
     "text": [
      "/opt/conda/lib/python3.6/site-packages/scipy/stats/stats.py:1713: FutureWarning:\n",
      "\n",
      "Using a non-tuple sequence for multidimensional indexing is deprecated; use `arr[tuple(seq)]` instead of `arr[seq]`. In the future this will be interpreted as an array index, `arr[np.array(seq)]`, which will result either in an error or a different result.\n",
      "\n"
     ]
    },
    {
     "data": {
      "text/plain": [
       "<matplotlib.axes._subplots.AxesSubplot at 0x7fdaf629eba8>"
      ]
     },
     "execution_count": 23,
     "metadata": {},
     "output_type": "execute_result"
    },
    {
     "data": {
      "image/png": "[encoded data removed]",
      "text/plain": [
       "<Figure size 432x288 with 1 Axes>"
      ]
     },
     "metadata": {},
     "output_type": "display_data"
    }
   ],
   "source": [
    "sns.distplot(predictions_intercept)"
   ]
  },
  {
   "cell_type": "markdown",
   "metadata": {},
   "source": [
    "### Calculo de residuos"
   ]
  },
  {
   "cell_type": "code",
   "execution_count": 20,
   "metadata": {},
   "outputs": [
    {
     "name": "stdout",
     "output_type": "stream",
     "text": [
      "69.71715083903992\n"
     ]
    }
   ],
   "source": [
    "predictions_intercept_df = pd.DataFrame(predictions_intercept, columns=['price_aprox_usd'])\n",
    "residuos_intercept = y - predictions_intercept\n",
    "print(residuos_intercept.mean())"
   ]
  },
  {
   "cell_type": "markdown",
   "metadata": {},
   "source": [
    "#### Verifico la distribución y que la media de los residuos sea cero"
   ]
  },
  {
   "cell_type": "code",
   "execution_count": 21,
   "metadata": {},
   "outputs": [
    {
     "name": "stderr",
     "output_type": "stream",
     "text": [
      "/opt/conda/lib/python3.6/site-packages/scipy/stats/stats.py:1713: FutureWarning:\n",
      "\n",
      "Using a non-tuple sequence for multidimensional indexing is deprecated; use `arr[tuple(seq)]` instead of `arr[seq]`. In the future this will be interpreted as an array index, `arr[np.array(seq)]`, which will result either in an error or a different result.\n",
      "\n"
     ]
    },
    {
     "data": {
      "text/plain": [
       "<matplotlib.axes._subplots.AxesSubplot at 0x7f7a24340748>"
      ]
     },
     "execution_count": 21,
     "metadata": {},
     "output_type": "execute_result"
    },
    {
     "data": {
      "image/png": "[encoded data removed]",
      "text/plain": [
       "<Figure size 432x288 with 1 Axes>"
      ]
     },
     "metadata": {},
     "output_type": "display_data"
    }
   ],
   "source": [
    "sns.distplot(residuos_intercept)"
   ]
  },
  {
   "cell_type": "markdown",
   "metadata": {},
   "source": [
    "#### Algun comentario ?\n",
    "* Intento de descripcion breve"
   ]
  },
  {
   "cell_type": "markdown",
   "metadata": {},
   "source": [
    "#### Verificar homeosticidad\n",
    "* verifico homocedasticidad con base en p_value\n",
    "* supuesto: Para cualquier valor de la variable explicativa, el error tienen la misma varianza"
   ]
  },
  {
   "cell_type": "code",
   "execution_count": 33,
   "metadata": {},
   "outputs": [
    {
     "name": "stderr",
     "output_type": "stream",
     "text": [
      "/opt/conda/lib/python3.6/site-packages/statsmodels/stats/outliers_influence.py:323: RuntimeWarning:\n",
      "\n",
      "invalid value encountered in sqrt\n",
      "\n",
      "/opt/conda/lib/python3.6/site-packages/statsmodels/stats/outliers_influence.py:323: RuntimeWarning:\n",
      "\n",
      "divide by zero encountered in true_divide\n",
      "\n"
     ]
    },
    {
     "name": "stdout",
     "output_type": "stream",
     "text": [
      "\n",
      " Breusch-Pagan test ----\n",
      "[('Lagrange multiplier statistic', 4747.190286937108), ('p-value', 0.0), ('f-value', 14.183095712730996), ('f p-value', 0.0)]\n",
      "\n",
      " Goldfeld-Quandt test ----\n",
      "[('F statistic', 0.7734291246494478), ('p-value', 0.9999999999999999)]\n"
     ]
    }
   ],
   "source": [
    "import statsmodels.stats.api as sms\n",
    "from statsmodels.compat import lzip\n",
    "\n",
    "resids_standardized = model_intercept.get_influence().resid_studentized_internal\n",
    "resids = model_intercept.resid\n",
    "\n",
    "###Breush-Pagan test###\n",
    "data_bptest=sms.het_breuschpagan(resids, model_intercept.model.exog)\n",
    "name = ['Lagrange multiplier statistic', 'p-value',\n",
    "            'f-value', 'f p-value']\n",
    "result_bp = lzip(name,data_bptest)\n",
    "\n",
    "###Breush-Pagan test###\n",
    "name = ['F statistic', 'p-value']\n",
    "data_gqtest=sms.het_goldfeldquandt(resids, model_intercept.model.exog)[:-1]\n",
    "result_gq = lzip(name,data_gqtest)\n",
    "\n",
    "print('\\n Breusch-Pagan test ----')\n",
    "print(result_bp)\n",
    "print('\\n Goldfeld-Quandt test ----')\n",
    "print(result_gq)"
   ]
  },
  {
   "cell_type": "markdown",
   "metadata": {},
   "source": [
    "| <span style='color:brown;font-weight:bold;aling:center;font-size:15px'>Resultado</span> |    |\n",
    "|------|------|\n",
    "| !!!  |<span style='color:crimson;font-size:13px'>Es inconsistente: los dos test dan distintos resultados</span>|"
   ]
  },
  {
   "cell_type": "markdown",
   "metadata": {},
   "source": [
    "#### Vemos los gráficos de los residuos, no obtengo una linea horizontal (supuesto de homocedasticidad)"
   ]
  },
  {
   "cell_type": "code",
   "execution_count": 36,
   "metadata": {},
   "outputs": [
    {
     "name": "stderr",
     "output_type": "stream",
     "text": [
      "/opt/conda/lib/python3.6/site-packages/ipykernel_launcher.py:9: RuntimeWarning:\n",
      "\n",
      "invalid value encountered in sqrt\n",
      "\n"
     ]
    },
    {
     "data": {
      "text/plain": [
       "[Text(0, 0.5, 'sqrt(abs(Residuals))'), Text(0.5, 0, 'Fitted Values')]"
      ]
     },
     "execution_count": 36,
     "metadata": {},
     "output_type": "execute_result"
    },
    {
     "data": {
      "image/png": "[encoded data removed]",
      "text/plain": [
       "<Figure size 432x288 with 2 Axes>"
      ]
     },
     "metadata": {},
     "output_type": "display_data"
    }
   ],
   "source": [
    "###################################################### !!Tarda Narda\n",
    "fig, ax = plt.subplots(1,2)\n",
    "\n",
    "fitted_vals = predictions_intercept\n",
    "\n",
    "sns.regplot(x=fitted_vals, y=resids, lowess=True, ax=ax[0], line_kws={'color': 'red'})\n",
    "ax[0].set_title('Residuals vs Fitted', fontsize=16)\n",
    "ax[0].set(xlabel='Fitted Values', ylabel='Residuals')\n",
    "\n",
    "sns.regplot(x=fitted_vals, y=np.sqrt(np.abs(resids_standardized)), lowess=True, ax=ax[1], line_kws={'color': 'red'})\n",
    "ax[1].set_title('Scale-Location', fontsize=16)\n",
    "ax[1].set(xlabel='Fitted Values', ylabel='sqrt(abs(Residuals))')"
   ]
  },
  {
   "cell_type": "markdown",
   "metadata": {},
   "source": [
    "#### Verifico si los residuos tienen distribucion normal. \n",
    "* Con un grafico de datos reales vs simulados (Deberia dar una recta)\n",
    "* El grafico es en quantiles"
   ]
  },
  {
   "cell_type": "code",
   "execution_count": 37,
   "metadata": {},
   "outputs": [
    {
     "name": "stderr",
     "output_type": "stream",
     "text": [
      "/opt/conda/lib/python3.6/site-packages/scipy/stats/morestats.py:1309: UserWarning:\n",
      "\n",
      "p-value may not be accurate for N > 5000.\n",
      "\n"
     ]
    },
    {
     "name": "stdout",
     "output_type": "stream",
     "text": [
      "Jarque-Bera test ---- statistic: 160715.4250, p-value: 0.0\n",
      "Shapiro-Wilk test ---- statistic: 0.8608, p-value: 0.0000\n",
      "Kolmogorov-Smirnov test ---- statistic: 0.6117, p-value: 0.0000\n",
      "Anderson-Darling test ---- statistic: 1907.3168, 5% critical value: 0.7870\n",
      "If the returned AD statistic is larger than the critical value, then for the 5% significance level, the null hypothesis that the data come from the Normal distribution should be rejected.\n"
     ]
    },
    {
     "data": {
      "image/png": "[encoded data removed]",
      "text/plain": [
       "<Figure size 432x288 with 1 Axes>"
      ]
     },
     "metadata": {},
     "output_type": "display_data"
    }
   ],
   "source": [
    "sm.ProbPlot(model_intercept.resid).qqplot(line='s');\n",
    "plt.title('Q-Q plot');\n",
    "\n",
    "jb = stats.jarque_bera(model_intercept.resid)\n",
    "sw = stats.shapiro(model_intercept.resid)\n",
    "ad = stats.anderson(model_intercept.resid, dist='norm')\n",
    "ks = stats.kstest(model_intercept.resid, 'norm')\n",
    "\n",
    "print(f'Jarque-Bera test ---- statistic: {jb[0]:.4f}, p-value: {jb[1]}')\n",
    "print(f'Shapiro-Wilk test ---- statistic: {sw[0]:.4f}, p-value: {sw[1]:.4f}')\n",
    "print(f'Kolmogorov-Smirnov test ---- statistic: {ks.statistic:.4f}, p-value: {ks.pvalue:.4f}')\n",
    "print(f'Anderson-Darling test ---- statistic: {ad.statistic:.4f}, 5% critical value: {ad.critical_values[2]:.4f}')\n",
    "print('If the returned AD statistic is larger than the critical value, then for the 5% significance level, the null hypothesis that the data come from the Normal distribution should be rejected.')"
   ]
  },
  {
   "cell_type": "markdown",
   "metadata": {},
   "source": [
    "#### Verifico el R2 y el error de la regresión"
   ]
  },
  {
   "cell_type": "code",
   "execution_count": 39,
   "metadata": {},
   "outputs": [
    {
     "name": "stdout",
     "output_type": "stream",
     "text": [
      "r2: 0.5390091687092211\n"
     ]
    }
   ],
   "source": [
    "print('r2: ' + str(model_intercept.rsquared))"
   ]
  },
  {
   "cell_type": "markdown",
   "metadata": {},
   "source": [
    "#### Calculamos el RMSE\n",
    "* Recordemos nuestros datos son ***X_train_norm, X_test_norm, y_train, y_test***"
   ]
  },
  {
   "cell_type": "code",
   "execution_count": 45,
   "metadata": {},
   "outputs": [],
   "source": [
    "def calculate_rmse(model, X_train, y_train, y):\n",
    "    y_pred_tr_lm = model.predict(X_train)\n",
    "    #definimos la raiz del error cuadratico medio\n",
    "    rmse = lambda y, y_pred: np.sqrt(mean_squared_error(y, y_pred))\n",
    "    print(\"Score Test Lineal: %.2f\\n\" % model.score(X_train, y_train))\n",
    "    print(\" Train RMSE lineal   : %.2f \\n\" % rmse(y_train,y_pred_tr_lm))"
   ]
  },
  {
   "cell_type": "code",
   "execution_count": 50,
   "metadata": {},
   "outputs": [
    {
     "name": "stdout",
     "output_type": "stream",
     "text": [
      "Model Score(Elastic): 0.5367928584627719\n",
      "Score Test Lineal: 0.54\n",
      "\n",
      " Train RMSE lineal   : 96005.77 \n",
      "\n"
     ]
    }
   ],
   "source": [
    "# testeamos #tarda (2min)\n",
    "model_elastic = lreg_elastic_score(X_train_norm, X_test_norm, y_train, y_test)\n",
    "calculate_rmse(model_elastic,X_train_norm,y_train,y)"
   ]
  },
  {
   "cell_type": "markdown",
   "metadata": {},
   "source": [
    "### Ridge"
   ]
  },
  {
   "cell_type": "code",
   "execution_count": 61,
   "metadata": {},
   "outputs": [
    {
     "name": "stdout",
     "output_type": "stream",
     "text": [
      "Alpha Ridge: 600.0\n"
     ]
    },
    {
     "data": {
      "text/plain": [
       "95999.22858686905"
      ]
     },
     "execution_count": 61,
     "metadata": {},
     "output_type": "execute_result"
    }
   ],
   "source": [
    "#los alfas se crean para hacer un tunning de los hiperparámetros de los modelos en base a validación cruzada\n",
    "#despues creo la regresion y le paso el alfa que obtuve\n",
    "kf = KFold(n_splits=5, shuffle=True)\n",
    "alfas_ridge = np.linspace(200, 1000, 5)\n",
    "lm_ridge_cv= RidgeCV(alphas=alfas_ridge, cv=kf, normalize=False, fit_intercept = True)\n",
    "lm_ridge_cv.fit(X_train_norm, y_train)\n",
    "print('Alpha Ridge:', lm_ridge_cv.alpha_)   \n",
    "\n",
    "#utilizo el alfa del paso anterior y  fiteo con un intercepto\n",
    "model_ridge = Ridge(lm_ridge_cv.alpha_, normalize=False, fit_intercept = True)\n",
    "model_ridge.fit(X_train_norm, y_train)\n",
    "\n",
    "y_pred_ridge = model_ridge.predict(X_train_norm)\n",
    "np.sqrt(mean_squared_error(y_train, y_pred_ridge))"
   ]
  },
  {
   "cell_type": "markdown",
   "metadata": {},
   "source": [
    "### Lasso"
   ]
  },
  {
   "cell_type": "code",
   "execution_count": 66,
   "metadata": {},
   "outputs": [
    {
     "name": "stdout",
     "output_type": "stream",
     "text": [
      "Alpha LASSO: 3.0\n"
     ]
    },
    {
     "data": {
      "text/plain": [
       "96113.70263128387"
      ]
     },
     "execution_count": 66,
     "metadata": {},
     "output_type": "execute_result"
    }
   ],
   "source": [
    "#pruebo lo mismo que en el paso anterior pero con lasso para verificar consistencia y encontrar el mejor modelo\n",
    "alfas_lasso = np.linspace(1, 5, 3)\n",
    "lm_lasso_cv = LassoCV(alphas=alfas_lasso, cv=kf, normalize=False, fit_intercept = True)\n",
    "lm_lasso_cv.fit(X_train, y_train)\n",
    "print('Alpha LASSO:', lm_lasso_cv.alpha_)\n",
    "\n",
    "model_lasso = Lasso(lm_lasso_cv.alpha_, normalize=False, fit_intercept = True)\n",
    "model_lasso.fit(X_train, y_train)\n",
    "y_pred_lasso = model_lasso.predict(X_train)\n",
    "np.sqrt(mean_squared_error(y_train, y_pred_lasso))"
   ]
  },
  {
   "cell_type": "markdown",
   "metadata": {},
   "source": [
    "#### Calculamos el R2 para ridge y Lasso"
   ]
  },
  {
   "cell_type": "code",
   "execution_count": 67,
   "metadata": {},
   "outputs": [
    {
     "name": "stdout",
     "output_type": "stream",
     "text": [
      "Score Train Ridge : 0.54\n",
      " Score Train Lasso : -89.17\n",
      "\n",
      "Train RMSE Ridge    : 95999.23 \n",
      " Train RMSE Lasso    : 96113.70 \n",
      "\n"
     ]
    }
   ],
   "source": [
    "# Calculamos el R2 para ridge y Lasso\n",
    "print(\"Score Train Ridge : %.2f\\n\" % lm_ridge_cv.score(X_train_norm, y_train),\n",
    "      \"Score Train Lasso : %.2f\\n\" %  lm_lasso_cv.score(X_train_norm, y_train))\n",
    "\n",
    "# Calculamos el RMSE\n",
    "rmse = lambda y, y_pred: np.sqrt(mean_squared_error(y, y_pred))\n",
    "\n",
    "print(\n",
    "#         \" Train RMSE lineal   : %.2f \\n\" % rmse(y_train,y_pred_lm),\n",
    "        \"Train RMSE Ridge    : %.2f \\n\" % rmse(y_train,y_pred_ridge),\n",
    "        \"Train RMSE Lasso    : %.2f \\n\" % rmse(y_train,y_pred_lasso))"
   ]
  },
  {
   "cell_type": "markdown",
   "metadata": {},
   "source": [
    "### Linear Regression\n",
    "* Hacemos el calculo con los datos de test (score y error cuadratico medio)"
   ]
  },
  {
   "cell_type": "markdown",
   "metadata": {},
   "source": [
    "***Redefino calculo de LinearRegression***"
   ]
  },
  {
   "cell_type": "code",
   "execution_count": 72,
   "metadata": {},
   "outputs": [],
   "source": [
    "def lreg_score_splitted(X_train, X_test, y_train, y_test):\n",
    "    lm = LinearRegression()\n",
    "    model = lm.fit(X_train, y_train)\n",
    "    predictions = lm.predict(X_train)\n",
    "    model_score = model.score(X_test, y_test)\n",
    "    print('Model Score:',model_score)\n",
    "    return model"
   ]
  },
  {
   "cell_type": "markdown",
   "metadata": {},
   "source": [
    "* Evaluando con modelo linear"
   ]
  },
  {
   "cell_type": "code",
   "execution_count": 73,
   "metadata": {},
   "outputs": [
    {
     "name": "stdout",
     "output_type": "stream",
     "text": [
      "Model Score: 0.5368434879610611\n",
      " Score Test Lineal: 0.55\n",
      "\n",
      " Test RMSE lineal= 95166.63\n",
      "\n"
     ]
    }
   ],
   "source": [
    "lm = lreg_score_splitted(X_train, X_test, y_train, y_test)\n",
    "lm.fit(X_test, y_test)\n",
    "\n",
    "y_pred_lmtest = lm.predict(X_test)\n",
    "print(\" Score Test Lineal: %.2f\\n\" % lm.score(X_test, y_test))\n",
    "print(\" Test RMSE lineal= %.2f\\n\" % rmse(y_test, y_pred_lmtest))"
   ]
  },
  {
   "cell_type": "markdown",
   "metadata": {},
   "source": [
    "#### Pruebo con test ridge"
   ]
  },
  {
   "cell_type": "code",
   "execution_count": 74,
   "metadata": {},
   "outputs": [
    {
     "name": "stdout",
     "output_type": "stream",
     "text": [
      "Alpha Ridge: 400.0\n"
     ]
    },
    {
     "data": {
      "text/plain": [
       "96652.46121799429"
      ]
     },
     "execution_count": 74,
     "metadata": {},
     "output_type": "execute_result"
    }
   ],
   "source": [
    "lm_ridge_cv.fit(X_test_norm, y_test)\n",
    "print('Alpha Ridge:', lm_ridge_cv.alpha_) \n",
    "\n",
    "y_pred_ridgetest = model_ridge.predict(X_test_norm)\n",
    "\n",
    "np.sqrt(mean_squared_error(y_test, y_pred_ridgetest))"
   ]
  },
  {
   "cell_type": "markdown",
   "metadata": {},
   "source": [
    "#### Pruebo con test lasso"
   ]
  },
  {
   "cell_type": "code",
   "execution_count": 75,
   "metadata": {},
   "outputs": [
    {
     "name": "stderr",
     "output_type": "stream",
     "text": [
      "/opt/conda/lib/python3.6/site-packages/sklearn/linear_model/coordinate_descent.py:491: ConvergenceWarning:\n",
      "\n",
      "Objective did not converge. You might want to increase the number of iterations. Fitting data with very small alpha may cause precision problems.\n",
      "\n"
     ]
    },
    {
     "data": {
      "text/plain": [
       "95166.64217702998"
      ]
     },
     "execution_count": 75,
     "metadata": {},
     "output_type": "execute_result"
    }
   ],
   "source": [
    "model_lasso.fit(X_test_norm, y_test)\n",
    "y_pred_lassotest = model_lasso.predict(X_test_norm)\n",
    "np.sqrt(mean_squared_error(y_test, y_pred_lassotest))"
   ]
  },
  {
   "cell_type": "markdown",
   "metadata": {},
   "source": [
    "#### Valores para test"
   ]
  },
  {
   "cell_type": "code",
   "execution_count": 76,
   "metadata": {},
   "outputs": [
    {
     "name": "stdout",
     "output_type": "stream",
     "text": [
      "Score Test Ridge : 0.55\n",
      " Score Test Lasso : -41.58\n",
      "\n",
      "Test RMSE Ridge = 96652.46\n",
      " Test RMSE Lasso = 95166.64\n"
     ]
    }
   ],
   "source": [
    "print(\"Score Test Ridge : %.2f\\n\" % lm_ridge_cv.score(X_test_norm, y_test),\n",
    "      \"Score Test Lasso : %.2f\\n\" %  lm_lasso_cv.score(X_test_norm, y_test))\n",
    "\n",
    "print(\"Test RMSE Ridge = %.2f\\n\" %  rmse(y_test, y_pred_ridgetest),\n",
    "      \"Test RMSE Lasso = %.2f\" %  rmse(y_test, y_pred_lassotest))"
   ]
  },
  {
   "cell_type": "markdown",
   "metadata": {},
   "source": [
    "### Valores Obtenidos"
   ]
  },
  {
   "cell_type": "markdown",
   "metadata": {},
   "source": [
    "* Score Test Lineal: 0.55\n",
    "* Score Test Ridge : 0.55\n",
    "* Score Test Lasso : -41.58 (OMG)"
   ]
  }
 ],
 "metadata": {
  "kernelspec": {
   "display_name": "Python 3",
   "language": "python",
   "name": "python3"
  },
  "language_info": {
   "codemirror_mode": {
    "name": "ipython",
    "version": 3
   },
   "file_extension": ".py",
   "mimetype": "text/x-python",
   "name": "python",
   "nbconvert_exporter": "python",
   "pygments_lexer": "ipython3",
   "version": "3.6.8"
  }
 },
 "nbformat": 4,
 "nbformat_minor": 2
}
