{
 "cells": [
  {
   "cell_type": "markdown",
   "metadata": {},
   "source": [
    "## PRACTICA_GUIADA: Clasificacion de texto y Sentiment Analysis\n",
    "\n",
    "### Ejemplo usando Naive Bayes Classifier"
   ]
  },
  {
   "cell_type": "code",
   "execution_count": 5,
   "metadata": {},
   "outputs": [
    {
     "name": "stderr",
     "output_type": "stream",
     "text": [
      "[nltk_data] Downloading package subjectivity to\n",
      "[nltk_data]     C:\\Users\\Joaquin\\AppData\\Roaming\\nltk_data...\n",
      "[nltk_data]   Package subjectivity is already up-to-date!\n"
     ]
    },
    {
     "data": {
      "text/plain": [
       "True"
      ]
     },
     "execution_count": 5,
     "metadata": {},
     "output_type": "execute_result"
    }
   ],
   "source": [
    "import nltk\n",
    "nltk.download('subjectivity')"
   ]
  },
  {
   "cell_type": "code",
   "execution_count": 6,
   "metadata": {},
   "outputs": [],
   "source": [
    "from nltk.classify import NaiveBayesClassifier\n",
    "from nltk.corpus import subjectivity\n",
    "from nltk.sentiment import SentimentAnalyzer\n",
    "from nltk.sentiment.util import *"
   ]
  },
  {
   "cell_type": "markdown",
   "metadata": {},
   "source": [
    "Vamos a trabajar con el corpus *subjectivity*. \n",
    "\n",
    "Explorémoslo brevemente.\n",
    "\n",
    "https://www.nltk.org/api/nltk.corpus.reader.html\n",
    "\n",
    "El corpus subjectivity está etiquetado con valores objetivo / subjetivo"
   ]
  },
  {
   "cell_type": "code",
   "execution_count": 7,
   "metadata": {},
   "outputs": [
    {
     "data": {
      "text/plain": [
       "['obj', 'subj']"
      ]
     },
     "execution_count": 7,
     "metadata": {},
     "output_type": "execute_result"
    }
   ],
   "source": [
    "subjectivity.categories()"
   ]
  },
  {
   "cell_type": "markdown",
   "metadata": {},
   "source": [
    "Veamos cuál es la primera oración etiquetada como 'objetivo'"
   ]
  },
  {
   "cell_type": "code",
   "execution_count": 8,
   "metadata": {},
   "outputs": [
    {
     "data": {
      "text/plain": [
       "['the',\n",
       " 'movie',\n",
       " 'begins',\n",
       " 'in',\n",
       " 'the',\n",
       " 'past',\n",
       " 'where',\n",
       " 'a',\n",
       " 'young',\n",
       " 'boy',\n",
       " 'named',\n",
       " 'sam',\n",
       " 'attempts',\n",
       " 'to',\n",
       " 'save',\n",
       " 'celebi',\n",
       " 'from',\n",
       " 'a',\n",
       " 'hunter',\n",
       " '.']"
      ]
     },
     "execution_count": 8,
     "metadata": {},
     "output_type": "execute_result"
    }
   ],
   "source": [
    "subjectivity.sents(categories='obj')[0]"
   ]
  },
  {
   "cell_type": "markdown",
   "metadata": {},
   "source": [
    "Veamos cuál es la oración número 11 etiquetada como 'objetivo'"
   ]
  },
  {
   "cell_type": "code",
   "execution_count": 9,
   "metadata": {},
   "outputs": [
    {
     "data": {
      "text/plain": [
       "['women', 'craved', 'him', 'and', 'men', 'wanted', 'to', 'be', 'him', '.']"
      ]
     },
     "execution_count": 9,
     "metadata": {},
     "output_type": "execute_result"
    }
   ],
   "source": [
    "subjectivity.sents(categories='obj')[10]"
   ]
  },
  {
   "cell_type": "markdown",
   "metadata": {},
   "source": [
    "Veamos cuál es la primera oración etiquetada como 'subjetivo'"
   ]
  },
  {
   "cell_type": "code",
   "execution_count": 10,
   "metadata": {},
   "outputs": [
    {
     "data": {
      "text/plain": [
       "['smart',\n",
       " 'and',\n",
       " 'alert',\n",
       " ',',\n",
       " 'thirteen',\n",
       " 'conversations',\n",
       " 'about',\n",
       " 'one',\n",
       " 'thing',\n",
       " 'is',\n",
       " 'a',\n",
       " 'small',\n",
       " 'gem',\n",
       " '.']"
      ]
     },
     "execution_count": 10,
     "metadata": {},
     "output_type": "execute_result"
    }
   ],
   "source": [
    "subjectivity.sents(categories='subj')[0]"
   ]
  },
  {
   "cell_type": "markdown",
   "metadata": {},
   "source": [
    "Veamos cuál es la oración número 12 etiquetada como 'subjetivo'"
   ]
  },
  {
   "cell_type": "code",
   "execution_count": 11,
   "metadata": {},
   "outputs": [
    {
     "data": {
      "text/plain": [
       "['directed',\n",
       " 'by',\n",
       " 'david',\n",
       " 'twohy',\n",
       " 'with',\n",
       " 'the',\n",
       " 'same',\n",
       " 'great',\n",
       " 'eye',\n",
       " 'for',\n",
       " 'eerie',\n",
       " 'understatement',\n",
       " 'that',\n",
       " 'he',\n",
       " 'brought',\n",
       " 'to',\n",
       " 'pitch',\n",
       " 'black',\n",
       " '.']"
      ]
     },
     "execution_count": 11,
     "metadata": {},
     "output_type": "execute_result"
    }
   ],
   "source": [
    "subjectivity.sents(categories='subj')[11]"
   ]
  },
  {
   "cell_type": "code",
   "execution_count": 12,
   "metadata": {
    "scrolled": true
   },
   "outputs": [
    {
     "data": {
      "text/plain": [
       "(100, 100)"
      ]
     },
     "execution_count": 12,
     "metadata": {},
     "output_type": "execute_result"
    }
   ],
   "source": [
    "# Construimos un pequeño corpus con 100 oraciones objetivas y 100 oraciones subjetivas\n",
    "\n",
    "n_instances = 100\n",
    "\n",
    "subj_docs = [(sent, 'subj') for sent in\\\n",
    "             subjectivity.sents(categories='subj')[:n_instances]] \n",
    "             # Traemos 100 frases subjetivas\n",
    "\n",
    "obj_docs = [(sent, 'obj') for sent in\\\n",
    "            subjectivity.sents(categories='obj')[:n_instances]]  \n",
    "            # Traemos 100 frases objetivas\n",
    "\n",
    "len(subj_docs), len(obj_docs)"
   ]
  },
  {
   "cell_type": "code",
   "execution_count": 13,
   "metadata": {},
   "outputs": [
    {
     "data": {
      "text/plain": [
       "(['smart',\n",
       "  'and',\n",
       "  'alert',\n",
       "  ',',\n",
       "  'thirteen',\n",
       "  'conversations',\n",
       "  'about',\n",
       "  'one',\n",
       "  'thing',\n",
       "  'is',\n",
       "  'a',\n",
       "  'small',\n",
       "  'gem',\n",
       "  '.'],\n",
       " 'subj')"
      ]
     },
     "execution_count": 13,
     "metadata": {},
     "output_type": "execute_result"
    }
   ],
   "source": [
    "# Cada documento esta representado por una tupla (sentence, label).\n",
    "# La frase esta tokenizada y representada en una lista de strings.\n",
    "subj_docs[0]"
   ]
  },
  {
   "cell_type": "code",
   "execution_count": 14,
   "metadata": {},
   "outputs": [],
   "source": [
    "# Separamos la data en train y test de forma balanceada\n",
    "\n",
    "train_subj_docs = subj_docs[:80]\n",
    "test_subj_docs = subj_docs[80:100]\n",
    "train_obj_docs = obj_docs[:80]\n",
    "test_obj_docs = obj_docs[80:100]\n",
    "\n",
    "training_docs = train_subj_docs + train_obj_docs\n",
    "testing_docs = test_subj_docs + test_obj_docs"
   ]
  },
  {
   "cell_type": "markdown",
   "metadata": {},
   "source": [
    "SentimentAnalyzer\n",
    "\n",
    "https://www.nltk.org/api/nltk.sentiment.html#module-nltk.sentiment.sentiment_analyzer\n",
    "\n",
    "\n",
    "\n",
    "nltk.sentiment.util.mark_negation(document, double_neg_flip=False, shallow=False): \n",
    "Append _NEG suffix to words that appear in the scope between a negation and a punctuation mark.\n",
    "\n",
    "all_words(documents, labeled=None):\n",
    "Return all words/tokens from the documents (with duplicates).\n",
    "\n",
    "unigram_word_feats(words, top_n=None, min_freq=0):\n",
    "Return most common top_n word features.\n",
    "\n",
    "add_feat_extractor(function, **kwargs): \n",
    "Add a new function to extract features from a document. This function will be used in extract_features(). Important: in this step our kwargs are only representing additional parameters, and NOT the document we have to parse. The document will always be the first parameter in the parameter list, and it will be added in the extract_features() function.\n",
    "\n",
    "nltk.sentiment.util.extract_unigram_feats(document, unigrams, handle_negation=False):\n",
    "Populate a dictionary of unigram features, reflecting the presence/absence in the document of each of the tokens in unigrams.\n",
    "\n",
    "---\n",
    "\n",
    "Los N-gramas de textos se usan ampliamente minería de texto y procesamiento de lenguaje natural. Básicamente son un conjunto de palabras concurrentes dentro de una ventana determinada y, cuando se calculan los n-gramas, generalmente se avanza una palabra (aunque puede avanzar X palabras hacia adelante en escenarios más avanzados).\n",
    "\n",
    "Ejemplo: \"The cow jumps over the moon\". \n",
    "Si N=2 (bigramas), los n-gramas son:\n",
    "\n",
    "the cow\n",
    "\n",
    "cow jumps\n",
    "\n",
    "jumps over\n",
    "\n",
    "over the\n",
    "\n",
    "the moon\n",
    "\n",
    "Tenemos 5 n-gramas. Observar que nos movemos una palabra hacia adelante para generar el sigiente bigrama.\n",
    "u\n",
    "the->cow a cow->jumps a jumps->over\n",
    "\n",
    "Si N=3, los n-gramas son:\n",
    "\n",
    "the cow jumps\n",
    "\n",
    "cow jumps over\n",
    "\n",
    "jumps over the\n",
    "\n",
    "over the moon\n",
    "\n",
    "Y tenemos 4 n-gramas.\n",
    "\n",
    "Cuando N=1, se denominan unigramas y es básicamente cada palabra individual de la oración. \n",
    "\n",
    "Cuando N=2, se denominan bigramas."
   ]
  },
  {
   "cell_type": "markdown",
   "metadata": {},
   "source": [
    "Objetivo: construir un clasificador que prediga si una oración es objetiva o subjetiva.\n",
    "El clasificador será el resultado de entrenar sentim_analyzer con Naive Bayes."
   ]
  },
  {
   "cell_type": "code",
   "execution_count": 15,
   "metadata": {},
   "outputs": [
    {
     "name": "stdout",
     "output_type": "stream",
     "text": [
      "['.', 'the', ',', 'a', 'and', 'of', 'to', 'is', 'in', 'with', 'it', 'that', 'his', 'on', 'for', 'an', 'who', 'by', 'he', 'from', 'her', '\"', 'film', 'as', 'this', 'movie', 'their', 'but', 'one', 'at', 'about', 'the_NEG', 'a_NEG', 'to_NEG', 'are', \"there's\", '(', 'story', 'when', 'so', 'be', ',_NEG', ')', 'they', 'you', 'not', 'have', 'like', 'will', 'all', 'into', 'out', 'she', 'what', 'life', 'has', 'its', 'only', 'more', 'even', '--', ':', 'can', ';', 'home', 'look', \"it's\", 'if', 'where', 'most', 'him', 'search', 'but_NEG', 'love', 'both', 'make', 'begins', 'some', 'two', 'of_NEG', 'made', 'which', 'them', 'just', 'wife', 'much', 'get', 'through', 'time', 'gets', 'it_NEG', 'very', 'i', 'feel', 'really', 'own', 'how', 'other', 'dark', 'lacks', 'then', 'work', 'as_NEG', 'and_NEG', 'young', 'old', '?', 'far', 'come', 'years', 'something', 'called', 'family', 'daughter', 'up', 'take', 'back', 'thing', 'while', 'could', 'been', 'job', 'documentary', 'farm', 'characters', 'script', 'material', 'never', 'is_NEG', 'great', 'brought', 'rock', 'kind', 'happy', 'after', 'those', 'sees', 'emotional', 'good', 'people', 'going', \"doesn't\", 'with_NEG', 'see', 'around', 'chance', \"film's\", 'powerful', 'making', \"isn't\", \"he's\", 'no', 'year', 'gives', 'evil', 'off', 'set', 'long', 'up_NEG', 'in_NEG', 'without', 'than_NEG', 'movies', 'way', 'boy', 'child', 'his_NEG', \"they're\", 'mom', 'mysterious', 'war', 'soon', 'trip', 'journey', 'new', 'must_NEG', 'small', 'gem', 'island', 'enough', 'send', 'an_NEG', 'one_NEG', 'french', 'seeking', 'affair', 'my', 'moments', 'though', 'amusing', 'engaging', 'drama', 'would', 'matter', 'before', 'joy', 'directed', 'david', 'same', 'roll']\n"
     ]
    },
    {
     "data": {
      "text/plain": [
       "200"
      ]
     },
     "execution_count": 15,
     "metadata": {},
     "output_type": "execute_result"
    }
   ],
   "source": [
    "# Trabajamos sobre las negaciones usando SentimentAnalyzer\n",
    "\n",
    "sentim_analyzer = SentimentAnalyzer()\n",
    "\n",
    "all_words_neg = sentim_analyzer.all_words([mark_negation(doc) for doc in training_docs])\n",
    "\n",
    "#####es como que lo esta fiteando?\n",
    "unigram_feats = sentim_analyzer.unigram_word_feats(all_words_neg, top_n=200)\n",
    "\n",
    "print(unigram_feats)\n",
    "\n",
    "len(unigram_feats)"
   ]
  },
  {
   "cell_type": "code",
   "execution_count": 16,
   "metadata": {},
   "outputs": [],
   "source": [
    "sentim_analyzer.add_feat_extractor(extract_unigram_feats, unigrams=unigram_feats)\n",
    "\n",
    "#####que es add feat extractor?"
   ]
  },
  {
   "cell_type": "code",
   "execution_count": 17,
   "metadata": {},
   "outputs": [
    {
     "data": {
      "text/plain": [
       "[({'contains(.)': True, 'contains(the)': True, 'contains(,)': False, 'contains(a)': True, 'contains(and)': False, 'contains(of)': True, 'contains(to)': False, 'contains(is)': False, 'contains(in)': False, 'contains(with)': True, 'contains(it)': False, 'contains(that)': False, 'contains(his)': False, 'contains(on)': False, 'contains(for)': True, 'contains(an)': False, 'contains(who)': False, 'contains(by)': False, 'contains(he)': False, 'contains(from)': False, 'contains(her)': False, 'contains(\")': False, 'contains(film)': False, 'contains(as)': False, 'contains(this)': False, 'contains(movie)': False, 'contains(their)': False, 'contains(but)': False, 'contains(one)': False, 'contains(at)': False, 'contains(about)': False, 'contains(the_NEG)': False, 'contains(a_NEG)': False, 'contains(to_NEG)': False, 'contains(are)': False, \"contains(there's)\": False, 'contains(()': False, 'contains(story)': False, 'contains(when)': False, 'contains(so)': False, 'contains(be)': False, 'contains(,_NEG)': False, 'contains())': False, 'contains(they)': False, 'contains(you)': False, 'contains(not)': False, 'contains(have)': False, 'contains(like)': False, 'contains(will)': False, 'contains(all)': False, 'contains(into)': False, 'contains(out)': False, 'contains(she)': False, 'contains(what)': False, 'contains(life)': False, 'contains(has)': False, 'contains(its)': False, 'contains(only)': False, 'contains(more)': False, 'contains(even)': False, 'contains(--)': False, 'contains(:)': False, 'contains(can)': False, 'contains(;)': False, 'contains(home)': False, 'contains(look)': False, \"contains(it's)\": False, 'contains(if)': False, 'contains(where)': False, 'contains(most)': False, 'contains(him)': False, 'contains(search)': False, 'contains(but_NEG)': False, 'contains(love)': False, 'contains(both)': False, 'contains(make)': False, 'contains(begins)': False, 'contains(some)': False, 'contains(two)': False, 'contains(of_NEG)': False, 'contains(made)': False, 'contains(which)': False, 'contains(them)': False, 'contains(just)': False, 'contains(wife)': False, 'contains(much)': False, 'contains(get)': False, 'contains(through)': False, 'contains(time)': False, 'contains(gets)': False, 'contains(it_NEG)': False, 'contains(very)': False, 'contains(i)': False, 'contains(feel)': False, 'contains(really)': False, 'contains(own)': False, 'contains(how)': False, 'contains(other)': False, 'contains(dark)': False, 'contains(lacks)': False, 'contains(then)': False, 'contains(work)': False, 'contains(as_NEG)': False, 'contains(and_NEG)': False, 'contains(young)': False, 'contains(old)': False, 'contains(?)': False, 'contains(far)': False, 'contains(come)': False, 'contains(years)': False, 'contains(something)': False, 'contains(called)': False, 'contains(family)': False, 'contains(daughter)': False, 'contains(up)': False, 'contains(take)': False, 'contains(back)': False, 'contains(thing)': False, 'contains(while)': False, 'contains(could)': False, 'contains(been)': False, 'contains(job)': False, 'contains(documentary)': False, 'contains(farm)': False, 'contains(characters)': False, 'contains(script)': False, 'contains(material)': False, 'contains(never)': False, 'contains(is_NEG)': False, 'contains(great)': False, 'contains(brought)': False, 'contains(rock)': False, 'contains(kind)': False, 'contains(happy)': False, 'contains(after)': False, 'contains(those)': False, 'contains(sees)': False, 'contains(emotional)': False, 'contains(good)': False, 'contains(people)': False, 'contains(going)': False, \"contains(doesn't)\": False, 'contains(with_NEG)': False, 'contains(see)': False, 'contains(around)': False, 'contains(chance)': False, \"contains(film's)\": False, 'contains(powerful)': False, 'contains(making)': False, \"contains(isn't)\": False, \"contains(he's)\": False, 'contains(no)': False, 'contains(year)': False, 'contains(gives)': False, 'contains(evil)': False, 'contains(off)': False, 'contains(set)': False, 'contains(long)': False, 'contains(up_NEG)': False, 'contains(in_NEG)': False, 'contains(without)': False, 'contains(than_NEG)': False, 'contains(movies)': False, 'contains(way)': False, 'contains(boy)': False, 'contains(child)': False, 'contains(his_NEG)': False, \"contains(they're)\": False, 'contains(mom)': False, 'contains(mysterious)': False, 'contains(war)': False, 'contains(soon)': False, 'contains(trip)': False, 'contains(journey)': False, 'contains(new)': False, 'contains(must_NEG)': False, 'contains(small)': False, 'contains(gem)': False, 'contains(island)': False, 'contains(enough)': False, 'contains(send)': False, 'contains(an_NEG)': False, 'contains(one_NEG)': False, 'contains(french)': False, 'contains(seeking)': False, 'contains(affair)': False, 'contains(my)': False, 'contains(moments)': False, 'contains(though)': False, 'contains(amusing)': False, 'contains(engaging)': False, 'contains(drama)': False, 'contains(would)': False, 'contains(matter)': False, 'contains(before)': False, 'contains(joy)': False, 'contains(directed)': False, 'contains(david)': False, 'contains(same)': False, 'contains(roll)': False}, 'subj')]"
      ]
     },
     "execution_count": 17,
     "metadata": {},
     "output_type": "execute_result"
    }
   ],
   "source": [
    "# Apply all feature extractor functions to the documents:\n",
    "training_set = sentim_analyzer.apply_features(training_docs)\n",
    "test_set = sentim_analyzer.apply_features(testing_docs)\n",
    "test_set[:1]"
   ]
  },
  {
   "cell_type": "markdown",
   "metadata": {},
   "source": [
    "Recordemos cómo se calcula recall\n",
    "\n",
    "Recall: tp / (tp + fn)"
   ]
  },
  {
   "cell_type": "code",
   "execution_count": 18,
   "metadata": {},
   "outputs": [
    {
     "name": "stdout",
     "output_type": "stream",
     "text": [
      "Training classifier\n",
      "Evaluating NaiveBayesClassifier results...\n",
      "Accuracy: 0.8\n",
      "F-measure [obj]: 0.7894736842105263\n",
      "F-measure [subj]: 0.8095238095238095\n",
      "Precision [obj]: 0.8333333333333334\n",
      "Precision [subj]: 0.7727272727272727\n",
      "Recall [obj]: 0.75\n",
      "Recall [subj]: 0.85\n"
     ]
    }
   ],
   "source": [
    "# Entrenamos el modelo predictivo y vemos su performance\n",
    "\n",
    "trainer = NaiveBayesClassifier.train\n",
    "\n",
    "# train(trainer, training_set, save_classifier=None, **kwargs):\n",
    "# Train classifier on the training set, optionally saving the output in the file specified by save_classifier. \n",
    "# Additional arguments depend on the specific trainer used. \n",
    "\n",
    "# Training classifier\n",
    "classifier = sentim_analyzer.train(trainer, training_set)\n",
    "\n",
    "# sentim_analyzer.evaluate: Evaluate and print classifier performance on the test set.\n",
    "for key,value in sorted(sentim_analyzer.evaluate(test_set).items()):\n",
    "    print('{0}: {1}'.format(key, value))"
   ]
  },
  {
   "cell_type": "code",
   "execution_count": 19,
   "metadata": {},
   "outputs": [
    {
     "data": {
      "text/plain": [
       "'subj'"
      ]
     },
     "execution_count": 19,
     "metadata": {},
     "output_type": "execute_result"
    }
   ],
   "source": [
    "# Ejemplo de classificacion de una frase:\n",
    "sentim_analyzer.classify(\"i want to ride my bicycle.\")"
   ]
  },
  {
   "cell_type": "code",
   "execution_count": 20,
   "metadata": {},
   "outputs": [
    {
     "data": {
      "text/plain": [
       "'obj'"
      ]
     },
     "execution_count": 20,
     "metadata": {},
     "output_type": "execute_result"
    }
   ],
   "source": [
    "sentim_analyzer.classify(\"sun is shining\")"
   ]
  },
  {
   "cell_type": "markdown",
   "metadata": {},
   "source": [
    "### VADER Sentiment Analysis\n",
    "\n",
    "VADER (Valence Aware Dictionary and sEntiment Reasoner) is a lexicon and rule-based sentiment analysis tool that is specifically attuned to sentiments expressed in social media. A sentiment lexicon is a list of lexical features (e.g., words) which are generally labelled according to their semantic orientation as either positive or negative.\n",
    "\n",
    "\n",
    "http://comp.social.gatech.edu/papers/icwsm14.vader.hutto.pdf\n",
    "\n",
    "https://medium.com/analytics-vidhya/simplifying-social-media-sentiment-analysis-using-vader-in-python-f9e6ec6fc52f"
   ]
  },
  {
   "cell_type": "code",
   "execution_count": 21,
   "metadata": {},
   "outputs": [],
   "source": [
    "from nltk.sentiment.vader import SentimentIntensityAnalyzer\n",
    "\n",
    "sentences = [\"VADER is smart, handsome, and funny.\", # positive sentence example\n",
    "             \"VADER is smart, handsome, and funny!\", # punctuation emphasis handled correctly (sentiment intensity adjusted)\n",
    "             \"VADER is very smart, handsome, and funny.\",  # booster words handled correctly (sentiment intensity adjusted)\n",
    "             \"VADER is VERY SMART, handsome, and FUNNY.\",  # emphasis for ALLCAPS handled\n",
    "             \"VADER is VERY SMART, handsome, and FUNNY!!!\",# combination of signals - VADER appropriately adjusts intensity\n",
    "             \"VADER is VERY SMART, really handsome, and INCREDIBLY FUNNY!!!\", # booster words & punctuation make this close to \n",
    "                                                                              # ceiling for score\n",
    "             \"The book was good.\", # positive sentence\n",
    "             \"The book was kind of good.\", # qualified positive sentence is handled correctly (intensity adjusted)\n",
    "             \"The plot was good, but the characters are uncompelling and the dialog is not great.\", # mixed negation sentence\n",
    "             \"A really bad, horrible book.\", # negative sentence with booster words\n",
    "             \"At least it isn't a horrible book.\", # negated negative sentence with contraction\n",
    "             \":) and :D\", # emoticons handled\n",
    "             \"\", # an empty string is correctly handled\n",
    "             \"Today sux\", #  negative slang handled\n",
    "             \"Today sux!\", #  negative slang with punctuation emphasis handled\n",
    "             \"Today SUX!\", #  negative slang with capitalization emphasis\n",
    "             \"Today kinda sux! But I'll get by, lol\"] # mixed sentiment example with slang and constrastive conjunction \"but\""
   ]
  },
  {
   "cell_type": "code",
   "execution_count": 22,
   "metadata": {},
   "outputs": [],
   "source": [
    "paragraph = \"It was one of the worst movies I've seen, despite good reviews. \\\n",
    "Unbelievably bad acting!! Poor direction. VERY poor production. \\\n",
    "The movie was bad. Very bad movie. VERY bad movie. VERY BAD movie. VERY BAD movie!\""
   ]
  },
  {
   "cell_type": "code",
   "execution_count": 23,
   "metadata": {},
   "outputs": [
    {
     "name": "stderr",
     "output_type": "stream",
     "text": [
      "[nltk_data] Downloading package punkt to\n",
      "[nltk_data]     C:\\Users\\Joaquin\\AppData\\Roaming\\nltk_data...\n",
      "[nltk_data]   Package punkt is already up-to-date!\n"
     ]
    }
   ],
   "source": [
    "nltk.download('punkt')\n",
    "from nltk import tokenize\n",
    "\n",
    "lines_list = tokenize.sent_tokenize(paragraph)\n",
    "sentences.extend(lines_list)"
   ]
  },
  {
   "cell_type": "code",
   "execution_count": 24,
   "metadata": {},
   "outputs": [],
   "source": [
    "tricky_sentences = [\"Most automated sentiment analysis tools are shit.\",\n",
    "                    \"VADER sentiment analysis is the shit.\",\n",
    "                    \"Sentiment analysis has never been good.\",\n",
    "                    \"Sentiment analysis with VADER has never been this good.\",\n",
    "                    \"Warren Beatty has never been so entertaining.\",\n",
    "                    \"I won't say that the movie is astounding and I wouldn't claim that the movie is too banal either.\",\n",
    "                    \"I like to hate Michael Bay films, but I couldn't fault this one\",\n",
    "                    \"It's one thing to watch an Uwe Boll film, but another thing entirely to pay for it\",\n",
    "                    \"The movie was too good\",\n",
    "                    \"This movie was actually neither that funny, nor super witty.\",\n",
    "                    \"This movie doesn't care about cleverness, wit or any other kind of intelligent humor.\",\n",
    "                    \"Those who find ugly meanings in beautiful things are corrupt without being charming.\",\n",
    "                    \"There are slow and repetitive parts, BUT it has just enough spice to keep it interesting.\",\n",
    "                    \"The script is not fantastic, but the acting is decent and the cinematography is EXCELLENT!\",\n",
    "                    \"Roger Dodger is one of the most compelling variations on this theme.\",\n",
    "                    \"Roger Dodger is one of the least compelling variations on this theme.\",\n",
    "                    \"Roger Dodger is at least compelling as a variation on the theme.\",\n",
    "                    \"they fall in love with the product\",\n",
    "                    \"but then it breaks\",\n",
    "                    \"usually around the time the 90 day warranty expires\",\n",
    "                    \"the twin towers collapsed today\",\n",
    "                    \"However, Mr. Carter solemnly argues, his client carried out the kidnapping \\\n",
    "                     under orders and in the ''least offensive way possible.''\"]\n",
    "\n",
    "sentences.extend(tricky_sentences)"
   ]
  },
  {
   "cell_type": "code",
   "execution_count": 25,
   "metadata": {},
   "outputs": [
    {
     "name": "stderr",
     "output_type": "stream",
     "text": [
      "[nltk_data] Downloading package vader_lexicon to\n",
      "[nltk_data]     C:\\Users\\Joaquin\\AppData\\Roaming\\nltk_data...\n"
     ]
    },
    {
     "data": {
      "text/plain": [
       "True"
      ]
     },
     "execution_count": 25,
     "metadata": {},
     "output_type": "execute_result"
    }
   ],
   "source": [
    "import nltk\n",
    "nltk.download('vader_lexicon')"
   ]
  },
  {
   "cell_type": "code",
   "execution_count": 26,
   "metadata": {},
   "outputs": [],
   "source": [
    "sid = SentimentIntensityAnalyzer()  # Modelo preentrenado"
   ]
  },
  {
   "cell_type": "code",
   "execution_count": 27,
   "metadata": {},
   "outputs": [
    {
     "name": "stdout",
     "output_type": "stream",
     "text": [
      "VADER is smart, handsome, and funny.\n",
      "compound: 0.8316, neg: 0.0, neu: 0.254, pos: 0.746, \n",
      "VADER is smart, handsome, and funny!\n",
      "compound: 0.8439, neg: 0.0, neu: 0.248, pos: 0.752, \n",
      "VADER is very smart, handsome, and funny.\n",
      "compound: 0.8545, neg: 0.0, neu: 0.299, pos: 0.701, \n",
      "VADER is VERY SMART, handsome, and FUNNY.\n",
      "compound: 0.9227, neg: 0.0, neu: 0.246, pos: 0.754, \n",
      "VADER is VERY SMART, handsome, and FUNNY!!!\n",
      "compound: 0.9342, neg: 0.0, neu: 0.233, pos: 0.767, \n",
      "VADER is VERY SMART, really handsome, and INCREDIBLY FUNNY!!!\n",
      "compound: 0.9469, neg: 0.0, neu: 0.294, pos: 0.706, \n",
      "The book was good.\n",
      "compound: 0.4404, neg: 0.0, neu: 0.508, pos: 0.492, \n",
      "The book was kind of good.\n",
      "compound: 0.3832, neg: 0.0, neu: 0.657, pos: 0.343, \n",
      "The plot was good, but the characters are uncompelling and the dialog is not great.\n",
      "compound: -0.7042, neg: 0.327, neu: 0.579, pos: 0.094, \n",
      "A really bad, horrible book.\n",
      "compound: -0.8211, neg: 0.791, neu: 0.209, pos: 0.0, \n",
      "At least it isn't a horrible book.\n",
      "compound: 0.431, neg: 0.0, neu: 0.637, pos: 0.363, \n",
      ":) and :D\n",
      "compound: 0.7925, neg: 0.0, neu: 0.124, pos: 0.876, \n",
      "\n",
      "compound: 0.0, neg: 0.0, neu: 0.0, pos: 0.0, \n",
      "Today sux\n",
      "compound: -0.3612, neg: 0.714, neu: 0.286, pos: 0.0, \n",
      "Today sux!\n",
      "compound: -0.4199, neg: 0.736, neu: 0.264, pos: 0.0, \n",
      "Today SUX!\n",
      "compound: -0.5461, neg: 0.779, neu: 0.221, pos: 0.0, \n",
      "Today kinda sux! But I'll get by, lol\n",
      "compound: 0.2228, neg: 0.195, neu: 0.531, pos: 0.274, \n",
      "It was one of the worst movies I've seen, despite good reviews.\n",
      "compound: -0.7584, neg: 0.394, neu: 0.606, pos: 0.0, \n",
      "Unbelievably bad acting!!\n",
      "compound: -0.6572, neg: 0.686, neu: 0.314, pos: 0.0, \n",
      "Poor direction.\n",
      "compound: -0.4767, neg: 0.756, neu: 0.244, pos: 0.0, \n",
      "VERY poor production.\n",
      "compound: -0.6281, neg: 0.674, neu: 0.326, pos: 0.0, \n",
      "The movie was bad.\n",
      "compound: -0.5423, neg: 0.538, neu: 0.462, pos: 0.0, \n",
      "Very bad movie.\n",
      "compound: -0.5849, neg: 0.655, neu: 0.345, pos: 0.0, \n",
      "VERY bad movie.\n",
      "compound: -0.6732, neg: 0.694, neu: 0.306, pos: 0.0, \n",
      "VERY BAD movie.\n",
      "compound: -0.7398, neg: 0.724, neu: 0.276, pos: 0.0, \n",
      "VERY BAD movie!\n",
      "compound: -0.7616, neg: 0.735, neu: 0.265, pos: 0.0, \n",
      "Most automated sentiment analysis tools are shit.\n",
      "compound: -0.5574, neg: 0.375, neu: 0.625, pos: 0.0, \n",
      "VADER sentiment analysis is the shit.\n",
      "compound: 0.6124, neg: 0.0, neu: 0.556, pos: 0.444, \n",
      "Sentiment analysis has never been good.\n",
      "compound: -0.3412, neg: 0.325, neu: 0.675, pos: 0.0, \n",
      "Sentiment analysis with VADER has never been this good.\n",
      "compound: 0.5228, neg: 0.0, neu: 0.703, pos: 0.297, \n",
      "Warren Beatty has never been so entertaining.\n",
      "compound: 0.5777, neg: 0.0, neu: 0.616, pos: 0.384, \n",
      "I won't say that the movie is astounding and I wouldn't claim that the movie is too banal either.\n",
      "compound: 0.4215, neg: 0.0, neu: 0.851, pos: 0.149, \n",
      "I like to hate Michael Bay films, but I couldn't fault this one\n",
      "compound: 0.3153, neg: 0.157, neu: 0.534, pos: 0.309, \n",
      "It's one thing to watch an Uwe Boll film, but another thing entirely to pay for it\n",
      "compound: -0.2541, neg: 0.112, neu: 0.888, pos: 0.0, \n",
      "The movie was too good\n",
      "compound: 0.4404, neg: 0.0, neu: 0.58, pos: 0.42, \n",
      "This movie was actually neither that funny, nor super witty.\n",
      "compound: -0.6759, neg: 0.41, neu: 0.59, pos: 0.0, \n",
      "This movie doesn't care about cleverness, wit or any other kind of intelligent humor.\n",
      "compound: -0.1338, neg: 0.265, neu: 0.497, pos: 0.239, \n",
      "Those who find ugly meanings in beautiful things are corrupt without being charming.\n",
      "compound: -0.3553, neg: 0.314, neu: 0.493, pos: 0.192, \n",
      "There are slow and repetitive parts, BUT it has just enough spice to keep it interesting.\n",
      "compound: 0.4678, neg: 0.079, neu: 0.735, pos: 0.186, \n",
      "The script is not fantastic, but the acting is decent and the cinematography is EXCELLENT!\n",
      "compound: 0.7565, neg: 0.092, neu: 0.607, pos: 0.301, \n",
      "Roger Dodger is one of the most compelling variations on this theme.\n",
      "compound: 0.2944, neg: 0.0, neu: 0.834, pos: 0.166, \n",
      "Roger Dodger is one of the least compelling variations on this theme.\n",
      "compound: -0.1695, neg: 0.132, neu: 0.868, pos: 0.0, \n",
      "Roger Dodger is at least compelling as a variation on the theme.\n",
      "compound: 0.2263, neg: 0.0, neu: 0.84, pos: 0.16, \n",
      "they fall in love with the product\n",
      "compound: 0.6369, neg: 0.0, neu: 0.588, pos: 0.412, \n",
      "but then it breaks\n",
      "compound: 0.0, neg: 0.0, neu: 1.0, pos: 0.0, \n",
      "usually around the time the 90 day warranty expires\n",
      "compound: 0.0, neg: 0.0, neu: 1.0, pos: 0.0, \n",
      "the twin towers collapsed today\n",
      "compound: -0.2732, neg: 0.344, neu: 0.656, pos: 0.0, \n",
      "However, Mr. Carter solemnly argues, his client carried out the kidnapping                      under orders and in the ''least offensive way possible.''\n",
      "compound: -0.5859, neg: 0.23, neu: 0.697, pos: 0.074, \n"
     ]
    }
   ],
   "source": [
    "for sentence in sentences:\n",
    "    print(sentence)\n",
    "    ss = sid.polarity_scores(sentence) ##### WHAAAT Q ES POLARITY_SCORES\n",
    "    for k in sorted(ss):\n",
    "        print('{0}: {1}, '.format(k, ss[k]), end='')\n",
    "    print()"
   ]
  },
  {
   "cell_type": "markdown",
   "metadata": {},
   "source": [
    "---\n",
    "\n",
    "### Sentiment Analysis con Sklearn"
   ]
  },
  {
   "cell_type": "markdown",
   "metadata": {},
   "source": [
    "#### Preparamos los datos"
   ]
  },
  {
   "cell_type": "code",
   "execution_count": 28,
   "metadata": {},
   "outputs": [
    {
     "ename": "FileNotFoundError",
     "evalue": "File b'../Data/Amazon_Unlocked_Mobile.csv' does not exist",
     "output_type": "error",
     "traceback": [
      "\u001b[1;31m---------------------------------------------------------------------------\u001b[0m",
      "\u001b[1;31mFileNotFoundError\u001b[0m                         Traceback (most recent call last)",
      "\u001b[1;32m<ipython-input-28-7f27f5847c53>\u001b[0m in \u001b[0;36m<module>\u001b[1;34m\u001b[0m\n\u001b[0;32m      3\u001b[0m \u001b[1;33m\u001b[0m\u001b[0m\n\u001b[0;32m      4\u001b[0m \u001b[1;31m# leemos los datos del csv\u001b[0m\u001b[1;33m\u001b[0m\u001b[1;33m\u001b[0m\u001b[1;33m\u001b[0m\u001b[0m\n\u001b[1;32m----> 5\u001b[1;33m \u001b[0mdf\u001b[0m \u001b[1;33m=\u001b[0m \u001b[0mpd\u001b[0m\u001b[1;33m.\u001b[0m\u001b[0mread_csv\u001b[0m\u001b[1;33m(\u001b[0m\u001b[1;34m'../Data/Amazon_Unlocked_Mobile.csv'\u001b[0m\u001b[1;33m)\u001b[0m\u001b[1;33m\u001b[0m\u001b[1;33m\u001b[0m\u001b[0m\n\u001b[0m\u001b[0;32m      6\u001b[0m \u001b[1;33m\u001b[0m\u001b[0m\n\u001b[0;32m      7\u001b[0m \u001b[1;31m# Trabajamos sobre una muestra de los datos para acelerar los cálculos\u001b[0m\u001b[1;33m\u001b[0m\u001b[1;33m\u001b[0m\u001b[1;33m\u001b[0m\u001b[0m\n",
      "\u001b[1;32m~\\Anaconda3\\lib\\site-packages\\pandas\\io\\parsers.py\u001b[0m in \u001b[0;36mparser_f\u001b[1;34m(filepath_or_buffer, sep, delimiter, header, names, index_col, usecols, squeeze, prefix, mangle_dupe_cols, dtype, engine, converters, true_values, false_values, skipinitialspace, skiprows, nrows, na_values, keep_default_na, na_filter, verbose, skip_blank_lines, parse_dates, infer_datetime_format, keep_date_col, date_parser, dayfirst, iterator, chunksize, compression, thousands, decimal, lineterminator, quotechar, quoting, escapechar, comment, encoding, dialect, tupleize_cols, error_bad_lines, warn_bad_lines, skipfooter, doublequote, delim_whitespace, low_memory, memory_map, float_precision)\u001b[0m\n\u001b[0;32m    676\u001b[0m                     skip_blank_lines=skip_blank_lines)\n\u001b[0;32m    677\u001b[0m \u001b[1;33m\u001b[0m\u001b[0m\n\u001b[1;32m--> 678\u001b[1;33m         \u001b[1;32mreturn\u001b[0m \u001b[0m_read\u001b[0m\u001b[1;33m(\u001b[0m\u001b[0mfilepath_or_buffer\u001b[0m\u001b[1;33m,\u001b[0m \u001b[0mkwds\u001b[0m\u001b[1;33m)\u001b[0m\u001b[1;33m\u001b[0m\u001b[1;33m\u001b[0m\u001b[0m\n\u001b[0m\u001b[0;32m    679\u001b[0m \u001b[1;33m\u001b[0m\u001b[0m\n\u001b[0;32m    680\u001b[0m     \u001b[0mparser_f\u001b[0m\u001b[1;33m.\u001b[0m\u001b[0m__name__\u001b[0m \u001b[1;33m=\u001b[0m \u001b[0mname\u001b[0m\u001b[1;33m\u001b[0m\u001b[1;33m\u001b[0m\u001b[0m\n",
      "\u001b[1;32m~\\Anaconda3\\lib\\site-packages\\pandas\\io\\parsers.py\u001b[0m in \u001b[0;36m_read\u001b[1;34m(filepath_or_buffer, kwds)\u001b[0m\n\u001b[0;32m    438\u001b[0m \u001b[1;33m\u001b[0m\u001b[0m\n\u001b[0;32m    439\u001b[0m     \u001b[1;31m# Create the parser.\u001b[0m\u001b[1;33m\u001b[0m\u001b[1;33m\u001b[0m\u001b[1;33m\u001b[0m\u001b[0m\n\u001b[1;32m--> 440\u001b[1;33m     \u001b[0mparser\u001b[0m \u001b[1;33m=\u001b[0m \u001b[0mTextFileReader\u001b[0m\u001b[1;33m(\u001b[0m\u001b[0mfilepath_or_buffer\u001b[0m\u001b[1;33m,\u001b[0m \u001b[1;33m**\u001b[0m\u001b[0mkwds\u001b[0m\u001b[1;33m)\u001b[0m\u001b[1;33m\u001b[0m\u001b[1;33m\u001b[0m\u001b[0m\n\u001b[0m\u001b[0;32m    441\u001b[0m \u001b[1;33m\u001b[0m\u001b[0m\n\u001b[0;32m    442\u001b[0m     \u001b[1;32mif\u001b[0m \u001b[0mchunksize\u001b[0m \u001b[1;32mor\u001b[0m \u001b[0miterator\u001b[0m\u001b[1;33m:\u001b[0m\u001b[1;33m\u001b[0m\u001b[1;33m\u001b[0m\u001b[0m\n",
      "\u001b[1;32m~\\Anaconda3\\lib\\site-packages\\pandas\\io\\parsers.py\u001b[0m in \u001b[0;36m__init__\u001b[1;34m(self, f, engine, **kwds)\u001b[0m\n\u001b[0;32m    785\u001b[0m             \u001b[0mself\u001b[0m\u001b[1;33m.\u001b[0m\u001b[0moptions\u001b[0m\u001b[1;33m[\u001b[0m\u001b[1;34m'has_index_names'\u001b[0m\u001b[1;33m]\u001b[0m \u001b[1;33m=\u001b[0m \u001b[0mkwds\u001b[0m\u001b[1;33m[\u001b[0m\u001b[1;34m'has_index_names'\u001b[0m\u001b[1;33m]\u001b[0m\u001b[1;33m\u001b[0m\u001b[1;33m\u001b[0m\u001b[0m\n\u001b[0;32m    786\u001b[0m \u001b[1;33m\u001b[0m\u001b[0m\n\u001b[1;32m--> 787\u001b[1;33m         \u001b[0mself\u001b[0m\u001b[1;33m.\u001b[0m\u001b[0m_make_engine\u001b[0m\u001b[1;33m(\u001b[0m\u001b[0mself\u001b[0m\u001b[1;33m.\u001b[0m\u001b[0mengine\u001b[0m\u001b[1;33m)\u001b[0m\u001b[1;33m\u001b[0m\u001b[1;33m\u001b[0m\u001b[0m\n\u001b[0m\u001b[0;32m    788\u001b[0m \u001b[1;33m\u001b[0m\u001b[0m\n\u001b[0;32m    789\u001b[0m     \u001b[1;32mdef\u001b[0m \u001b[0mclose\u001b[0m\u001b[1;33m(\u001b[0m\u001b[0mself\u001b[0m\u001b[1;33m)\u001b[0m\u001b[1;33m:\u001b[0m\u001b[1;33m\u001b[0m\u001b[1;33m\u001b[0m\u001b[0m\n",
      "\u001b[1;32m~\\Anaconda3\\lib\\site-packages\\pandas\\io\\parsers.py\u001b[0m in \u001b[0;36m_make_engine\u001b[1;34m(self, engine)\u001b[0m\n\u001b[0;32m   1012\u001b[0m     \u001b[1;32mdef\u001b[0m \u001b[0m_make_engine\u001b[0m\u001b[1;33m(\u001b[0m\u001b[0mself\u001b[0m\u001b[1;33m,\u001b[0m \u001b[0mengine\u001b[0m\u001b[1;33m=\u001b[0m\u001b[1;34m'c'\u001b[0m\u001b[1;33m)\u001b[0m\u001b[1;33m:\u001b[0m\u001b[1;33m\u001b[0m\u001b[1;33m\u001b[0m\u001b[0m\n\u001b[0;32m   1013\u001b[0m         \u001b[1;32mif\u001b[0m \u001b[0mengine\u001b[0m \u001b[1;33m==\u001b[0m \u001b[1;34m'c'\u001b[0m\u001b[1;33m:\u001b[0m\u001b[1;33m\u001b[0m\u001b[1;33m\u001b[0m\u001b[0m\n\u001b[1;32m-> 1014\u001b[1;33m             \u001b[0mself\u001b[0m\u001b[1;33m.\u001b[0m\u001b[0m_engine\u001b[0m \u001b[1;33m=\u001b[0m \u001b[0mCParserWrapper\u001b[0m\u001b[1;33m(\u001b[0m\u001b[0mself\u001b[0m\u001b[1;33m.\u001b[0m\u001b[0mf\u001b[0m\u001b[1;33m,\u001b[0m \u001b[1;33m**\u001b[0m\u001b[0mself\u001b[0m\u001b[1;33m.\u001b[0m\u001b[0moptions\u001b[0m\u001b[1;33m)\u001b[0m\u001b[1;33m\u001b[0m\u001b[1;33m\u001b[0m\u001b[0m\n\u001b[0m\u001b[0;32m   1015\u001b[0m         \u001b[1;32melse\u001b[0m\u001b[1;33m:\u001b[0m\u001b[1;33m\u001b[0m\u001b[1;33m\u001b[0m\u001b[0m\n\u001b[0;32m   1016\u001b[0m             \u001b[1;32mif\u001b[0m \u001b[0mengine\u001b[0m \u001b[1;33m==\u001b[0m \u001b[1;34m'python'\u001b[0m\u001b[1;33m:\u001b[0m\u001b[1;33m\u001b[0m\u001b[1;33m\u001b[0m\u001b[0m\n",
      "\u001b[1;32m~\\Anaconda3\\lib\\site-packages\\pandas\\io\\parsers.py\u001b[0m in \u001b[0;36m__init__\u001b[1;34m(self, src, **kwds)\u001b[0m\n\u001b[0;32m   1706\u001b[0m         \u001b[0mkwds\u001b[0m\u001b[1;33m[\u001b[0m\u001b[1;34m'usecols'\u001b[0m\u001b[1;33m]\u001b[0m \u001b[1;33m=\u001b[0m \u001b[0mself\u001b[0m\u001b[1;33m.\u001b[0m\u001b[0musecols\u001b[0m\u001b[1;33m\u001b[0m\u001b[1;33m\u001b[0m\u001b[0m\n\u001b[0;32m   1707\u001b[0m \u001b[1;33m\u001b[0m\u001b[0m\n\u001b[1;32m-> 1708\u001b[1;33m         \u001b[0mself\u001b[0m\u001b[1;33m.\u001b[0m\u001b[0m_reader\u001b[0m \u001b[1;33m=\u001b[0m \u001b[0mparsers\u001b[0m\u001b[1;33m.\u001b[0m\u001b[0mTextReader\u001b[0m\u001b[1;33m(\u001b[0m\u001b[0msrc\u001b[0m\u001b[1;33m,\u001b[0m \u001b[1;33m**\u001b[0m\u001b[0mkwds\u001b[0m\u001b[1;33m)\u001b[0m\u001b[1;33m\u001b[0m\u001b[1;33m\u001b[0m\u001b[0m\n\u001b[0m\u001b[0;32m   1709\u001b[0m \u001b[1;33m\u001b[0m\u001b[0m\n\u001b[0;32m   1710\u001b[0m         \u001b[0mpassed_names\u001b[0m \u001b[1;33m=\u001b[0m \u001b[0mself\u001b[0m\u001b[1;33m.\u001b[0m\u001b[0mnames\u001b[0m \u001b[1;32mis\u001b[0m \u001b[1;32mNone\u001b[0m\u001b[1;33m\u001b[0m\u001b[1;33m\u001b[0m\u001b[0m\n",
      "\u001b[1;32mpandas/_libs/parsers.pyx\u001b[0m in \u001b[0;36mpandas._libs.parsers.TextReader.__cinit__\u001b[1;34m()\u001b[0m\n",
      "\u001b[1;32mpandas/_libs/parsers.pyx\u001b[0m in \u001b[0;36mpandas._libs.parsers.TextReader._setup_parser_source\u001b[1;34m()\u001b[0m\n",
      "\u001b[1;31mFileNotFoundError\u001b[0m: File b'../Data/Amazon_Unlocked_Mobile.csv' does not exist"
     ]
    }
   ],
   "source": [
    "import pandas as pd\n",
    "import numpy as np\n",
    "\n",
    "# leemos los datos del csv\n",
    "df = pd.read_csv('../Data/Amazon_Unlocked_Mobile.csv')\n",
    "\n",
    "# Trabajamos sobre una muestra de los datos para acelerar los cálculos\n",
    "df = df.sample(frac=0.1, random_state=10)\n",
    "\n",
    "df.head()"
   ]
  },
  {
   "cell_type": "code",
   "execution_count": null,
   "metadata": {},
   "outputs": [],
   "source": [
    "# Dropeamos los datos faltantes \n",
    "df.dropna(inplace=True)\n",
    "\n",
    "# Eliminamos los ratings iguales a 3 por ser neutrales\n",
    "df = df[df['Rating'] != 3]\n",
    "\n",
    "# Los 4s y los 5s los encodeamos como 1 (positivo)\n",
    "# Los 1s y los 2s los encodeamos como 0 (negativo)\n",
    "df['Positivos'] = np.where(df['Rating'] > 3, 1, 0)\n",
    "df.head(10)"
   ]
  },
  {
   "cell_type": "code",
   "execution_count": null,
   "metadata": {},
   "outputs": [],
   "source": [
    "# Las clases están desbalanceadas\n",
    "\n",
    "df['Positivos'].mean()"
   ]
  },
  {
   "cell_type": "code",
   "execution_count": null,
   "metadata": {},
   "outputs": [],
   "source": [
    "from sklearn.model_selection import train_test_split\n",
    "\n",
    "# Split data en sets de training y test \n",
    "X_train, X_test, y_train, y_test = train_test_split(df['Reviews'], \n",
    "                                                    df['Positivos'], \n",
    "                                                    random_state=0,\n",
    "                                                   stratify=df['Positivos'])"
   ]
  },
  {
   "cell_type": "code",
   "execution_count": null,
   "metadata": {},
   "outputs": [],
   "source": [
    "print('Primera observación del X_train:\\n\\n', X_train.iloc[0])\n",
    "print('\\n\\nX_train shape: ', X_train.shape)"
   ]
  },
  {
   "cell_type": "markdown",
   "metadata": {},
   "source": [
    "#### CountVectorizer\n",
    "\n",
    "https://scikit-learn.org/stable/modules/generated/sklearn.feature_extraction.text.CountVectorizer.html\n",
    "\n",
    "Convierte una colección de documentos de texto en una matrix de frecuencia de tokens.\n",
    "\n",
    "Devuelve una representación \"sparse\" como instancia de la clase scipy.sparse.csr_matrix.\n",
    "\n",
    "Si no pasan como parámetros un diccionario a-priori y no usan ningún tipo de selección de features, el número de features será igual al tamaño del vocabulario encontrado en el análisis de los datos. \n"
   ]
  },
  {
   "cell_type": "code",
   "execution_count": null,
   "metadata": {},
   "outputs": [],
   "source": [
    "from sklearn.feature_extraction.text import CountVectorizer\n",
    "\n",
    "# Fiteamos el CountVectorizer a los datos de entrenamiento\n",
    "vect = CountVectorizer().fit(X_train)"
   ]
  },
  {
   "cell_type": "code",
   "execution_count": null,
   "metadata": {},
   "outputs": [],
   "source": [
    "len(vect.get_feature_names())\n",
    "type(vect.vocabulary_)\n",
    "len(vect.stop_words_ )\n",
    "#vect.vocabulary_\n"
   ]
  },
  {
   "cell_type": "code",
   "execution_count": null,
   "metadata": {},
   "outputs": [],
   "source": [
    "# devuelve uno cada 2000. nada para el primer argumento, nada para el segundo, 2000 para el tercero\n",
    "# desde hasta step\n",
    "vect.get_feature_names()[::2000]"
   ]
  },
  {
   "cell_type": "code",
   "execution_count": null,
   "metadata": {},
   "outputs": [],
   "source": [
    "len(vect.get_feature_names())"
   ]
  },
  {
   "cell_type": "code",
   "execution_count": null,
   "metadata": {},
   "outputs": [],
   "source": [
    "# transformamos los documentos del training set a una matriz de documentos-términos:\n",
    "\n",
    "X_train_vectorized = vect.transform(X_train)\n",
    "\n",
    "X_train_vectorized"
   ]
  },
  {
   "cell_type": "code",
   "execution_count": null,
   "metadata": {},
   "outputs": [],
   "source": [
    "from sklearn.linear_model import LogisticRegression\n",
    "\n",
    "# Entrenamos el modelo\n",
    "model = LogisticRegression(solver='liblinear')\n",
    "model.fit(X_train_vectorized, y_train)"
   ]
  },
  {
   "cell_type": "code",
   "execution_count": null,
   "metadata": {},
   "outputs": [],
   "source": [
    "from sklearn.metrics import roc_auc_score\n",
    "\n",
    "# Hacemos las predicciones sobre el set de testeo:\n",
    "predictions = model.predict(vect.transform(X_test))\n",
    "\n",
    "print('AUC: ', roc_auc_score(y_test, predictions))"
   ]
  },
  {
   "cell_type": "code",
   "execution_count": null,
   "metadata": {},
   "outputs": [],
   "source": [
    "# Obtenemos los nombres de las features como un array de numpy\n",
    "feature_names = np.array(vect.get_feature_names())\n",
    "\n",
    "# Ordenamos a los coeficientes del modelo\n",
    "sorted_coef_index = model.coef_[0].argsort()\n",
    "\n",
    "# Observamos a los 10 coeficientes más grandes y más chicos:\n",
    "print('Coefs menores:\\n{}\\n'.format(feature_names[sorted_coef_index[:10]]))\n",
    "print('Coefs mayores: \\n{}'.format(feature_names[sorted_coef_index[:-11:-1]]))"
   ]
  },
  {
   "cell_type": "markdown",
   "metadata": {},
   "source": [
    "#### TfIdf\n",
    "\n",
    "TfidfVectorizer\n",
    "\n",
    "https://scikit-learn.org/stable/modules/generated/sklearn.feature_extraction.text.TfidfVectorizer.html\n",
    "\n",
    "Convierte una colección de documentos en un amatriz de features TF-IDF\n",
    "\n",
    "Es equivalente a CountVectorizer seguido de TfidfTransformer.\n",
    "\n",
    "---\n",
    "\n",
    "Tf-idf es el producto de dos medidas, frecuencia de término y frecuencia inversa de documento. \n",
    "\n",
    "Existen varias maneras de determinar el valor de ambas. En el caso de la frecuencia de término tf(t, d), la opción más sencilla es usar la frecuencia bruta del término t en el documento d, o sea, el número de veces que el término t ocurre en el documento d. Si denotamos la frecuencia bruta de t por f(t,d), entonces el esquema tf simple es tf(t, d) = f(t,d). \n",
    "\n",
    "\n",
    "$ tf (t,d) = \\frac{f (t,d)} {max( f(t,d) : t \\epsilon d)} $\n",
    "\n",
    "La frecuencia inversa de documento es una medida de si el término es común o no, en la colección de documentos. Se obtiene dividiendo el número total de documentos (D) por el número de documentos que contienen el término, y se toma el logaritmo de ese cociente:\n",
    "\n",
    "$ idf(t, D) = log \\frac{|D|}{|\\{d \\epsilon D : t \\epsilon d \\}|} $\n",
    "\n",
    "donde\n",
    "\n",
    "|D|: cardinalidad de D, o número de documentos en la colección.\n",
    "\n",
    "$ \\{d \\epsilon D : t \\epsilon d \\}$: número de documentos donde aparece el término t. Si el término no está en la colección se producirá una división-por-cero. Por lo tanto, es común aj\n",
    "\n",
    "Luego, tf-idf se calcula como:\n",
    "\n",
    "$ tfidf (t,d,D)= tf (t,d) * idf (t,D) $"
   ]
  },
  {
   "cell_type": "code",
   "execution_count": null,
   "metadata": {},
   "outputs": [],
   "source": [
    "from sklearn.feature_extraction.text import TfidfVectorizer\n",
    "\n",
    "# Fiteamos el TfidfVectorizer al set de entrenamiento definiento un min_df_min=5\n",
    "vect = TfidfVectorizer(min_df=5).fit(X_train)\n",
    "len(vect.get_feature_names())"
   ]
  },
  {
   "cell_type": "code",
   "execution_count": null,
   "metadata": {},
   "outputs": [],
   "source": [
    "X_train_vectorized = vect.transform(X_train)\n",
    "\n",
    "model = LogisticRegression(solver='liblinear')\n",
    "model.fit(X_train_vectorized, y_train)\n",
    "\n",
    "predictions = model.predict(vect.transform(X_test))\n",
    "\n",
    "print('AUC: ', roc_auc_score(y_test, predictions))"
   ]
  },
  {
   "cell_type": "code",
   "execution_count": null,
   "metadata": {},
   "outputs": [],
   "source": [
    "sorted_coef_index = model.coef_[0].argsort()\n",
    "\n",
    "print('Coefs menores:\\n{}\\n'.format(feature_names[sorted_coef_index[:10]]))\n",
    "print('Coefs mayores: \\n{}'.format(feature_names[sorted_coef_index[:-11:-1]]))"
   ]
  },
  {
   "cell_type": "code",
   "execution_count": null,
   "metadata": {},
   "outputs": [],
   "source": [
    "# Vemos que el modelo no puede predecir bien los siguientes ejemplos:\n",
    "\n",
    "print(model.predict(vect.transform(['not an issue, phone is working',\n",
    "                                    'an issue, phone is not working'])))"
   ]
  },
  {
   "cell_type": "markdown",
   "metadata": {},
   "source": [
    "#### n-gramas"
   ]
  },
  {
   "cell_type": "code",
   "execution_count": null,
   "metadata": {},
   "outputs": [],
   "source": [
    "# Fiteamos el CountVectorizer al set de training especificando una min_df=5 y \n",
    "# extrayendo 1-gramas and 2-gramas\n",
    "\n",
    "vect = CountVectorizer(min_df=5, ngram_range=(1,2)).fit(X_train)\n",
    "\n",
    "X_train_vectorized = vect.transform(X_train)\n",
    "\n",
    "len(vect.get_feature_names())"
   ]
  },
  {
   "cell_type": "code",
   "execution_count": null,
   "metadata": {},
   "outputs": [],
   "source": [
    "model = LogisticRegression(solver = 'liblinear')\n",
    "model.fit(X_train_vectorized, y_train)\n",
    "\n",
    "predictions = model.predict(vect.transform(X_test))\n",
    "\n",
    "print('AUC: ', roc_auc_score(y_test, predictions))"
   ]
  },
  {
   "cell_type": "code",
   "execution_count": null,
   "metadata": {},
   "outputs": [],
   "source": [
    "feature_names = np.array(vect.get_feature_names())\n",
    "\n",
    "sorted_coef_index = model.coef_[0].argsort()\n",
    "\n",
    "print('Coefs menores:\\n{}\\n'.format(feature_names[sorted_coef_index[:10]]))\n",
    "print('Coefs mayores: \\n{}'.format(feature_names[sorted_coef_index[:-11:-1]]))"
   ]
  },
  {
   "cell_type": "code",
   "execution_count": null,
   "metadata": {},
   "outputs": [],
   "source": [
    "print(model.predict(vect.transform(['not an issue, phone is working',\n",
    "                                    'an issue, phone is not working'])))"
   ]
  },
  {
   "cell_type": "markdown",
   "metadata": {},
   "source": [
    "Adicional\n",
    "https://www.nltk.org/book/ch02.html"
   ]
  }
 ],
 "metadata": {
  "kernelspec": {
   "display_name": "Python 3",
   "language": "python",
   "name": "python3"
  },
  "language_info": {
   "codemirror_mode": {
    "name": "ipython",
    "version": 3
   },
   "file_extension": ".py",
   "mimetype": "text/x-python",
   "name": "python",
   "nbconvert_exporter": "python",
   "pygments_lexer": "ipython3",
   "version": "3.7.3"
  }
 },
 "nbformat": 4,
 "nbformat_minor": 2
}
