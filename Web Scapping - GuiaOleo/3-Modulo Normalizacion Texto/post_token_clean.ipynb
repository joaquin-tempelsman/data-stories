{
 "cells": [
  {
   "cell_type": "code",
   "execution_count": 1,
   "metadata": {},
   "outputs": [],
   "source": [
    "import os\n",
    "import pandas as pd\n",
    "import matplotlib.pyplot as plt\n",
    "#Expresiones Regulares\n",
    "import re\n",
    "#Natural Language Toolkit\n",
    "import nltk\n",
    "from nltk import word_tokenize, sent_tokenize\n",
    "from nltk.corpus import stopwords\n",
    "#Nube de Palabras\n",
    "from wordcloud import WordCloud\n",
    "import unicodedata\n",
    "import string\n",
    "import pandas as pd"
   ]
  },
  {
   "cell_type": "code",
   "execution_count": 2,
   "metadata": {},
   "outputs": [],
   "source": [
    "df_reviews = pd.read_csv('df_token_clean.csv')"
   ]
  },
  {
   "cell_type": "code",
   "execution_count": 3,
   "metadata": {},
   "outputs": [
    {
     "data": {
      "text/plain": [
       "0        [['mejor'], ['lugar'], ['argentina'], ['comer'...\n",
       "1        [['curry'], ['udon'], ['excelente'], ['', ''],...\n",
       "2        [['relaci\\\\xc3\\\\xb3n'], ['calidad-precio'], ['...\n",
       "3        [['buena'], ['atenci\\\\xc3\\\\xb3n'], ['calidez']...\n",
       "4        [['excelente'], ['sushi'], ['atenci\\\\xc3\\\\xb3n...\n",
       "5        [['pedimos'], ['entrada'], ['consta'], ['jam\\\\...\n",
       "6        [['verdad'], ['', ''], ['lugar'], ['ideal'], [...\n",
       "7        [['buena'], ['atenci\\\\xc3\\\\xb3n'], ['', ''], [...\n",
       "8        [['lugar'], ['tranquilo'], ['apartado'], ['cal...\n",
       "9        [['volver'], ['restaurante'], ['servicio'], ['...\n",
       "10       [['excelente'], ['atenci\\\\xc3\\\\xb3n'], ['', ''...\n",
       "11       [['excelente'], ['atenci\\\\xc3\\\\xb3n'], ['ferna...\n",
       "12       [['malisimo'], ['restaurant'], ['', ''], ['pro...\n",
       "13       [['verdad'], ['gusto'], ['', ''], ['deberian']...\n",
       "14       [['excelente'], ['calidad'], ['atenci\\\\xc3\\\\xb...\n",
       "15       [['rico'], ['', ''], ['barato'], ['cerveza'], ...\n",
       "16       [['excelente'], ['lugar'], ['disfrutar'], ['pi...\n",
       "17       [['malo'], ['caro'], ['', ''], ['ayer'], ['2']...\n",
       "18       [['domingo'], ['15'], ['abril'], ['', ''], ['7...\n",
       "19       [['lunes'], ['16'], ['octubre'], ['', ''], ['e...\n",
       "20       [['platos'], ['pastas'], ['thai'], ['porcion']...\n",
       "21       [['dos'], ['matrimonios'], ['excelente'], ['en...\n",
       "22       [['2'], ['amigas'], ['cenar'], ['', ''], ['esp...\n",
       "23       [['2'], ['parejas'], ['cenar'], ['sabado'], ['...\n",
       "24       [['domingo'], ['noche'], ['', ''], ['hacia'], ...\n",
       "25       [['ped\\\\xc3\\\\xac'], ['copa'], ['vino'], ['trum...\n",
       "26       [['1000'], ['restaurant'], ['moderno'], ['ubic...\n",
       "27       [['hace'], ['regrese'], ['lugar'], ['sigue'], ...\n",
       "28       [['atenci\\\\xc3\\\\xb3n'], ['buena'], ['comida'],...\n",
       "29       [['buena'], ['propuesta.\\\\r\\\\nes'], ['lugar'],...\n",
       "                               ...                        \n",
       "28469    [['cl\\\\xc3\\\\xa0sico'], ['dif\\\\xc3\\\\xaccil'], [...\n",
       "28470    [['lugares'], ['quedan'], ['pocos'], ['resiste...\n",
       "28471    [['pedimos'], ['codillo'], ['chucrutt'], ['bue...\n",
       "28472    [['mujer'], ['sabado'], ['noche'], ['', ''], [...\n",
       "28473    [['s\\\\xc3\\\\xa1bado'], ['mediod\\\\xc3\\\\xada'], [...\n",
       "28474    [['p\\\\xc3\\\\xa9simo'], ['servicio'], ['mozo'], ...\n",
       "28475    [['cenar'], ['empezar'], ['', ''], ['panera'],...\n",
       "28476    [['excelente'], ['atenci\\\\xc3\\\\xb3n'], ['', ''...\n",
       "28477    [['emblem\\\\xc3\\\\xa1tico'], ['restaurant'], [''...\n",
       "28478    [['buen'], ['lugar'], ['ubicado'], ['metros'],...\n",
       "28479    [['novio'], ['cenar'], ['comida'], ['buena'], ...\n",
       "28480    [['buena'], ['ambientaci\\\\xc3\\\\xb3n'], ['', ''...\n",
       "28481    [['verdad'], ['comimos'], ['bien'], ['', ''], ...\n",
       "28482    [['reunimos'], ['9'], ['mujeres'], ['celebrar'...\n",
       "28483    [['buena'], ['experiencia'], ['exquisito'], ['...\n",
       "28484    [['3'], ['almorzar'], ['domingo'], ['pedimos']...\n",
       "28485    [['buen'], ['producto'], ['elaboracion'], ['co...\n",
       "28486    [['carne'], ['excelente'], ['acompa\\\\xc3\\\\xb1a...\n",
       "28487    [['bueno'], ['', ''], ['super'], ['recomien'],...\n",
       "28488    [['buen'], ['lugar'], ['belgrano'], ['comer'],...\n",
       "28489    [['cl\\\\xc3\\\\xa1sico'], ['belgrano'], ['', ''],...\n",
       "28490    [['p\\\\xc3\\\\xa9simo'], ['adicionista'], ['', ''...\n",
       "28491    [['lugar'], ['tradicional'], ['belgrano'], ['r...\n",
       "28492    [['vayas'], ['as\\\\xc3\\\\xad'], ['m\\\\xc3\\\\xa1s']...\n",
       "28493    [['excelente'], ['lugar'], ['', ''], ['bien'],...\n",
       "28494    [['atenci\\\\xc3\\\\xb3n'], ['excelente'], ['mozos...\n",
       "28495    [['buena'], ['propuesta'], ['salir'], ['paso']...\n",
       "28496    [['buena'], ['comida'], ['', ''], ['platos'], ...\n",
       "28497    [['confiter\\\\xc3\\\\xada'], ['tradicional'], ['b...\n",
       "28498    [['cl\\\\xc3\\\\xa1sico'], ['barrio'], ['belgrano'...\n",
       "Name: nopoint, Length: 28499, dtype: object"
      ]
     },
     "execution_count": 3,
     "metadata": {},
     "output_type": "execute_result"
    }
   ],
   "source": [
    "df_reviews.nopoint\n"
   ]
  },
  {
   "cell_type": "code",
   "execution_count": 4,
   "metadata": {},
   "outputs": [],
   "source": [
    "def removePunc2(wordList):\n",
    "    #for letra in wordList:\n",
    "    item = [wordList.translate({ord(i): None for i in '[],'} )]         \n",
    "    return item\n",
    "    \n",
    "# a = s.translate({ord(i): None for i in '[],'} )\n",
    "# tokens = nltk.word_tokenize(a)\n",
    "\n",
    "df_reviews['nopoint2'] = df_reviews.nopoint.apply(removePunc2)\n"
   ]
  },
  {
   "cell_type": "code",
   "execution_count": 8,
   "metadata": {},
   "outputs": [
    {
     "data": {
      "text/plain": [
       "19627    ['lugar' 'agradable' '' '' 'buena' 'pizza' 'bu...\n",
       "21744    ['lugar' 'agradable' 'ambiente' 'lugar' 'mas' ...\n",
       "17077    ['comida' 'light' '' '' 'hacen' 'r\\\\xc3\\\\xa8gi...\n",
       "13888    ['buena' 'comida' 'abundante' '' '' 'lugar' 'b...\n",
       "11372    ['buen' 'lugar' '' '' 'excelente' 'ambientacio...\n",
       "12317    ['bueno' 'atiende' 'sola' 'mosa' '' '' 'ser' '...\n",
       "4232     ['viernes' 'dps' 'medianoche' 'seguian' 'sirvi...\n",
       "21540    ['hola' 's\\\\xc3\\\\xa1bado' 'entrar' 'teatro' 'c...\n",
       "22069    ['buena' 'parrilla' 'barrio' 'aprovechar' 'bue...\n",
       "11457    ['apuesta' 'fuerte' 'castelar' 'sorprendi\\\\xc3...\n",
       "15807    ['excelente' 'lugar' '' '' 'buena' 'atenci\\\\xc...\n",
       "11207    ['ambiente' 'agradable' 'familiar' 'carta' 'va...\n",
       "163      ['desastre' '' '' 'tres' 'escalopes' 'duros' '...\n",
       "21069    ['t\\\\xc3\\\\xadpica' 'fonda' '' '' 'orientacion'...\n",
       "20384    ['concurrido' 'varias' 'oportunidades' '' '' '...\n",
       "5965     ['lugar' 'delicia' '' '' 'lindo' 'dentro' 'jar...\n",
       "28194    ['m\\\\xc3\\\\xbasica' 'lugar' '' '' 'excelente' '...\n",
       "27715    ['lugar' 'est\\\\xc3\\\\xa1' 'bien' '' '' 'ambient...\n",
       "10644         ['pizza' 'mundo' 'fen\\\\xc3\\\\xb3meno' 'aldo']\n",
       "3740     ['s\\\\xc3\\\\xa1bado' 'mediod\\\\xc3\\\\xada' '' '' '...\n",
       "777      ['compro' 'men\\\\xc3\\\\xba' 'mediod\\\\xc3\\\\xada' ...\n",
       "8558     ['quer\\\\xc3\\\\xada' 'saber' 'si' 'est\\\\xc3\\\\xa1...\n",
       "4064     ['hacia' 'tiempo' 'comia' 'tan' 'mal' 'cupon' ...\n",
       "6947     ['excelente' 'lugar' 'comer' 'bien' 'buen' 'pr...\n",
       "12052    ['come' 'bien' '' '' 'sushi' 'poca' 'variedad'...\n",
       "15171    ['mesas' 'vacias' 'dejaron' 'esperando' '25' '...\n",
       "7948     ['ayer' 'novia' '' '' 'peor' 'milanesa' 'comi'...\n",
       "6957     ['lugar' 'tranquilo' 'ir' 'pareja' '' '' 'fami...\n",
       "3852     ['comida' 'gran' 'varfiedad' 'platos' '' '' 'c...\n",
       "21972    ['minutas' 'caras' 'incluir' 'guarnici\\\\xc3\\\\x...\n",
       "                               ...                        \n",
       "13471    ['pedimos' '2' 'grandes' '10' 'porciones' 'cad...\n",
       "16222    ['pizzeria' 'quedan' '' '' 'bien' 'barrio' '' ...\n",
       "5427     ['buen\\\\xc3\\\\xadsima' 'comida' 'casera' 't\\\\xc...\n",
       "22956    ['malisimo' '' '' 'poca' 'variedad' 'mala' 'ca...\n",
       "16574    ['comer' 'pizza' 'totalmente' 'quemada' 'mitad...\n",
       "24523    ['malisima' 'atencion' '' '' 'verguenza' '' ''...\n",
       "25341    ['hace' 'iba' '' '' 'llam\\\\xc3\\\\xb3' 'atenci\\\\...\n",
       "14498    ['buen' 'lugar' '' '' 'ubicado' 'centro' 'quil...\n",
       "25531    ['atenci\\\\xc3\\\\xb3n' 'ambiente' 'excelentes' '...\n",
       "3528     ['excelente' 'lugar' 'buena' 'comida' 'faltar\\...\n",
       "15886    ['altamente' 'recomendable' 'lugar' 'chiquito'...\n",
       "9664     ['anoche' 'amigo' 'verdad' 'pasamos' 'bien' ''...\n",
       "2260     ['parrilla' 'solemos' 'ir' 'todas' 'semanas' '...\n",
       "15092    ['lugar' 'super' 'lindo' '' '' 'bien' 'arregla...\n",
       "15327         ['precios' 'acordes' '' '' 'caro' 'ofrecen']\n",
       "27802    ['experiencia' 'sucursal' 'maipu' '' '' 'cuida...\n",
       "8906     ['mejor' 'pizza' 'buenos' 'aires' 'empanadas' ...\n",
       "3452     ['ambiente' 'lindo' 'lugar' 'tambi\\\\xc3\\\\xa9n'...\n",
       "2879     ['tardaron' '20' 'minutos' 'atendernos' 'dijer...\n",
       "22737    ['lugar' 'chiquito' 'agradable' 'comida' 'case...\n",
       "11682    ['dos' 'noches' 'seguidas' '' '' 'pedimos' 'pa...\n",
       "23950    ['dudas' 'mejor' 'lugar' 'comida' 'mexicana' '...\n",
       "23999    ['volv\\\\xc3\\\\xad' 'despues' 'casi' 'a\\\\xc3\\\\xb...\n",
       "24380    ['habiamos' 'ido' 'octubre' 'parecio' 'bueno' ...\n",
       "25259    ['almorzar' 'd\\\\xc3\\\\xada' 'domingo' 'd\\\\xc3\\\\...\n",
       "1209     ['comuniqu\\\\xc3\\\\xa9' 'via' 'facebook' 'hacerl...\n",
       "24716    ['lindo' 'lugar' 'almorzar' 'microcentro' '' '...\n",
       "28423    ['lindo' 'lugar' '' '' 'come' 'bien' 'buen' 'a...\n",
       "11117    ['pizzer\\\\xc3\\\\xada' 'cl\\\\xc3\\\\xa1sica' 'bueno...\n",
       "21043    ['cada' 'vez' 'decide' 'ir' 'comer' 'lugar' 'p...\n",
       "Name: nopoint2, Length: 100, dtype: object"
      ]
     },
     "execution_count": 8,
     "metadata": {},
     "output_type": "execute_result"
    }
   ],
   "source": [
    "df_reviews.nopoint2.sample(100)"
   ]
  },
  {
   "cell_type": "code",
   "execution_count": 41,
   "metadata": {},
   "outputs": [],
   "source": [
    "def removePunc(wordList):\n",
    "    palabras_list=[]\n",
    "#     puncList = [\".\",\";\",\":\",\"!\",\"?\",\"/\",\"\\\\\",\",\",\")\",\"(\",\"\\\"\"]\n",
    "    puncList = [[\".\"],[\";\"],[\":\"],[\"!\"],[\"?\"],[\"/\"],[\",\"],[\")\"],[\"(\"],[\"...\"],[\"..\"],[\", \"],[\",,\"]]\n",
    "    lista = [i.strip().split(',') for i in wordList]\n",
    "    \n",
    "    for element in lista:\n",
    "        palabras = element \n",
    "        \n",
    "        if palabras in puncList:\n",
    "            pass\n",
    "        else:\n",
    "            palabras_list.append(palabras)\n",
    "            \n",
    "            \n",
    "                                            \n",
    "    return palabras_list"
   ]
  },
  {
   "cell_type": "code",
   "execution_count": 9,
   "metadata": {},
   "outputs": [],
   "source": [
    "export_csv = df_reviews.to_csv ('df_clean_2.csv', index = None, header=True) \n"
   ]
  },
  {
   "cell_type": "code",
   "execution_count": 58,
   "metadata": {},
   "outputs": [
    {
     "ename": "KeyboardInterrupt",
     "evalue": "",
     "output_type": "error",
     "traceback": [
      "\u001b[1;31m---------------------------------------------------------------------------\u001b[0m",
      "\u001b[1;31mKeyboardInterrupt\u001b[0m                         Traceback (most recent call last)",
      "\u001b[1;32m<ipython-input-58-93cb72386b41>\u001b[0m in \u001b[0;36m<module>\u001b[1;34m\u001b[0m\n\u001b[0;32m      1\u001b[0m \u001b[1;31m#df_reviews['nopoint'] = tokens.apply(removePunc)\u001b[0m\u001b[1;33m\u001b[0m\u001b[1;33m\u001b[0m\u001b[1;33m\u001b[0m\u001b[0m\n\u001b[1;32m----> 2\u001b[1;33m \u001b[0mtokens2\u001b[0m \u001b[1;33m=\u001b[0m \u001b[0mdf_reviews\u001b[0m\u001b[1;33m.\u001b[0m\u001b[0mapplymap\u001b[0m\u001b[1;33m(\u001b[0m\u001b[1;32mlambda\u001b[0m \u001b[0mx\u001b[0m\u001b[1;33m:\u001b[0m \u001b[0mremovePunc\u001b[0m\u001b[1;33m(\u001b[0m\u001b[0mx\u001b[0m\u001b[1;33m)\u001b[0m\u001b[1;33m)\u001b[0m\u001b[1;33m\u001b[0m\u001b[1;33m\u001b[0m\u001b[0m\n\u001b[0m\u001b[0;32m      3\u001b[0m \u001b[0mtokens2\u001b[0m\u001b[1;33m\u001b[0m\u001b[1;33m\u001b[0m\u001b[0m\n",
      "\u001b[1;32m~\\Anaconda3\\lib\\site-packages\\pandas\\core\\frame.py\u001b[0m in \u001b[0;36mapplymap\u001b[1;34m(self, func)\u001b[0m\n\u001b[0;32m   6551\u001b[0m             \u001b[1;32mreturn\u001b[0m \u001b[0mlib\u001b[0m\u001b[1;33m.\u001b[0m\u001b[0mmap_infer\u001b[0m\u001b[1;33m(\u001b[0m\u001b[0mx\u001b[0m\u001b[1;33m.\u001b[0m\u001b[0mastype\u001b[0m\u001b[1;33m(\u001b[0m\u001b[0mobject\u001b[0m\u001b[1;33m)\u001b[0m\u001b[1;33m.\u001b[0m\u001b[0mvalues\u001b[0m\u001b[1;33m,\u001b[0m \u001b[0mfunc\u001b[0m\u001b[1;33m)\u001b[0m\u001b[1;33m\u001b[0m\u001b[1;33m\u001b[0m\u001b[0m\n\u001b[0;32m   6552\u001b[0m \u001b[1;33m\u001b[0m\u001b[0m\n\u001b[1;32m-> 6553\u001b[1;33m         \u001b[1;32mreturn\u001b[0m \u001b[0mself\u001b[0m\u001b[1;33m.\u001b[0m\u001b[0mapply\u001b[0m\u001b[1;33m(\u001b[0m\u001b[0minfer\u001b[0m\u001b[1;33m)\u001b[0m\u001b[1;33m\u001b[0m\u001b[1;33m\u001b[0m\u001b[0m\n\u001b[0m\u001b[0;32m   6554\u001b[0m \u001b[1;33m\u001b[0m\u001b[0m\n\u001b[0;32m   6555\u001b[0m     \u001b[1;31m# ----------------------------------------------------------------------\u001b[0m\u001b[1;33m\u001b[0m\u001b[1;33m\u001b[0m\u001b[1;33m\u001b[0m\u001b[0m\n",
      "\u001b[1;32m~\\Anaconda3\\lib\\site-packages\\pandas\\core\\frame.py\u001b[0m in \u001b[0;36mapply\u001b[1;34m(self, func, axis, broadcast, raw, reduce, result_type, args, **kwds)\u001b[0m\n\u001b[0;32m   6485\u001b[0m                          \u001b[0margs\u001b[0m\u001b[1;33m=\u001b[0m\u001b[0margs\u001b[0m\u001b[1;33m,\u001b[0m\u001b[1;33m\u001b[0m\u001b[1;33m\u001b[0m\u001b[0m\n\u001b[0;32m   6486\u001b[0m                          kwds=kwds)\n\u001b[1;32m-> 6487\u001b[1;33m         \u001b[1;32mreturn\u001b[0m \u001b[0mop\u001b[0m\u001b[1;33m.\u001b[0m\u001b[0mget_result\u001b[0m\u001b[1;33m(\u001b[0m\u001b[1;33m)\u001b[0m\u001b[1;33m\u001b[0m\u001b[1;33m\u001b[0m\u001b[0m\n\u001b[0m\u001b[0;32m   6488\u001b[0m \u001b[1;33m\u001b[0m\u001b[0m\n\u001b[0;32m   6489\u001b[0m     \u001b[1;32mdef\u001b[0m \u001b[0mapplymap\u001b[0m\u001b[1;33m(\u001b[0m\u001b[0mself\u001b[0m\u001b[1;33m,\u001b[0m \u001b[0mfunc\u001b[0m\u001b[1;33m)\u001b[0m\u001b[1;33m:\u001b[0m\u001b[1;33m\u001b[0m\u001b[1;33m\u001b[0m\u001b[0m\n",
      "\u001b[1;32m~\\Anaconda3\\lib\\site-packages\\pandas\\core\\apply.py\u001b[0m in \u001b[0;36mget_result\u001b[1;34m(self)\u001b[0m\n\u001b[0;32m    149\u001b[0m             \u001b[1;32mreturn\u001b[0m \u001b[0mself\u001b[0m\u001b[1;33m.\u001b[0m\u001b[0mapply_raw\u001b[0m\u001b[1;33m(\u001b[0m\u001b[1;33m)\u001b[0m\u001b[1;33m\u001b[0m\u001b[1;33m\u001b[0m\u001b[0m\n\u001b[0;32m    150\u001b[0m \u001b[1;33m\u001b[0m\u001b[0m\n\u001b[1;32m--> 151\u001b[1;33m         \u001b[1;32mreturn\u001b[0m \u001b[0mself\u001b[0m\u001b[1;33m.\u001b[0m\u001b[0mapply_standard\u001b[0m\u001b[1;33m(\u001b[0m\u001b[1;33m)\u001b[0m\u001b[1;33m\u001b[0m\u001b[1;33m\u001b[0m\u001b[0m\n\u001b[0m\u001b[0;32m    152\u001b[0m \u001b[1;33m\u001b[0m\u001b[0m\n\u001b[0;32m    153\u001b[0m     \u001b[1;32mdef\u001b[0m \u001b[0mapply_empty_result\u001b[0m\u001b[1;33m(\u001b[0m\u001b[0mself\u001b[0m\u001b[1;33m)\u001b[0m\u001b[1;33m:\u001b[0m\u001b[1;33m\u001b[0m\u001b[1;33m\u001b[0m\u001b[0m\n",
      "\u001b[1;32m~\\Anaconda3\\lib\\site-packages\\pandas\\core\\apply.py\u001b[0m in \u001b[0;36mapply_standard\u001b[1;34m(self)\u001b[0m\n\u001b[0;32m    255\u001b[0m \u001b[1;33m\u001b[0m\u001b[0m\n\u001b[0;32m    256\u001b[0m         \u001b[1;31m# compute the result using the series generator\u001b[0m\u001b[1;33m\u001b[0m\u001b[1;33m\u001b[0m\u001b[1;33m\u001b[0m\u001b[0m\n\u001b[1;32m--> 257\u001b[1;33m         \u001b[0mself\u001b[0m\u001b[1;33m.\u001b[0m\u001b[0mapply_series_generator\u001b[0m\u001b[1;33m(\u001b[0m\u001b[1;33m)\u001b[0m\u001b[1;33m\u001b[0m\u001b[1;33m\u001b[0m\u001b[0m\n\u001b[0m\u001b[0;32m    258\u001b[0m \u001b[1;33m\u001b[0m\u001b[0m\n\u001b[0;32m    259\u001b[0m         \u001b[1;31m# wrap results\u001b[0m\u001b[1;33m\u001b[0m\u001b[1;33m\u001b[0m\u001b[1;33m\u001b[0m\u001b[0m\n",
      "\u001b[1;32m~\\Anaconda3\\lib\\site-packages\\pandas\\core\\apply.py\u001b[0m in \u001b[0;36mapply_series_generator\u001b[1;34m(self)\u001b[0m\n\u001b[0;32m    284\u001b[0m             \u001b[1;32mtry\u001b[0m\u001b[1;33m:\u001b[0m\u001b[1;33m\u001b[0m\u001b[1;33m\u001b[0m\u001b[0m\n\u001b[0;32m    285\u001b[0m                 \u001b[1;32mfor\u001b[0m \u001b[0mi\u001b[0m\u001b[1;33m,\u001b[0m \u001b[0mv\u001b[0m \u001b[1;32min\u001b[0m \u001b[0menumerate\u001b[0m\u001b[1;33m(\u001b[0m\u001b[0mseries_gen\u001b[0m\u001b[1;33m)\u001b[0m\u001b[1;33m:\u001b[0m\u001b[1;33m\u001b[0m\u001b[1;33m\u001b[0m\u001b[0m\n\u001b[1;32m--> 286\u001b[1;33m                     \u001b[0mresults\u001b[0m\u001b[1;33m[\u001b[0m\u001b[0mi\u001b[0m\u001b[1;33m]\u001b[0m \u001b[1;33m=\u001b[0m \u001b[0mself\u001b[0m\u001b[1;33m.\u001b[0m\u001b[0mf\u001b[0m\u001b[1;33m(\u001b[0m\u001b[0mv\u001b[0m\u001b[1;33m)\u001b[0m\u001b[1;33m\u001b[0m\u001b[1;33m\u001b[0m\u001b[0m\n\u001b[0m\u001b[0;32m    287\u001b[0m                     \u001b[0mkeys\u001b[0m\u001b[1;33m.\u001b[0m\u001b[0mappend\u001b[0m\u001b[1;33m(\u001b[0m\u001b[0mv\u001b[0m\u001b[1;33m.\u001b[0m\u001b[0mname\u001b[0m\u001b[1;33m)\u001b[0m\u001b[1;33m\u001b[0m\u001b[1;33m\u001b[0m\u001b[0m\n\u001b[0;32m    288\u001b[0m             \u001b[1;32mexcept\u001b[0m \u001b[0mException\u001b[0m \u001b[1;32mas\u001b[0m \u001b[0me\u001b[0m\u001b[1;33m:\u001b[0m\u001b[1;33m\u001b[0m\u001b[1;33m\u001b[0m\u001b[0m\n",
      "\u001b[1;32m~\\Anaconda3\\lib\\site-packages\\pandas\\core\\frame.py\u001b[0m in \u001b[0;36minfer\u001b[1;34m(x)\u001b[0m\n\u001b[0;32m   6549\u001b[0m             \u001b[1;32mif\u001b[0m \u001b[0mx\u001b[0m\u001b[1;33m.\u001b[0m\u001b[0mempty\u001b[0m\u001b[1;33m:\u001b[0m\u001b[1;33m\u001b[0m\u001b[1;33m\u001b[0m\u001b[0m\n\u001b[0;32m   6550\u001b[0m                 \u001b[1;32mreturn\u001b[0m \u001b[0mlib\u001b[0m\u001b[1;33m.\u001b[0m\u001b[0mmap_infer\u001b[0m\u001b[1;33m(\u001b[0m\u001b[0mx\u001b[0m\u001b[1;33m,\u001b[0m \u001b[0mfunc\u001b[0m\u001b[1;33m)\u001b[0m\u001b[1;33m\u001b[0m\u001b[1;33m\u001b[0m\u001b[0m\n\u001b[1;32m-> 6551\u001b[1;33m             \u001b[1;32mreturn\u001b[0m \u001b[0mlib\u001b[0m\u001b[1;33m.\u001b[0m\u001b[0mmap_infer\u001b[0m\u001b[1;33m(\u001b[0m\u001b[0mx\u001b[0m\u001b[1;33m.\u001b[0m\u001b[0mastype\u001b[0m\u001b[1;33m(\u001b[0m\u001b[0mobject\u001b[0m\u001b[1;33m)\u001b[0m\u001b[1;33m.\u001b[0m\u001b[0mvalues\u001b[0m\u001b[1;33m,\u001b[0m \u001b[0mfunc\u001b[0m\u001b[1;33m)\u001b[0m\u001b[1;33m\u001b[0m\u001b[1;33m\u001b[0m\u001b[0m\n\u001b[0m\u001b[0;32m   6552\u001b[0m \u001b[1;33m\u001b[0m\u001b[0m\n\u001b[0;32m   6553\u001b[0m         \u001b[1;32mreturn\u001b[0m \u001b[0mself\u001b[0m\u001b[1;33m.\u001b[0m\u001b[0mapply\u001b[0m\u001b[1;33m(\u001b[0m\u001b[0minfer\u001b[0m\u001b[1;33m)\u001b[0m\u001b[1;33m\u001b[0m\u001b[1;33m\u001b[0m\u001b[0m\n",
      "\u001b[1;32mpandas/_libs/lib.pyx\u001b[0m in \u001b[0;36mpandas._libs.lib.map_infer\u001b[1;34m()\u001b[0m\n",
      "\u001b[1;32m<ipython-input-58-93cb72386b41>\u001b[0m in \u001b[0;36m<lambda>\u001b[1;34m(x)\u001b[0m\n\u001b[0;32m      1\u001b[0m \u001b[1;31m#df_reviews['nopoint'] = tokens.apply(removePunc)\u001b[0m\u001b[1;33m\u001b[0m\u001b[1;33m\u001b[0m\u001b[1;33m\u001b[0m\u001b[0m\n\u001b[1;32m----> 2\u001b[1;33m \u001b[0mtokens2\u001b[0m \u001b[1;33m=\u001b[0m \u001b[0mdf_reviews\u001b[0m\u001b[1;33m.\u001b[0m\u001b[0mapplymap\u001b[0m\u001b[1;33m(\u001b[0m\u001b[1;32mlambda\u001b[0m \u001b[0mx\u001b[0m\u001b[1;33m:\u001b[0m \u001b[0mremovePunc\u001b[0m\u001b[1;33m(\u001b[0m\u001b[0mx\u001b[0m\u001b[1;33m)\u001b[0m\u001b[1;33m)\u001b[0m\u001b[1;33m\u001b[0m\u001b[1;33m\u001b[0m\u001b[0m\n\u001b[0m\u001b[0;32m      3\u001b[0m \u001b[0mtokens2\u001b[0m\u001b[1;33m\u001b[0m\u001b[1;33m\u001b[0m\u001b[0m\n",
      "\u001b[1;32m<ipython-input-41-8a85a294b94f>\u001b[0m in \u001b[0;36mremovePunc\u001b[1;34m(wordList)\u001b[0m\n\u001b[0;32m     11\u001b[0m             \u001b[1;32mpass\u001b[0m\u001b[1;33m\u001b[0m\u001b[1;33m\u001b[0m\u001b[0m\n\u001b[0;32m     12\u001b[0m         \u001b[1;32melse\u001b[0m\u001b[1;33m:\u001b[0m\u001b[1;33m\u001b[0m\u001b[1;33m\u001b[0m\u001b[0m\n\u001b[1;32m---> 13\u001b[1;33m             \u001b[0mpalabras_list\u001b[0m\u001b[1;33m.\u001b[0m\u001b[0mappend\u001b[0m\u001b[1;33m(\u001b[0m\u001b[0mpalabras\u001b[0m\u001b[1;33m)\u001b[0m\u001b[1;33m\u001b[0m\u001b[1;33m\u001b[0m\u001b[0m\n\u001b[0m\u001b[0;32m     14\u001b[0m \u001b[1;33m\u001b[0m\u001b[0m\n\u001b[0;32m     15\u001b[0m \u001b[1;33m\u001b[0m\u001b[0m\n",
      "\u001b[1;31mKeyboardInterrupt\u001b[0m: "
     ]
    }
   ],
   "source": [
    "#df_reviews['nopoint'] = tokens.apply(removePunc)\n",
    "tokens2 = df_reviews.applymap(lambda x: removePunc(x))\n",
    "tokens2"
   ]
  }
 ],
 "metadata": {
  "kernelspec": {
   "display_name": "Python 3",
   "language": "python",
   "name": "python3"
  },
  "language_info": {
   "codemirror_mode": {
    "name": "ipython",
    "version": 3
   },
   "file_extension": ".py",
   "mimetype": "text/x-python",
   "name": "python",
   "nbconvert_exporter": "python",
   "pygments_lexer": "ipython3",
   "version": "3.7.3"
  }
 },
 "nbformat": 4,
 "nbformat_minor": 2
}
