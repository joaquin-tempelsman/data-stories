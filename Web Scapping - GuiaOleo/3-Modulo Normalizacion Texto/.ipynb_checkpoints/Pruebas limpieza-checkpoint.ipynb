{
 "cells": [
  {
   "cell_type": "code",
   "execution_count": 1,
   "metadata": {},
   "outputs": [],
   "source": [
    "import os\n",
    "import pandas as pd\n",
    "import string\n",
    "#Trabajar con el Encoding\n",
    "import unicodedata\n",
    "#Expresiones Regulares\n",
    "import re\n"
   ]
  },
  {
   "cell_type": "code",
   "execution_count": 6,
   "metadata": {},
   "outputs": [
    {
     "name": "stdout",
     "output_type": "stream",
     "text": [
      "'' was not found in history, as a file, url, nor in the user namespace.\n"
     ]
    }
   ],
   "source": [
    "words = 'Muy, buena, atenci\\xc3\\xb3n, y, calidez'\n",
    "%save 0"
   ]
  },
  {
   "cell_type": "code",
   "execution_count": 3,
   "metadata": {},
   "outputs": [
    {
     "data": {
      "text/plain": [
       "'Muy, buena, atenciÃ³n, y, calidez'"
      ]
     },
     "execution_count": 3,
     "metadata": {},
     "output_type": "execute_result"
    }
   ],
   "source": [
    "def remove_punctuation(words):\n",
    "    words.translate(str.maketrans('', '', string.punctuation))\n",
    "    return words\n",
    "    \n",
    "remove_punctuation(words)"
   ]
  },
  {
   "cell_type": "code",
   "execution_count": 7,
   "metadata": {},
   "outputs": [
    {
     "data": {
      "text/plain": [
       "'Muy buena atenciÃ³n y calidez'"
      ]
     },
     "execution_count": 7,
     "metadata": {},
     "output_type": "execute_result"
    }
   ],
   "source": [
    "import string\n",
    "\n",
    "puntua = words.translate(str.maketrans('', '', string.punctuation))\n",
    "puntua"
   ]
  },
  {
   "cell_type": "code",
   "execution_count": 3,
   "metadata": {},
   "outputs": [
    {
     "data": {
      "text/plain": [
       "'Muy, buena, atenciÃ³n, y, calidez'"
      ]
     },
     "execution_count": 3,
     "metadata": {},
     "output_type": "execute_result"
    }
   ],
   "source": [
    "def remove_non_ascii(words):\n",
    "    for word in words:\n",
    "        word.encode('ascii', 'ignore')\n",
    "        return words\n",
    "remove_non_ascii(words)             "
   ]
  },
  {
   "cell_type": "code",
   "execution_count": 5,
   "metadata": {},
   "outputs": [
    {
     "data": {
      "text/plain": [
       "b'Muy, buena, atencin, y, calidez'"
      ]
     },
     "execution_count": 5,
     "metadata": {},
     "output_type": "execute_result"
    }
   ],
   "source": [
    "words.encode('ascii', 'ignore')"
   ]
  },
  {
   "cell_type": "code",
   "execution_count": 14,
   "metadata": {},
   "outputs": [
    {
     "data": {
      "text/plain": [
       "'Muy, buena, atenciÃ³n, y, calidez'"
      ]
     },
     "execution_count": 14,
     "metadata": {},
     "output_type": "execute_result"
    }
   ],
   "source": [
    "\n",
    "def remove_punctuation(words):\n",
    "    punctuations = \"?:!.,;\"\n",
    "    \n",
    "    for word in words:\n",
    "        if word in punctuations:\n",
    "            words.remove('word')\n",
    "        return words\n",
    "    \n",
    "remove_punctuation(words)    "
   ]
  },
  {
   "cell_type": "code",
   "execution_count": 13,
   "metadata": {},
   "outputs": [
    {
     "data": {
      "text/plain": [
       "['M',\n",
       " 'u',\n",
       " 'y',\n",
       " '',\n",
       " ' ',\n",
       " 'b',\n",
       " 'u',\n",
       " 'e',\n",
       " 'n',\n",
       " 'a',\n",
       " '',\n",
       " ' ',\n",
       " 'a',\n",
       " 't',\n",
       " 'e',\n",
       " 'n',\n",
       " 'c',\n",
       " 'i',\n",
       " 'Ã',\n",
       " '³',\n",
       " 'n',\n",
       " '',\n",
       " ' ',\n",
       " 'y',\n",
       " '',\n",
       " ' ',\n",
       " 'c',\n",
       " 'a',\n",
       " 'l',\n",
       " 'i',\n",
       " 'd',\n",
       " 'e',\n",
       " 'z']"
      ]
     },
     "execution_count": 13,
     "metadata": {},
     "output_type": "execute_result"
    }
   ],
   "source": [
    "\n",
    "def removePunc(wordList):\n",
    "    \"\"\"Strips punctuation from list of words\"\"\"\n",
    "    puncList = [\".\",\";\",\":\",\"!\",\"?\",\"/\",\"\\\\\",\",\",\")\",\"(\",\"\\\"\"]\n",
    "    for punc in puncList:\n",
    "        for word in wordList:\n",
    "            wordList=[word.replace(punc,'') for word in wordList]\n",
    "    return wordList\n",
    "\n",
    "removePunc(words)"
   ]
  },
  {
   "cell_type": "code",
   "execution_count": 17,
   "metadata": {},
   "outputs": [
    {
     "data": {
      "text/plain": [
       "['M',\n",
       " 'u',\n",
       " 'y',\n",
       " ' ',\n",
       " 'b',\n",
       " 'u',\n",
       " 'e',\n",
       " 'n',\n",
       " 'a',\n",
       " ' ',\n",
       " 'a',\n",
       " 't',\n",
       " 'e',\n",
       " 'n',\n",
       " 'c',\n",
       " 'i',\n",
       " 'Ã',\n",
       " '³',\n",
       " 'n',\n",
       " ' ',\n",
       " 'y',\n",
       " ' ',\n",
       " 'c',\n",
       " 'a',\n",
       " 'l',\n",
       " 'i',\n",
       " 'd',\n",
       " 'e',\n",
       " 'z']"
      ]
     },
     "execution_count": 17,
     "metadata": {},
     "output_type": "execute_result"
    }
   ],
   "source": [
    "#we are substituting(re.sub) all NON[alphanumeric characters(\\w) and spaces(\\s)] with empty string.\n",
    "\n",
    "def remove_punctuations(words):\n",
    "    return [word for word in [re.sub(r'[^\\w\\s]', '', word) for word in words] if word!='']\n",
    "\n",
    "\n",
    "remove_punctuations(words)"
   ]
  },
  {
   "cell_type": "code",
   "execution_count": 15,
   "metadata": {},
   "outputs": [
    {
     "data": {
      "text/plain": [
       "'Muy buena atenciÃ³n y calidez'"
      ]
     },
     "execution_count": 15,
     "metadata": {},
     "output_type": "execute_result"
    }
   ],
   "source": [
    "re.sub(r'[^\\w\\s]','',words)"
   ]
  },
  {
   "cell_type": "code",
   "execution_count": null,
   "metadata": {},
   "outputs": [],
   "source": []
  },
  {
   "cell_type": "code",
   "execution_count": null,
   "metadata": {},
   "outputs": [],
   "source": []
  }
 ],
 "metadata": {
  "kernelspec": {
   "display_name": "Python 3",
   "language": "python",
   "name": "python3"
  },
  "language_info": {
   "codemirror_mode": {
    "name": "ipython",
    "version": 3
   },
   "file_extension": ".py",
   "mimetype": "text/x-python",
   "name": "python",
   "nbconvert_exporter": "python",
   "pygments_lexer": "ipython3",
   "version": "3.6.7"
  }
 },
 "nbformat": 4,
 "nbformat_minor": 2
}
