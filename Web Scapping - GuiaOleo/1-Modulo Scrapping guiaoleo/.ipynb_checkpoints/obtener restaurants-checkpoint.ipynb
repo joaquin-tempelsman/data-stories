{
 "cells": [
  {
   "cell_type": "code",
   "execution_count": 1,
   "metadata": {},
   "outputs": [],
   "source": [
    "import requests\n",
    "from bs4 import BeautifulSoup\n",
    "from datetime import datetime\n",
    "import parser\n",
    "from time import sleep\n",
    "import os.path\n",
    "import requests\n",
    "import re\n",
    "import pandas as pd\n",
    "from requests_testadapter import Resp\n",
    "from requests_file import FileAdapter"
   ]
  },
  {
   "cell_type": "code",
   "execution_count": 2,
   "metadata": {},
   "outputs": [],
   "source": [
    "headers = {'User-Agent': 'Mozilla/5.0 (Windows NT 10.0; Win64; x64) AppleWebKit/537.36 (KHTML, like Gecko) Chrome/75.0.3770.142 Safari/537.36'}"
   ]
  },
  {
   "cell_type": "code",
   "execution_count": 3,
   "metadata": {},
   "outputs": [],
   "source": [
    "url = 'https://www.guiaoleo.com.ar/sitemap_bar.xml'\n",
    "\n",
    "restaurantes = requests.get(url, headers=headers)\n",
    "restos = BeautifulSoup(restaurantes.content, \"html.parser\")"
   ]
  },
  {
   "cell_type": "code",
   "execution_count": 4,
   "metadata": {},
   "outputs": [],
   "source": [
    "def scrap_if_not_exists(url, path):\n",
    "\n",
    "    page_content = ''\n",
    "\n",
    "    if not os.path.exists(path):\n",
    "\n",
    "        # Pido la pagina\n",
    "        try:\n",
    "            response = requests.get(url, headers=headers)\n",
    "            \n",
    "            # Si el pedido fue exitoso\n",
    "            if response:\n",
    "\n",
    "                # Grabo el archivo con el contenido\n",
    "                with open(path, \"w\") as html_file:\n",
    "                    page_content = str(response.content)\n",
    "                    html_file.write(page_content)\n",
    "\n",
    "        except:\n",
    "            print('Error in ' + url)\n",
    "            \n",
    "        sleep(3)\n",
    "       \n",
    "    else:\n",
    "        # Cargo el contenido del archivo\n",
    "        with open(path, 'r') as html_file:\n",
    "            page_content = html_file.read()\n",
    "                                    \n",
    "    # Parseo y devuelvo el arbol\n",
    "    return BeautifulSoup(page_content, \"html.parser\")"
   ]
  },
  {
   "cell_type": "code",
   "execution_count": 13,
   "metadata": {},
   "outputs": [
    {
     "name": "stdout",
     "output_type": "stream",
     "text": [
      "Data/Baresss/waffles-house-z1iHA.html\n",
      "Data/Baresss/el-parador-gAzgD.html\n",
      "Data/Baresss/casa-babel-dogpU.html\n",
      "Data/Baresss/Denver-11466.html\n",
      "Data/Baresss/petits-paniers-rQXYm.html\n",
      "Data/Baresss/uptown-ba-X6pfM.html\n",
      "Data/Baresss/Dollar-train-11672.html\n",
      "Data/Baresss/Alma-bar-11824.html\n",
      "Data/Baresss/la-portea-cafe-bar-87CvC.html\n",
      "Data/Baresss/bocata-VOafp.html\n",
      "Data/Baresss/LArc-11788.html\n"
     ]
    },
    {
     "ename": "KeyboardInterrupt",
     "evalue": "",
     "output_type": "error",
     "traceback": [
      "\u001b[1;31m---------------------------------------------------------------------------\u001b[0m",
      "\u001b[1;31mKeyboardInterrupt\u001b[0m                         Traceback (most recent call last)",
      "\u001b[1;32m<ipython-input-13-c67c8da87389>\u001b[0m in \u001b[0;36m<module>\u001b[1;34m\u001b[0m\n\u001b[0;32m     16\u001b[0m     \u001b[0mrestaurant_file\u001b[0m \u001b[1;33m=\u001b[0m \u001b[1;34m'Data/Baresss/'\u001b[0m \u001b[1;33m+\u001b[0m \u001b[0mrestaurant_name\u001b[0m \u001b[1;33m+\u001b[0m \u001b[1;34m'.html'\u001b[0m\u001b[1;33m\u001b[0m\u001b[1;33m\u001b[0m\u001b[0m\n\u001b[0;32m     17\u001b[0m \u001b[1;33m\u001b[0m\u001b[0m\n\u001b[1;32m---> 18\u001b[1;33m     \u001b[0mscrap_if_not_exists\u001b[0m\u001b[1;33m(\u001b[0m\u001b[0mrestaurant_url\u001b[0m\u001b[1;33m,\u001b[0m \u001b[0mrestaurant_file\u001b[0m\u001b[1;33m)\u001b[0m\u001b[1;33m\u001b[0m\u001b[1;33m\u001b[0m\u001b[0m\n\u001b[0m\u001b[0;32m     19\u001b[0m     \u001b[0mprint\u001b[0m\u001b[1;33m(\u001b[0m\u001b[0mrestaurant_file\u001b[0m\u001b[1;33m)\u001b[0m\u001b[1;33m\u001b[0m\u001b[1;33m\u001b[0m\u001b[0m\n",
      "\u001b[1;32m<ipython-input-4-b37d88879559>\u001b[0m in \u001b[0;36mscrap_if_not_exists\u001b[1;34m(url, path)\u001b[0m\n\u001b[0;32m     20\u001b[0m             \u001b[0mprint\u001b[0m\u001b[1;33m(\u001b[0m\u001b[1;34m'Error in '\u001b[0m \u001b[1;33m+\u001b[0m \u001b[0murl\u001b[0m\u001b[1;33m)\u001b[0m\u001b[1;33m\u001b[0m\u001b[1;33m\u001b[0m\u001b[0m\n\u001b[0;32m     21\u001b[0m \u001b[1;33m\u001b[0m\u001b[0m\n\u001b[1;32m---> 22\u001b[1;33m         \u001b[0msleep\u001b[0m\u001b[1;33m(\u001b[0m\u001b[1;36m3\u001b[0m\u001b[1;33m)\u001b[0m\u001b[1;33m\u001b[0m\u001b[1;33m\u001b[0m\u001b[0m\n\u001b[0m\u001b[0;32m     23\u001b[0m \u001b[1;33m\u001b[0m\u001b[0m\n\u001b[0;32m     24\u001b[0m     \u001b[1;32melse\u001b[0m\u001b[1;33m:\u001b[0m\u001b[1;33m\u001b[0m\u001b[1;33m\u001b[0m\u001b[0m\n",
      "\u001b[1;31mKeyboardInterrupt\u001b[0m: "
     ]
    }
   ],
   "source": [
    "# Crear las carpetas de datos\n",
    "if not os.path.exists('Data'):\n",
    "    os.makedirs('Data')\n",
    "\n",
    "if not os.path.exists('Data/Baress/'):\n",
    "    os.makedirs('Data/Baresss/')\n",
    "\n",
    "# Bajar toda la lista de restaurantes\n",
    "all_restaurants_url = 'https://www.guiaoleo.com.ar/sitemap_bar.xml'\n",
    "restaurants = scrap_if_not_exists(all_restaurants_url, 'Data/sitemap_bar.xml')\n",
    "\n",
    "# Bajar cada uno de los restaurantes\n",
    "for loc in restaurants.find_all('loc'):\n",
    "    restaurant_url = loc.text    \n",
    "    restaurant_name = loc.text.replace('https://www.guiaoleo.com.ar/bares/', '')\n",
    "    restaurant_file = 'Data/Baresss/' + restaurant_name + '.html'\n",
    "    \n",
    "    scrap_if_not_exists(restaurant_url, restaurant_file)\n",
    "    print(restaurant_file)"
   ]
  },
  {
   "cell_type": "code",
   "execution_count": null,
   "metadata": {},
   "outputs": [],
   "source": []
  },
  {
   "cell_type": "code",
   "execution_count": null,
   "metadata": {},
   "outputs": [],
   "source": []
  }
 ],
 "metadata": {
  "kernelspec": {
   "display_name": "Python 3",
   "language": "python",
   "name": "python3"
  },
  "language_info": {
   "codemirror_mode": {
    "name": "ipython",
    "version": 3
   },
   "file_extension": ".py",
   "mimetype": "text/x-python",
   "name": "python",
   "nbconvert_exporter": "python",
   "pygments_lexer": "ipython3",
   "version": "3.6.7"
  }
 },
 "nbformat": 4,
 "nbformat_minor": 2
}
