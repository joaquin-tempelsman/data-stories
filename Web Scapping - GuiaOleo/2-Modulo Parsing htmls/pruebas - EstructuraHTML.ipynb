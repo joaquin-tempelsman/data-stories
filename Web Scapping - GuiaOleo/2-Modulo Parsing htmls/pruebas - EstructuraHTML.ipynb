{
 "cells": [
  {
   "cell_type": "code",
   "execution_count": 2,
   "metadata": {},
   "outputs": [],
   "source": [
    "import requests\n",
    "import re\n",
    "from bs4 import BeautifulSoup\n",
    "import pandas as pd\n",
    "from requests_testadapter import Resp\n",
    "import requests\n",
    "from requests_file import FileAdapter\n",
    "import os.path"
   ]
  },
  {
   "cell_type": "code",
   "execution_count": 3,
   "metadata": {},
   "outputs": [],
   "source": [
    "\n",
    "# #VERSION LOCAL\n",
    "# local_url = 'file:///C:/Users/Joaquin/Documents/GitHub/desafio-final/Data/Restaurants/Almacen-purista-10168.html'\n",
    "# s = requests.Session()\n",
    "# s.mount('file://', FileAdapter())\n",
    "# local_resp = s.get(local_url)\n",
    "# bsObj = BeautifulSoup(local_resp.content, 'html.parser')\n",
    "\n",
    "#VERSION ONLINE\n",
    "url = 'https://www.guiaoleo.com.ar/restaurantes/Fernet-Bar-Bistro-7813'\n",
    "resp = requests.get(url)\n",
    "bsObj = BeautifulSoup(resp.content, 'html.parser')\n"
   ]
  },
  {
   "cell_type": "code",
   "execution_count": 9,
   "metadata": {},
   "outputs": [
    {
     "name": "stdout",
     "output_type": "stream",
     "text": [
      "[]\n"
     ]
    }
   ],
   "source": [
    "# #función para iterar por todas las urls guardados en data y obtener todas las clases en una lista.\n",
    "# folder_restos  = \"Data/Restaurants/\"\n",
    "# # This would print all the files \n",
    "# def restos_lis(folder):\n",
    "#     data_restos =[]\n",
    "#     for filename in os.listdir(folder):\n",
    "#         s = requests.Session()\n",
    "#         s.mount('file://', FileAdapter())\n",
    "#         local_resp = s.get(local_url)\n",
    "#         bsObj = BeautifulSoup(local_resp.content, 'html.parser')\n",
    "#         nombre_lugar = bsObj.find(\"h1\").contents[0]\n",
    "#         tipo_comida = bsObj.findAll(\"a\", {\"class\":\"display-extended-links\"})\n",
    "#         price_range = bsObj.find(\"span\", {\"class\":\"price-range\"})\n",
    "#         descripcion = bsObj.findAll(\"p\",{\"class\":\"tile-text\"})\n",
    "#         activity_type = bsObj.findAll(\"p\",{\"class\":\"activity-text\"})\n",
    "#         comentario = bsObj.findAll(\"h4\")\n",
    "#         data_list = (filename,nombre_lugar,tipo_comida,price_range,descripcion,activity_type,comentario)\n",
    "#         data_restos.append(data_list)\n",
    "        \n",
    "#     return data_restos\n",
    "        \n",
    "# datos_restaurantes = restos_lis(folder_restos)       \n",
    "price_range = bsObj.findAll(\"span\"\"})\n",
    "print (price_range)\n",
    "#<span itemprop=\"ratingValue\">29</span>\n",
    "\n",
    "\n",
    "\n",
    "#document.querySelector(\"#waypoint > section:nth-child(4) > div > div.display-extended-footer > div > div:nth-child(2) > span:nth-child(3)\")"
   ]
  },
  {
   "cell_type": "code",
   "execution_count": null,
   "metadata": {},
   "outputs": [],
   "source": [
    "# #prueba de la primera parte de la función pasada en el paso anterior\n",
    "# folder_restos  = \"Data/Restaurants/\"\n",
    "# def restos_lis(folder):\n",
    "#     rest =[]\n",
    "#     for filename in os.listdir(folder):\n",
    "#         rest.append(filename)\n",
    "         \n",
    "#     return rest\n",
    "\n",
    "# restos_lis(folder_restos)"
   ]
  },
  {
   "cell_type": "code",
   "execution_count": 15,
   "metadata": {},
   "outputs": [
    {
     "ename": "AttributeError",
     "evalue": "ResultSet object has no attribute 'findChildren'. You're probably treating a list of items like a single item. Did you call find_all() when you meant to call find()?",
     "output_type": "error",
     "traceback": [
      "\u001b[1;31m---------------------------------------------------------------------------\u001b[0m",
      "\u001b[1;31mAttributeError\u001b[0m                            Traceback (most recent call last)",
      "\u001b[1;32m<ipython-input-15-10ed9c9bdb3e>\u001b[0m in \u001b[0;36m<module>\u001b[1;34m\u001b[0m\n\u001b[0;32m      2\u001b[0m \u001b[1;31m#print (puntuacion)\u001b[0m\u001b[1;33m\u001b[0m\u001b[1;33m\u001b[0m\u001b[1;33m\u001b[0m\u001b[0m\n\u001b[0;32m      3\u001b[0m \u001b[1;33m\u001b[0m\u001b[0m\n\u001b[1;32m----> 4\u001b[1;33m \u001b[0mchildren\u001b[0m \u001b[1;33m=\u001b[0m \u001b[0mreviews\u001b[0m\u001b[1;33m.\u001b[0m\u001b[0mfindChildren\u001b[0m\u001b[1;33m(\u001b[0m\u001b[1;34m\"span\"\u001b[0m \u001b[1;33m,\u001b[0m \u001b[0mrecursive\u001b[0m\u001b[1;33m=\u001b[0m\u001b[1;32mFalse\u001b[0m\u001b[1;33m)\u001b[0m\u001b[1;33m\u001b[0m\u001b[1;33m\u001b[0m\u001b[0m\n\u001b[0m\u001b[0;32m      5\u001b[0m \u001b[1;32mfor\u001b[0m \u001b[0mchild\u001b[0m \u001b[1;32min\u001b[0m \u001b[0mchildren\u001b[0m\u001b[1;33m:\u001b[0m\u001b[1;33m\u001b[0m\u001b[1;33m\u001b[0m\u001b[0m\n\u001b[0;32m      6\u001b[0m     \u001b[0mprint\u001b[0m \u001b[1;33m(\u001b[0m\u001b[0mchild\u001b[0m\u001b[1;33m)\u001b[0m\u001b[1;33m\u001b[0m\u001b[1;33m\u001b[0m\u001b[0m\n",
      "\u001b[1;32m~\\Anaconda3\\lib\\site-packages\\bs4\\element.py\u001b[0m in \u001b[0;36m__getattr__\u001b[1;34m(self, key)\u001b[0m\n\u001b[0;32m   1618\u001b[0m     \u001b[1;32mdef\u001b[0m \u001b[0m__getattr__\u001b[0m\u001b[1;33m(\u001b[0m\u001b[0mself\u001b[0m\u001b[1;33m,\u001b[0m \u001b[0mkey\u001b[0m\u001b[1;33m)\u001b[0m\u001b[1;33m:\u001b[0m\u001b[1;33m\u001b[0m\u001b[1;33m\u001b[0m\u001b[0m\n\u001b[0;32m   1619\u001b[0m         raise AttributeError(\n\u001b[1;32m-> 1620\u001b[1;33m             \u001b[1;34m\"ResultSet object has no attribute '%s'. You're probably treating a list of items like a single item. Did you call find_all() when you meant to call find()?\"\u001b[0m \u001b[1;33m%\u001b[0m \u001b[0mkey\u001b[0m\u001b[1;33m\u001b[0m\u001b[1;33m\u001b[0m\u001b[0m\n\u001b[0m\u001b[0;32m   1621\u001b[0m         )\n",
      "\u001b[1;31mAttributeError\u001b[0m: ResultSet object has no attribute 'findChildren'. You're probably treating a list of items like a single item. Did you call find_all() when you meant to call find()?"
     ]
    }
   ],
   "source": [
    "puntuacion = bsObj.find({\"class\":\"percent-bar\"})\n",
    "#print (puntuacion)\n",
    "\n",
    "children = reviews.findChildren(\"span\" , recursive=False)\n",
    "for child in children:\n",
    "    print (child)"
   ]
  },
  {
   "cell_type": "code",
   "execution_count": 38,
   "metadata": {},
   "outputs": [],
   "source": [
    "puntaje_review = bsObj.findAll(\"div\",{\"class\":\"activity-ratings\"})\n",
    "a = puntaje_review[0].findAll(\"span\")\n",
    "# for item in a:\n",
    "#      print (item.text)\n",
    "\n",
    "\n",
    "\n",
    "# 2 , 5 , 8\n",
    "\n",
    "\n",
    "\n",
    "b = a[8]\n",
    "\n",
    "# for items in\n",
    "# b = a[5].text\n",
    "\n",
    "#\" \".join(b.split())\n",
    "\n",
    "# print (a[2])\n",
    "\n"
   ]
  },
  {
   "cell_type": "code",
   "execution_count": 55,
   "metadata": {},
   "outputs": [
    {
     "data": {
      "text/plain": [
       "'Excelente'"
      ]
     },
     "execution_count": 55,
     "metadata": {},
     "output_type": "execute_result"
    }
   ],
   "source": [
    "z = puntaje_review[0].findAll(\"span\")\n",
    "z[2].get_text().strip()"
   ]
  },
  {
   "cell_type": "code",
   "execution_count": 47,
   "metadata": {},
   "outputs": [
    {
     "name": "stdout",
     "output_type": "stream",
     "text": [
      "None\n"
     ]
    }
   ],
   "source": [
    "#retomamos la misma función, pero le pasamos una carpeta solo con 3 url para poder hacer un exploratorio\n",
    "#se modifica el .append() para poder indexar los elementos y pasar un metodo difeerente por clase.\n",
    "\n",
    "folder_prueba = \"Data/Prueba/\"\n",
    "\n",
    "\n",
    "\n",
    "# # This would print all the files \n",
    "def restos_lis(folder):\n",
    "     data_restos =[]\n",
    "     for filename in os.listdir(folder):\n",
    "         data_restos.append('file:///C:/Users/Lenovo/desafio-final/Data/Restaurants/'+ filename)\n",
    "        \n",
    "         s = requests.Session()\n",
    "         s.mount('file://', FileAdapter())\n",
    "         #local_resp = s.get('file:///C:/Users/Lenovo/desafio-final/Data/Restaurants/'+ filename) #VERSION JOHANA\n",
    "         local_resp = s.get('file:///C:/Users/Joaquin/Documents/GitHub/desafio-final/Data/Prueba/'+ filename) #VERSION JOAQUIN\n",
    "         bsObj = BeautifulSoup(local_resp.content, 'html.parser')\n",
    "         nombre_lugar = bsObj.find(\"h1\")\n",
    "         data_restos.append(nombre_lugar)\n",
    "         tipo_comida = bsObj.findAll(\"a\", {\"class\":\"display-extended-links\"})\n",
    "         data_restos.append(tipo_comida)\n",
    "         price_range = bsObj.find(\"span\", {\"class\":\"price-range\"})\n",
    "         data_restos.append(price_range)\n",
    "         descripcion = bsObj.findAll(\"p\",{\"class\":\"tile-text\"})\n",
    "         data_restos.append(descripcion)\n",
    "         activity_type = bsObj.findAll(\"p\",{\"class\":\"activity-text\"})\n",
    "         data_restos.append(activity_type)\n",
    "         comentario = bsObj.findAll(\"h4\")\n",
    "         data_restos.append(comentario)\n",
    "         data_list = [filename,nombre_lugar,tipo_comida,price_range,descripcion,activity_type,comentario]\n",
    "\n",
    "        \n",
    "datos_prueba = restos_lis(folder_prueba)\n"
   ]
  },
  {
   "cell_type": "code",
   "execution_count": 6,
   "metadata": {},
   "outputs": [
    {
     "data": {
      "text/plain": [
       "'N53 Fernet Bar Palermo'"
      ]
     },
     "execution_count": 6,
     "metadata": {},
     "output_type": "execute_result"
    }
   ],
   "source": [
    "#NOMBRE DEL RESTORAN / BAR - FINISHED\n",
    "nombre_lugar = bsObj.find(\"h1\").contents[0]\n",
    "nombre_lugar\n"
   ]
  },
  {
   "cell_type": "code",
   "execution_count": 19,
   "metadata": {},
   "outputs": [
    {
     "name": "stdout",
     "output_type": "stream",
     "text": [
      "Villa Crespo\n"
     ]
    }
   ],
   "source": [
    "# - FINISHED\n",
    "descripcion = bsObj.findAll(\"a\", {\"class\":\"display-extended-links\"})\n",
    "\n",
    "barrio = descripcion[len(descripcion)-2].text\n",
    "\n",
    "#for items in range  range 0:\n",
    "for i in range(0,len(descripcion)-2):\n",
    "     (descripcion[i].text)\n",
    "    \n",
    "# tipo_de_comida = comida_barrio[0].text\n",
    "# barrio = comida_barrio[1].text\n",
    "\n",
    "# print (tipo_de_comida)\n",
    "print (barrio)"
   ]
  },
  {
   "cell_type": "code",
   "execution_count": 9,
   "metadata": {},
   "outputs": [
    {
     "data": {
      "text/plain": [
       "'\\\\n    \\\\t\\\\t\\\\t\\\\t\\\\t\\\\t$$$$\\\\n    \\\\t\\\\t\\\\t\\\\t\\\\t'"
      ]
     },
     "execution_count": 9,
     "metadata": {},
     "output_type": "execute_result"
    }
   ],
   "source": [
    "#CATEGORIA PRECIO $ A $$$ - UNFINISHED\n",
    "\n",
    "#hay que usar regex para robarse el 50\n",
    "#si  vale $$$ el valor es 75 \n",
    "#si vale $$$$ vale 100\n",
    "price_range = bsObj.find(\"span\", {\"class\":\"price-range\"})\n",
    "price_range.get_text()\n"
   ]
  },
  {
   "cell_type": "code",
   "execution_count": 10,
   "metadata": {},
   "outputs": [
    {
     "data": {
      "text/plain": [
       "'\\\\n\\\\t\\\\t\\\\t\\\\tCocina casera porte\\\\xc3\\\\xb1a vegetariana: Picada Purista; Pastas caseras; Semifredo...\\\\n\\\\t\\\\t\\\\t'"
      ]
     },
     "execution_count": 10,
     "metadata": {},
     "output_type": "execute_result"
    }
   ],
   "source": [
    "#DESCRIPCION LUGAR - UNFINISHED\n",
    "descripcion = bsObj.findAll(\"p\",{\"class\":\"tile-text\"})\n",
    "#descripcion.get_text()\n",
    "for node in descripcion:\n",
    "    desc = \"\".join(node.findAll(text=True))\n",
    "desc"
   ]
  },
  {
   "cell_type": "code",
   "execution_count": 30,
   "metadata": {},
   "outputs": [
    {
     "data": {
      "text/plain": [
       "'Fuimos a merendar. El yoghurt con granola y compota muy rico. Tal vez le agregaria un poco de compota. Pero el tazón de yoghurt es grande. La porción de pastafrola y de brownie super generosa. Lindo lugar. Tranquilo. Muy buena atención.'"
      ]
     },
     "execution_count": 30,
     "metadata": {},
     "output_type": "execute_result"
    }
   ],
   "source": [
    "#REVIEWS - queda en una lista - UNFINISHED\n",
    "reviews = bsObj.findAll(\"p\",{\"class\":\"activity-text\"})\n",
    "#reviews[1].text\n",
    "reviews[0].text"
   ]
  },
  {
   "cell_type": "code",
   "execution_count": 196,
   "metadata": {},
   "outputs": [],
   "source": [
    "# indice = [i for i in range(100)]\n",
    "# reviews_df = pd.DataFrame(index=indice)\n",
    "# reviews_df.columns = columnas\n",
    "# #reviews_df.name[0] = nombre_lugar\n",
    "\n",
    "   \n",
    "\n",
    "\n",
    "\n",
    "# for i in range(1,len(reviews)):\n",
    "#     reviews_df[i] = []\n",
    "#     reviews_df.loc[[1],[i]] = reviews[i].text\n",
    "    \n"
   ]
  },
  {
   "cell_type": "code",
   "execution_count": 197,
   "metadata": {},
   "outputs": [],
   "source": [
    "# #reviews_df[1] = reviews[1].text\n",
    "\n",
    "# for i in range(0,len(reviews)):\n",
    "#     lista_reviews = []\n",
    "#     lista_reviews.append(reviews[i].text)\n",
    "\n",
    "\n",
    "    "
   ]
  },
  {
   "cell_type": "code",
   "execution_count": 36,
   "metadata": {},
   "outputs": [
    {
     "name": "stdout",
     "output_type": "stream",
     "text": [
      " Ir con amigos (21 votos) \n",
      " Comer sano (6 votos) \n",
      " Ir en pareja (21 votos) \n",
      " Merendar (3 votos) \n",
      " Ir con la familia (9 votos) \n",
      " Llevar extranjeros (1 votos) \n",
      " Comer al aire libre (1 votos) \n",
      " Salida de amigas (10 votos) \n",
      " Comer con buenos tragos (1 votos) \n",
      " Comer tarde (2 votos) \n",
      " Comer solo (1 votos) \n",
      " Comer bien gastando poco (1 votos) \n",
      " Comer rápido (1 votos) \n",
      " Comer sin ser visto (1 votos) \n",
      " Escuchar música (1 votos) \n",
      "Bike Parking\n",
      "Mesas al aire libre\n",
      "Aire acondicionado\n",
      "Menu ejecutivo\n",
      "Wi-Fi\n",
      "Comidas para celíacos\n",
      "Carta braile\n"
     ]
    }
   ],
   "source": [
    "comentarios = bsObj.findAll(\"h4\",{\"class\":\"tile-text-sm description\"})\n",
    "extras = bsObj.findAll(\"h4\",{\"class\":\"title-text-sm description\"})\n",
    "for i in range( 0, len(comentarios)):\n",
    "    print( comentarios[i].get_text())\n",
    "    \n",
    "for i in range( 0, len(extras)):\n",
    "    print( extras[i].get_text())"
   ]
  },
  {
   "cell_type": "code",
   "execution_count": 5,
   "metadata": {},
   "outputs": [
    {
     "data": {
      "text/plain": [
       "[<p class=\"activity-text\">Los platos no son abundantes ni tan bien logrados, La atención más bien floja</p>,\n",
       " <p class=\"activity-text\">Riquísimo y muy agradable.Caí un sábado al mediodía temprano y y me senté en una preciosa mesita al sol, escuché buen jazz, pude leer sin que nadie me molestara. La atención de los mozos y del encargado fue excelente y los precios acorde a lo que consumí y a la zona. Lo recomiendo: el ambiente es súper relajado y no es ruidoso aún cdo se llena de gente.</p>,\n",
       " <p class=\"activity-text\">Excelente el salmón, lo recomiendo. Una porción muy generosa y sabrosa. Además, con papas y ensalada.</p>,\n",
       " <p class=\"activity-text\">La atención muy buena y la ambientación muy linda. Sin embargo, los platos escasos... La verdad nos quedamos con hambre y por esta razón es que nos pareció caro. No tienen cerveza de litro, sino porrones y también nos parecieron caros.</p>,\n",
       " <p class=\"activity-text\">Un exquisito bistro en Palermo. Menú reducido pero eficiente. Atención cálida. Imperdible la chocotorta. Volveremos</p>,\n",
       " <p class=\"activity-text\">comimos muy exquisito de noche. Tienen wi.fi, eso es bueno. Volví despues al mediodía con amigas, el lugar es agradable y la atención muy amable. Es un buen sitio para almorzar y cenar con buena musica, y quedarse. Lo recomiendo.</p>,\n",
       " <p class=\"activity-text\">Excelente la comida, excelente ambiente e inmejorable atencion.</p>,\n",
       " <p class=\"activity-text\">Mas alla de que la comida es rica rica, lo que tiene Fernet que lo hace unica es la VIBRA del ambiente! La gente es re buena onda, y esa esquina es MAGICA, especialmente un dia al mediodia con solcito. El precio es razonable, mas teniendo en cuenta lo rica que es la comida!Lo super recomiendo!</p>]"
      ]
     },
     "execution_count": 5,
     "metadata": {},
     "output_type": "execute_result"
    }
   ],
   "source": [
    "        reviews = bsObj.findAll(\"p\",{\"class\":\"activity-text\"})\n",
    "        reviews_date = bsObj.findAll(\"div\",{\"class\":\"activity-date\"})\n",
    "        reviews"
   ]
  }
 ],
 "metadata": {
  "kernelspec": {
   "display_name": "Python 3",
   "language": "python",
   "name": "python3"
  },
  "language_info": {
   "codemirror_mode": {
    "name": "ipython",
    "version": 3
   },
   "file_extension": ".py",
   "mimetype": "text/x-python",
   "name": "python",
   "nbconvert_exporter": "python",
   "pygments_lexer": "ipython3",
   "version": "3.6.7"
  }
 },
 "nbformat": 4,
 "nbformat_minor": 2
}
