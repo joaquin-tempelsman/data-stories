{
 "cells": [
  {
   "cell_type": "code",
   "execution_count": 5,
   "metadata": {},
   "outputs": [],
   "source": [
    "import requests\n",
    "import re\n",
    "from bs4 import BeautifulSoup\n",
    "import pandas as pd\n",
    "#from requests_testadapter import Resp\n",
    "import requests\n",
    "#from requests_file import FileAdapter\n",
    "import os.path\n"
   ]
  },
  {
   "cell_type": "code",
   "execution_count": 10,
   "metadata": {
    "scrolled": true
   },
   "outputs": [
    {
     "ename": "AttributeError",
     "evalue": "'bytes' object has no attribute 'findAll'",
     "output_type": "error",
     "traceback": [
      "\u001b[1;31m---------------------------------------------------------------------------\u001b[0m",
      "\u001b[1;31mAttributeError\u001b[0m                            Traceback (most recent call last)",
      "\u001b[1;32m<ipython-input-10-f322ca9c2518>\u001b[0m in \u001b[0;36m<module>\u001b[1;34m\u001b[0m\n\u001b[0;32m     17\u001b[0m \u001b[1;31m#TOMA DE CONTENIDO - ETIQUETAS HTML\u001b[0m\u001b[1;33m\u001b[0m\u001b[1;33m\u001b[0m\u001b[1;33m\u001b[0m\u001b[0m\n\u001b[0;32m     18\u001b[0m \u001b[1;33m\u001b[0m\u001b[0m\n\u001b[1;32m---> 19\u001b[1;33m         \u001b[0maclass\u001b[0m \u001b[1;33m=\u001b[0m \u001b[0mbsObj\u001b[0m\u001b[1;33m.\u001b[0m\u001b[0mfindAll\u001b[0m\u001b[1;33m(\u001b[0m\u001b[1;34m\"a\"\u001b[0m\u001b[1;33m,\u001b[0m \u001b[1;33m{\u001b[0m\u001b[1;34m\"class\"\u001b[0m\u001b[1;33m:\u001b[0m\u001b[1;34m\"display-extended-links\"\u001b[0m\u001b[1;33m}\u001b[0m\u001b[1;33m)\u001b[0m \u001b[1;31m#obtenemos barrio y tipo comida de esta var\u001b[0m\u001b[1;33m\u001b[0m\u001b[1;33m\u001b[0m\u001b[0m\n\u001b[0m\u001b[0;32m     20\u001b[0m \u001b[1;33m\u001b[0m\u001b[0m\n\u001b[0;32m     21\u001b[0m         \u001b[0mtipo_comida_pre\u001b[0m \u001b[1;33m=\u001b[0m \u001b[0mbsObj\u001b[0m\u001b[1;33m.\u001b[0m\u001b[0mfindAll\u001b[0m\u001b[1;33m(\u001b[0m\u001b[1;34m\"a\"\u001b[0m\u001b[1;33m,\u001b[0m \u001b[1;33m{\u001b[0m\u001b[1;34m\"class\"\u001b[0m\u001b[1;33m:\u001b[0m\u001b[1;34m\"display-extended-links\"\u001b[0m\u001b[1;33m}\u001b[0m\u001b[1;33m)\u001b[0m\u001b[1;33m\u001b[0m\u001b[1;33m\u001b[0m\u001b[0m\n",
      "\u001b[1;31mAttributeError\u001b[0m: 'bytes' object has no attribute 'findAll'"
     ]
    }
   ],
   "source": [
    "#limpiamos el DF en memoria para iniciar el proceso.\n",
    "df = pd.DataFrame()\n",
    "df_reviews = pd.DataFrame()\n",
    "\n",
    "#ruta de donde vamos a tomar los htmls.\n",
    "ruta = r\"C:/Users/Joaquin/Documents/GitHub/desafio-final/Data/Prueba/c/\"\n",
    "\n",
    "#recorremos todos los archivos en la ruta. \n",
    "for filename in os.listdir(ruta):\n",
    "        file =  open(ruta+filename, \"r\", encoding='utf-8') #abrimos el archivo\n",
    "\n",
    "        bsObj = BeautifulSoup(file, 'html.parser') #generamos el objeto beautiful soup\n",
    "        bsObj = bsObj.encode('utf-8')\n",
    "        #print(bsObj.original_encoding)\n",
    "    \n",
    "\n",
    "#TOMA DE CONTENIDO - ETIQUETAS HTML\n",
    "                       \n",
    "        aclass = bsObj.findAll(\"a\", {\"class\":\"display-extended-links\"}) #obtenemos barrio y tipo comida de esta var\n",
    "        \n",
    "        tipo_comida_pre = bsObj.findAll(\"a\", {\"class\":\"display-extended-links\"}) \n",
    "        tipo_comida = []                      \n",
    "        if len(tipo_comida_pre) - 2 >= 0:\n",
    "            for i in range( 0, len(tipo_comida_pre) - 2 ):\n",
    "                tipo_comida.append(tipo_comida_pre[i].get_text())     \n",
    "        \n",
    "        \n",
    "        actividades_pre = bsObj.findAll(\"h4\",{\"class\":\"tile-text-sm description\"})\n",
    "        actividades= []\n",
    "        for i in range( 0, len(actividades_pre)):\n",
    "            actividades.append(actividades_pre[i].get_text())\n",
    "        \n",
    "        \n",
    "        extras_pre = bsObj.findAll(\"h4\",{\"class\":\"title-text-sm description\"})\n",
    "        extras = []\n",
    "        for i in range( 0, len(extras_pre)):\n",
    "            extras.append(extras_pre[i].get_text())\n",
    "        \n",
    "        barrio = []\n",
    "        if len(aclass) -2 >= 0 :\n",
    "            barrio = bsObj.findAll(\"a\", {\"class\":\"display-extended-links\"})[len(aclass)-2].text \n",
    "\n",
    "        nombre_lugar = filename[0:len(filename)-5] \n",
    "\n",
    "        \n",
    "        price_range = []\n",
    "        #price_range = bsObj.find(\"span\", {\"class\":\"price-range\"}) - version vieja borrar\n",
    "        price_range_b = bsObj.find(\"span\", {\"class\":\"price-range\"})\n",
    "        if price_range_b != None:\n",
    "            price_range = price_range_b['class'][1].replace(\"price-range-\",\"\")\n",
    " \n",
    "    \n",
    "        reviews = bsObj.findAll(\"p\",{\"class\":\"activity-text\"})\n",
    "        reviews_date = bsObj.findAll(\"div\",{\"class\":\"activity-date\"})\n",
    "        print(reviews)\n",
    "        \n",
    "        #en proceso\n",
    "        puntaje_review = []      \n",
    "        puntaje_review = bsObj.findAll(\"div\",{\"class\":\"activity-ratings\"})\n",
    "#        puntaje_review_b = puntaje_review[0].findAll(\"span\")\n",
    "#         review_comida_b = puntaje_review_b[2].get_text().strip()\n",
    "#         review_servicio_b = puntaje_review_b[5].text\n",
    "#         review_ambiente_b = puntaje_review_b[8].text\n",
    "#         review_comida = \" \".join(review_comida_b.split())\n",
    "#         review_servicio = \" \".joinreview_servicio_b.split())\n",
    "#         review_ambiente = \" \".join(review_ambiente_b.split())\n",
    "        \n",
    "        \n",
    "        \n",
    "        #GUARDADO DE DATOS CON APPEND MEDIANTE ITERACIONES\n",
    "        \n",
    "        serie = pd.Series([nombre_lugar, tipo_comida, barrio, price_range, actividades, extras], index=['nombre_lugar', 'tipo_comida', 'barrio', 'price_range', 'actividades', 'extras'])\n",
    "        df = df.append(serie, ignore_index=True)\n",
    "        \n",
    "        serie_reviews = pd.Series([nombre_lugar, reviews, reviews_date, puntaje_review]) #index=['nombre_lugar', 'reviews'])\n",
    "        df_reviews = df_reviews.append(serie_reviews, ignore_index=True)\n",
    "\n",
    "        \n",
    "\n",
    "export_csv = df.to_csv ('df_scrapping_nuevo.csv', index = None, header=True) \n"
   ]
  },
  {
   "cell_type": "code",
   "execution_count": 11,
   "metadata": {},
   "outputs": [
    {
     "data": {
      "text/html": [
       "<div>\n",
       "<style scoped>\n",
       "    .dataframe tbody tr th:only-of-type {\n",
       "        vertical-align: middle;\n",
       "    }\n",
       "\n",
       "    .dataframe tbody tr th {\n",
       "        vertical-align: top;\n",
       "    }\n",
       "\n",
       "    .dataframe thead th {\n",
       "        text-align: right;\n",
       "    }\n",
       "</style>\n",
       "<table border=\"1\" class=\"dataframe\">\n",
       "  <thead>\n",
       "    <tr style=\"text-align: right;\">\n",
       "      <th></th>\n",
       "      <th>0</th>\n",
       "      <th>1</th>\n",
       "      <th>2</th>\n",
       "      <th>3</th>\n",
       "    </tr>\n",
       "  </thead>\n",
       "  <tbody>\n",
       "    <tr>\n",
       "      <th>0</th>\n",
       "      <td>N53 Fernet Bar Palermo -</td>\n",
       "      <td>[&lt;p class=\"activity-text\"&gt;Los platos no son ab...</td>\n",
       "      <td>[&lt;div class=\"activity-date\"&gt;06/11/2010&lt;/div&gt;, ...</td>\n",
       "      <td>[&lt;div class=\"activity-ratings\"&gt;\n",
       "&lt;div&gt;\n",
       "&lt;span&gt;Co...</td>\n",
       "    </tr>\n",
       "  </tbody>\n",
       "</table>\n",
       "</div>"
      ],
      "text/plain": [
       "                          0  \\\n",
       "0  N53 Fernet Bar Palermo -   \n",
       "\n",
       "                                                   1  \\\n",
       "0  [<p class=\"activity-text\">Los platos no son ab...   \n",
       "\n",
       "                                                   2  \\\n",
       "0  [<div class=\"activity-date\">06/11/2010</div>, ...   \n",
       "\n",
       "                                                   3  \n",
       "0  [<div class=\"activity-ratings\">\n",
       "<div>\n",
       "<span>Co...  "
      ]
     },
     "execution_count": 11,
     "metadata": {},
     "output_type": "execute_result"
    }
   ],
   "source": [
    "df_reviews"
   ]
  },
  {
   "cell_type": "code",
   "execution_count": 12,
   "metadata": {
    "scrolled": true
   },
   "outputs": [
    {
     "name": "stdout",
     "output_type": "stream",
     "text": [
      "Los platos no son abundantes ni tan bien logrados, La atención más bien floja\n",
      "Riquísimo y muy agradable.Caí un sábado al mediodía temprano y y me senté en una preciosa mesita al sol, escuché buen jazz, pude leer sin que nadie me molestara. La atención de los mozos y del encargado fue excelente y los precios acorde a lo que consumí y a la zona. Lo recomiendo: el ambiente es súper relajado y no es ruidoso aún cdo se llena de gente.\n",
      "Excelente el salmón, lo recomiendo. Una porción muy generosa y sabrosa. Además, con papas y ensalada.\n",
      "La atención muy buena y la ambientación muy linda. Sin embargo, los platos escasos... La verdad nos quedamos con hambre y por esta razón es que nos pareció caro. No tienen cerveza de litro, sino porrones y también nos parecieron caros.\n",
      "Un exquisito bistro en Palermo. Menú reducido pero eficiente. Atención cálida. Imperdible la chocotorta. Volveremos\n",
      "comimos muy exquisito de noche. Tienen wi.fi, eso es bueno. Volví despues al mediodía con amigas, el lugar es agradable y la atención muy amable. Es un buen sitio para almorzar y cenar con buena musica, y quedarse. Lo recomiendo.\n",
      "Excelente la comida, excelente ambiente e inmejorable atencion.\n",
      "Mas alla de que la comida es rica rica, lo que tiene Fernet que lo hace unica es la VIBRA del ambiente! La gente es re buena onda, y esa esquina es MAGICA, especialmente un dia al mediodia con solcito. El precio es razonable, mas teniendo en cuenta lo rica que es la comida!Lo super recomiendo!\n"
     ]
    }
   ],
   "source": [
    "#tomamos df_reviews generado en el paso anterior e iteramos por la lista de reviews y sus fechas y las guardamos como registros\n",
    "#independientes en un nuevo dataframe.\n",
    "\n",
    "df_reviews_shaped = pd.DataFrame()\n",
    "resto_counter = 0\n",
    "for resto in df_reviews[0].values:\n",
    "    counter2 = 0\n",
    "    for item in df_reviews.iloc[resto_counter][1]:\n",
    "        review = df_reviews.iloc[resto_counter][1][counter2].text\n",
    "        \n",
    "        print(review)\n",
    "        \n",
    "        fecha = df_reviews.iloc[resto_counter][2][counter2].text\n",
    "        \n",
    "        #iteramos dentro de puntaje y la descomponemos en columna comida, servicio y ambiente.\n",
    "        #agregamos puntaje al DF reviews, por si queremos controlar la info, despues lo dropeamos.\n",
    "        try:\n",
    "            puntaje = df_reviews.iloc[resto_counter][3][counter2]\n",
    "            puntaje = puntaje.findAll(\"span\")\n",
    "\n",
    "            comida = puntaje[2].get_text()\n",
    "            comida = comida.replace('\\\\t','').replace('\\\\n','').strip()\n",
    "\n",
    "            servicio = puntaje[5].get_text()\n",
    "            servicio = servicio.replace('\\\\t','').replace('\\\\n','').strip()\n",
    "\n",
    "            ambiente = puntaje[8].get_text()\n",
    "            ambiente = ambiente.replace('\\\\t','').replace('\\\\n','').strip()\n",
    "            \n",
    "        except IndexError:\n",
    "            puntaje = None\n",
    "            comida = None\n",
    "            servicio = None\n",
    "            ambiente = None\n",
    "        \n",
    "        \n",
    "        \n",
    "        serie_reviews_2 = pd.Series([resto, review, fecha, puntaje, comida, servicio, ambiente], index=['resto', 'review', 'fecha', 'puntaje', 'comida', 'servicio', 'ambiente'])\n",
    "        df_reviews_shaped = df_reviews_shaped.append(serie_reviews_2, ignore_index=True)\n",
    "        counter2=counter2 + 1\n",
    "    resto_counter = resto_counter + 1\n",
    "    \n",
    "    df_reviews_shaped = df_reviews_shaped[['resto','fecha','review','comida', 'servicio', 'ambiente']]\n",
    "        \n",
    "#export_csv = df_reviews.to_csv (r'C:/Users/QQ-Haum/Documents/desafio-final/df_reviewss.csv', index = None, header=True) \n",
    "#export_csv = df_reviewss.to_csv (r'C:/Users/QQ-Haum/Documents/desafio-final/df_reviewss.csv', index = None, header=True) \n",
    "export_csv = df_reviews_shaped.to_csv ('out.csv', index = None, header=True, encoding='utf-8') \n",
    "\n"
   ]
  },
  {
   "cell_type": "code",
   "execution_count": null,
   "metadata": {},
   "outputs": [],
   "source": [
    "\n"
   ]
  }
 ],
 "metadata": {
  "kernelspec": {
   "display_name": "Python 3",
   "language": "python",
   "name": "python3"
  },
  "language_info": {
   "codemirror_mode": {
    "name": "ipython",
    "version": 3
   },
   "file_extension": ".py",
   "mimetype": "text/x-python",
   "name": "python",
   "nbconvert_exporter": "python",
   "pygments_lexer": "ipython3",
   "version": "3.6.7"
  }
 },
 "nbformat": 4,
 "nbformat_minor": 2
}
