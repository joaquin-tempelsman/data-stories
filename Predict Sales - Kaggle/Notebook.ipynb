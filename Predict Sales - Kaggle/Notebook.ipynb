{
 "cells": [
  {
   "cell_type": "markdown",
   "metadata": {},
   "source": [
    "https://www.kaggle.com/manjeetsingh/retaildataset\n",
    "\n",
    "### Content\n",
    "You are provided with historical sales data for 45 stores located in different regions - each store contains a number of departments. The company also runs several promotional markdown events throughout the year. These markdowns precede prominent holidays, the four largest of which are the Super Bowl, Labor Day, Thanksgiving, and Christmas. The weeks including these holidays are weighted five times higher in the evaluation than non-holiday weeks.\n",
    "\n",
    "Within the Excel Sheet, there are 3 Tabs – Stores, Features and Sales\n",
    "\n",
    "### Stores\n",
    "Anonymized information about the 45 stores, indicating the type and size of store\n",
    "\n",
    "### Features\n",
    "Contains additional data related to the store, department, and regional activity for the given dates.\n",
    "\n",
    "Store - the store number\n",
    "Date - the week\n",
    "Temperature - average temperature in the region\n",
    "Fuel_Price - cost of fuel in the region\n",
    "MarkDown1-5 - anonymized data related to promotional markdowns. MarkDown data is only available after Nov 2011, and is not available for all stores all the time. Any missing value is marked with an NA\n",
    "CPI - the consumer price index\n",
    "Unemployment - the unemployment rate\n",
    "IsHoliday - whether the week is a special holiday week\n",
    "\n",
    "### Sales\n",
    "Historical sales data, which covers to 2010-02-05 to 2012-11-01. Within this tab you will find the following fields:\n",
    "\n",
    "Store - the store number\n",
    "Dept - the department number\n",
    "Date - the week\n",
    "Weekly_Sales -  sales for the given department in the given store\n",
    "IsHoliday - whether the week is a special holiday week\n",
    "The Task\n",
    "Predict the department-wide sales for each store for the following year\n",
    "Model the effects of markdowns on holiday weeks\n",
    "Provide recommended actions based on the insights drawn, with prioritization placed on largest business impact"
   ]
  },
  {
   "cell_type": "code",
   "execution_count": 1,
   "metadata": {},
   "outputs": [],
   "source": [
    "import numpy as np \n",
    "import pandas as pd \n",
    "import seaborn as sns\n",
    "import matplotlib.pyplot as plt\n",
    "%matplotlib inline\n",
    "import os\n",
    "import warnings # Ignores any warning\n",
    "warnings.filterwarnings(\"ignore\")\n",
    "import pandas_profiling"
   ]
  },
  {
   "cell_type": "code",
   "execution_count": 13,
   "metadata": {},
   "outputs": [],
   "source": [
    "import pandas_profiling"
   ]
  },
  {
   "cell_type": "code",
   "execution_count": 26,
   "metadata": {},
   "outputs": [
    {
     "name": "stdout",
     "output_type": "stream",
     "text": [
      "['Features data set.csv', 'sales data-set.csv', 'stores data-set.csv']\n"
     ]
    }
   ],
   "source": [
    "print(os.listdir(\"data\"))\n"
   ]
  },
  {
   "cell_type": "code",
   "execution_count": 2,
   "metadata": {},
   "outputs": [],
   "source": [
    "features  = pd.read_csv('data/Features data set.csv')\n",
    "sales = pd.read_csv('data/sales data-set.csv')\n",
    "stores = pd.read_csv('data/stores data-set.csv')\n"
   ]
  },
  {
   "cell_type": "code",
   "execution_count": 7,
   "metadata": {},
   "outputs": [],
   "source": [
    "profile_sales = sales.profile_report(title='sales_rep')\n",
    "profile_sales.to_file(output_file=\"output_sales.html\")"
   ]
  },
  {
   "cell_type": "code",
   "execution_count": 8,
   "metadata": {},
   "outputs": [],
   "source": [
    "profile_features = features.profile_report(title='features_rep')\n",
    "profile_features.to_file(output_file=\"output_features.html\")"
   ]
  },
  {
   "cell_type": "code",
   "execution_count": 9,
   "metadata": {},
   "outputs": [],
   "source": [
    "profile_stores = stores.profile_report(title='stores_rep')\n",
    "profile_stores.to_file(output_file=\"output_stores.html\")"
   ]
  },
  {
   "cell_type": "code",
   "execution_count": null,
   "metadata": {},
   "outputs": [],
   "source": [
    "plt.style.use('fivethirtyeight')\n",
    "plt.figure(figsize=(10,15))\n",
    "sns.distplot(sales.Weekly_Sales, bins = 25)\n",
    "plt.ticklabel_format(style='plain', axis='x', scilimits=(0,1))\n",
    "plt.xlabel(\"weekly sales\")\n",
    "plt.ylabel(\"Number of Sales\")\n",
    "plt.title(\"Sales Distribution\")"
   ]
  }
 ],
 "metadata": {
  "kernelspec": {
   "display_name": "Python 3",
   "language": "python",
   "name": "python3"
  },
  "language_info": {
   "codemirror_mode": {
    "name": "ipython",
    "version": 3
   },
   "file_extension": ".py",
   "mimetype": "text/x-python",
   "name": "python",
   "nbconvert_exporter": "python",
   "pygments_lexer": "ipython3",
   "version": "3.7.3"
  }
 },
 "nbformat": 4,
 "nbformat_minor": 2
}
