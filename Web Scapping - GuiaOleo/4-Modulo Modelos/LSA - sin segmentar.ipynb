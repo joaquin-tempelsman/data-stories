{
 "cells": [
  {
   "cell_type": "code",
   "execution_count": 12,
   "metadata": {},
   "outputs": [],
   "source": [
    "import requests\n",
    "import re\n",
    "from bs4 import BeautifulSoup\n",
    "import pandas as pd\n",
    "from requests_testadapter import Resp\n",
    "import requests\n",
    "#from requests_file import FileAdapter\n",
    "import os.path\n",
    "import numpy as np\n",
    "import matplotlib.pyplot as plt\n",
    "import matplotlib.patches as mpatches\n",
    "from sklearn.datasets import fetch_20newsgroups\n",
    "from sklearn.feature_extraction.text import TfidfVectorizer\n",
    "from sklearn.decomposition import TruncatedSVD\n",
    "from sklearn.preprocessing import Normalizer\n",
    "from sklearn.pipeline import make_pipeline\n",
    "import nltk\n"
   ]
  },
  {
   "cell_type": "code",
   "execution_count": 11,
   "metadata": {},
   "outputs": [],
   "source": [
    "df_reviews = pd.read_csv('reviews_sep2_clean.csv')"
   ]
  },
  {
   "cell_type": "code",
   "execution_count": 20,
   "metadata": {},
   "outputs": [
    {
     "data": {
      "text/html": [
       "<div>\n",
       "<style scoped>\n",
       "    .dataframe tbody tr th:only-of-type {\n",
       "        vertical-align: middle;\n",
       "    }\n",
       "\n",
       "    .dataframe tbody tr th {\n",
       "        vertical-align: top;\n",
       "    }\n",
       "\n",
       "    .dataframe thead th {\n",
       "        text-align: right;\n",
       "    }\n",
       "</style>\n",
       "<table border=\"1\" class=\"dataframe\">\n",
       "  <thead>\n",
       "    <tr style=\"text-align: right;\">\n",
       "      <th></th>\n",
       "      <th>resto</th>\n",
       "      <th>fecha</th>\n",
       "      <th>review</th>\n",
       "      <th>comida</th>\n",
       "      <th>servicio</th>\n",
       "      <th>ambiente</th>\n",
       "      <th>tokened</th>\n",
       "      <th>normal</th>\n",
       "      <th>nonstop</th>\n",
       "      <th>nopoint</th>\n",
       "    </tr>\n",
       "  </thead>\n",
       "  <tbody>\n",
       "    <tr>\n",
       "      <th>0</th>\n",
       "      <td>-amigos-del-mar-608</td>\n",
       "      <td>12/07/2015</td>\n",
       "      <td>el mejor lugar de la Argentina para comer comi...</td>\n",
       "      <td>Excelente</td>\n",
       "      <td>Excelente</td>\n",
       "      <td>Excelente</td>\n",
       "      <td>['el', 'mejor', 'lugar', 'de', 'la', 'Argentin...</td>\n",
       "      <td>['el', 'mejor', 'lugar', 'de', 'la', 'argentin...</td>\n",
       "      <td>['mejor', 'lugar', 'argentina', 'comer', 'comi...</td>\n",
       "      <td>['mejor', 'lugar', 'argentina', 'comer', 'comi...</td>\n",
       "    </tr>\n",
       "    <tr>\n",
       "      <th>1</th>\n",
       "      <td>-amigos-del-mar-608</td>\n",
       "      <td>22/06/2015</td>\n",
       "      <td>El Curry Udon excelente, hacía mucho que no co...</td>\n",
       "      <td>Muy bueno</td>\n",
       "      <td>Excelente</td>\n",
       "      <td>Excelente</td>\n",
       "      <td>['El', 'Curry', 'Udon', 'excelente', ',', 'hac...</td>\n",
       "      <td>['el', 'curry', 'udon', 'excelente', ',', 'hac...</td>\n",
       "      <td>['curry', 'udon', 'excelente', ',', 'hacía', '...</td>\n",
       "      <td>['curry', 'udon', 'excelente', 'hacía', 'comía...</td>\n",
       "    </tr>\n",
       "    <tr>\n",
       "      <th>2</th>\n",
       "      <td>-amigos-del-mar-608</td>\n",
       "      <td>06/01/2015</td>\n",
       "      <td>La relación calidad-precio fue mala (muy caro ...</td>\n",
       "      <td>Muy bueno</td>\n",
       "      <td>Regular</td>\n",
       "      <td>Muy bueno</td>\n",
       "      <td>['La', 'relación', 'calidad-precio', 'fue', 'm...</td>\n",
       "      <td>['la', 'relación', 'calidad-precio', 'fue', 'm...</td>\n",
       "      <td>['relación', 'calidad-precio', 'mala', '(', 'c...</td>\n",
       "      <td>['relación', 'calidad-precio', 'mala', 'caro',...</td>\n",
       "    </tr>\n",
       "  </tbody>\n",
       "</table>\n",
       "</div>"
      ],
      "text/plain": [
       "                 resto       fecha  \\\n",
       "0  -amigos-del-mar-608  12/07/2015   \n",
       "1  -amigos-del-mar-608  22/06/2015   \n",
       "2  -amigos-del-mar-608  06/01/2015   \n",
       "\n",
       "                                              review     comida   servicio  \\\n",
       "0  el mejor lugar de la Argentina para comer comi...  Excelente  Excelente   \n",
       "1  El Curry Udon excelente, hacía mucho que no co...  Muy bueno  Excelente   \n",
       "2  La relación calidad-precio fue mala (muy caro ...  Muy bueno    Regular   \n",
       "\n",
       "    ambiente                                            tokened  \\\n",
       "0  Excelente  ['el', 'mejor', 'lugar', 'de', 'la', 'Argentin...   \n",
       "1  Excelente  ['El', 'Curry', 'Udon', 'excelente', ',', 'hac...   \n",
       "2  Muy bueno  ['La', 'relación', 'calidad-precio', 'fue', 'm...   \n",
       "\n",
       "                                              normal  \\\n",
       "0  ['el', 'mejor', 'lugar', 'de', 'la', 'argentin...   \n",
       "1  ['el', 'curry', 'udon', 'excelente', ',', 'hac...   \n",
       "2  ['la', 'relación', 'calidad-precio', 'fue', 'm...   \n",
       "\n",
       "                                             nonstop  \\\n",
       "0  ['mejor', 'lugar', 'argentina', 'comer', 'comi...   \n",
       "1  ['curry', 'udon', 'excelente', ',', 'hacía', '...   \n",
       "2  ['relación', 'calidad-precio', 'mala', '(', 'c...   \n",
       "\n",
       "                                             nopoint  \n",
       "0  ['mejor', 'lugar', 'argentina', 'comer', 'comi...  \n",
       "1  ['curry', 'udon', 'excelente', 'hacía', 'comía...  \n",
       "2  ['relación', 'calidad-precio', 'mala', 'caro',...  "
      ]
     },
     "execution_count": 20,
     "metadata": {},
     "output_type": "execute_result"
    }
   ],
   "source": [
    "df_reviews.head(3)"
   ]
  },
  {
   "cell_type": "code",
   "execution_count": 18,
   "metadata": {},
   "outputs": [],
   "source": [
    "corpus = df_reviews.nopoint"
   ]
  },
  {
   "cell_type": "code",
   "execution_count": 45,
   "metadata": {},
   "outputs": [
    {
     "name": "stdout",
     "output_type": "stream",
     "text": [
      "n_samples: 28286, n_features: 10000\n"
     ]
    }
   ],
   "source": [
    "# Vectorizamos el texto con TfidfVectorizer\n",
    "vectorizer = TfidfVectorizer(max_df=0.5, max_features=10000,\n",
    "                             min_df=2, use_idf=True) #le saque el stopwords, porque ya lo hicimos antes\n",
    "\n",
    "X = vectorizer.fit_transform(corpus)\n",
    "\n",
    "print(\"n_samples: %d, n_features: %d\" % X.shape)"
   ]
  },
  {
   "cell_type": "code",
   "execution_count": 50,
   "metadata": {},
   "outputs": [
    {
     "ename": "NameError",
     "evalue": "name 'indices' is not defined",
     "output_type": "error",
     "traceback": [
      "\u001b[1;31m---------------------------------------------------------------------------\u001b[0m",
      "\u001b[1;31mNameError\u001b[0m                                 Traceback (most recent call last)",
      "\u001b[1;32m<ipython-input-50-5b7132a0f29e>\u001b[0m in \u001b[0;36m<module>\u001b[1;34m\u001b[0m\n\u001b[0;32m      1\u001b[0m \u001b[0mfeatures\u001b[0m \u001b[1;33m=\u001b[0m \u001b[0mvectorizer\u001b[0m\u001b[1;33m.\u001b[0m\u001b[0mget_feature_names\u001b[0m\u001b[1;33m(\u001b[0m\u001b[1;33m)\u001b[0m\u001b[1;33m\u001b[0m\u001b[1;33m\u001b[0m\u001b[0m\n\u001b[0;32m      2\u001b[0m \u001b[0mtop_n\u001b[0m \u001b[1;33m=\u001b[0m \u001b[1;36m2\u001b[0m\u001b[1;33m\u001b[0m\u001b[1;33m\u001b[0m\u001b[0m\n\u001b[1;32m----> 3\u001b[1;33m \u001b[0mtop_features\u001b[0m \u001b[1;33m=\u001b[0m \u001b[1;33m[\u001b[0m\u001b[0mfeatures\u001b[0m\u001b[1;33m[\u001b[0m\u001b[0mi\u001b[0m\u001b[1;33m]\u001b[0m \u001b[1;32mfor\u001b[0m \u001b[0mi\u001b[0m \u001b[1;32min\u001b[0m \u001b[0mindices\u001b[0m\u001b[1;33m[\u001b[0m\u001b[1;33m:\u001b[0m\u001b[0mtop_n\u001b[0m\u001b[1;33m]\u001b[0m\u001b[1;33m]\u001b[0m\u001b[1;33m\u001b[0m\u001b[1;33m\u001b[0m\u001b[0m\n\u001b[0m\u001b[0;32m      4\u001b[0m \u001b[0mprint\u001b[0m \u001b[1;33m(\u001b[0m\u001b[0mtop_features\u001b[0m\u001b[1;33m)\u001b[0m\u001b[1;33m\u001b[0m\u001b[1;33m\u001b[0m\u001b[0m\n",
      "\u001b[1;31mNameError\u001b[0m: name 'indices' is not defined"
     ]
    }
   ],
   "source": [
    "features = vectorizer.get_feature_names()\n",
    "top_n = 2\n",
    "top_features = [features[i] for i in indices[:top_n]]\n",
    "print (top_features)"
   ]
  },
  {
   "cell_type": "code",
   "execution_count": 22,
   "metadata": {},
   "outputs": [
    {
     "data": {
      "text/plain": [
       "FreqDist({\"['excelente']\": 23, '[]': 10, \"['recomendable']\": 7, \"['come', 'rico', 'nunca', 'caro']\": 7, \"['buena', 'comida']\": 6, \"['rico']\": 6, \"['bueno']\": 6, \"['bien']\": 6, \"['excelente', 'lugar']\": 5, \"['ir', 'restaurant', 'comida', 'húngara', 'comer', 'suprema', 'vayas']\": 4, ...})"
      ]
     },
     "execution_count": 22,
     "metadata": {},
     "output_type": "execute_result"
    }
   ],
   "source": [
    "#Vemos la frecuencia de las palabras más comunes\n",
    "dist = nltk.FreqDist(corpus)\n",
    "dist\n",
    "\n"
   ]
  },
  {
   "cell_type": "code",
   "execution_count": 23,
   "metadata": {},
   "outputs": [],
   "source": [
    "#Aplicamos un tipo de reducción de la dimensionalidad (SVD truncado). A diferencia de PCA\n",
    "#No centra los datos, lo que le permite funcionar con matrices esparsas.\n",
    "#recibe la matriz de vectores TD-IDF para el análisis LSA\n",
    "\n",
    "svd = TruncatedSVD(100,random_state = 1) \n",
    "normalizer = Normalizer(copy=False)\n",
    "lsa = make_pipeline(svd, normalizer)\n",
    "X = lsa.fit_transform(X)"
   ]
  },
  {
   "cell_type": "code",
   "execution_count": 39,
   "metadata": {},
   "outputs": [
    {
     "data": {
      "image/png": "[encoded data removed]",
      "text/plain": [
       "<Figure size 432x288 with 1 Axes>"
      ]
     },
     "metadata": {
      "needs_background": "light"
     },
     "output_type": "display_data"
    }
   ],
   "source": [
    "plt.figure()\n",
    "plt.scatter(X[:, 0], X[:, 1])\n",
    "plt.xlabel('Dimensión 1')\n",
    "plt.ylabel('Dimensión 2')\n",
    "plt.axis([0, 0.75, -0.6, 0.8])\n",
    "plt.show()"
   ]
  },
  {
   "cell_type": "code",
   "execution_count": 38,
   "metadata": {},
   "outputs": [
    {
     "data": {
      "text/plain": [
       "KMeans(algorithm='auto', copy_x=True, init='k-means++', max_iter=100,\n",
       "    n_clusters=3, n_init=10, n_jobs=None, precompute_distances='auto',\n",
       "    random_state=10, tol=0.0001, verbose=0)"
      ]
     },
     "execution_count": 38,
     "metadata": {},
     "output_type": "execute_result"
    }
   ],
   "source": [
    "# Clusterizamos con KMeans\n",
    "k_value = 3\n",
    "from sklearn.cluster import KMeans\n",
    "km = KMeans(n_clusters=k_value, max_iter=100, n_init=10, random_state = 10)\n",
    "km.fit(X)"
   ]
  },
  {
   "cell_type": "code",
   "execution_count": 42,
   "metadata": {},
   "outputs": [
    {
     "name": "stdout",
     "output_type": "stream",
     "text": [
      "Ranking de términos por tópico:\n",
      " excelente comida atención lugar buena calidad ambiente recomendable atencion platos precio bien precios siempre servicio buen recomiendo mejor ir carta\n",
      " buena lugar comida bien atención ambiente precios platos calidad precio buen comer ir pizza bueno mejor lindo atencion rica siempre\n",
      " pedimos si mas comida dos mala plato mal mesa lugar papas mozo solo vino bien atención nunca platos carne postre\n"
     ]
    }
   ],
   "source": [
    "# Hacemos la transformación inversa para ver el peso de los features originales (10000 dim)\n",
    "original_space_centroids = svd.inverse_transform(km.cluster_centers_)\n",
    "\n",
    "# La función argsort nos da los índices ordenados\n",
    "order_centroids = original_space_centroids.argsort()[:, ::-1]\n",
    "\n",
    "# Imprimimos los términos más \"pesados\" (frecuentes) para cada categoría\n",
    "# Con los índices ordenados, llamamos a la descripción de las palabras que construyó el Vectorizer()\n",
    "terms = vectorizer.get_feature_names()\n",
    "\n",
    "print(\"Ranking de términos por tópico:\")\n",
    "\n",
    "for i in range(k_value):\n",
    "    print(end='')\n",
    "    for ind in order_centroids[i, :20]:\n",
    "        print(' %s' % terms[ind], end='')\n",
    "    print()\n",
    "\n",
    "# Nos quedamos con los índices ordenados más importantes en cada tópico"
   ]
  },
  {
   "cell_type": "code",
   "execution_count": null,
   "metadata": {},
   "outputs": [],
   "source": [
    "#podemos ver en los resultados, que los primeros dos topics apuntan a una buena experiencia y el tercero\n",
    "#apunta a una experiencia negativa\n",
    "\n",
    "#probamos nuevamente con 2 temas."
   ]
  },
  {
   "cell_type": "code",
   "execution_count": 43,
   "metadata": {},
   "outputs": [
    {
     "data": {
      "text/plain": [
       "KMeans(algorithm='auto', copy_x=True, init='k-means++', max_iter=100,\n",
       "    n_clusters=2, n_init=10, n_jobs=None, precompute_distances='auto',\n",
       "    random_state=10, tol=0.0001, verbose=0)"
      ]
     },
     "execution_count": 43,
     "metadata": {},
     "output_type": "execute_result"
    }
   ],
   "source": [
    "k_value = 2\n",
    "from sklearn.cluster import KMeans\n",
    "km = KMeans(n_clusters=k_value, max_iter=100, n_init=10, random_state = 10)\n",
    "km.fit(X)"
   ]
  },
  {
   "cell_type": "code",
   "execution_count": 44,
   "metadata": {},
   "outputs": [
    {
     "name": "stdout",
     "output_type": "stream",
     "text": [
      "Ranking de términos por tópico:\n",
      " buena comida lugar excelente atención ambiente calidad bien platos precios precio buen atencion recomendable ir lindo carta agradable siempre comer\n",
      " lugar bien si pedimos mas comida pizza dos comer platos atención plato papas mesa mala mal servicio bueno solo carne\n"
     ]
    }
   ],
   "source": [
    "original_space_centroids = svd.inverse_transform(km.cluster_centers_)\n",
    "\n",
    "order_centroids = original_space_centroids.argsort()[:, ::-1]\n",
    "\n",
    "terms = vectorizer.get_feature_names()\n",
    "print(\"Ranking de términos por tópico:\")\n",
    "\n",
    "for i in range(k_value):\n",
    "    print(end='')\n",
    "    for ind in order_centroids[i, :20]:\n",
    "        print(' %s' % terms[ind], end='')\n",
    "    print()\n",
    "\n",
    "# Nos quedamos con los 10 índices ordenados más importantes en cada tópico\n",
    "# Los tópicos parecen tener sentido: Tópico 0(religion), Tópico 1(gráficos) y Tópico 2(espacio)"
   ]
  }
 ],
 "metadata": {
  "kernelspec": {
   "display_name": "Python 3",
   "language": "python",
   "name": "python3"
  },
  "language_info": {
   "codemirror_mode": {
    "name": "ipython",
    "version": 3
   },
   "file_extension": ".py",
   "mimetype": "text/x-python",
   "name": "python",
   "nbconvert_exporter": "python",
   "pygments_lexer": "ipython3",
   "version": "3.7.3"
  }
 },
 "nbformat": 4,
 "nbformat_minor": 2
}
