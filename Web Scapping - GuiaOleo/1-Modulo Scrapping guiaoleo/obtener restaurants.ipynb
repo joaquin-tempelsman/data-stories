{
 "cells": [
  {
   "cell_type": "code",
   "execution_count": 6,
   "metadata": {},
   "outputs": [],
   "source": [
    "import requests\n",
    "from bs4 import BeautifulSoup\n",
    "from datetime import datetime\n",
    "import parser\n",
    "from time import sleep\n",
    "import os.path\n",
    "import requests\n",
    "import re\n",
    "import pandas as pd\n",
    "from requests_testadapter import Resp\n",
    "from requests_file import FileAdapter"
   ]
  },
  {
   "cell_type": "code",
   "execution_count": 7,
   "metadata": {},
   "outputs": [],
   "source": [
    "headers = {'User-Agent': 'Mozilla/5.0 (Windows NT 10.0; Win64; x64) AppleWebKit/537.36 (KHTML, like Gecko) Chrome/75.0.3770.142 Safari/537.36'}"
   ]
  },
  {
   "cell_type": "code",
   "execution_count": 8,
   "metadata": {},
   "outputs": [],
   "source": [
    "url = 'https://www.guiaoleo.com.ar/sitemap_restaurante.xml'\n",
    "\n",
    "restaurantes = requests.get(url, headers=headers)\n",
    "restos = BeautifulSoup(restaurantes.content, \"html.parser\")"
   ]
  },
  {
   "cell_type": "code",
   "execution_count": 9,
   "metadata": {},
   "outputs": [],
   "source": [
    "def scrap_if_not_exists(url, path):\n",
    "\n",
    "    page_content = ''\n",
    "\n",
    "    if not os.path.exists(path):\n",
    "\n",
    "        # Pido la pagina\n",
    "        try:\n",
    "            response = requests.get(url, headers=headers)\n",
    "            \n",
    "            # Si el pedido fue exitoso\n",
    "            if response:\n",
    "\n",
    "                # Grabo el archivo con el contenido\n",
    "                with open(path, \"w\") as html_file:\n",
    "                    page_content = str(response.content)\n",
    "                    html_file.write(page_content)\n",
    "\n",
    "        except:\n",
    "            print('Error in ' + url)\n",
    "            \n",
    "        sleep(3)\n",
    "       \n",
    "    else:\n",
    "        # Cargo el contenido del archivo\n",
    "        with open(path, 'r') as html_file:\n",
    "            page_content = html_file.read()\n",
    "                                    \n",
    "    # Parseo y devuelvo el arbol\n",
    "    return BeautifulSoup(page_content, \"html.parser\")"
   ]
  },
  {
   "cell_type": "code",
   "execution_count": null,
   "metadata": {},
   "outputs": [
    {
     "name": "stdout",
     "output_type": "stream",
     "text": [
      "Error in https://www.guiaoleo.com.ar/restaurantes/pim-pam-pum-comedero-3dvXS\n",
      "Data/restos/https://www.guiaoleo.com.ar/restaurantes/pim-pam-pum-comedero-3dvXS.html\n",
      "Error in https://www.guiaoleo.com.ar/restaurantes/waffles-house-z1iHA\n",
      "Data/restos/https://www.guiaoleo.com.ar/restaurantes/waffles-house-z1iHA.html\n",
      "Error in https://www.guiaoleo.com.ar/restaurantes/baru-gastropub-qnGVx\n",
      "Data/restos/https://www.guiaoleo.com.ar/restaurantes/baru-gastropub-qnGVx.html\n",
      "Error in https://www.guiaoleo.com.ar/restaurantes/el-rincn-patagnico-kYshy\n",
      "Data/restos/https://www.guiaoleo.com.ar/restaurantes/el-rincn-patagnico-kYshy.html\n",
      "Error in https://www.guiaoleo.com.ar/restaurantes/la-farola-express-8xTFF\n",
      "Data/restos/https://www.guiaoleo.com.ar/restaurantes/la-farola-express-8xTFF.html\n",
      "Error in https://www.guiaoleo.com.ar/restaurantes/bonafide-colon-y-canada-OZWzW\n",
      "Data/restos/https://www.guiaoleo.com.ar/restaurantes/bonafide-colon-y-canada-OZWzW.html\n",
      "Error in https://www.guiaoleo.com.ar/restaurantes/el-parador-gAzgD\n",
      "Data/restos/https://www.guiaoleo.com.ar/restaurantes/el-parador-gAzgD.html\n",
      "Error in https://www.guiaoleo.com.ar/restaurantes/fabric-sushi-4F6ZX\n",
      "Data/restos/https://www.guiaoleo.com.ar/restaurantes/fabric-sushi-4F6ZX.html\n",
      "Error in https://www.guiaoleo.com.ar/restaurantes/fabric-sushi-88xDI\n",
      "Data/restos/https://www.guiaoleo.com.ar/restaurantes/fabric-sushi-88xDI.html\n",
      "Error in https://www.guiaoleo.com.ar/restaurantes/cerveza-patagonia-X497w\n",
      "Data/restos/https://www.guiaoleo.com.ar/restaurantes/cerveza-patagonia-X497w.html\n",
      "Error in https://www.guiaoleo.com.ar/restaurantes/casa-babel-dogpU\n",
      "Data/restos/https://www.guiaoleo.com.ar/restaurantes/casa-babel-dogpU.html\n",
      "Error in https://www.guiaoleo.com.ar/restaurantes/ceviche-SDkU2\n"
     ]
    }
   ],
   "source": [
    "# Crear las carpetas de datos\n",
    "if not os.path.exists('Data'):\n",
    "    os.makedirs('Data')\n",
    "\n",
    "if not os.path.exists('Data/restos/'):\n",
    "    os.makedirs('Data/restos/')\n",
    "\n",
    "# Bajar toda la lista de restaurantes\n",
    "all_restaurants_url = 'https://www.guiaoleo.com.ar/sitemap_restaurante.xml'\n",
    "restaurants = scrap_if_not_exists(all_restaurants_url, 'Data/sitemap_restaurante.xml')\n",
    "\n",
    "# Bajar cada uno de los restaurantes\n",
    "for loc in restaurants.find_all('loc'):\n",
    "    restaurant_url = loc.text    \n",
    "    restaurant_name = loc.text.replace('https://www.guiaoleo.com.ar/restos/', '')\n",
    "    restaurant_file = 'Data/restos/' + restaurant_name + '.html'\n",
    "    \n",
    "    scrap_if_not_exists(restaurant_url, restaurant_file)\n",
    "    print(restaurant_file)"
   ]
  },
  {
   "cell_type": "code",
   "execution_count": null,
   "metadata": {},
   "outputs": [],
   "source": []
  },
  {
   "cell_type": "code",
   "execution_count": null,
   "metadata": {},
   "outputs": [],
   "source": []
  }
 ],
 "metadata": {
  "kernelspec": {
   "display_name": "Python 3",
   "language": "python",
   "name": "python3"
  },
  "language_info": {
   "codemirror_mode": {
    "name": "ipython",
    "version": 3
   },
   "file_extension": ".py",
   "mimetype": "text/x-python",
   "name": "python",
   "nbconvert_exporter": "python",
   "pygments_lexer": "ipython3",
   "version": "3.6.7"
  }
 },
 "nbformat": 4,
 "nbformat_minor": 2
}
