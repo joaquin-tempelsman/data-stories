{
 "cells": [
  {
   "cell_type": "markdown",
   "metadata": {},
   "source": [
    "### About\n",
    "\n",
    "- This notebook import the csvs from multiple models cross validation outputs and then compares the performance for each model and channel.\n",
    "- Plotting the model validation results against the real value allows to validate the model fitting visually. This is done in the last step of the notebook. JPG examples of the results are included in the repo."
   ]
  },
  {
   "cell_type": "code",
   "execution_count": 1,
   "metadata": {},
   "outputs": [],
   "source": [
    "#basics\n",
    "import pandas as pd\n",
    "import numpy as np\n",
    "from datetime import datetime\n",
    "import calendar\n",
    "\n",
    "#graphs\n",
    "import plotly.express as px\n",
    "import plotly.graph_objects as go\n",
    "from plotly.subplots import make_subplots\n",
    "import matplotlib.pyplot as plt\n",
    "\n",
    "import sys\n",
    "sys.path.append('../..')\n",
    "from src import funciones\n",
    "from src import prophetaux\n",
    "\n",
    "#set options\n",
    "pd.set_option('display.float_format', '{:.2f}'.format)\n",
    "pd.options.display.max_columns = None\n",
    "pd.set_option('display.max_rows', 200)\n",
    "\n",
    "#metrics\n",
    "from math import sqrt\n",
    "from sklearn.metrics import mean_absolute_error\n",
    "from sklearn.metrics import mean_squared_error\n",
    "\n",
    "pd.options.mode.chained_assignment = None  # default='warn'\n",
    "\n",
    "import os\n",
    "import glob\n",
    "import pandas as pd"
   ]
  },
  {
   "cell_type": "code",
   "execution_count": 3,
   "metadata": {},
   "outputs": [],
   "source": [
    "extension = 'csv'\n",
    "all_filenames = [i for i in glob.glob('*.{}'.format(extension))]\n",
    "all_filenames\n",
    "#combine all files in the list\n",
    "results = pd.concat([pd.read_csv(f) for f in all_filenames ])\n",
    "#export to csv\n",
    "#combined_csv.to_csv( \"combined_csv.csv\", index=False, encoding='utf-8-sig')\n",
    "results.sort_values(by=['model','ds'],inplace=True)\n",
    "results = results[(results.sem_dia != 'Sat') & (results.sem_dia != 'Sun')]\n",
    "results['perc_error'] = abs(results['y'] - results['yhat']) / results['y']\n",
    "results['perc_error_over'] = (results['y'] - results['yhat']) / results['y']\n",
    "results['SLA'] = results['perc_error'] < 0.1\n",
    "results['SLA_over'] = results['perc_error_over'] < 0.1"
   ]
  },
  {
   "cell_type": "markdown",
   "metadata": {},
   "source": [
    "### Results Group by"
   ]
  },
  {
   "cell_type": "code",
   "execution_count": 4,
   "metadata": {
    "scrolled": true
   },
   "outputs": [
    {
     "name": "stderr",
     "output_type": "stream",
     "text": [
      "/home/cb-joalaptop/anaconda3-c/envs/py36/lib/python3.6/site-packages/ipykernel_launcher.py:1: FutureWarning:\n",
      "\n",
      "Indexing with multiple keys (implicitly converted to a tuple of keys) will be deprecated, use a list instead.\n",
      "\n"
     ]
    },
    {
     "data": {
      "text/html": [
       "<div>\n",
       "<style scoped>\n",
       "    .dataframe tbody tr th:only-of-type {\n",
       "        vertical-align: middle;\n",
       "    }\n",
       "\n",
       "    .dataframe tbody tr th {\n",
       "        vertical-align: top;\n",
       "    }\n",
       "\n",
       "    .dataframe thead tr th {\n",
       "        text-align: left;\n",
       "    }\n",
       "</style>\n",
       "<table border=\"1\" class=\"dataframe\">\n",
       "  <thead>\n",
       "    <tr>\n",
       "      <th></th>\n",
       "      <th>index</th>\n",
       "      <th>model</th>\n",
       "      <th colspan=\"3\" halign=\"left\">SLA</th>\n",
       "      <th colspan=\"3\" halign=\"left\">perc_error</th>\n",
       "      <th colspan=\"3\" halign=\"left\">SLA_over</th>\n",
       "    </tr>\n",
       "    <tr>\n",
       "      <th></th>\n",
       "      <th></th>\n",
       "      <th></th>\n",
       "      <th>sum</th>\n",
       "      <th>median</th>\n",
       "      <th>count</th>\n",
       "      <th>sum</th>\n",
       "      <th>median</th>\n",
       "      <th>count</th>\n",
       "      <th>sum</th>\n",
       "      <th>median</th>\n",
       "      <th>count</th>\n",
       "    </tr>\n",
       "  </thead>\n",
       "  <tbody>\n",
       "    <tr>\n",
       "      <th>0</th>\n",
       "      <td>0</td>\n",
       "      <td>AB_1b</td>\n",
       "      <td>0.00</td>\n",
       "      <td>False</td>\n",
       "      <td>9</td>\n",
       "      <td>6.61</td>\n",
       "      <td>0.78</td>\n",
       "      <td>9</td>\n",
       "      <td>0.00</td>\n",
       "      <td>False</td>\n",
       "      <td>9</td>\n",
       "    </tr>\n",
       "    <tr>\n",
       "      <th>1</th>\n",
       "      <td>1</td>\n",
       "      <td>AB_2</td>\n",
       "      <td>0.00</td>\n",
       "      <td>False</td>\n",
       "      <td>9</td>\n",
       "      <td>6.06</td>\n",
       "      <td>0.63</td>\n",
       "      <td>9</td>\n",
       "      <td>0.00</td>\n",
       "      <td>False</td>\n",
       "      <td>9</td>\n",
       "    </tr>\n",
       "    <tr>\n",
       "      <th>2</th>\n",
       "      <td>2</td>\n",
       "      <td>AB_3</td>\n",
       "      <td>0.00</td>\n",
       "      <td>False</td>\n",
       "      <td>9</td>\n",
       "      <td>7.69</td>\n",
       "      <td>0.91</td>\n",
       "      <td>9</td>\n",
       "      <td>0.00</td>\n",
       "      <td>False</td>\n",
       "      <td>9</td>\n",
       "    </tr>\n",
       "    <tr>\n",
       "      <th>3</th>\n",
       "      <td>3</td>\n",
       "      <td>MB_1b</td>\n",
       "      <td>0.00</td>\n",
       "      <td>False</td>\n",
       "      <td>5</td>\n",
       "      <td>1.29</td>\n",
       "      <td>0.25</td>\n",
       "      <td>5</td>\n",
       "      <td>0.00</td>\n",
       "      <td>False</td>\n",
       "      <td>5</td>\n",
       "    </tr>\n",
       "    <tr>\n",
       "      <th>4</th>\n",
       "      <td>4</td>\n",
       "      <td>MB_2</td>\n",
       "      <td>2.00</td>\n",
       "      <td>False</td>\n",
       "      <td>5</td>\n",
       "      <td>0.56</td>\n",
       "      <td>0.10</td>\n",
       "      <td>5</td>\n",
       "      <td>3.00</td>\n",
       "      <td>True</td>\n",
       "      <td>5</td>\n",
       "    </tr>\n",
       "    <tr>\n",
       "      <th>5</th>\n",
       "      <td>5</td>\n",
       "      <td>MB_3</td>\n",
       "      <td>4.00</td>\n",
       "      <td>True</td>\n",
       "      <td>5</td>\n",
       "      <td>0.40</td>\n",
       "      <td>0.07</td>\n",
       "      <td>5</td>\n",
       "      <td>5.00</td>\n",
       "      <td>True</td>\n",
       "      <td>5</td>\n",
       "    </tr>\n",
       "  </tbody>\n",
       "</table>\n",
       "</div>"
      ],
      "text/plain": [
       "  index  model  SLA              perc_error              SLA_over             \n",
       "                sum median count        sum median count      sum median count\n",
       "0     0  AB_1b 0.00  False     9       6.61   0.78     9     0.00  False     9\n",
       "1     1   AB_2 0.00  False     9       6.06   0.63     9     0.00  False     9\n",
       "2     2   AB_3 0.00  False     9       7.69   0.91     9     0.00  False     9\n",
       "3     3  MB_1b 0.00  False     5       1.29   0.25     5     0.00  False     5\n",
       "4     4   MB_2 2.00  False     5       0.56   0.10     5     3.00   True     5\n",
       "5     5   MB_3 4.00   True     5       0.40   0.07     5     5.00   True     5"
      ]
     },
     "execution_count": 4,
     "metadata": {},
     "output_type": "execute_result"
    }
   ],
   "source": [
    "groupedby_model =results.groupby('model')['SLA','perc_error','SLA_over'].agg(['sum','median','count']).reset_index().reset_index()\n",
    "groupedby_model.sort_values(by='model')#.to_csv('posfe_validation.csv')"
   ]
  },
  {
   "cell_type": "markdown",
   "metadata": {},
   "source": [
    "### Plotting"
   ]
  },
  {
   "cell_type": "code",
   "execution_count": 5,
   "metadata": {},
   "outputs": [],
   "source": [
    "models = results.model.unique()"
   ]
  },
  {
   "cell_type": "code",
   "execution_count": 6,
   "metadata": {},
   "outputs": [
    {
     "data": {
      "text/plain": [
       "dict_keys(['AB_1b', 'AB_2', 'AB_3', 'MB_1b', 'MB_2', 'MB_3'])"
      ]
     },
     "execution_count": 6,
     "metadata": {},
     "output_type": "execute_result"
    }
   ],
   "source": [
    "model_dict = {}\n",
    "for x in models:\n",
    "    model_dict[\"{0}\".format(x)] = results[results.model == x]\n",
    "model_dict.keys()"
   ]
  },
  {
   "cell_type": "code",
   "execution_count": 7,
   "metadata": {},
   "outputs": [],
   "source": [
    "AB_trx = results[results['model'].str.contains(\"AB\",na = False)].dropna(subset=['ds', 'y']).drop_duplicates(subset=['ds'], keep='last')\n",
    "MB_trx = results[results['model'].str.contains(\"MB\",na = False)].dropna(subset=['ds', 'y']).drop_duplicates(subset=['ds'], keep='last')"
   ]
  },
  {
   "cell_type": "code",
   "execution_count": null,
   "metadata": {
    "scrolled": true
   },
   "outputs": [],
   "source": [
    "fig = go.Figure()\n",
    "\n",
    "for i in model_dict:\n",
    "\n",
    "    fig.add_trace(go.Scatter(x=model_dict[i].ds, y=model_dict[i].yhat , name=i,\n",
    "                    text=[\"tweak line smoothness<br>with 'smoothing' in line object\"],\n",
    "                    line_shape='spline'))\n",
    "   \n",
    "\n",
    "\n",
    "\n",
    "AB_trx['upper_graph'] = AB_trx.y * 1.1\n",
    "AB_trx['lower_graph'] = AB_trx.y * 0.9\n",
    "MB_trx['upper_graph'] = MB_trx.y * 1.1\n",
    "MB_trx['lower_graph'] = MB_trx.y * 0.9\n",
    "\n",
    "\n",
    "\n",
    "\n",
    "ab_real1 = fig.add_trace(go.Scatter(x=AB_trx.ds, y=AB_trx.y , name='trx_reales_AB',\n",
    "                    text=[\"tweak line smoothness<br>with 'smoothing' in line object\"],\n",
    "                     line=dict(color='black', width=2, dash='dot')))\n",
    "ab_real2 = fig.add_trace(go.Scatter(x=AB_trx.ds, y=AB_trx['upper_graph'],\n",
    "                                    name='upper_ab', fill='tonexty', \n",
    "                                    fillcolor='rgba(60,60,60,0.1)',\n",
    "                    text=[\"tweak line smoothness<br>with 'smoothing' in line object\"],\n",
    "                                    mode='lines', line=dict(width=0)))\n",
    "ab_real2 = fig.add_trace(go.Scatter(x=AB_trx.ds, y=AB_trx['lower_graph'],\n",
    "                                    name='lower_ab', fill='tonexty', \n",
    "                                    fillcolor='rgba(60,60,60,0.1)',\n",
    "                    text=[\"tweak line smoothness<br>with 'smoothing' in line object\"],\n",
    "                                    mode='lines', line=dict(width=0)))\n",
    "\n",
    "\n",
    "\n",
    "\n",
    "mb_real1 = fig.add_trace(go.Scatter(x=MB_trx.ds, y=MB_trx.y , name='trx_reales_MB',\n",
    "                    text=[\"tweak line smoothness<br>with 'smoothing' in line object\"],\n",
    "                     line=dict(color='black', width=2, dash='dot')))\n",
    "mb_real2 = fig.add_trace(go.Scatter(x=MB_trx.ds, y=MB_trx['upper_graph'],\n",
    "                                    name='upper_mb', fill='tonexty', \n",
    "                                    fillcolor='rgba(60,60,60,0.1)',\n",
    "                    text=[\"tweak line smoothness<br>with 'smoothing' in line object\"],\n",
    "                                    mode='lines', line=dict(width=0)))\n",
    "mb_real2 = fig.add_trace(go.Scatter(x=MB_trx.ds, y=MB_trx['lower_graph'],\n",
    "                                    name='lower_mb', fill='tonexty', \n",
    "                                    fillcolor='rgba(60,60,60,0.1)',\n",
    "                    text=[\"tweak line smoothness<br>with 'smoothing' in line object\"],\n",
    "                                    mode='lines', line=dict(width=0)))\n",
    "\n",
    "\n",
    "\n",
    "fig.update_traces(mode=\"markers+lines\", hovertemplate=None)\n",
    "fig.update_layout(hovermode=\"x\")\n",
    "\n",
    "fig.update_layout(legend=dict(y=0.5, traceorder='reversed', font_size=13))\n",
    "\n",
    "fig.write_html(\"plot_forecasts_s3.html\")\n",
    "\n",
    "           \n",
    "fig.show()"
   ]
  }
 ],
 "metadata": {
  "kernelspec": {
   "display_name": "Python 3",
   "language": "python",
   "name": "python3"
  },
  "language_info": {
   "codemirror_mode": {
    "name": "ipython",
    "version": 3
   },
   "file_extension": ".py",
   "mimetype": "text/x-python",
   "name": "python",
   "nbconvert_exporter": "python",
   "pygments_lexer": "ipython3",
   "version": "3.8.3"
  }
 },
 "nbformat": 4,
 "nbformat_minor": 4
}
