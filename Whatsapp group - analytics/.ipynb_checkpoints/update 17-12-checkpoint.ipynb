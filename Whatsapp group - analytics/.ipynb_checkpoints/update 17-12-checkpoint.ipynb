{
 "cells": [
  {
   "cell_type": "code",
   "execution_count": 1,
   "metadata": {},
   "outputs": [],
   "source": [
    "import numpy as np\n",
    "import pandas as pd\n",
    "import matplotlib.pyplot as plt\n",
    "%matplotlib inline\n",
    "\n",
    "import csv\n",
    "\n",
    "import datetime\n",
    "from datetime import date\n",
    "import calendar\n",
    "\n",
    "\n",
    "import numpy as np\n",
    "from bokeh.io import show\n",
    "from bokeh.layouts import column\n",
    "from bokeh.models import ColumnDataSource, RangeTool\n",
    "from bokeh.plotting import figure\n",
    "#from bokeh.sampledata.stocks import AAPL\n",
    "from bokeh.plotting import figure, output_file, show\n",
    "from bokeh.plotting import figure, output_file, show\n",
    "from bokeh.models import ColumnDataSource, Plot, LinearAxis, Grid\n",
    "from bokeh.models.glyphs import Line\n",
    "import numpy as np\n",
    "import pandas as pd\n",
    "import seaborn as sns\n",
    "import matplotlib.pyplot as pyplot\n",
    "from pandas.plotting import register_matplotlib_converters\n",
    "register_matplotlib_converters()\n",
    "from bokeh.palettes import Category20\n"
   ]
  },
  {
   "cell_type": "code",
   "execution_count": 2,
   "metadata": {},
   "outputs": [],
   "source": [
    "# numeros totales\n",
    "\n",
    "#palabras promedio por mensaje por usuario\n",
    "# palabras mas comunes del grupo por año\n",
    "# palabras mas comunes por usuario\n",
    "\n",
    "\n"
   ]
  },
  {
   "cell_type": "code",
   "execution_count": 2,
   "metadata": {},
   "outputs": [
    {
     "data": {
      "text/plain": [
       "133502"
      ]
     },
     "execution_count": 2,
     "metadata": {},
     "output_type": "execute_result"
    }
   ],
   "source": [
    "with open('chat.txt', 'r', encoding=\"utf8\") as myfile:\n",
    "  data = myfile.read()\n",
    "sentences = data.split('\\n')  \n",
    "len(sentences)"
   ]
  },
  {
   "cell_type": "code",
   "execution_count": 4,
   "metadata": {},
   "outputs": [],
   "source": [
    "# df = pd.DataFrame()\n",
    "# for i in range(1,len(sentences)-1):\n",
    "#     date=None\n",
    "#     usertext=None\n",
    "#     user=None\n",
    "#     text=None\n",
    "#     try:\n",
    "#         date = sentences[i].split('-',1)[0].strip()\n",
    "#         usertext = sentences[i].split('-')[1].strip()\n",
    "#         user = usertext.split(':',1)[0].strip()\n",
    "#         text = usertext.split(':',1)[1].strip()\n",
    "#     except IndexError: \n",
    "#         pass\n",
    "    \n",
    "    \n",
    "    \n",
    "#     serie = pd.Series([user, date, text], index=['user', 'date', 'text'])\n",
    "#     df = df.append(serie, ignore_index=True)\n",
    "#export_csv = df.to_csv (r'chats-data')\n"
   ]
  },
  {
   "cell_type": "code",
   "execution_count": 4,
   "metadata": {},
   "outputs": [],
   "source": [
    "df = pd.read_csv('chats-data') "
   ]
  },
  {
   "cell_type": "code",
   "execution_count": 5,
   "metadata": {},
   "outputs": [
    {
     "name": "stdout",
     "output_type": "stream",
     "text": [
      "(133500, 4)  tamaño antes de dropear\n",
      "(126147, 4)  tamaño despues de dropear\n"
     ]
    }
   ],
   "source": [
    "print(df.shape,' tamaño antes de dropear')\n",
    "df = df.dropna(axis=0, how='any') # tira las filas que tienen al menos un registro NaN/NaT \n",
    "print(df.shape,' tamaño despues de dropear')"
   ]
  },
  {
   "cell_type": "code",
   "execution_count": 9,
   "metadata": {
    "scrolled": true
   },
   "outputs": [
    {
     "name": "stdout",
     "output_type": "stream",
     "text": [
      "(126143, 10)  tamaño antes de dropear excepciones coerce / NaT values\n",
      "(126143, 10)  tamaño despues de dropear expepciones coerce / NaT values\n"
     ]
    },
    {
     "data": {
      "text/html": [
       "<div>\n",
       "<style scoped>\n",
       "    .dataframe tbody tr th:only-of-type {\n",
       "        vertical-align: middle;\n",
       "    }\n",
       "\n",
       "    .dataframe tbody tr th {\n",
       "        vertical-align: top;\n",
       "    }\n",
       "\n",
       "    .dataframe thead th {\n",
       "        text-align: right;\n",
       "    }\n",
       "</style>\n",
       "<table border=\"1\" class=\"dataframe\">\n",
       "  <thead>\n",
       "    <tr style=\"text-align: right;\">\n",
       "      <th></th>\n",
       "      <th>Unnamed: 0</th>\n",
       "      <th>date</th>\n",
       "      <th>text</th>\n",
       "      <th>user</th>\n",
       "      <th>week</th>\n",
       "      <th>year</th>\n",
       "      <th>month</th>\n",
       "      <th>weekdaynr</th>\n",
       "      <th>hour</th>\n",
       "      <th>date3</th>\n",
       "    </tr>\n",
       "  </thead>\n",
       "  <tbody>\n",
       "    <tr>\n",
       "      <td>57457</td>\n",
       "      <td>57457</td>\n",
       "      <td>2017-09-29 10:50:00</td>\n",
       "      <td>Aldeas brothers. La aldea, cuna de campeones. ...</td>\n",
       "      <td>Moda Cl</td>\n",
       "      <td>39</td>\n",
       "      <td>2017</td>\n",
       "      <td>9</td>\n",
       "      <td>4</td>\n",
       "      <td>10</td>\n",
       "      <td>2017-09-29</td>\n",
       "    </tr>\n",
       "    <tr>\n",
       "      <td>122312</td>\n",
       "      <td>122312</td>\n",
       "      <td>2019-08-26 22:22:00</td>\n",
       "      <td>*Shary sacó al Ogo*</td>\n",
       "      <td>Oguitoo</td>\n",
       "      <td>35</td>\n",
       "      <td>2019</td>\n",
       "      <td>8</td>\n",
       "      <td>0</td>\n",
       "      <td>22</td>\n",
       "      <td>2019-08-26</td>\n",
       "    </tr>\n",
       "    <tr>\n",
       "      <td>26111</td>\n",
       "      <td>26111</td>\n",
       "      <td>2016-12-18 02:25:00</td>\n",
       "      <td>Yendo</td>\n",
       "      <td>Rama cl</td>\n",
       "      <td>50</td>\n",
       "      <td>2016</td>\n",
       "      <td>12</td>\n",
       "      <td>6</td>\n",
       "      <td>2</td>\n",
       "      <td>2016-12-18</td>\n",
       "    </tr>\n",
       "  </tbody>\n",
       "</table>\n",
       "</div>"
      ],
      "text/plain": [
       "        Unnamed: 0                date  \\\n",
       "57457        57457 2017-09-29 10:50:00   \n",
       "122312      122312 2019-08-26 22:22:00   \n",
       "26111        26111 2016-12-18 02:25:00   \n",
       "\n",
       "                                                     text     user  week  \\\n",
       "57457   Aldeas brothers. La aldea, cuna de campeones. ...  Moda Cl    39   \n",
       "122312                                *Shary sacó al Ogo*  Oguitoo    35   \n",
       "26111                                               Yendo  Rama cl    50   \n",
       "\n",
       "        year  month  weekdaynr  hour       date3  \n",
       "57457   2017      9          4    10  2017-09-29  \n",
       "122312  2019      8          0    22  2019-08-26  \n",
       "26111   2016     12          6     2  2016-12-18  "
      ]
     },
     "execution_count": 9,
     "metadata": {},
     "output_type": "execute_result"
    }
   ],
   "source": [
    "#convierte la columna date a formato DateTime\n",
    "df.date = pd.to_datetime(df.date,format='%d/%m/%y %H:%M', errors='coerce')\n",
    "\n",
    "#crea nuevas columnas en base a datos de fecha\n",
    "df['week'] = df.date.dt.week\n",
    "df['year'] = df.date.dt.year\n",
    "df['month'] = df.date.dt.month\n",
    "df['weekdaynr'] = df.date.dt.weekday\n",
    "df['hour'] = df.date.dt.hour\n",
    "df['date3'] = df.date.dt.date\n",
    "\n",
    "print(df.shape,' tamaño antes de dropear excepciones coerce / NaT values')\n",
    "df = df.dropna(axis=0, how='any') # tira las filas que tienen al menos un registro NaN/NaT \n",
    "print(df.shape,' tamaño despues de dropear expepciones coerce / NaT values')\n",
    "df.sample(3)\n"
   ]
  },
  {
   "cell_type": "code",
   "execution_count": 10,
   "metadata": {},
   "outputs": [
    {
     "data": {
      "text/html": [
       "<div>\n",
       "<style scoped>\n",
       "    .dataframe tbody tr th:only-of-type {\n",
       "        vertical-align: middle;\n",
       "    }\n",
       "\n",
       "    .dataframe tbody tr th {\n",
       "        vertical-align: top;\n",
       "    }\n",
       "\n",
       "    .dataframe thead th {\n",
       "        text-align: right;\n",
       "    }\n",
       "</style>\n",
       "<table border=\"1\" class=\"dataframe\">\n",
       "  <thead>\n",
       "    <tr style=\"text-align: right;\">\n",
       "      <th></th>\n",
       "      <th>Unnamed: 0</th>\n",
       "      <th>date</th>\n",
       "      <th>text</th>\n",
       "      <th>user</th>\n",
       "      <th>week</th>\n",
       "      <th>year</th>\n",
       "      <th>month</th>\n",
       "      <th>weekdaynr</th>\n",
       "      <th>hour</th>\n",
       "      <th>date3</th>\n",
       "      <th>weekday</th>\n",
       "    </tr>\n",
       "  </thead>\n",
       "  <tbody>\n",
       "    <tr>\n",
       "      <td>132824</td>\n",
       "      <td>132824</td>\n",
       "      <td>2019-12-05 11:43:00</td>\n",
       "      <td>ah</td>\n",
       "      <td>+34 695 21 68 09</td>\n",
       "      <td>49</td>\n",
       "      <td>2019</td>\n",
       "      <td>12</td>\n",
       "      <td>3</td>\n",
       "      <td>11</td>\n",
       "      <td>2019-12-05</td>\n",
       "      <td>Jueves</td>\n",
       "    </tr>\n",
       "    <tr>\n",
       "      <td>40889</td>\n",
       "      <td>40889</td>\n",
       "      <td>2017-05-12 14:19:00</td>\n",
       "      <td>&lt;Multimedia omitido&gt;</td>\n",
       "      <td>Fede Sharley</td>\n",
       "      <td>19</td>\n",
       "      <td>2017</td>\n",
       "      <td>5</td>\n",
       "      <td>4</td>\n",
       "      <td>14</td>\n",
       "      <td>2017-05-12</td>\n",
       "      <td>Viernes</td>\n",
       "    </tr>\n",
       "    <tr>\n",
       "      <td>24466</td>\n",
       "      <td>24466</td>\n",
       "      <td>2016-11-30 21:32:00</td>\n",
       "      <td>Que hicieron</td>\n",
       "      <td>Pelado Ale</td>\n",
       "      <td>48</td>\n",
       "      <td>2016</td>\n",
       "      <td>11</td>\n",
       "      <td>2</td>\n",
       "      <td>21</td>\n",
       "      <td>2016-11-30</td>\n",
       "      <td>Miercoles</td>\n",
       "    </tr>\n",
       "  </tbody>\n",
       "</table>\n",
       "</div>"
      ],
      "text/plain": [
       "        Unnamed: 0                date                  text  \\\n",
       "132824      132824 2019-12-05 11:43:00                    ah   \n",
       "40889        40889 2017-05-12 14:19:00  <Multimedia omitido>   \n",
       "24466        24466 2016-11-30 21:32:00          Que hicieron   \n",
       "\n",
       "                    user  week  year  month  weekdaynr  hour       date3  \\\n",
       "132824  +34 695 21 68 09    49  2019     12          3    11  2019-12-05   \n",
       "40889       Fede Sharley    19  2017      5          4    14  2017-05-12   \n",
       "24466         Pelado Ale    48  2016     11          2    21  2016-11-30   \n",
       "\n",
       "          weekday  \n",
       "132824     Jueves  \n",
       "40889     Viernes  \n",
       "24466   Miercoles  "
      ]
     },
     "execution_count": 10,
     "metadata": {},
     "output_type": "execute_result"
    }
   ],
   "source": [
    "weekDays = [\"Lunes\",\"Martes\",\"Miercoles\",\"Jueves\",\"Viernes\",\"Sabado\",\"Domingo\"]\n",
    "#df['weekday'] = weekDays[df['weekday']]\n",
    "\n",
    "#df['weekday'] = df['weekday'].apply(lambda x: weekDays[df['weekday']])\n",
    "df['weekday'] = df['weekdaynr'].apply(lambda x: weekDays[x])\n",
    "df.sample(3)"
   ]
  },
  {
   "cell_type": "code",
   "execution_count": 19,
   "metadata": {},
   "outputs": [
    {
     "name": "stdout",
     "output_type": "stream",
     "text": [
      "Cantidad de mensajes totales: 126143\n"
     ]
    },
    {
     "ename": "AttributeError",
     "evalue": "'Series' object has no attribute 'average'",
     "output_type": "error",
     "traceback": [
      "\u001b[1;31m---------------------------------------------------------------------------\u001b[0m",
      "\u001b[1;31mAttributeError\u001b[0m                            Traceback (most recent call last)",
      "\u001b[1;32m<ipython-input-19-923253ba53de>\u001b[0m in \u001b[0;36m<module>\u001b[1;34m\u001b[0m\n\u001b[0;32m      1\u001b[0m \u001b[0mprint\u001b[0m\u001b[1;33m(\u001b[0m\u001b[1;34m'Cantidad de mensajes totales:'\u001b[0m\u001b[1;33m,\u001b[0m\u001b[0mdf\u001b[0m\u001b[1;33m.\u001b[0m\u001b[0mtext\u001b[0m\u001b[1;33m.\u001b[0m\u001b[0mcount\u001b[0m\u001b[1;33m(\u001b[0m\u001b[1;33m)\u001b[0m\u001b[1;33m)\u001b[0m\u001b[1;33m\u001b[0m\u001b[1;33m\u001b[0m\u001b[0m\n\u001b[1;32m----> 2\u001b[1;33m \u001b[0mdf_graph1\u001b[0m\u001b[1;33m.\u001b[0m\u001b[0mdate\u001b[0m\u001b[1;33m.\u001b[0m\u001b[0maverage\u001b[0m\u001b[1;33m(\u001b[0m\u001b[1;33m)\u001b[0m\u001b[1;33m\u001b[0m\u001b[1;33m\u001b[0m\u001b[0m\n\u001b[0m",
      "\u001b[1;32m~\\Anaconda3\\lib\\site-packages\\pandas\\core\\generic.py\u001b[0m in \u001b[0;36m__getattr__\u001b[1;34m(self, name)\u001b[0m\n\u001b[0;32m   5177\u001b[0m             \u001b[1;32mif\u001b[0m \u001b[0mself\u001b[0m\u001b[1;33m.\u001b[0m\u001b[0m_info_axis\u001b[0m\u001b[1;33m.\u001b[0m\u001b[0m_can_hold_identifiers_and_holds_name\u001b[0m\u001b[1;33m(\u001b[0m\u001b[0mname\u001b[0m\u001b[1;33m)\u001b[0m\u001b[1;33m:\u001b[0m\u001b[1;33m\u001b[0m\u001b[1;33m\u001b[0m\u001b[0m\n\u001b[0;32m   5178\u001b[0m                 \u001b[1;32mreturn\u001b[0m \u001b[0mself\u001b[0m\u001b[1;33m[\u001b[0m\u001b[0mname\u001b[0m\u001b[1;33m]\u001b[0m\u001b[1;33m\u001b[0m\u001b[1;33m\u001b[0m\u001b[0m\n\u001b[1;32m-> 5179\u001b[1;33m             \u001b[1;32mreturn\u001b[0m \u001b[0mobject\u001b[0m\u001b[1;33m.\u001b[0m\u001b[0m__getattribute__\u001b[0m\u001b[1;33m(\u001b[0m\u001b[0mself\u001b[0m\u001b[1;33m,\u001b[0m \u001b[0mname\u001b[0m\u001b[1;33m)\u001b[0m\u001b[1;33m\u001b[0m\u001b[1;33m\u001b[0m\u001b[0m\n\u001b[0m\u001b[0;32m   5180\u001b[0m \u001b[1;33m\u001b[0m\u001b[0m\n\u001b[0;32m   5181\u001b[0m     \u001b[1;32mdef\u001b[0m \u001b[0m__setattr__\u001b[0m\u001b[1;33m(\u001b[0m\u001b[0mself\u001b[0m\u001b[1;33m,\u001b[0m \u001b[0mname\u001b[0m\u001b[1;33m,\u001b[0m \u001b[0mvalue\u001b[0m\u001b[1;33m)\u001b[0m\u001b[1;33m:\u001b[0m\u001b[1;33m\u001b[0m\u001b[1;33m\u001b[0m\u001b[0m\n",
      "\u001b[1;31mAttributeError\u001b[0m: 'Series' object has no attribute 'average'"
     ]
    }
   ],
   "source": [
    "print('Cantidad de mensajes totales:',df.text.count())\n",
    "df_graph1.date.average()"
   ]
  },
  {
   "cell_type": "code",
   "execution_count": 16,
   "metadata": {},
   "outputs": [
    {
     "data": {
      "text/plain": [
       "<matplotlib.axes._subplots.AxesSubplot at 0x1dab4842320>"
      ]
     },
     "execution_count": 16,
     "metadata": {},
     "output_type": "execute_result"
    },
    {
     "data": {
      "image/png": "[encoded data removed]",
      "text/plain": [
       "<Figure size 1080x360 with 1 Axes>"
      ]
     },
     "metadata": {
      "needs_background": "light"
     },
     "output_type": "display_data"
    }
   ],
   "source": [
    "df_graph1 = df.groupby('date3').count()\n",
    "a4_dims = (15, 5)\n",
    "fig, ax = pyplot.subplots(figsize=a4_dims)\n",
    "sns.set(style=\"whitegrid\")\n",
    "\n",
    "x = df_graph1.index\n",
    "y = df_graph1.text\n",
    "\n",
    "dates = df_graph1.index\n",
    "data = df_graph1.text\n",
    "datamean = data.rolling(5).mean()\n",
    "\n",
    "sns.lineplot(data=[data], palette=\"tab10\", linewidth=1)\n",
    "#sns.regplot(x=df_graph1,y= df_graph1.text,data=data, fit_reg=True) \n"
   ]
  },
  {
   "cell_type": "code",
   "execution_count": 57,
   "metadata": {},
   "outputs": [
    {
     "data": {
      "text/plain": [
       "date3\n",
       "2018-11-24    1189\n",
       "2018-04-29     536\n",
       "2018-02-17     510\n",
       "2018-10-31     509\n",
       "2016-04-19     484\n",
       "Name: text, dtype: int64"
      ]
     },
     "execution_count": 57,
     "metadata": {},
     "output_type": "execute_result"
    }
   ],
   "source": [
    "#top cinco dias mas activos\n",
    "df_graph1.text.sort_values(ascending=False)[0:5]\n"
   ]
  },
  {
   "cell_type": "markdown",
   "metadata": {},
   "source": [
    " #### graph 2 - actividad por horas por año"
   ]
  },
  {
   "cell_type": "code",
   "execution_count": 17,
   "metadata": {},
   "outputs": [],
   "source": [
    "years_lists = df.year.unique()\n",
    "df_graph2 = pd.DataFrame()\n",
    "\n",
    "for i in years_lists:\n",
    "    serie_graph2 = df.loc[df['year'] == i].groupby('hour').count().text.transpose()#.drop(index=i)\n",
    "    df_graph2 = df_graph2.append(serie_graph2, ignore_index=True)\n",
    "    \n",
    "df_graph2.index = years_lists\n"
   ]
  },
  {
   "cell_type": "code",
   "execution_count": 15,
   "metadata": {},
   "outputs": [
    {
     "data": {
      "text/plain": [
       "2016    25419.0\n",
       "2017    35067.0\n",
       "2018    36614.0\n",
       "2019    29043.0\n",
       "dtype: float64"
      ]
     },
     "execution_count": 15,
     "metadata": {},
     "output_type": "execute_result"
    }
   ],
   "source": [
    "df_graph2.transpose().sum()\n"
   ]
  },
  {
   "cell_type": "code",
   "execution_count": 18,
   "metadata": {},
   "outputs": [
    {
     "data": {
      "text/plain": [
       "<matplotlib.axes._subplots.AxesSubplot at 0x1c7839957b8>"
      ]
     },
     "execution_count": 18,
     "metadata": {},
     "output_type": "execute_result"
    },
    {
     "data": {
      "image/png": "[encoded data removed]",
      "text/plain": [
       "<Figure size 1080x360 with 1 Axes>"
      ]
     },
     "metadata": {},
     "output_type": "display_data"
    }
   ],
   "source": [
    "import numpy as np\n",
    "import pandas as pd\n",
    "import seaborn as sns\n",
    "from matplotlib import pyplot\n",
    "\n",
    "a4_dims = (15, 5)\n",
    "fig, ax = pyplot.subplots(figsize=a4_dims)\n",
    "\n",
    "\n",
    "\n",
    "sns.set(style=\"whitegrid\")\n",
    "data = df_graph2.transpose()\n",
    "sns.lineplot(data=data, palette=\"tab10\", linewidth=2.5)\n"
   ]
  },
  {
   "cell_type": "code",
   "execution_count": 19,
   "metadata": {},
   "outputs": [
    {
     "data": {
      "text/plain": [
       "{'years': [2016, 2017, 2018, 2019],\n",
       " '+34 695 21 68 09': [0.0, 0.0, 0.0, 613.0],\n",
       " 'Fede Sharley': [2747.0, 4703.0, 3570.0, 2480.0],\n",
       " 'Gordo Agó': [0.0, 341.0, 0.0, 0.0],\n",
       " 'Gordo Facu': [0.0, 67.0, 141.0, 425.0],\n",
       " 'Il So': [719.0, 288.0, 0.0, 0.0],\n",
       " 'Ilso': [0.0, 677.0, 157.0, 0.0],\n",
       " 'Iña Cell': [781.0, 1265.0, 2797.0, 1897.0],\n",
       " 'Joaquin': [1029.0, 1242.0, 873.0, 1106.0],\n",
       " 'Lobo cl': [1309.0, 2988.0, 3916.0, 2036.0],\n",
       " 'Marto Ná': [49.0, 240.0, 327.0, 148.0],\n",
       " 'Moda Cl': [1244.0, 1340.0, 1457.0, 1081.0],\n",
       " 'More': [578.0, 798.0, 627.0, 0.0],\n",
       " 'Muse Cell': [746.0, 1070.0, 1296.0, 934.0],\n",
       " 'Oguitoo': [3306.0, 4860.0, 4669.0, 3853.0],\n",
       " 'Pelado Ale': [964.0, 1319.0, 2249.0, 1775.0],\n",
       " 'Pon Cl': [1625.0, 2529.0, 2932.0, 2431.0],\n",
       " 'Rama cl': [2119.0, 2309.0, 1729.0, 1113.0],\n",
       " 'Riti Cell': [564.0, 571.0, 875.0, 700.0],\n",
       " 'Sebi Cell': [1989.0, 2178.0, 2318.0, 1623.0],\n",
       " 'Shafal': [3371.0, 2935.0, 3513.0, 3955.0],\n",
       " 'Sor Sor': [0.0, 0.0, 153.0, 37.0],\n",
       " 'URI': [646.0, 982.0, 665.0, 445.0],\n",
       " 'Uba Cl': [1252.0, 1926.0, 2186.0, 1582.0],\n",
       " 'dona Cel': [381.0, 439.0, 164.0, 809.0]}"
      ]
     },
     "execution_count": 19,
     "metadata": {},
     "output_type": "execute_result"
    }
   ],
   "source": []
  },
  {
   "cell_type": "code",
   "execution_count": null,
   "metadata": {},
   "outputs": [],
   "source": []
  },
  {
   "cell_type": "code",
   "execution_count": 27,
   "metadata": {},
   "outputs": [],
   "source": [
    "#preparing data \n",
    "\n",
    "df_graph3 = df[['year','user','text']].groupby(['year','user']).count()\n",
    "df_graph3 = df_graph3.sort_values(by=['year','text'], ascending=[False,False])\n",
    "df_grpah_unstacked = df_graph3.unstack().transpose()\n",
    "df_grpah_unstacked.index = [i[1] for i in df_grpah_unstacked.index]\n",
    "df_grpah_unstacked = df_grpah_unstacked.fillna(0)\n",
    "\n",
    "dict1 = {'years' : df_grpah_unstacked.columns.values.tolist()}\n",
    "indexlist = list( map(str, df_grpah_unstacked.index))\n",
    "dict2 = dict(zip(indexlist,df_grpah_unstacked.values.tolist()))\n",
    "dict1.update(dict2)\n",
    "\n",
    "\n",
    "a = Category20[20]\n",
    "b = Category20[20]\n",
    "\n",
    "colorrr = a + b\n",
    "users = [df_grpah_unstacked.index.values]\n",
    "#colorrr[0:len(df_grpah_unstacked.index)]"
   ]
  },
  {
   "cell_type": "code",
   "execution_count": 26,
   "metadata": {},
   "outputs": [],
   "source": [
    "from bokeh.io import show, output_file\n",
    "from bokeh.plotting import figure\n",
    "\n",
    "output_file(\"stacked.html\")\n",
    "\n",
    "years = [df_grpah_unstacked.columns.values]\n",
    "users = [df_grpah_unstacked.index.values]\n",
    "colors = colorrr[0:len(df_grpah_unstacked.index)]\n",
    "\n",
    "data = dict1\n",
    "\n",
    "\n",
    "users = list( map(str, df_grpah_unstacked.index))\n",
    "\n",
    "\n",
    "p = figure(plot_height=250, title=\"Mensajes por año\",\n",
    "           toolbar_location=None, tools=\"hover\", tooltips=\"$name @$name\")#, x_range=years)\n",
    "\n",
    "p.vbar_stack(users, x='years', width=0.9, source=data, color=colors)#,legend=indexlist)\n",
    "\n",
    "legend=indexlist\n",
    "\n",
    "p.y_range.start = 0\n",
    "p.x_range.range_padding = 0.1\n",
    "p.xgrid.grid_line_color = None\n",
    "p.axis.minor_tick_line_color = None\n",
    "p.outline_line_color = None\n",
    "p.legend.location = \"top_left\"\n",
    "p.legend.orientation = \"horizontal\"\n",
    "\n",
    "show(p)"
   ]
  },
  {
   "cell_type": "code",
   "execution_count": 35,
   "metadata": {},
   "outputs": [
    {
     "data": {
      "text/plain": [
       "Index(['+34 695 21 68 09', 'Fede Sharley', 'Gordo Agó', 'Gordo Facu', 'Il So',\n",
       "       'Ilso', 'Iña Cell', 'Joaquin', 'Lobo cl', 'Marto Ná', 'Moda Cl', 'More',\n",
       "       'Muse Cell', 'Oguitoo', 'Pelado Ale', 'Pon Cl', 'Rama cl', 'Riti Cell',\n",
       "       'Sebi Cell', 'Shafal', 'Sor Sor', 'URI', 'Uba Cl', 'dona Cel'],\n",
       "      dtype='object', name='user')"
      ]
     },
     "execution_count": 35,
     "metadata": {},
     "output_type": "execute_result"
    }
   ],
   "source": [
    "multimedia_msgs = df.loc[df['text'] == '<Multimedia omitido>'].groupby('user').count().date#.sort_values('date', ascending=[False])\n",
    "multimedia_msgs.sort_values(ascending=False)[0]\n",
    "multimedia_msgs.index\n"
   ]
  },
  {
   "cell_type": "code",
   "execution_count": 46,
   "metadata": {},
   "outputs": [],
   "source": [
    "\n",
    "from math import pi\n",
    "\n",
    "import pandas as pd\n",
    "\n",
    "from bokeh.io import output_file, show\n",
    "from bokeh.palettes import Category20c\n",
    "from bokeh.plotting import figure\n",
    "from bokeh.transform import cumsum\n",
    "\n",
    "output_file(\"pie.html\")\n",
    "\n",
    "x = {\n",
    "    'United States': 157,\n",
    "    'United Kingdom': 93,\n",
    "    'Japan': 89,\n",
    "    'China': 63,\n",
    "    'Germany': 44,\n",
    "    'India': 42,\n",
    "    'Italy': 40,\n",
    "    'Australia': 35,\n",
    "    'Brazil': 32,\n",
    "    'France': 31,\n",
    "    'Taiwan': 31,\n",
    "    'Spain': 29\n",
    "}\n",
    "\n",
    "colors = colorrr[0:len(multimedia_msgs.index)]\n",
    "\n",
    "data = pd.Series(multimedia_msgs).reset_index(name='value').rename(columns={'index':'usuario'})\n",
    "data['angle'] = data['value']/data['value'].sum() * 2*pi\n",
    "data['color'] = colors\n",
    "data = data.sort_values(by=['value'], ascending=[False])\n",
    "p = figure(plot_height=350, title=\"Mensajes multimedia enviados\", toolbar_location=None,\n",
    "           tools=\"hover\", tooltips=\"@user: @value\", x_range=(-0.5, 1.0))\n",
    "\n",
    "p.wedge(x=0, y=1, radius=0.4,\n",
    "        start_angle=cumsum('angle', include_zero=True), end_angle=cumsum('angle'),\n",
    "        line_color=\"white\", fill_color='color', source=data)\n",
    "\n",
    "p.axis.axis_label=None\n",
    "p.axis.visible=False\n",
    "p.grid.grid_line_color = None\n",
    "\n",
    "show(p)\n"
   ]
  },
  {
   "cell_type": "code",
   "execution_count": 52,
   "metadata": {},
   "outputs": [
    {
     "ename": "AttributeError",
     "evalue": "unexpected attribute 'legend_field' to Wedge, possible attributes are direction, end_angle, end_angle_units, fill_alpha, fill_color, js_event_callbacks, js_property_callbacks, line_alpha, line_cap, line_color, line_dash, line_dash_offset, line_join, line_width, name, radius, radius_units, start_angle, start_angle_units, subscribed_events, tags, x or y",
     "output_type": "error",
     "traceback": [
      "\u001b[1;31m---------------------------------------------------------------------------\u001b[0m",
      "\u001b[1;31mAttributeError\u001b[0m                            Traceback (most recent call last)",
      "\u001b[1;32m<ipython-input-52-66009d3afbdb>\u001b[0m in \u001b[0;36m<module>\u001b[1;34m\u001b[0m\n\u001b[0;32m     34\u001b[0m p.wedge(x=0, y=1, radius=0.4,\n\u001b[0;32m     35\u001b[0m         \u001b[0mstart_angle\u001b[0m\u001b[1;33m=\u001b[0m\u001b[0mcumsum\u001b[0m\u001b[1;33m(\u001b[0m\u001b[1;34m'angle'\u001b[0m\u001b[1;33m,\u001b[0m \u001b[0minclude_zero\u001b[0m\u001b[1;33m=\u001b[0m\u001b[1;32mTrue\u001b[0m\u001b[1;33m)\u001b[0m\u001b[1;33m,\u001b[0m \u001b[0mend_angle\u001b[0m\u001b[1;33m=\u001b[0m\u001b[0mcumsum\u001b[0m\u001b[1;33m(\u001b[0m\u001b[1;34m'angle'\u001b[0m\u001b[1;33m)\u001b[0m\u001b[1;33m,\u001b[0m\u001b[1;33m\u001b[0m\u001b[1;33m\u001b[0m\u001b[0m\n\u001b[1;32m---> 36\u001b[1;33m         line_color=\"white\", fill_color='color', legend_field=data.country, source=data)\n\u001b[0m\u001b[0;32m     37\u001b[0m \u001b[1;33m\u001b[0m\u001b[0m\n\u001b[0;32m     38\u001b[0m \u001b[0mp\u001b[0m\u001b[1;33m.\u001b[0m\u001b[0maxis\u001b[0m\u001b[1;33m.\u001b[0m\u001b[0maxis_label\u001b[0m\u001b[1;33m=\u001b[0m\u001b[1;32mNone\u001b[0m\u001b[1;33m\u001b[0m\u001b[1;33m\u001b[0m\u001b[0m\n",
      "\u001b[1;32mfakesource\u001b[0m in \u001b[0;36mwedge\u001b[1;34m(self, x, y, radius, start_angle, end_angle, direction, **kwargs)\u001b[0m\n",
      "\u001b[1;32m~\\Anaconda3\\lib\\site-packages\\bokeh\\plotting\\helpers.py\u001b[0m in \u001b[0;36mfunc\u001b[1;34m(self, **kwargs)\u001b[0m\n\u001b[0;32m    855\u001b[0m             \u001b[0mmglyph_ca\u001b[0m \u001b[1;33m=\u001b[0m \u001b[1;32mNone\u001b[0m\u001b[1;33m\u001b[0m\u001b[1;33m\u001b[0m\u001b[0m\n\u001b[0;32m    856\u001b[0m \u001b[1;33m\u001b[0m\u001b[0m\n\u001b[1;32m--> 857\u001b[1;33m         \u001b[0mglyph\u001b[0m \u001b[1;33m=\u001b[0m \u001b[0m_make_glyph\u001b[0m\u001b[1;33m(\u001b[0m\u001b[0mglyphclass\u001b[0m\u001b[1;33m,\u001b[0m \u001b[0mkwargs\u001b[0m\u001b[1;33m,\u001b[0m \u001b[0mglyph_ca\u001b[0m\u001b[1;33m)\u001b[0m\u001b[1;33m\u001b[0m\u001b[1;33m\u001b[0m\u001b[0m\n\u001b[0m\u001b[0;32m    858\u001b[0m         \u001b[0mnsglyph\u001b[0m \u001b[1;33m=\u001b[0m \u001b[0m_make_glyph\u001b[0m\u001b[1;33m(\u001b[0m\u001b[0mglyphclass\u001b[0m\u001b[1;33m,\u001b[0m \u001b[0mkwargs\u001b[0m\u001b[1;33m,\u001b[0m \u001b[0mnsglyph_ca\u001b[0m\u001b[1;33m)\u001b[0m\u001b[1;33m\u001b[0m\u001b[1;33m\u001b[0m\u001b[0m\n\u001b[0;32m    859\u001b[0m         \u001b[0msglyph\u001b[0m \u001b[1;33m=\u001b[0m \u001b[0m_make_glyph\u001b[0m\u001b[1;33m(\u001b[0m\u001b[0mglyphclass\u001b[0m\u001b[1;33m,\u001b[0m \u001b[0mkwargs\u001b[0m\u001b[1;33m,\u001b[0m \u001b[0msglyph_ca\u001b[0m\u001b[1;33m)\u001b[0m\u001b[1;33m\u001b[0m\u001b[1;33m\u001b[0m\u001b[0m\n",
      "\u001b[1;32m~\\Anaconda3\\lib\\site-packages\\bokeh\\plotting\\helpers.py\u001b[0m in \u001b[0;36m_make_glyph\u001b[1;34m(glyphclass, kws, extra)\u001b[0m\n\u001b[0;32m    396\u001b[0m     \u001b[0mkws\u001b[0m \u001b[1;33m=\u001b[0m \u001b[0mkws\u001b[0m\u001b[1;33m.\u001b[0m\u001b[0mcopy\u001b[0m\u001b[1;33m(\u001b[0m\u001b[1;33m)\u001b[0m\u001b[1;33m\u001b[0m\u001b[1;33m\u001b[0m\u001b[0m\n\u001b[0;32m    397\u001b[0m     \u001b[0mkws\u001b[0m\u001b[1;33m.\u001b[0m\u001b[0mupdate\u001b[0m\u001b[1;33m(\u001b[0m\u001b[0mextra\u001b[0m\u001b[1;33m)\u001b[0m\u001b[1;33m\u001b[0m\u001b[1;33m\u001b[0m\u001b[0m\n\u001b[1;32m--> 398\u001b[1;33m     \u001b[1;32mreturn\u001b[0m \u001b[0mglyphclass\u001b[0m\u001b[1;33m(\u001b[0m\u001b[1;33m**\u001b[0m\u001b[0mkws\u001b[0m\u001b[1;33m)\u001b[0m\u001b[1;33m\u001b[0m\u001b[1;33m\u001b[0m\u001b[0m\n\u001b[0m\u001b[0;32m    399\u001b[0m \u001b[1;33m\u001b[0m\u001b[0m\n\u001b[0;32m    400\u001b[0m \u001b[1;33m\u001b[0m\u001b[0m\n",
      "\u001b[1;32m~\\Anaconda3\\lib\\site-packages\\bokeh\\model.py\u001b[0m in \u001b[0;36m__init__\u001b[1;34m(self, **kwargs)\u001b[0m\n\u001b[0;32m    305\u001b[0m         \u001b[0mkwargs\u001b[0m\u001b[1;33m.\u001b[0m\u001b[0mpop\u001b[0m\u001b[1;33m(\u001b[0m\u001b[1;34m\"id\"\u001b[0m\u001b[1;33m,\u001b[0m \u001b[1;32mNone\u001b[0m\u001b[1;33m)\u001b[0m\u001b[1;33m\u001b[0m\u001b[1;33m\u001b[0m\u001b[0m\n\u001b[0;32m    306\u001b[0m \u001b[1;33m\u001b[0m\u001b[0m\n\u001b[1;32m--> 307\u001b[1;33m         \u001b[0msuper\u001b[0m\u001b[1;33m(\u001b[0m\u001b[0mModel\u001b[0m\u001b[1;33m,\u001b[0m \u001b[0mself\u001b[0m\u001b[1;33m)\u001b[0m\u001b[1;33m.\u001b[0m\u001b[0m__init__\u001b[0m\u001b[1;33m(\u001b[0m\u001b[1;33m**\u001b[0m\u001b[0mkwargs\u001b[0m\u001b[1;33m)\u001b[0m\u001b[1;33m\u001b[0m\u001b[1;33m\u001b[0m\u001b[0m\n\u001b[0m\u001b[0;32m    308\u001b[0m         \u001b[0mdefault_theme\u001b[0m\u001b[1;33m.\u001b[0m\u001b[0mapply_to_model\u001b[0m\u001b[1;33m(\u001b[0m\u001b[0mself\u001b[0m\u001b[1;33m)\u001b[0m\u001b[1;33m\u001b[0m\u001b[1;33m\u001b[0m\u001b[0m\n\u001b[0;32m    309\u001b[0m \u001b[1;33m\u001b[0m\u001b[0m\n",
      "\u001b[1;32m~\\Anaconda3\\lib\\site-packages\\bokeh\\core\\has_props.py\u001b[0m in \u001b[0;36m__init__\u001b[1;34m(self, **properties)\u001b[0m\n\u001b[0;32m    251\u001b[0m \u001b[1;33m\u001b[0m\u001b[0m\n\u001b[0;32m    252\u001b[0m         \u001b[1;32mfor\u001b[0m \u001b[0mname\u001b[0m\u001b[1;33m,\u001b[0m \u001b[0mvalue\u001b[0m \u001b[1;32min\u001b[0m \u001b[0mproperties\u001b[0m\u001b[1;33m.\u001b[0m\u001b[0mitems\u001b[0m\u001b[1;33m(\u001b[0m\u001b[1;33m)\u001b[0m\u001b[1;33m:\u001b[0m\u001b[1;33m\u001b[0m\u001b[1;33m\u001b[0m\u001b[0m\n\u001b[1;32m--> 253\u001b[1;33m             \u001b[0msetattr\u001b[0m\u001b[1;33m(\u001b[0m\u001b[0mself\u001b[0m\u001b[1;33m,\u001b[0m \u001b[0mname\u001b[0m\u001b[1;33m,\u001b[0m \u001b[0mvalue\u001b[0m\u001b[1;33m)\u001b[0m\u001b[1;33m\u001b[0m\u001b[1;33m\u001b[0m\u001b[0m\n\u001b[0m\u001b[0;32m    254\u001b[0m \u001b[1;33m\u001b[0m\u001b[0m\n\u001b[0;32m    255\u001b[0m     \u001b[1;32mdef\u001b[0m \u001b[0m__setattr__\u001b[0m\u001b[1;33m(\u001b[0m\u001b[0mself\u001b[0m\u001b[1;33m,\u001b[0m \u001b[0mname\u001b[0m\u001b[1;33m,\u001b[0m \u001b[0mvalue\u001b[0m\u001b[1;33m)\u001b[0m\u001b[1;33m:\u001b[0m\u001b[1;33m\u001b[0m\u001b[1;33m\u001b[0m\u001b[0m\n",
      "\u001b[1;32m~\\Anaconda3\\lib\\site-packages\\bokeh\\core\\has_props.py\u001b[0m in \u001b[0;36m__setattr__\u001b[1;34m(self, name, value)\u001b[0m\n\u001b[0;32m    286\u001b[0m \u001b[1;33m\u001b[0m\u001b[0m\n\u001b[0;32m    287\u001b[0m             raise AttributeError(\"unexpected attribute '%s' to %s, %s attributes are %s\" %\n\u001b[1;32m--> 288\u001b[1;33m                 (name, self.__class__.__name__, text, nice_join(matches)))\n\u001b[0m\u001b[0;32m    289\u001b[0m \u001b[1;33m\u001b[0m\u001b[0m\n\u001b[0;32m    290\u001b[0m     \u001b[1;32mdef\u001b[0m \u001b[0m__str__\u001b[0m\u001b[1;33m(\u001b[0m\u001b[0mself\u001b[0m\u001b[1;33m)\u001b[0m\u001b[1;33m:\u001b[0m\u001b[1;33m\u001b[0m\u001b[1;33m\u001b[0m\u001b[0m\n",
      "\u001b[1;31mAttributeError\u001b[0m: unexpected attribute 'legend_field' to Wedge, possible attributes are direction, end_angle, end_angle_units, fill_alpha, fill_color, js_event_callbacks, js_property_callbacks, line_alpha, line_cap, line_color, line_dash, line_dash_offset, line_join, line_width, name, radius, radius_units, start_angle, start_angle_units, subscribed_events, tags, x or y"
     ]
    }
   ],
   "source": [
    "from math import pi\n",
    "\n",
    "import pandas as pd\n",
    "\n",
    "from bokeh.io import output_file, show\n",
    "from bokeh.palettes import Category20c\n",
    "from bokeh.plotting import figure\n",
    "from bokeh.transform import cumsum\n",
    "\n",
    "output_file(\"pie.html\")\n",
    "\n",
    "x = {\n",
    "    'United States': 157,\n",
    "    'United Kingdom': 93,\n",
    "    'Japan': 89,\n",
    "    'China': 63,\n",
    "    'Germany': 44,\n",
    "    'India': 42,\n",
    "    'Italy': 40,\n",
    "    'Australia': 35,\n",
    "    'Brazil': 32,\n",
    "    'France': 31,\n",
    "    'Taiwan': 31,\n",
    "    'Spain': 29\n",
    "}\n",
    "\n",
    "data = pd.Series(x).reset_index(name='value').rename(columns={'index':'country'})\n",
    "data['angle'] = data['value']/data['value'].sum() * 2*pi\n",
    "data['color'] = Category20c[len(x)]\n",
    "\n",
    "p = figure(plot_height=350, title=\"Pie Chart\", toolbar_location=None,\n",
    "           tools=\"hover\", tooltips=\"@country: @value\", x_range=(-0.5, 1.0))\n",
    "\n",
    "p.wedge(x=0, y=1, radius=0.4,\n",
    "        start_angle=cumsum('angle', include_zero=True), end_angle=cumsum('angle'),\n",
    "        line_color=\"white\", fill_color='color', legend_field=data.country, source=data)\n",
    "\n",
    "p.axis.axis_label=None\n",
    "p.axis.visible=False\n",
    "p.grid.grid_line_color = None\n",
    "\n",
    "show(p)"
   ]
  },
  {
   "cell_type": "code",
   "execution_count": 51,
   "metadata": {},
   "outputs": [
    {
     "data": {
      "text/plain": [
       "'1.3.4'"
      ]
     },
     "execution_count": 51,
     "metadata": {},
     "output_type": "execute_result"
    }
   ],
   "source": [
    "import bokeh\n",
    "bokeh.__version__ "
   ]
  }
 ],
 "metadata": {
  "kernelspec": {
   "display_name": "Python 3",
   "language": "python",
   "name": "python3"
  },
  "language_info": {
   "codemirror_mode": {
    "name": "ipython",
    "version": 3
   },
   "file_extension": ".py",
   "mimetype": "text/x-python",
   "name": "python",
   "nbconvert_exporter": "python",
   "pygments_lexer": "ipython3",
   "version": "3.7.3"
  }
 },
 "nbformat": 4,
 "nbformat_minor": 2
}
